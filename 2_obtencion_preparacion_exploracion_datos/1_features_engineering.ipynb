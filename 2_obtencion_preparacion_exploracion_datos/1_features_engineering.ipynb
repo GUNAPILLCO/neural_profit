{
 "cells": [
  {
   "cell_type": "markdown",
   "id": "8fa4bfae",
   "metadata": {},
   "source": [
    "# Feature Engineering"
   ]
  },
  {
   "cell_type": "markdown",
   "id": "20cf6ae7",
   "metadata": {},
   "source": [
    "## 1. Importación de Librerías"
   ]
  },
  {
   "cell_type": "code",
   "execution_count": 40,
   "id": "8529b15a",
   "metadata": {},
   "outputs": [],
   "source": [
    "# Utilidades generales\n",
    "from datetime import datetime, timedelta\n",
    "import os\n",
    "import glob\n",
    "import warnings\n",
    "warnings.filterwarnings('ignore')\n",
    "\n",
    "# Manejo y procesamiento de datos\n",
    "import pandas as pd\n",
    "from tabulate import tabulate\n",
    "\n",
    "# Calendario de mercados\n",
    "import pandas_market_calendars as mcal"
   ]
  },
  {
   "cell_type": "code",
   "execution_count": 41,
   "id": "614e74ca",
   "metadata": {},
   "outputs": [],
   "source": [
    "#IMPORTACIÓN DE LIBRERÍAS \n",
    "\n",
    "# -------------------------\n",
    "# Utilidades generales\n",
    "# -------------------------\n",
    "from datetime import datetime, timedelta\n",
    "import os\n",
    "import glob\n",
    "import warnings\n",
    "warnings.filterwarnings('ignore')\n",
    "\n",
    "# -------------------------\n",
    "# Manejo y procesamiento de datos\n",
    "# -------------------------\n",
    "import pandas as pd\n",
    "import numpy as np\n",
    "from tabulate import tabulate\n",
    "from sklearn.preprocessing import MinMaxScaler\n",
    "from sklearn.metrics import mean_absolute_error, mean_squared_error, r2_score\n",
    "\n",
    "# -------------------------\n",
    "# Visualización\n",
    "# -------------------------\n",
    "import matplotlib.pyplot as plt\n",
    "\n",
    "# -------------------------\n",
    "# Calendario de mercados\n",
    "# -------------------------\n",
    "import pandas_market_calendars as mcal\n",
    "\n",
    "# -------------------------\n",
    "# Estadística y series temporales\n",
    "# -------------------------\n",
    "##from statsmodels.tsa.stattools import adfuller\n",
    "##from statsmodels.graphics.tsaplots import plot_predict\n",
    "##from statsmodels.tsa.statespace.sarimax import SARIMAX\n",
    "##from statsmodels.tsa.arima.model import ARIMA as sm_ARIMA\n",
    "##from statsmodels.tsa.seasonal import seasonal_decompose\n",
    "##from pmdarima.arima import ARIMA as pm_ARIMA\n",
    "##import pmdarima as pm\n",
    "##from arch import arch_model\n",
    "\n",
    "# -------------------------\n",
    "# Modelado con LSTM\n",
    "# -------------------------\n",
    "##from keras.models import Sequential\n",
    "##from keras.layers import LSTM, Dense, Dropout\n",
    "##from keras.preprocessing.sequence import TimeseriesGenerator\n",
    "\n",
    "# -------------------------\n",
    "# Paralelización\n",
    "# -------------------------\n",
    "##from joblib import parallel_backend\n"
   ]
  },
  {
   "cell_type": "markdown",
   "id": "265ae912",
   "metadata": {},
   "source": [
    "## 2. Carga del dataset mnq_intraday_data"
   ]
  },
  {
   "cell_type": "code",
   "execution_count": 42,
   "id": "ac213cc1",
   "metadata": {},
   "outputs": [],
   "source": [
    "def cargar_df():\n",
    "    #path = '0_preprocesamiento_datos/mnq_intraday_data.parquet' \n",
    "    archivo = './mnq_intraday_data.parquet'\n",
    "\n",
    "    if os.path.exists(archivo):\n",
    "        print(\"Archivo encontrado. Cargando dataset desde disco...\")\n",
    "        mnq_intraday = pd.read_parquet(archivo)\n",
    "        \n",
    "    return mnq_intraday"
   ]
  },
  {
   "cell_type": "code",
   "execution_count": 43,
   "id": "c96c833f",
   "metadata": {},
   "outputs": [
    {
     "name": "stdout",
     "output_type": "stream",
     "text": [
      "Archivo encontrado. Cargando dataset desde disco...\n"
     ]
    }
   ],
   "source": [
    "mnq_intraday = cargar_df()"
   ]
  },
  {
   "cell_type": "code",
   "execution_count": 44,
   "id": "add57884",
   "metadata": {},
   "outputs": [],
   "source": [
    "# Asegurar que el índice esté en formato datetime (por si acaso)\n",
    "mnq_intraday.index = pd.to_datetime(mnq_intraday.index)\n",
    "\n",
    "# Crear una columna 'date' a partir del índice\n",
    "mnq_intraday['date'] = mnq_intraday.index.date"
   ]
  },
  {
   "cell_type": "markdown",
   "id": "ebd9b45d",
   "metadata": {},
   "source": [
    "## 3. Búsqueda de ALPHA FACTOR    "
   ]
  },
  {
   "cell_type": "markdown",
   "id": "bd799601",
   "metadata": {},
   "source": [
    "### Introducción"
   ]
  },
  {
   "cell_type": "markdown",
   "id": "5b0c9cdc",
   "metadata": {},
   "source": [
    "Un alpha factor es como una hipótesis cuantitativa: propone que una cierta transformación de los datos (por ejemplo, un RSI bajo o un volumen inusualmente alto) podría anticipar un movimiento futuro del precio.\n",
    "\n",
    "Entonces, antes de entrenar un modelo LSTM, XGBoost o cualquier otro, el alpha factor te ayuda a descubrir cuáles features tienen “potencial predictivo”\n",
    "\n",
    "**¿Qué hace realmente?**\n",
    "\n",
    "- Evalúa si una variable (feature) tiene relación estadística con el retorno futuro.\n",
    "- Te filtra las señales útiles del ruido.\n",
    "- Acelera la selección de features sin tener que probar todo con modelos complejos primero.\n",
    "\n",
    "Por ejemplo:\n",
    "\n",
    "- Calculás el momentum 10 y ves que cuando es alto, el retorno a 5 minutos tiende a ser positivo → ese factor tiene alpha.\n",
    "- Calculás el RSI 14 y no ves ninguna relación → ese factor no tiene alpha (en ese timeframe).\n",
    "\n",
    "\n",
    "El Information Coefficient (IC) mide la correlación entre el alpha factor y el retorno futuro:\n",
    "\n",
    "- IC > 0: el factor predice correctamente la dirección del retorno.\n",
    "- IC ≈ 0: el factor no tiene poder predictivo.\n",
    "- IC < 0: el factor tiene un poder inverso (indica lo contrario al retorno real)."
   ]
  },
  {
   "cell_type": "markdown",
   "id": "87a8deae",
   "metadata": {},
   "source": [
    "### 3.1. Hipótesis 1: Continuación del Momentum Intradía"
   ]
  },
  {
   "attachments": {
    "image.png": {
     "image/png": "[encoded data removed]"
    }
   },
   "cell_type": "markdown",
   "id": "26489743",
   "metadata": {},
   "source": [
    "**\"Si el precio ha subido de forma constante en los últimos N minutos, es probable que continúe subiendo en los próximos minutos.\"**\n",
    "\n",
    "Justificación técnica: Basada en la idea de momentum. Los traders tienden a subirse a la ola cuando ven un movimiento fuerte, generando continuación.\n",
    "\n",
    "Alpha Factor sugerido: Se define un factor de momentum como la diferencia entre los logaritmos del precio de cierre actual y el precio de cierre hace `N` minutos:\n",
    "\n",
    "![image.png](attachment:image.png)\n",
    "\n",
    "Este valor puede interpretarse como el retorno logarítmico acumulado en los últimos `N` minutos. Valores positivos indican tendencia alcista reciente, mientras que valores negativos reflejan presión bajista.\n",
    "\n",
    "**Parámetros recomendados para N:**  \n",
    "- Corto plazo: `N = 5`\n",
    "- Medio plazo: `N = 15`\n",
    "- Largo plazo intradía: `N = 30`\n",
    "\n",
    "**Aplicación:** \n",
    "\n",
    "Este factor puede utilizarse como variable predictora en modelos supervisados, o directamente para generar señales de trading (ej: entrar en largo cuando Momentum > 0)."
   ]
  },
  {
   "cell_type": "code",
   "execution_count": null,
   "id": "d5171c62",
   "metadata": {},
   "outputs": [
    {
     "name": "stdout",
     "output_type": "stream",
     "text": [
      "Mean IC (Momentum 5 min):  -0.0180\n",
      "Mean IC (Momentum 15 min): -0.0389\n",
      "Mean IC (Momentum 30 min): -0.0776\n"
     ]
    }
   ],
   "source": [
    "# 1. Construir alpha_factor\n",
    "\n",
    "# Añadimos el momentum para 5, 15 y 30 minutos.\n",
    "mnq_intraday['momentum_5'] = np.log(mnq_intraday['close']) - np.log(mnq_intraday['close'].shift(5))\n",
    "mnq_intraday['momentum_15'] = np.log(mnq_intraday['close']) - np.log(mnq_intraday['close'].shift(15))\n",
    "mnq_intraday['momentum_30'] = np.log(mnq_intraday['close']) - np.log(mnq_intraday['close'].shift(30))\n",
    "\n",
    "#Esto lo vamos a aplicar por día para evitar \"mezclar\" información entre jornadas.\n",
    "\n",
    "# 2. Normalizar el factor \n",
    "# Para evitar que valores extremos distorsionen la interpretación y para que sea comparable entre días, normalizamos por día (por ejemplo, con z-score):\n",
    "\n",
    "mnq_intraday['momentum_z_5'] = mnq_intraday.groupby('date')['momentum_5'].transform(lambda x: (x - x.mean()) / x.std())\n",
    "mnq_intraday['momentum_z_15'] = mnq_intraday.groupby('date')['momentum_15'].transform(lambda x: (x - x.mean()) / x.std())\n",
    "mnq_intraday['momentum_z_30'] = mnq_intraday.groupby('date')['momentum_30'].transform(lambda x: (x - x.mean()) / x.std())\n",
    "\n",
    "# 3. Evaluar el poder predictivo\n",
    "# Usamos una métrica como el Information Coefficient (IC): Correlación entre el valor del alpha factor y el retorno futuro.\n",
    "# Definimos el retorno futuro:\n",
    "\n",
    "mnq_intraday['target_return_5'] = np.log(mnq_intraday['close'].shift(-5)) - np.log(mnq_intraday['close'])\n",
    "mnq_intraday['target_return_15'] = np.log(mnq_intraday['close'].shift(-15)) - np.log(mnq_intraday['close'])\n",
    "mnq_intraday['target_return_30'] = np.log(mnq_intraday['close'].shift(-30)) - np.log(mnq_intraday['close'])\n",
    "\n",
    "# 4. Evaluamos el IC por día para cada ventana de tiempo\n",
    "# Evaluamos la correlación entre el factor y el target\n",
    "\n",
    "ic_by_day_5 = mnq_intraday.dropna().groupby('date').apply(\n",
    "    lambda x: x['momentum_z_5'].corr(x['target_return_5']))\n",
    "\n",
    "ic_by_day_15 = mnq_intraday.dropna().groupby('date').apply(\n",
    "    lambda x: x['momentum_z_15'].corr(x['target_return_15']))\n",
    "\n",
    "ic_by_day_30 = mnq_intraday.dropna().groupby('date').apply(\n",
    "    lambda x: x['momentum_z_30'].corr(x['target_return_30']))\n",
    "\n",
    "# Promedio del IC para cada ventana\n",
    "mean_ic_5 = ic_by_day_5.mean()\n",
    "mean_ic_15 = ic_by_day_15.mean()\n",
    "mean_ic_30 = ic_by_day_30.mean()\n",
    "\n",
    "# Mostrar los resultados\n",
    "print(f\"Mean IC (Momentum 5 min):  {mean_ic_5:.4f}\")\n",
    "print(f\"Mean IC (Momentum 15 min): {mean_ic_15:.4f}\")\n",
    "print(f\"Mean IC (Momentum 30 min): {mean_ic_30:.4f}\")"
   ]
  },
  {
   "cell_type": "markdown",
   "id": "df7ea7e4",
   "metadata": {},
   "source": [
    "#### Conclusiones de Hipótesis 1: Continuación del Momentum Intradía"
   ]
  },
  {
   "cell_type": "markdown",
   "id": "cab11e1f",
   "metadata": {},
   "source": [
    "1. La hipótesis original no se valida.\n",
    "\n",
    "    - El IC es negativo en todas las ventanas, lo que contradice la idea de \"continuación de la tendencia\". \n",
    "    - De hecho: A mayor ventana (N), más negativo se vuelve el IC, lo que indica una mayor probabilidad de reversión cuando el momentum es fuerte.\n",
    "\n",
    "2. Se sugiere comportamiento de Mean Reversion.\n",
    "\n",
    "    - Este patrón es típico en mercados de alta frecuencia como MNQ, donde los movimientos rápidos suelen agotarse y dar paso a correcciones.\n",
    "\n",
    "    - Cuanto más largo el período de momentum (30 minutos), más fuerte la señal de reversión.\n",
    "\n",
    "3. El factor tiene poco poder predictivo absoluto.\n",
    "\n",
    "    - Aunque el IC de -0.0776 (30m) sugiere cierta señal contraria, todavía está por debajo de los valores que normalmente se consideran “fuertes” (|IC| > 0.1).\n",
    "\n",
    "    - Podría mejorarse con más filtros (por ejemplo: volumen, hora del día, filtros de volatilidad)."
   ]
  },
  {
   "cell_type": "markdown",
   "id": "4957a200",
   "metadata": {},
   "source": [
    "### 3.2. Hipótesis 2: Reversión a la Media (Mean Reversion)"
   ]
  },
  {
   "attachments": {
    "image.png": {
     "image/png": "[encoded data removed]"
    }
   },
   "cell_type": "markdown",
   "id": "1f4c9d6c",
   "metadata": {},
   "source": [
    "**\"Si el precio se aleja demasiado de su media móvil de corto plazo, tenderá a volver a ella.\"**\n",
    "\n",
    "Justificación técnica: Alta frecuencia tiende a mostrar sobre-reacciones temporales. Este es un principio clásico del análisis técnico. En escalas de tiempo cortas, los precios tienden a oscilar alrededor de su media. Alejamientos extremos suelen generar correcciones rápidas, especialmente en activos líquidos como el MNQ.\n",
    "\n",
    "Alpha Factor sugerido:\n",
    "\n",
    "![image.png](attachment:image.png)\n",
    "\n",
    "Donde:\n",
    "\n",
    "SMA_N(t) es la media móvil simple de los últimos N minutos,\n",
    "\n",
    "σ_N(t) es la desviación estándar en la misma ventana.\n",
    "\n",
    "\n",
    "**El z-score te dice cuán lejos está un valor respecto a su promedio, medido en unidades de desviación estándar.**\n",
    "Es una forma de medir si algo está “muy arriba” o “muy abajo” de lo normal."
   ]
  },
  {
   "cell_type": "code",
   "execution_count": 46,
   "id": "cc9e9a39",
   "metadata": {},
   "outputs": [
    {
     "name": "stdout",
     "output_type": "stream",
     "text": [
      "Mean IC (Z-Score 5 min):  -0.0156\n",
      "Mean IC (Z-Score 15 min): -0.0363\n",
      "Mean IC (Z-Score 30 min): -0.0671\n"
     ]
    }
   ],
   "source": [
    "import numpy as np\n",
    "import pandas as pd\n",
    "\n",
    "# 1. Calcular medias móviles y desviaciones estándar para el z-score\n",
    "for N in [5, 15, 30]:\n",
    "    sma_col = f'sma_{N}'\n",
    "    std_col = f'std_{N}'\n",
    "    z_col = f'zscore_{N}'\n",
    "    mnq_intraday[sma_col] = mnq_intraday['close'].rolling(window=N).mean()\n",
    "    mnq_intraday[std_col] = mnq_intraday['close'].rolling(window=N).std()\n",
    "    mnq_intraday[z_col] = (mnq_intraday['close'] - mnq_intraday[sma_col]) / mnq_intraday[std_col]\n",
    "\n",
    "# 2. Calcular retornos futuros como variable objetivo\n",
    "# Ya fue calculado anteriormente\n",
    "#mnq_intraday['target_return_5'] = np.log(mnq_intraday['close'].shift(-5)) - np.log(mnq_intraday['close'])\n",
    "#mnq_intraday['target_return_15'] = np.log(mnq_intraday['close'].shift(-15)) - np.log(mnq_intraday['close'])\n",
    "#mnq_intraday['target_return_30'] = np.log(mnq_intraday['close'].shift(-30)) - np.log(mnq_intraday['close'])\n",
    "\n",
    "# 3. Evaluar el IC por día entre el z-score y el retorno futuro\n",
    "ic_z_5 = mnq_intraday.dropna().groupby('date').apply(\n",
    "    lambda x: x['zscore_5'].corr(x['target_return_5'])\n",
    ")\n",
    "ic_z_15 = mnq_intraday.dropna().groupby('date').apply(\n",
    "    lambda x: x['zscore_15'].corr(x['target_return_15'])\n",
    ")\n",
    "ic_z_30 = mnq_intraday.dropna().groupby('date').apply(\n",
    "    lambda x: x['zscore_30'].corr(x['target_return_30'])\n",
    ")\n",
    "\n",
    "# 4. Calcular el IC promedio\n",
    "mean_ic_z_5 = ic_z_5.mean()\n",
    "mean_ic_z_15 = ic_z_15.mean()\n",
    "mean_ic_z_30 = ic_z_30.mean()\n",
    "\n",
    "# 5. Imprimir resultados\n",
    "print(f\"Mean IC (Z-Score 5 min):  {mean_ic_z_5:.4f}\")\n",
    "print(f\"Mean IC (Z-Score 15 min): {mean_ic_z_15:.4f}\")\n",
    "print(f\"Mean IC (Z-Score 30 min): {mean_ic_z_30:.4f}\")"
   ]
  },
  {
   "cell_type": "code",
   "execution_count": 58,
   "id": "cf80a6ec",
   "metadata": {},
   "outputs": [
    {
     "ename": "TypeError",
     "evalue": "unsupported format string passed to Series.__format__",
     "output_type": "error",
     "traceback": [
      "\u001b[1;31m---------------------------------------------------------------------------\u001b[0m",
      "\u001b[1;31mTypeError\u001b[0m                                 Traceback (most recent call last)",
      "Cell \u001b[1;32mIn[58], line 32\u001b[0m\n\u001b[0;32m     29\u001b[0m mean_ic_z_30 \u001b[38;5;241m=\u001b[39m ic_z_30\u001b[38;5;241m.\u001b[39mmean()\n\u001b[0;32m     31\u001b[0m \u001b[38;5;66;03m# 5. Imprimir resultados\u001b[39;00m\n\u001b[1;32m---> 32\u001b[0m \u001b[38;5;28mprint\u001b[39m(\u001b[38;5;124mf\u001b[39m\u001b[38;5;124m\"\u001b[39m\u001b[38;5;124mMean IC (Z-Score 5 min):  \u001b[39m\u001b[38;5;132;01m{\u001b[39;00mmean_ic_z_5\u001b[38;5;132;01m:\u001b[39;00m\u001b[38;5;124m.4f\u001b[39m\u001b[38;5;132;01m}\u001b[39;00m\u001b[38;5;124m\"\u001b[39m)\n\u001b[0;32m     33\u001b[0m \u001b[38;5;28mprint\u001b[39m(\u001b[38;5;124mf\u001b[39m\u001b[38;5;124m\"\u001b[39m\u001b[38;5;124mMean IC (Z-Score 15 min): \u001b[39m\u001b[38;5;132;01m{\u001b[39;00mmean_ic_z_15\u001b[38;5;132;01m:\u001b[39;00m\u001b[38;5;124m.4f\u001b[39m\u001b[38;5;132;01m}\u001b[39;00m\u001b[38;5;124m\"\u001b[39m)\n\u001b[0;32m     34\u001b[0m \u001b[38;5;28mprint\u001b[39m(\u001b[38;5;124mf\u001b[39m\u001b[38;5;124m\"\u001b[39m\u001b[38;5;124mMean IC (Z-Score 30 min): \u001b[39m\u001b[38;5;132;01m{\u001b[39;00mmean_ic_z_30\u001b[38;5;132;01m:\u001b[39;00m\u001b[38;5;124m.4f\u001b[39m\u001b[38;5;132;01m}\u001b[39;00m\u001b[38;5;124m\"\u001b[39m)\n",
      "\u001b[1;31mTypeError\u001b[0m: unsupported format string passed to Series.__format__"
     ]
    }
   ],
   "source": [
    "import numpy as np\n",
    "import pandas as pd\n",
    "\n",
    "# 1. Calcular medias móviles y desviaciones estándar por día para el z-score\n",
    "for N in [5, 15, 30]:\n",
    "    z_col = f'zscore_{N}'\n",
    "\n",
    "    # Usamos transform para mantener el tamaño del índice original\n",
    "    mnq_intraday[z_col] = mnq_intraday.groupby('date')['close'].transform(\n",
    "        lambda x: (x - x.rolling(window=N).mean()) / x.rolling(window=N).std()\n",
    "    )\n",
    "\n",
    "# 2. Los retornos futuros ya fueron calculados previamente, así que no se repiten\n",
    "\n",
    "# 3. Evaluar el IC por día entre el z-score y el retorno futuro\n",
    "ic_z_5 = mnq_intraday.dropna().groupby('date').apply(\n",
    "    lambda x: x['zscore_5'].corr(x['target_return_5'])\n",
    ")\n",
    "ic_z_15 = mnq_intraday.dropna().groupby('date').apply(\n",
    "    lambda x: x['zscore_15'].corr(x['target_return_15'])\n",
    ")\n",
    "ic_z_30 = mnq_intraday.dropna().groupby('date').apply(\n",
    "    lambda x: x['zscore_30'].corr(x['target_return_30'])\n",
    ")\n",
    "\n",
    "# 4. Calcular el IC promedio\n",
    "mean_ic_z_5 = ic_z_5.mean()\n",
    "mean_ic_z_15 = ic_z_15.mean()\n",
    "mean_ic_z_30 = ic_z_30.mean()\n",
    "\n",
    "# 5. Imprimir resultados\n",
    "print(f\"Mean IC (Z-Score 5 min):  {mean_ic_z_5:.4f}\")\n",
    "print(f\"Mean IC (Z-Score 15 min): {mean_ic_z_15:.4f}\")\n",
    "print(f\"Mean IC (Z-Score 30 min): {mean_ic_z_30:.4f}\")"
   ]
  },
  {
   "cell_type": "markdown",
   "id": "48bf0d9a",
   "metadata": {},
   "source": [
    "#### Conclusiones de Hipótesis 2: Reversión a la Media (Mean Reversion)"
   ]
  },
  {
   "cell_type": "markdown",
   "id": "d3535976",
   "metadata": {},
   "source": [
    "1. IC negativo → Apoyo a la hipótesis de reversión\n",
    "\n",
    "    - En todos los casos el IC es negativo, lo que respalda (aunque débilmente) la hipótesis de que: **“Cuando el precio se aleja mucho de su media, tiende a revertir.”**\n",
    "\n",
    "2.  Magnitud baja → señal débil\n",
    "\n",
    "    - En general, un IC > 0.10 o < -0.10 suele considerarse significativo.\n",
    "\n",
    "    - Los valores están muy por debajo de ese umbral:\n",
    "\n",
    "        5 min: -0.0156 ≈ sin señal útil.\n",
    "\n",
    "        15 min: -0.0363 → levemente mejor.\n",
    "\n",
    "        30 min: -0.0671 → más consistente, pero aún bajo.\n",
    "\n",
    "3. Mayor ventana = mejor resultado\n",
    "\n",
    "    - El IC mejora en magnitud al aumentar la ventana: Lo que sugiere que alejamientos prolongados de la media tienen más probabilidad de revertir.\n",
    "    - Podría ser útil explorar ventanas mayores aún (45 o 60 minutos).\n",
    "\n",
    "\n",
    "La hipótesis de reversión a la media parece correcta en dirección (signo negativo del IC), pero el factor actual tiene poco poder predictivo cuantitativo.\n",
    "\n",
    "Esto implica que el z-score bruto (sin filtrar) tiene poco poder predictivo por sí solo.\n",
    "\n",
    "Es probable que el mercado no revierta cada vez que se aleja de la media, sino solo cuando el alejamiento es significativo."
   ]
  },
  {
   "cell_type": "markdown",
   "id": "e4abb059",
   "metadata": {},
   "source": [
    "#### Reformulación de hipótesis"
   ]
  },
  {
   "cell_type": "markdown",
   "id": "aa80d691",
   "metadata": {},
   "source": [
    "Problema detectado:\n",
    "\n",
    "- El z-score fue aplicado a todo el dataset como variable continua.\n",
    "- Esto incluye valores cercanos a 0 (sin sobreextensión), que aportan mucho ruido.\n",
    "- Resultado: IC bajo (ej. -0.0671 para z-score_30), señal débil.\n",
    "\n",
    "Hipótesis reformulada:\n",
    "\n",
    "“Solo cuando el precio se aleja mucho de su media (z-score > 2 o < -2), hay una probabilidad significativa de reversión.”\n",
    "\n",
    "Esto implica que:\n",
    "\n",
    "- El z-score solo se considera relevante si indica un exceso estadístico.\n",
    "- El alpha factor se activa solo en zonas extremas."
   ]
  },
  {
   "cell_type": "markdown",
   "id": "18bfe699",
   "metadata": {},
   "source": [
    "### 3.3. Hipótesis 3: Volumen como confirmación de dirección"
   ]
  },
  {
   "attachments": {
    "image.png": {
     "image/png": "[encoded data removed]"
    }
   },
   "cell_type": "markdown",
   "id": "57f45bec",
   "metadata": {},
   "source": [
    "**\"Un movimiento alcista con aumento de volumen tiene más chances de continuar.\"**\n",
    "\n",
    "Justificación técnica: Esta hipótesis está basada en un principio clásico del análisis técnico: el volumen confirma la tendencia. Si hay momentum y ese movimiento está respaldado por un volumen inusualmente alto, la probabilidad de que continúe el movimiento es mayor.\n",
    "\n",
    "Alpha Factor sugerido:\n",
    "\n",
    "![image.png](attachment:image.png)\n",
    "\n",
    "Donde:\n",
    "\n",
    "- Momentum t \n",
    "- VolumenPromedioN es la media móvil del volumen en una ventana de N minutos.\n",
    "\n",
    "Usamos N = 5, 15 y 30 como en los casos anteriores."
   ]
  },
  {
   "cell_type": "code",
   "execution_count": 47,
   "id": "6ae74164",
   "metadata": {},
   "outputs": [
    {
     "name": "stdout",
     "output_type": "stream",
     "text": [
      "Mean IC (Momentum x Volume - 5 min):  -0.0201\n",
      "Mean IC (Momentum x Volume - 15 min): -0.0428\n",
      "Mean IC (Momentum x Volume - 30 min): -0.0758\n"
     ]
    }
   ],
   "source": [
    "import numpy as np\n",
    "import pandas as pd\n",
    "\n",
    "# 1. Calcular momentum para 3 ventanas\n",
    "# Ya se calculo en la primera hipotesis \n",
    "#for N in [5, 15, 30]:\n",
    "#    mnq_intraday[f'momentum_{N}'] = np.log(mnq_intraday['close']) - np.log(mnq_intraday['close'].shift(N))\n",
    "\n",
    "# 2. Calcular volumen promedio, ratio volumen, y construir alpha factor: momentum * (volumen / volumen promedio)\n",
    "for N in [5, 15, 30]:\n",
    "    momentum_col = f'momentum_{N}'\n",
    "    vol_avg_col = f'vol_avg_{N}'\n",
    "    vol_ratio_col = f'vol_ratio_{N}'\n",
    "    factor_col = f'mom_vol_{N}'\n",
    "    z_col = f'mom_vol_z_{N}'\n",
    "\n",
    "    mnq_intraday[vol_avg_col] = mnq_intraday['volume'].rolling(window=N).mean()\n",
    "    mnq_intraday[vol_ratio_col] = mnq_intraday['volume'] / mnq_intraday[vol_avg_col]\n",
    "    mnq_intraday[factor_col] = mnq_intraday[momentum_col] * mnq_intraday[vol_ratio_col]\n",
    "\n",
    "    # 3. Normalizar el factor por día (z-score)\n",
    "    mnq_intraday[z_col] = mnq_intraday.groupby('date')[factor_col].transform(\n",
    "        lambda x: (x - x.mean()) / x.std()\n",
    "    )\n",
    "\n",
    "# 4. Evaluar el IC entre el alpha factor y el retorno futuro\n",
    "ic_mv_5 = mnq_intraday.dropna().groupby('date').apply(\n",
    "    lambda x: x['mom_vol_z_5'].corr(x['target_return_5'])\n",
    ")\n",
    "ic_mv_15 = mnq_intraday.dropna().groupby('date').apply(\n",
    "    lambda x: x['mom_vol_z_15'].corr(x['target_return_15'])\n",
    ")\n",
    "ic_mv_30 = mnq_intraday.dropna().groupby('date').apply(\n",
    "    lambda x: x['mom_vol_z_30'].corr(x['target_return_30'])\n",
    ")\n",
    "\n",
    "# 5. Calcular y mostrar el promedio de los IC\n",
    "mean_ic_mv_5 = ic_mv_5.mean()\n",
    "mean_ic_mv_15 = ic_mv_15.mean()\n",
    "mean_ic_mv_30 = ic_mv_30.mean()\n",
    "\n",
    "print(f\"Mean IC (Momentum x Volume - 5 min):  {mean_ic_mv_5:.4f}\")\n",
    "print(f\"Mean IC (Momentum x Volume - 15 min): {mean_ic_mv_15:.4f}\")\n",
    "print(f\"Mean IC (Momentum x Volume - 30 min): {mean_ic_mv_30:.4f}\")"
   ]
  },
  {
   "cell_type": "markdown",
   "id": "c367c065",
   "metadata": {},
   "source": [
    "#### Conclusiones de Hipótesis 3: Volumen como confirmación de dirección"
   ]
  },
  {
   "cell_type": "markdown",
   "id": "8d06dd08",
   "metadata": {},
   "source": [
    "- El **IC negativo en todas las ventanas** refuta la hipótesis de continuación de la tendencia.\n",
    "- **El mercado tiende a revertir** tras movimientos fuertes con volumen elevado (comportamiento de \"agotamiento\").\n",
    "- **El poder predictivo es bajo**, aunque algo más consistente en ventanas largas.\n",
    "- Este factor podría reformularse como señal de **reversión**, en lugar de continuación.\n",
    "- Se sugiere probar variantes:\n",
    "  - Aplicar filtros por hora del día o contexto de mercado.\n",
    "  - Combinar este factor con otros (e.g., RSI, z-score) en un modelo multivariado."
   ]
  },
  {
   "cell_type": "markdown",
   "id": "acc7a3c6",
   "metadata": {},
   "source": [
    "### 3.4. Hipótesis 4: Exhaustión del rango intradía"
   ]
  },
  {
   "attachments": {
    "image-2.png": {
     "image/png": "[encoded data removed]"
    },
    "image-3.png": {
     "image/png": "[encoded data removed]"
    },
    "image.png": {
     "image/png": "[encoded data removed]"
    }
   },
   "cell_type": "markdown",
   "id": "80979176",
   "metadata": {},
   "source": [
    "\"Si en la primera hora se alcanza un rango de precios muy amplio, el mercado tenderá a consolidar o revertir.\"\n",
    "\n",
    "Justificación técnica: En muchos activos, un rango amplio en la apertura (08:30 a 09:30 US/Eastern) refleja exceso de volatilidad temprana, frecuentemente impulsada por noticias o desequilibrios de oferta/demanda. Este impulso inicial puede agotarse, dando paso a consolidaciones o retrocesos.\n",
    "\n",
    "Alpha Factor sugerido:\n",
    "\n",
    "![image.png](attachment:image.png)\n",
    "\n",
    "\n",
    "Y luego creamos un factor que mida cuán lejos está el precio actual respecto a ese rango:\n",
    "\n",
    "![image-2.png](attachment:image-2.png)\n",
    "\n",
    "![image-3.png](attachment:image-3.png)"
   ]
  },
  {
   "cell_type": "code",
   "execution_count": 48,
   "id": "c8eb5392",
   "metadata": {},
   "outputs": [
    {
     "name": "stdout",
     "output_type": "stream",
     "text": [
      "Mean IC (Opening Range - 5 min):  -0.1848\n",
      "Mean IC (Opening Range - 15 min): -0.2975\n",
      "Mean IC (Opening Range - 30 min): -0.3872\n"
     ]
    }
   ],
   "source": [
    "import numpy as np\n",
    "import pandas as pd\n",
    "\n",
    "# 1. Calcular retornos futuros si aún no están definidos\n",
    "#mnq_intraday['target_return_5'] = np.log(mnq_intraday['close'].shift(-5)) - np.log(mnq_intraday['close'])\n",
    "#mnq_intraday['target_return_15'] = np.log(mnq_intraday['close'].shift(-15)) - np.log(mnq_intraday['close'])\n",
    "#mnq_intraday['target_return_30'] = np.log(mnq_intraday['close'].shift(-30)) - np.log(mnq_intraday['close'])\n",
    "\n",
    "# 2. Calcular el rango de apertura (08:30 a 09:30 US/Eastern)\n",
    "opening_start = \"08:30:00\"\n",
    "opening_end = \"09:30:00\"\n",
    "\n",
    "def get_opening_high(x):\n",
    "    return x.between_time(opening_start, opening_end)['high'].max()\n",
    "\n",
    "def get_opening_low(x):\n",
    "    return x.between_time(opening_start, opening_end)['low'].min()\n",
    "\n",
    "# Calcular high, low, midpoint y rango por día\n",
    "opening_range = mnq_intraday.groupby('date').apply(lambda x: pd.Series({\n",
    "    'opening_high': get_opening_high(x),\n",
    "    'opening_low': get_opening_low(x)\n",
    "}))\n",
    "\n",
    "opening_range['opening_range'] = opening_range['opening_high'] - opening_range['opening_low']\n",
    "opening_range['opening_midpoint'] = (opening_range['opening_high'] + opening_range['opening_low']) / 2\n",
    "\n",
    "# 3. Unir estas métricas al dataset original\n",
    "mnq_intraday = mnq_intraday.join(opening_range, on='date')\n",
    "\n",
    "# 4. Construir el alpha factor a partir de las 09:30\n",
    "mnq_intraday['after_opening'] = mnq_intraday.index >= mnq_intraday.index.normalize() + pd.Timedelta(\"09:30:00\")\n",
    "\n",
    "mnq_intraday['opening_range_factor'] = (\n",
    "    (mnq_intraday['close'] - mnq_intraday['opening_midpoint']) /\n",
    "    mnq_intraday['opening_range']\n",
    ")\n",
    "\n",
    "mnq_intraday['opening_factor_adj'] = mnq_intraday['opening_range_factor'].where(mnq_intraday['after_opening'])\n",
    "\n",
    "# 5. Normalizar el factor por día\n",
    "mnq_intraday['opening_factor_z'] = mnq_intraday.groupby('date')['opening_factor_adj'].transform(\n",
    "    lambda x: (x - x.mean()) / x.std()\n",
    ")\n",
    "\n",
    "# 6. Evaluar el IC\n",
    "ic_open_5 = mnq_intraday.dropna().groupby('date').apply(\n",
    "    lambda x: x['opening_factor_z'].corr(x['target_return_5'])\n",
    ")\n",
    "ic_open_15 = mnq_intraday.dropna().groupby('date').apply(\n",
    "    lambda x: x['opening_factor_z'].corr(x['target_return_15'])\n",
    ")\n",
    "ic_open_30 = mnq_intraday.dropna().groupby('date').apply(\n",
    "    lambda x: x['opening_factor_z'].corr(x['target_return_30'])\n",
    ")\n",
    "\n",
    "# 7. Calcular los IC promedio\n",
    "mean_ic_open_5 = ic_open_5.mean()\n",
    "mean_ic_open_15 = ic_open_15.mean()\n",
    "mean_ic_open_30 = ic_open_30.mean()\n",
    "\n",
    "print(f\"Mean IC (Opening Range - 5 min):  {mean_ic_open_5:.4f}\")\n",
    "print(f\"Mean IC (Opening Range - 15 min): {mean_ic_open_15:.4f}\")\n",
    "print(f\"Mean IC (Opening Range - 30 min): {mean_ic_open_30:.4f}\")"
   ]
  },
  {
   "cell_type": "markdown",
   "id": "aca036af",
   "metadata": {},
   "source": [
    "#### Conclusiones de Hipótesis 4: Exhaustión del rango intradía"
   ]
  },
  {
   "cell_type": "markdown",
   "id": "e509b854",
   "metadata": {},
   "source": [
    "El alpha factor mostró correlación negativa significativa, lo que confirma que los alejamientos del precio respecto al rango de apertura suelen revertirse.\n",
    "\n",
    "Su poder predictivo mejora con horizontes más largos (hasta 30 minutos), indicando que la reversión es progresiva.\n",
    "\n",
    "Es uno de los factores más efectivos hasta ahora, útil como señal contrarian post-apertura o filtro de sobreextensión intradía."
   ]
  },
  {
   "cell_type": "markdown",
   "id": "43fbd7b2",
   "metadata": {},
   "source": [
    "### 3.5. Hipótesis 5: RSI como indicador de reversión"
   ]
  },
  {
   "cell_type": "markdown",
   "id": "267b0a7b",
   "metadata": {},
   "source": [
    "\"Cuando el RSI intradía supera 80, el precio tiende a caer en los siguientes minutos (reversión por sobrecompra)\"\n",
    "\n",
    "Justificación técnica:\n",
    "\n",
    "El Relative Strength Index (RSI) es un oscilador que mide la velocidad y el cambio de los movimientos del precio. Valores por encima de 70–80 se interpretan como sobrecompra, y suelen preceder correcciones de corto plazo."
   ]
  },
  {
   "cell_type": "code",
   "execution_count": 49,
   "id": "4475a816",
   "metadata": {},
   "outputs": [
    {
     "name": "stdout",
     "output_type": "stream",
     "text": [
      "Mean IC (RSI 5min):  -0.0210\n",
      "Mean IC (RSI 15min): -0.0435\n",
      "Mean IC (RSI 30min): -0.0903\n"
     ]
    }
   ],
   "source": [
    "import numpy as np\n",
    "import pandas as pd\n",
    "\n",
    "# Suponiendo que ya tenés el DataFrame mnq_intraday con columnas 'close' y 'date'\n",
    "\n",
    "# 1. Calcular retornos futuros como variable objetivo\n",
    "#mnq_intraday['target_return_5'] = np.log(mnq_intraday['close'].shift(-5)) - np.log(mnq_intraday['close'])\n",
    "#mnq_intraday['target_return_15'] = np.log(mnq_intraday['close'].shift(-15)) - np.log(mnq_intraday['close'])\n",
    "#mnq_intraday['target_return_30'] = np.log(mnq_intraday['close'].shift(-30)) - np.log(mnq_intraday['close'])\n",
    "\n",
    "# 2. Función para calcular RSI\n",
    "def compute_rsi(series, window):\n",
    "    delta = series.diff()\n",
    "    gain = delta.where(delta > 0, 0.0)\n",
    "    loss = -delta.where(delta < 0, 0.0)\n",
    "    avg_gain = gain.rolling(window=window, min_periods=window).mean()\n",
    "    avg_loss = loss.rolling(window=window, min_periods=window).mean()\n",
    "    rs = avg_gain / avg_loss\n",
    "    rsi = 100 - (100 / (1 + rs))\n",
    "    return rsi\n",
    "\n",
    "# 3. Calcular RSI y alpha factor como RSI - 80 para N = 5, 15, 30\n",
    "for N in [5, 15, 30]:\n",
    "    rsi_col = f'rsi_{N}'\n",
    "    alpha_col = f'rsi_alpha_{N}'\n",
    "    mnq_intraday[rsi_col] = compute_rsi(mnq_intraday['close'], window=N)\n",
    "    mnq_intraday[alpha_col] = mnq_intraday[rsi_col] - 80\n",
    "\n",
    "# 4. Evaluar IC entre el alpha factor y retorno futuro por día\n",
    "ic_rsi_5 = mnq_intraday.dropna().groupby('date').apply(\n",
    "    lambda x: x['rsi_alpha_5'].corr(x['target_return_5'])\n",
    ")\n",
    "ic_rsi_15 = mnq_intraday.dropna().groupby('date').apply(\n",
    "    lambda x: x['rsi_alpha_15'].corr(x['target_return_15'])\n",
    ")\n",
    "ic_rsi_30 = mnq_intraday.dropna().groupby('date').apply(\n",
    "    lambda x: x['rsi_alpha_30'].corr(x['target_return_30'])\n",
    ")\n",
    "\n",
    "# 5. Calcular el IC promedio\n",
    "mean_ic_rsi_5 = ic_rsi_5.mean()\n",
    "mean_ic_rsi_15 = ic_rsi_15.mean()\n",
    "mean_ic_rsi_30 = ic_rsi_30.mean()\n",
    "\n",
    "print(f\"Mean IC (RSI 5min):  {mean_ic_rsi_5:.4f}\")\n",
    "print(f\"Mean IC (RSI 15min): {mean_ic_rsi_15:.4f}\")\n",
    "print(f\"Mean IC (RSI 30min): {mean_ic_rsi_30:.4f}\")"
   ]
  },
  {
   "cell_type": "markdown",
   "id": "fb265f75",
   "metadata": {},
   "source": [
    "#### Conclusiones de Hipótesis 5: RSI como indicador de reversión"
   ]
  },
  {
   "cell_type": "markdown",
   "id": "c6d74fb6",
   "metadata": {},
   "source": [
    "1. IC negativo en todas las ventanas:\n",
    "    - Confirma parcialmente la hipótesis de que valores altos de RSI (>80) anticipan caídas (reversión por sobrecompra).\n",
    "\n",
    "2. Señal débil pero más clara en RSI de 30 min:\n",
    "    - El factor tiene más poder predictivo a mayor ventana, lo que sugiere que la sobrecompra prolongada es más confiable como señal de reversión.\n",
    "\n",
    "3. El poder predictivo general es bajo:\n",
    "    - Ningún IC supera el umbral de -0.1. Esto implica que RSI por sí solo no es suficiente como alpha factor en este contexto.\n",
    "\n",
    "4. Potencial como componente de un sistema multivariado:\n",
    "    - Puede servir como filtro o variable secundaria combinada con otros factores como z-score, momentum inverso, rango de apertura, etc."
   ]
  },
  {
   "cell_type": "markdown",
   "id": "683e2e18",
   "metadata": {},
   "source": [
    "### 3.6. Conclusión\n"
   ]
  },
  {
   "cell_type": "code",
   "execution_count": 52,
   "id": "f3c8d159",
   "metadata": {},
   "outputs": [
    {
     "name": "stdout",
     "output_type": "stream",
     "text": [
      "\n",
      "Hipotesis 1: Continuación del Momentum Intradía\n",
      "Mean IC (Momentum 5 min):  -0.0180\n",
      "Mean IC (Momentum 15 min): -0.0389\n",
      "Mean IC (Momentum 30 min): -0.0776\n",
      "\n",
      "Hipotesis 2: Reversión a la Media (Mean Reversion)\n",
      "Mean IC (Z-Score 5 min):  -0.0156\n",
      "Mean IC (Z-Score 15 min): -0.0363\n",
      "Mean IC (Z-Score 30 min): -0.0671\n",
      "\n",
      "Hipotesis 3: Volumen como confirmación de dirección\n",
      "Mean IC (Momentum x Volume - 5 min):  -0.0201\n",
      "Mean IC (Momentum x Volume - 15 min): -0.0428\n",
      "Mean IC (Momentum x Volume - 30 min): -0.0758\n",
      "\n",
      "Hipotesis 4: Exhaustión del rango intradía\n",
      "Mean IC (Opening Range - 5 min):  -0.1848\n",
      "Mean IC (Opening Range - 15 min): -0.2975\n",
      "Mean IC (Opening Range - 30 min): -0.3872\n",
      "\n",
      "Hipotesis 5: RSI como indicador de reversión\n",
      "Mean IC (RSI 5min):  -0.0210\n",
      "Mean IC (RSI 15min): -0.0435\n",
      "Mean IC (RSI 30min): -0.0903\n"
     ]
    }
   ],
   "source": [
    "print('\\nHipotesis 1: Continuación del Momentum Intradía')\n",
    "print(f\"Mean IC (Momentum 5 min):  {mean_ic_5:.4f}\")\n",
    "print(f\"Mean IC (Momentum 15 min): {mean_ic_15:.4f}\")\n",
    "print(f\"Mean IC (Momentum 30 min): {mean_ic_30:.4f}\")\n",
    "\n",
    "print('\\nHipotesis 2: Reversión a la Media (Mean Reversion)')\n",
    "print(f\"Mean IC (Z-Score 5 min):  {mean_ic_z_5:.4f}\")\n",
    "print(f\"Mean IC (Z-Score 15 min): {mean_ic_z_15:.4f}\")\n",
    "print(f\"Mean IC (Z-Score 30 min): {mean_ic_z_30:.4f}\")\n",
    "\n",
    "print('\\nHipotesis 3: Volumen como confirmación de dirección')\n",
    "print(f\"Mean IC (Momentum x Volume - 5 min):  {mean_ic_mv_5:.4f}\")\n",
    "print(f\"Mean IC (Momentum x Volume - 15 min): {mean_ic_mv_15:.4f}\")\n",
    "print(f\"Mean IC (Momentum x Volume - 30 min): {mean_ic_mv_30:.4f}\")\n",
    "\n",
    "print('\\nHipotesis 4: Exhaustión del rango intradía')\n",
    "print(f\"Mean IC (Opening Range - 5 min):  {mean_ic_open_5:.4f}\")\n",
    "print(f\"Mean IC (Opening Range - 15 min): {mean_ic_open_15:.4f}\")\n",
    "print(f\"Mean IC (Opening Range - 30 min): {mean_ic_open_30:.4f}\")\n",
    "\n",
    "print('\\nHipotesis 5: RSI como indicador de reversión')\n",
    "print(f\"Mean IC (RSI 5min):  {mean_ic_rsi_5:.4f}\")\n",
    "print(f\"Mean IC (RSI 15min): {mean_ic_rsi_15:.4f}\")\n",
    "print(f\"Mean IC (RSI 30min): {mean_ic_rsi_30:.4f}\")"
   ]
  },
  {
   "cell_type": "markdown",
   "id": "50f6c120",
   "metadata": {},
   "source": [
    "## 4. Refórmulación de hipótesis"
   ]
  },
  {
   "cell_type": "markdown",
   "id": "8f160d59",
   "metadata": {},
   "source": [
    "###  4.1. Reformulación de la Hipótesis 1 – Momentum Invertido\n"
   ]
  },
  {
   "cell_type": "markdown",
   "id": "011cde77",
   "metadata": {},
   "source": [
    "**Planteo original:**  \n",
    "*\"Si el precio ha subido en los últimos N minutos, seguirá subiendo.\"*\n",
    "\n",
    "**Resultado:**  \n",
    "Los IC obtenidos fueron negativos → no hay continuación. Por tanto, se reformuló la hipótesis como:\n",
    "\n",
    "> *“Cuando el precio ha subido rápidamente en los últimos N minutos, es probable que revierta.”*\n",
    "\n",
    "Se evaluó el **momentum inverso** (`-momentum_N`) como alpha factor."
   ]
  },
  {
   "cell_type": "code",
   "execution_count": 53,
   "id": "72298323",
   "metadata": {},
   "outputs": [
    {
     "name": "stdout",
     "output_type": "stream",
     "text": [
      "Mean IC (inverted momentum 5 min):  0.0236\n",
      "Mean IC (inverted momentum 15 min): 0.0501\n",
      "Mean IC (inverted momentum 30 min): 0.0963\n"
     ]
    }
   ],
   "source": [
    "import numpy as np\n",
    "import pandas as pd\n",
    "\n",
    "# Suponiendo que ya tenés tu DataFrame `mnq_intraday` con columnas 'close' y 'date'\n",
    "\n",
    "# 2. Calcular momentum logarítmico y luego invertir el signo para testear reversión\n",
    "for N in [5, 15, 30]:\n",
    "    mnq_intraday[f'momentum_{N}'] = np.log(mnq_intraday['close']) - np.log(mnq_intraday['close'].shift(N))\n",
    "    mnq_intraday[f'inv_momentum_{N}'] = -mnq_intraday[f'momentum_{N}']\n",
    "\n",
    "# 3. Evaluar el IC por día entre el momentum invertido y los retornos futuros\n",
    "ic_inv_mom_5 = mnq_intraday.dropna().groupby('date').apply(\n",
    "    lambda x: x['inv_momentum_5'].corr(x['target_return_5'])\n",
    ")\n",
    "ic_inv_mom_15 = mnq_intraday.dropna().groupby('date').apply(\n",
    "    lambda x: x['inv_momentum_15'].corr(x['target_return_15'])\n",
    ")\n",
    "ic_inv_mom_30 = mnq_intraday.dropna().groupby('date').apply(\n",
    "    lambda x: x['inv_momentum_30'].corr(x['target_return_30'])\n",
    ")\n",
    "\n",
    "# 4. Calcular el IC promedio para cada ventana\n",
    "mean_ic_inv_mom_5 = ic_inv_mom_5.mean()\n",
    "mean_ic_inv_mom_15 = ic_inv_mom_15.mean()\n",
    "mean_ic_inv_mom_30 = ic_inv_mom_30.mean()\n",
    "\n",
    "# 5. Imprimir resultados\n",
    "print(f\"Mean IC (inverted momentum 5 min):  {mean_ic_inv_mom_5:.4f}\")\n",
    "print(f\"Mean IC (inverted momentum 15 min): {mean_ic_inv_mom_15:.4f}\")\n",
    "print(f\"Mean IC (inverted momentum 30 min): {mean_ic_inv_mom_30:.4f}\")"
   ]
  },
  {
   "cell_type": "markdown",
   "id": "1af1304a",
   "metadata": {},
   "source": [
    "#### ✅ Conclusiones"
   ]
  },
  {
   "cell_type": "markdown",
   "id": "505aed71",
   "metadata": {},
   "source": [
    "1. **IC positivo en todas las ventanas**  \n",
    "   Esto **confirma que el mercado tiende a revertir** luego de movimientos recientes.\n",
    "\n",
    "2. **Poder predictivo moderado en 30 minutos**  \n",
    "   El IC de **+0.0963** se acerca al umbral típico de +0.1 considerado **útil** en trading cuantitativo.\n",
    "\n",
    "3. **La reformulación fue una mejora clara**  \n",
    "   El momentum original tenía IC negativo; su versión invertida mejora significativamente la señal."
   ]
  },
  {
   "cell_type": "markdown",
   "id": "5af598cf",
   "metadata": {},
   "source": [
    "#### 🧠 Siguientes pasos sugeridos\n"
   ]
  },
  {
   "cell_type": "markdown",
   "id": "ba6f68f4",
   "metadata": {},
   "source": [
    "- ✅ Usar `-momentum_30` como **alpha factor base** para modelos contrarian.\n",
    "- 🔍 Explorar condiciones de refuerzo:\n",
    "  - ¿Funciona mejor con volumen alto o bajo?\n",
    "  - ¿Qué pasa si el RSI también está por encima de 80?\n",
    "- 🤖 Incorporarlo a un modelo multivariado junto con otros factores validados.\n"
   ]
  },
  {
   "cell_type": "markdown",
   "id": "cd856e25",
   "metadata": {},
   "source": [
    "###  4.2. Reformulación de la Hipótesis 2 – Reversión a la Media (Mean Reversion)"
   ]
  },
  {
   "cell_type": "markdown",
   "id": "a3e26f5e",
   "metadata": {},
   "source": []
  }
 ],
 "metadata": {
  "kernelspec": {
   "display_name": "trader_IA",
   "language": "python",
   "name": "python3"
  },
  "language_info": {
   "codemirror_mode": {
    "name": "ipython",
    "version": 3
   },
   "file_extension": ".py",
   "mimetype": "text/x-python",
   "name": "python",
   "nbconvert_exporter": "python",
   "pygments_lexer": "ipython3",
   "version": "3.10.13"
  }
 },
 "nbformat": 4,
 "nbformat_minor": 5
}
