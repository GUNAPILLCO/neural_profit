{
  "cells": [
    {
      "cell_type": "markdown",
      "metadata": {
        "id": "view-in-github",
        "colab_type": "text"
      },
      "source": [
        "<a href=\"https://colab.research.google.com/github/GUNAPILLCO/neural_profit/blob/main/2_obtencion_preparacion_exploracion_datos/2_3_indicadores_tecnicos_close.ipynb\" target=\"_parent\"><img src=\"https://colab.research.google.com/assets/colab-badge.svg\" alt=\"Open In Colab\"/></a>"
      ]
    },
    {
      "cell_type": "markdown",
      "id": "8fa4bfae",
      "metadata": {
        "id": "8fa4bfae"
      },
      "source": [
        "# 2_3_Análisis de indicadores técnicos\n",
        "\n",
        "\n"
      ]
    },
    {
      "cell_type": "markdown",
      "source": [
        "## 0. Clonado de repositorio, importación de librerías y carga del dataset"
      ],
      "metadata": {
        "id": "g-yENmUVDKcW"
      },
      "id": "g-yENmUVDKcW"
    },
    {
      "cell_type": "markdown",
      "source": [
        "### Clonado de repositorio e importación de librerías"
      ],
      "metadata": {
        "id": "yY4p1bVdDKVz"
      },
      "id": "yY4p1bVdDKVz"
    },
    {
      "cell_type": "code",
      "source": [
        "#Clonamos el repo\n",
        "#LINK DE REPOSITORIO: https://github.com/GUNAPILLCO/neural_profit\n",
        "\n",
        "!git clone https://github.com/GUNAPILLCO/neural_profit.git"
      ],
      "metadata": {
        "colab": {
          "base_uri": "https://localhost:8080/"
        },
        "id": "hhwIs1EADW0X",
        "outputId": "f8040439-17e4-41b3-bf62-a3c8c812850a"
      },
      "id": "hhwIs1EADW0X",
      "execution_count": null,
      "outputs": [
        {
          "output_type": "stream",
          "name": "stdout",
          "text": [
            "Cloning into 'neural_profit'...\n",
            "remote: Enumerating objects: 190, done.\u001b[K\n",
            "remote: Counting objects: 100% (101/101), done.\u001b[K\n",
            "remote: Compressing objects: 100% (84/84), done.\u001b[K\n",
            "remote: Total 190 (delta 67), reused 29 (delta 17), pack-reused 89 (from 1)\u001b[K\n",
            "Receiving objects: 100% (190/190), 108.60 MiB | 11.96 MiB/s, done.\n",
            "Resolving deltas: 100% (100/100), done.\n",
            "Updating files: 100% (41/41), done.\n"
          ]
        }
      ]
    },
    {
      "cell_type": "code",
      "source": [
        "import sys\n",
        "\n",
        "#Instalación de librería pandas_market_calendars\n",
        "#!{sys.executable} -m pip install -q pandas_market_calendars\n",
        "#print(\"Librería instalada: pandas_market_calendars\")\n",
        "\n",
        "!{sys.executable} -m pip install -q ta\n",
        "print(\"Librería instalada: technical-analysis\")\n",
        "\n",
        "# Utilidades generales\n",
        "from datetime import datetime, timedelta\n",
        "import os\n",
        "import glob\n",
        "import requests\n",
        "import warnings\n",
        "warnings.filterwarnings('ignore')\n",
        "\n",
        "# Manejo y procesamiento de datos\n",
        "import ta\n",
        "import pandas as pd\n",
        "import numpy as np\n",
        "from tabulate import tabulate\n",
        "import matplotlib.pyplot as plt\n",
        "# Calendario de mercados\n",
        "#import pandas_market_calendars as mcal\n",
        "\n",
        "from ta.momentum import StochasticOscillator, ROCIndicator\n",
        "from ta.volatility import BollingerBands, AverageTrueRange\n",
        "\n",
        "from scipy.stats import spearmanr\n"
      ],
      "metadata": {
        "colab": {
          "base_uri": "https://localhost:8080/"
        },
        "id": "3UxVgk7nDZZ7",
        "outputId": "80a185c4-c94d-4363-907b-91bbbb72d445"
      },
      "id": "3UxVgk7nDZZ7",
      "execution_count": null,
      "outputs": [
        {
          "output_type": "stream",
          "name": "stdout",
          "text": [
            "  Preparing metadata (setup.py) ... \u001b[?25l\u001b[?25hdone\n",
            "  Building wheel for ta (setup.py) ... \u001b[?25l\u001b[?25hdone\n",
            "Librería instalada: technical-analysis\n"
          ]
        }
      ]
    },
    {
      "cell_type": "markdown",
      "id": "20cf6ae7",
      "metadata": {
        "id": "20cf6ae7"
      },
      "source": [
        "### Carga del dataset mnq_intraday_data"
      ]
    },
    {
      "cell_type": "code",
      "source": [
        "def load_df():\n",
        "    \"\"\"\n",
        "    Función para cargar un archivo Parquet desde el repositorio clonado\n",
        "    \"\"\"\n",
        "    # Definir la URL del archivo Parquet en GitHub\n",
        "    df_path = '/content/neural_profit/2_obtencion_preparacion_exploracion_datos/mnq_intraday_data.parquet'\n",
        "\n",
        "    # Leer el archivo Parquet y cargarlo en un DataFrame\n",
        "    df = pd.read_parquet(df_path)\n",
        "\n",
        "    # Asegurar que el índice esté en formato datetime\n",
        "    df.index = pd.to_datetime(df.index)\n",
        "\n",
        "    # Crear una nueva columna 'date' con la fecha extraída del índice\n",
        "    df['date'] = df.index.date\n",
        "\n",
        "    # Reordenar columnas: 'date', 'time_str', y luego el resto\n",
        "    cols = ['date'] + [col for col in df.columns if col not in ['date']]\n",
        "\n",
        "    df = df[cols]\n",
        "\n",
        "    return df"
      ],
      "metadata": {
        "id": "fkc6BQhvDhcf"
      },
      "id": "fkc6BQhvDhcf",
      "execution_count": null,
      "outputs": []
    },
    {
      "cell_type": "code",
      "source": [
        "mnq_intraday = load_df()"
      ],
      "metadata": {
        "id": "BfmS-r1KDjOv"
      },
      "id": "BfmS-r1KDjOv",
      "execution_count": null,
      "outputs": []
    },
    {
      "cell_type": "markdown",
      "source": [
        "## 1. Definición de Target"
      ],
      "metadata": {
        "id": "0A9ePVLAdj3_"
      },
      "id": "0A9ePVLAdj3_"
    },
    {
      "cell_type": "markdown",
      "source": [
        "Se utiliza el retorno futuro a 30 minutos (target_return_30) como variable objetivo del modelo porque, tras evaluar múltiples hipótesis de predicción, fue el horizonte temporal con mayor IC medio para los indicadores técnicos seleccionados.\n",
        "\n",
        "Por lo tanto, usaremos los indicadores técnicos para analizar el comportamiento de dicha variable objetivo.\n",
        "\n"
      ],
      "metadata": {
        "id": "-UuIKkuwPfaS"
      },
      "id": "-UuIKkuwPfaS"
    },
    {
      "cell_type": "code",
      "source": [
        "def add_targets (df):\n",
        "  df['target_return_30'] = df.groupby('date')['close'].transform(lambda x: np.log(x.shift(-30)) - np.log(x))\n",
        "  return df"
      ],
      "metadata": {
        "id": "XbAedYaOFth1"
      },
      "id": "XbAedYaOFth1",
      "execution_count": null,
      "outputs": []
    },
    {
      "cell_type": "code",
      "source": [
        "mnq_intraday = add_targets(mnq_intraday)"
      ],
      "metadata": {
        "id": "kRC_tGhrKG4r"
      },
      "id": "kRC_tGhrKG4r",
      "execution_count": null,
      "outputs": []
    },
    {
      "cell_type": "code",
      "source": [
        "mnq_intraday"
      ],
      "metadata": {
        "id": "gqaczQ87VAOB",
        "colab": {
          "base_uri": "https://localhost:8080/"
        },
        "outputId": "86240e4e-afb5-4fb9-a960-fcc5475eacce"
      },
      "id": "gqaczQ87VAOB",
      "execution_count": null,
      "outputs": [
        {
          "output_type": "execute_result",
          "data": {
            "text/plain": [
              "                                 date      open      high       low     close  \\\n",
              "datetime                                                                        \n",
              "2019-12-23 08:00:00-05:00  2019-12-23   8734.00   8734.25   8733.75   8733.75   \n",
              "2019-12-23 08:01:00-05:00  2019-12-23   8734.00   8734.25   8733.75   8734.00   \n",
              "2019-12-23 08:02:00-05:00  2019-12-23   8734.00   8734.00   8733.25   8733.25   \n",
              "2019-12-23 08:03:00-05:00  2019-12-23   8734.25   8734.50   8734.00   8734.00   \n",
              "2019-12-23 08:04:00-05:00  2019-12-23   8734.00   8734.00   8733.50   8733.75   \n",
              "...                               ...       ...       ...       ...       ...   \n",
              "2025-06-13 15:56:00-04:00  2025-06-13  21624.50  21635.00  21613.50  21617.50   \n",
              "2025-06-13 15:57:00-04:00  2025-06-13  21616.50  21635.25  21615.75  21623.75   \n",
              "2025-06-13 15:58:00-04:00  2025-06-13  21623.25  21632.75  21616.50  21621.75   \n",
              "2025-06-13 15:59:00-04:00  2025-06-13  21622.00  21632.25  21618.00  21628.00   \n",
              "2025-06-13 16:00:00-04:00  2025-06-13  21627.75  21656.25  21622.50  21651.75   \n",
              "\n",
              "                           volume  target_return_30  \n",
              "datetime                                             \n",
              "2019-12-23 08:00:00-05:00      31          0.000372  \n",
              "2019-12-23 08:01:00-05:00      16          0.000286  \n",
              "2019-12-23 08:02:00-05:00      23          0.000315  \n",
              "2019-12-23 08:03:00-05:00      23          0.000315  \n",
              "2019-12-23 08:04:00-05:00      12          0.000458  \n",
              "...                           ...               ...  \n",
              "2025-06-13 15:56:00-04:00    3251               NaN  \n",
              "2025-06-13 15:57:00-04:00    2201               NaN  \n",
              "2025-06-13 15:58:00-04:00    1859               NaN  \n",
              "2025-06-13 15:59:00-04:00    2695               NaN  \n",
              "2025-06-13 16:00:00-04:00    6507               NaN  \n",
              "\n",
              "[630591 rows x 7 columns]"
            ],
            "text/html": [
              "\n",
              "  <div id=\"df-bf8ec6d2-bb84-4f74-ba59-8c10df97838c\" class=\"colab-df-container\">\n",
              "    <div>\n",
              "<style scoped>\n",
              "    .dataframe tbody tr th:only-of-type {\n",
              "        vertical-align: middle;\n",
              "    }\n",
              "\n",
              "    .dataframe tbody tr th {\n",
              "        vertical-align: top;\n",
              "    }\n",
              "\n",
              "    .dataframe thead th {\n",
              "        text-align: right;\n",
              "    }\n",
              "</style>\n",
              "<table border=\"1\" class=\"dataframe\">\n",
              "  <thead>\n",
              "    <tr style=\"text-align: right;\">\n",
              "      <th></th>\n",
              "      <th>date</th>\n",
              "      <th>open</th>\n",
              "      <th>high</th>\n",
              "      <th>low</th>\n",
              "      <th>close</th>\n",
              "      <th>volume</th>\n",
              "      <th>target_return_30</th>\n",
              "    </tr>\n",
              "    <tr>\n",
              "      <th>datetime</th>\n",
              "      <th></th>\n",
              "      <th></th>\n",
              "      <th></th>\n",
              "      <th></th>\n",
              "      <th></th>\n",
              "      <th></th>\n",
              "      <th></th>\n",
              "    </tr>\n",
              "  </thead>\n",
              "  <tbody>\n",
              "    <tr>\n",
              "      <th>2019-12-23 08:00:00-05:00</th>\n",
              "      <td>2019-12-23</td>\n",
              "      <td>8734.00</td>\n",
              "      <td>8734.25</td>\n",
              "      <td>8733.75</td>\n",
              "      <td>8733.75</td>\n",
              "      <td>31</td>\n",
              "      <td>0.000372</td>\n",
              "    </tr>\n",
              "    <tr>\n",
              "      <th>2019-12-23 08:01:00-05:00</th>\n",
              "      <td>2019-12-23</td>\n",
              "      <td>8734.00</td>\n",
              "      <td>8734.25</td>\n",
              "      <td>8733.75</td>\n",
              "      <td>8734.00</td>\n",
              "      <td>16</td>\n",
              "      <td>0.000286</td>\n",
              "    </tr>\n",
              "    <tr>\n",
              "      <th>2019-12-23 08:02:00-05:00</th>\n",
              "      <td>2019-12-23</td>\n",
              "      <td>8734.00</td>\n",
              "      <td>8734.00</td>\n",
              "      <td>8733.25</td>\n",
              "      <td>8733.25</td>\n",
              "      <td>23</td>\n",
              "      <td>0.000315</td>\n",
              "    </tr>\n",
              "    <tr>\n",
              "      <th>2019-12-23 08:03:00-05:00</th>\n",
              "      <td>2019-12-23</td>\n",
              "      <td>8734.25</td>\n",
              "      <td>8734.50</td>\n",
              "      <td>8734.00</td>\n",
              "      <td>8734.00</td>\n",
              "      <td>23</td>\n",
              "      <td>0.000315</td>\n",
              "    </tr>\n",
              "    <tr>\n",
              "      <th>2019-12-23 08:04:00-05:00</th>\n",
              "      <td>2019-12-23</td>\n",
              "      <td>8734.00</td>\n",
              "      <td>8734.00</td>\n",
              "      <td>8733.50</td>\n",
              "      <td>8733.75</td>\n",
              "      <td>12</td>\n",
              "      <td>0.000458</td>\n",
              "    </tr>\n",
              "    <tr>\n",
              "      <th>...</th>\n",
              "      <td>...</td>\n",
              "      <td>...</td>\n",
              "      <td>...</td>\n",
              "      <td>...</td>\n",
              "      <td>...</td>\n",
              "      <td>...</td>\n",
              "      <td>...</td>\n",
              "    </tr>\n",
              "    <tr>\n",
              "      <th>2025-06-13 15:56:00-04:00</th>\n",
              "      <td>2025-06-13</td>\n",
              "      <td>21624.50</td>\n",
              "      <td>21635.00</td>\n",
              "      <td>21613.50</td>\n",
              "      <td>21617.50</td>\n",
              "      <td>3251</td>\n",
              "      <td>NaN</td>\n",
              "    </tr>\n",
              "    <tr>\n",
              "      <th>2025-06-13 15:57:00-04:00</th>\n",
              "      <td>2025-06-13</td>\n",
              "      <td>21616.50</td>\n",
              "      <td>21635.25</td>\n",
              "      <td>21615.75</td>\n",
              "      <td>21623.75</td>\n",
              "      <td>2201</td>\n",
              "      <td>NaN</td>\n",
              "    </tr>\n",
              "    <tr>\n",
              "      <th>2025-06-13 15:58:00-04:00</th>\n",
              "      <td>2025-06-13</td>\n",
              "      <td>21623.25</td>\n",
              "      <td>21632.75</td>\n",
              "      <td>21616.50</td>\n",
              "      <td>21621.75</td>\n",
              "      <td>1859</td>\n",
              "      <td>NaN</td>\n",
              "    </tr>\n",
              "    <tr>\n",
              "      <th>2025-06-13 15:59:00-04:00</th>\n",
              "      <td>2025-06-13</td>\n",
              "      <td>21622.00</td>\n",
              "      <td>21632.25</td>\n",
              "      <td>21618.00</td>\n",
              "      <td>21628.00</td>\n",
              "      <td>2695</td>\n",
              "      <td>NaN</td>\n",
              "    </tr>\n",
              "    <tr>\n",
              "      <th>2025-06-13 16:00:00-04:00</th>\n",
              "      <td>2025-06-13</td>\n",
              "      <td>21627.75</td>\n",
              "      <td>21656.25</td>\n",
              "      <td>21622.50</td>\n",
              "      <td>21651.75</td>\n",
              "      <td>6507</td>\n",
              "      <td>NaN</td>\n",
              "    </tr>\n",
              "  </tbody>\n",
              "</table>\n",
              "<p>630591 rows × 7 columns</p>\n",
              "</div>\n",
              "    <div class=\"colab-df-buttons\">\n",
              "\n",
              "  <div class=\"colab-df-container\">\n",
              "    <button class=\"colab-df-convert\" onclick=\"convertToInteractive('df-bf8ec6d2-bb84-4f74-ba59-8c10df97838c')\"\n",
              "            title=\"Convert this dataframe to an interactive table.\"\n",
              "            style=\"display:none;\">\n",
              "\n",
              "  <svg xmlns=\"http://www.w3.org/2000/svg\" height=\"24px\" viewBox=\"0 -960 960 960\">\n",
              "    <path d=\"M120-120v-720h720v720H120Zm60-500h600v-160H180v160Zm220 220h160v-160H400v160Zm0 220h160v-160H400v160ZM180-400h160v-160H180v160Zm440 0h160v-160H620v160ZM180-180h160v-160H180v160Zm440 0h160v-160H620v160Z\"/>\n",
              "  </svg>\n",
              "    </button>\n",
              "\n",
              "  <style>\n",
              "    .colab-df-container {\n",
              "      display:flex;\n",
              "      gap: 12px;\n",
              "    }\n",
              "\n",
              "    .colab-df-convert {\n",
              "      background-color: #E8F0FE;\n",
              "      border: none;\n",
              "      border-radius: 50%;\n",
              "      cursor: pointer;\n",
              "      display: none;\n",
              "      fill: #1967D2;\n",
              "      height: 32px;\n",
              "      padding: 0 0 0 0;\n",
              "      width: 32px;\n",
              "    }\n",
              "\n",
              "    .colab-df-convert:hover {\n",
              "      background-color: #E2EBFA;\n",
              "      box-shadow: 0px 1px 2px rgba(60, 64, 67, 0.3), 0px 1px 3px 1px rgba(60, 64, 67, 0.15);\n",
              "      fill: #174EA6;\n",
              "    }\n",
              "\n",
              "    .colab-df-buttons div {\n",
              "      margin-bottom: 4px;\n",
              "    }\n",
              "\n",
              "    [theme=dark] .colab-df-convert {\n",
              "      background-color: #3B4455;\n",
              "      fill: #D2E3FC;\n",
              "    }\n",
              "\n",
              "    [theme=dark] .colab-df-convert:hover {\n",
              "      background-color: #434B5C;\n",
              "      box-shadow: 0px 1px 3px 1px rgba(0, 0, 0, 0.15);\n",
              "      filter: drop-shadow(0px 1px 2px rgba(0, 0, 0, 0.3));\n",
              "      fill: #FFFFFF;\n",
              "    }\n",
              "  </style>\n",
              "\n",
              "    <script>\n",
              "      const buttonEl =\n",
              "        document.querySelector('#df-bf8ec6d2-bb84-4f74-ba59-8c10df97838c button.colab-df-convert');\n",
              "      buttonEl.style.display =\n",
              "        google.colab.kernel.accessAllowed ? 'block' : 'none';\n",
              "\n",
              "      async function convertToInteractive(key) {\n",
              "        const element = document.querySelector('#df-bf8ec6d2-bb84-4f74-ba59-8c10df97838c');\n",
              "        const dataTable =\n",
              "          await google.colab.kernel.invokeFunction('convertToInteractive',\n",
              "                                                    [key], {});\n",
              "        if (!dataTable) return;\n",
              "\n",
              "        const docLinkHtml = 'Like what you see? Visit the ' +\n",
              "          '<a target=\"_blank\" href=https://colab.research.google.com/notebooks/data_table.ipynb>data table notebook</a>'\n",
              "          + ' to learn more about interactive tables.';\n",
              "        element.innerHTML = '';\n",
              "        dataTable['output_type'] = 'display_data';\n",
              "        await google.colab.output.renderOutput(dataTable, element);\n",
              "        const docLink = document.createElement('div');\n",
              "        docLink.innerHTML = docLinkHtml;\n",
              "        element.appendChild(docLink);\n",
              "      }\n",
              "    </script>\n",
              "  </div>\n",
              "\n",
              "\n",
              "    <div id=\"df-a25fa31d-b85e-4075-9259-7254f0f328c7\">\n",
              "      <button class=\"colab-df-quickchart\" onclick=\"quickchart('df-a25fa31d-b85e-4075-9259-7254f0f328c7')\"\n",
              "                title=\"Suggest charts\"\n",
              "                style=\"display:none;\">\n",
              "\n",
              "<svg xmlns=\"http://www.w3.org/2000/svg\" height=\"24px\"viewBox=\"0 0 24 24\"\n",
              "     width=\"24px\">\n",
              "    <g>\n",
              "        <path d=\"M19 3H5c-1.1 0-2 .9-2 2v14c0 1.1.9 2 2 2h14c1.1 0 2-.9 2-2V5c0-1.1-.9-2-2-2zM9 17H7v-7h2v7zm4 0h-2V7h2v10zm4 0h-2v-4h2v4z\"/>\n",
              "    </g>\n",
              "</svg>\n",
              "      </button>\n",
              "\n",
              "<style>\n",
              "  .colab-df-quickchart {\n",
              "      --bg-color: #E8F0FE;\n",
              "      --fill-color: #1967D2;\n",
              "      --hover-bg-color: #E2EBFA;\n",
              "      --hover-fill-color: #174EA6;\n",
              "      --disabled-fill-color: #AAA;\n",
              "      --disabled-bg-color: #DDD;\n",
              "  }\n",
              "\n",
              "  [theme=dark] .colab-df-quickchart {\n",
              "      --bg-color: #3B4455;\n",
              "      --fill-color: #D2E3FC;\n",
              "      --hover-bg-color: #434B5C;\n",
              "      --hover-fill-color: #FFFFFF;\n",
              "      --disabled-bg-color: #3B4455;\n",
              "      --disabled-fill-color: #666;\n",
              "  }\n",
              "\n",
              "  .colab-df-quickchart {\n",
              "    background-color: var(--bg-color);\n",
              "    border: none;\n",
              "    border-radius: 50%;\n",
              "    cursor: pointer;\n",
              "    display: none;\n",
              "    fill: var(--fill-color);\n",
              "    height: 32px;\n",
              "    padding: 0;\n",
              "    width: 32px;\n",
              "  }\n",
              "\n",
              "  .colab-df-quickchart:hover {\n",
              "    background-color: var(--hover-bg-color);\n",
              "    box-shadow: 0 1px 2px rgba(60, 64, 67, 0.3), 0 1px 3px 1px rgba(60, 64, 67, 0.15);\n",
              "    fill: var(--button-hover-fill-color);\n",
              "  }\n",
              "\n",
              "  .colab-df-quickchart-complete:disabled,\n",
              "  .colab-df-quickchart-complete:disabled:hover {\n",
              "    background-color: var(--disabled-bg-color);\n",
              "    fill: var(--disabled-fill-color);\n",
              "    box-shadow: none;\n",
              "  }\n",
              "\n",
              "  .colab-df-spinner {\n",
              "    border: 2px solid var(--fill-color);\n",
              "    border-color: transparent;\n",
              "    border-bottom-color: var(--fill-color);\n",
              "    animation:\n",
              "      spin 1s steps(1) infinite;\n",
              "  }\n",
              "\n",
              "  @keyframes spin {\n",
              "    0% {\n",
              "      border-color: transparent;\n",
              "      border-bottom-color: var(--fill-color);\n",
              "      border-left-color: var(--fill-color);\n",
              "    }\n",
              "    20% {\n",
              "      border-color: transparent;\n",
              "      border-left-color: var(--fill-color);\n",
              "      border-top-color: var(--fill-color);\n",
              "    }\n",
              "    30% {\n",
              "      border-color: transparent;\n",
              "      border-left-color: var(--fill-color);\n",
              "      border-top-color: var(--fill-color);\n",
              "      border-right-color: var(--fill-color);\n",
              "    }\n",
              "    40% {\n",
              "      border-color: transparent;\n",
              "      border-right-color: var(--fill-color);\n",
              "      border-top-color: var(--fill-color);\n",
              "    }\n",
              "    60% {\n",
              "      border-color: transparent;\n",
              "      border-right-color: var(--fill-color);\n",
              "    }\n",
              "    80% {\n",
              "      border-color: transparent;\n",
              "      border-right-color: var(--fill-color);\n",
              "      border-bottom-color: var(--fill-color);\n",
              "    }\n",
              "    90% {\n",
              "      border-color: transparent;\n",
              "      border-bottom-color: var(--fill-color);\n",
              "    }\n",
              "  }\n",
              "</style>\n",
              "\n",
              "      <script>\n",
              "        async function quickchart(key) {\n",
              "          const quickchartButtonEl =\n",
              "            document.querySelector('#' + key + ' button');\n",
              "          quickchartButtonEl.disabled = true;  // To prevent multiple clicks.\n",
              "          quickchartButtonEl.classList.add('colab-df-spinner');\n",
              "          try {\n",
              "            const charts = await google.colab.kernel.invokeFunction(\n",
              "                'suggestCharts', [key], {});\n",
              "          } catch (error) {\n",
              "            console.error('Error during call to suggestCharts:', error);\n",
              "          }\n",
              "          quickchartButtonEl.classList.remove('colab-df-spinner');\n",
              "          quickchartButtonEl.classList.add('colab-df-quickchart-complete');\n",
              "        }\n",
              "        (() => {\n",
              "          let quickchartButtonEl =\n",
              "            document.querySelector('#df-a25fa31d-b85e-4075-9259-7254f0f328c7 button');\n",
              "          quickchartButtonEl.style.display =\n",
              "            google.colab.kernel.accessAllowed ? 'block' : 'none';\n",
              "        })();\n",
              "      </script>\n",
              "    </div>\n",
              "\n",
              "  <div id=\"id_c3b295f4-d76f-4d32-a6f0-8ae8601b274d\">\n",
              "    <style>\n",
              "      .colab-df-generate {\n",
              "        background-color: #E8F0FE;\n",
              "        border: none;\n",
              "        border-radius: 50%;\n",
              "        cursor: pointer;\n",
              "        display: none;\n",
              "        fill: #1967D2;\n",
              "        height: 32px;\n",
              "        padding: 0 0 0 0;\n",
              "        width: 32px;\n",
              "      }\n",
              "\n",
              "      .colab-df-generate:hover {\n",
              "        background-color: #E2EBFA;\n",
              "        box-shadow: 0px 1px 2px rgba(60, 64, 67, 0.3), 0px 1px 3px 1px rgba(60, 64, 67, 0.15);\n",
              "        fill: #174EA6;\n",
              "      }\n",
              "\n",
              "      [theme=dark] .colab-df-generate {\n",
              "        background-color: #3B4455;\n",
              "        fill: #D2E3FC;\n",
              "      }\n",
              "\n",
              "      [theme=dark] .colab-df-generate:hover {\n",
              "        background-color: #434B5C;\n",
              "        box-shadow: 0px 1px 3px 1px rgba(0, 0, 0, 0.15);\n",
              "        filter: drop-shadow(0px 1px 2px rgba(0, 0, 0, 0.3));\n",
              "        fill: #FFFFFF;\n",
              "      }\n",
              "    </style>\n",
              "    <button class=\"colab-df-generate\" onclick=\"generateWithVariable('mnq_intraday')\"\n",
              "            title=\"Generate code using this dataframe.\"\n",
              "            style=\"display:none;\">\n",
              "\n",
              "  <svg xmlns=\"http://www.w3.org/2000/svg\" height=\"24px\"viewBox=\"0 0 24 24\"\n",
              "       width=\"24px\">\n",
              "    <path d=\"M7,19H8.4L18.45,9,17,7.55,7,17.6ZM5,21V16.75L18.45,3.32a2,2,0,0,1,2.83,0l1.4,1.43a1.91,1.91,0,0,1,.58,1.4,1.91,1.91,0,0,1-.58,1.4L9.25,21ZM18.45,9,17,7.55Zm-12,3A5.31,5.31,0,0,0,4.9,8.1,5.31,5.31,0,0,0,1,6.5,5.31,5.31,0,0,0,4.9,4.9,5.31,5.31,0,0,0,6.5,1,5.31,5.31,0,0,0,8.1,4.9,5.31,5.31,0,0,0,12,6.5,5.46,5.46,0,0,0,6.5,12Z\"/>\n",
              "  </svg>\n",
              "    </button>\n",
              "    <script>\n",
              "      (() => {\n",
              "      const buttonEl =\n",
              "        document.querySelector('#id_c3b295f4-d76f-4d32-a6f0-8ae8601b274d button.colab-df-generate');\n",
              "      buttonEl.style.display =\n",
              "        google.colab.kernel.accessAllowed ? 'block' : 'none';\n",
              "\n",
              "      buttonEl.onclick = () => {\n",
              "        google.colab.notebook.generateWithVariable('mnq_intraday');\n",
              "      }\n",
              "      })();\n",
              "    </script>\n",
              "  </div>\n",
              "\n",
              "    </div>\n",
              "  </div>\n"
            ],
            "application/vnd.google.colaboratory.intrinsic+json": {
              "type": "dataframe",
              "variable_name": "mnq_intraday"
            }
          },
          "metadata": {},
          "execution_count": 7
        }
      ]
    },
    {
      "cell_type": "markdown",
      "id": "f23cdad4",
      "metadata": {
        "id": "f23cdad4"
      },
      "source": [
        "## 2. Indicadores Técnicos"
      ]
    },
    {
      "cell_type": "markdown",
      "source": [
        "Los indicadores técnicos calculados en cada jornada tienen como objetivo capturar dinámicas intradía relevantes del precio y el volumen, tales como momentum, sobrecompra/sobreventa, presión institucional o posibles reversiones. Cada uno aporta información complementaria sobre el comportamiento del mercado a corto plazo. En particular:"
      ],
      "metadata": {
        "id": "NHhukLAEfD-m"
      },
      "id": "NHhukLAEfD-m"
    },
    {
      "cell_type": "markdown",
      "source": [
        "### 2.1. **RSI (Relative Strength Index)**"
      ],
      "metadata": {
        "id": "Q5ZT49pvfIln"
      },
      "id": "Q5ZT49pvfIln"
    },
    {
      "cell_type": "markdown",
      "source": [
        "Mide la fuerza relativa del precio en los últimos períodos (3, 5, 7, 14), oscilando entre 0 y 100.\n",
        "\n",
        "  - Valores altos indican posibles condiciones de sobrecompra, mientras que valores bajos sugieren sobreventa.\n",
        "  \n",
        "  - Calculado sobre los precios de cierre intradía, el RSI es útil para identificar puntos de reversión potenciales en el corto plazo."
      ],
      "metadata": {
        "id": "67GSv9pNfONg"
      },
      "id": "67GSv9pNfONg"
    },
    {
      "cell_type": "code",
      "source": [
        "def calcular_rsi(df=mnq_intraday, target='target_return_30' ):\n",
        "  rsi_columns = ['rsi_14', 'rsi_7', 'rsi_5', 'rsi_3']\n",
        "\n",
        "  def aplicar_por_dia (grupo):\n",
        "        grupo = grupo.copy()\n",
        "        grupo['rsi_14'] = ta.momentum.RSIIndicator(grupo[target], window=14).rsi()\n",
        "        grupo['rsi_7'] = ta.momentum.RSIIndicator(grupo[target], window=7).rsi()\n",
        "        grupo['rsi_5'] = ta.momentum.RSIIndicator(grupo[target], window=5).rsi()\n",
        "        grupo['rsi_3'] = ta.momentum.RSIIndicator(grupo[target], window=3).rsi()\n",
        "        return grupo\n",
        "\n",
        "  df = df.groupby('date', group_keys=False).apply(aplicar_por_dia)\n",
        "  return df, rsi_columns"
      ],
      "metadata": {
        "id": "0FPuBzWih3Gb"
      },
      "id": "0FPuBzWih3Gb",
      "execution_count": null,
      "outputs": []
    },
    {
      "cell_type": "markdown",
      "source": [
        "### 2.2. **Momentum**"
      ],
      "metadata": {
        "id": "cTJerBv7fpMA"
      },
      "id": "cTJerBv7fpMA"
    },
    {
      "cell_type": "markdown",
      "source": [
        "Mide la aceleración reciente del precio mediante la variación porcentual entre el precio actual y el de hace N minutos.\n",
        "\n",
        "  - Un valor positivo indica una subida reciente, lo que podría sugerir una continuación alcista.\n",
        "\n",
        "  - Un valor negativo señala presión bajista reciente, potencialmente anticipando una continuación a la baja."
      ],
      "metadata": {
        "id": "lf_GW7PCfyOe"
      },
      "id": "lf_GW7PCfyOe"
    },
    {
      "cell_type": "code",
      "source": [
        "def calcular_momentum(df=mnq_intraday, target='target_return_30' ):\n",
        "  momentum_columns = ['momentum_10', 'momentum_5','momentum_3']\n",
        "\n",
        "  def aplicar_por_dia (grupo):\n",
        "        grupo = grupo.copy()\n",
        "        grupo['momentum_10'] = grupo[target].pct_change(10)\n",
        "        grupo['momentum_5'] = grupo[target].pct_change(5)\n",
        "        grupo['momentum_3'] = grupo[target].pct_change(3)\n",
        "        return grupo\n",
        "\n",
        "  df = df.groupby('date', group_keys=False).apply(aplicar_por_dia)\n",
        "  return df, momentum_columns"
      ],
      "metadata": {
        "id": "Wj57w6aZkN3k"
      },
      "id": "Wj57w6aZkN3k",
      "execution_count": null,
      "outputs": []
    },
    {
      "cell_type": "markdown",
      "source": [
        "### 2.3. **Relación de volumen actual vs. su promedio reciente**"
      ],
      "metadata": {
        "id": "3TbJ6JpcgExg"
      },
      "id": "3TbJ6JpcgExg"
    },
    {
      "cell_type": "markdown",
      "source": [
        "Compara el volumen actual con su media móvil en distintas ventanas de tiempo: 15, 20 y 30 minutos.\n",
        "\n",
        "  - Un valor mayor a 1 indica un volumen superior al promedio de la ventana correspondiente, lo que puede reflejar interés creciente o actividad institucional.\n",
        "\n",
        "  - Un valor menor a 1 sugiere baja actividad o consolidación del precio.\n",
        "\n",
        "Esta métrica permite detectar aumentos de volumen (\"spikes\") sin depender del volumen en crudo, y las diferentes ventanas permiten capturar variaciones en la dinámica de corto plazo con distinta sensibilidad.\n"
      ],
      "metadata": {
        "id": "ReHLFnT3gwJJ"
      },
      "id": "ReHLFnT3gwJJ"
    },
    {
      "cell_type": "code",
      "source": [
        "def calcular_volumen_ratio(df=mnq_intraday, target='target_return_30'):\n",
        "  volume_ratio_columns = ['volume_ratio_15', 'volume_ratio_20', 'volume_ratio_30']\n",
        "\n",
        "  def aplicar_por_dia (grupo):\n",
        "        grupo = grupo.copy()\n",
        "        grupo['volume_ratio_15'] = grupo['volume'] / grupo['volume'].rolling(15).mean()\n",
        "        grupo['volume_ratio_20'] = grupo['volume'] / grupo['volume'].rolling(20).mean()\n",
        "        grupo['volume_ratio_30'] = grupo['volume'] / grupo['volume'].rolling(30).mean()\n",
        "        return grupo\n",
        "\n",
        "  df = df.groupby('date', group_keys=False).apply(aplicar_por_dia)\n",
        "\n",
        "  return df, volume_ratio_columns"
      ],
      "metadata": {
        "id": "LXjdwJN3jnpg"
      },
      "id": "LXjdwJN3jnpg",
      "execution_count": null,
      "outputs": []
    },
    {
      "cell_type": "markdown",
      "source": [
        "### 2.4. **MACD diferencial (señal de cruce)**"
      ],
      "metadata": {
        "id": "qrpRsrXCgGGq"
      },
      "id": "qrpRsrXCgGGq"
    },
    {
      "cell_type": "markdown",
      "source": [
        "Representa la diferencia entre la línea MACD y su línea de señal (una media exponencial de sí misma).\n",
        "\n",
        "  - Un valor positivo y creciente indica momentum alcista.\n",
        "\n",
        "  - Un valor negativo sugiere presión bajista.\n",
        "  \n",
        "Es ampliamente utilizado para detectar giros de tendencia y cambios en la dinámica del mercado.\n"
      ],
      "metadata": {
        "id": "qn4jRYEkg7Po"
      },
      "id": "qn4jRYEkg7Po"
    },
    {
      "cell_type": "code",
      "source": [
        "def calcular_macd(df=mnq_intraday, target='target_return_30'):\n",
        "    macd_columns = ['macd']\n",
        "\n",
        "    def aplicar_por_dia(grupo):\n",
        "        grupo = grupo.copy()\n",
        "        grupo['macd'] = ta.trend.MACD(grupo[target]).macd_diff()\n",
        "        return grupo\n",
        "\n",
        "    df = df.groupby('date', group_keys=False).apply(aplicar_por_dia)\n",
        "\n",
        "    return df, macd_columns"
      ],
      "metadata": {
        "id": "Jocjbdbvk4Vx"
      },
      "id": "Jocjbdbvk4Vx",
      "execution_count": null,
      "outputs": []
    },
    {
      "cell_type": "markdown",
      "source": [
        "### 2.5. **Distancia del precio actual a su EMA (15, 20 y 30 minutos)**"
      ],
      "metadata": {
        "id": "RF-_HxF8gHol"
      },
      "id": "RF-_HxF8gHol"
    },
    {
      "cell_type": "markdown",
      "source": [
        "Mide el desvío porcentual del precio respecto a su media exponencial en diferentes ventanas, y actúa como indicador de sobreextensión o retorno a la media.\n",
        "\n",
        "  - Si el precio está muy por encima de la EMA, puede anticipar una reversión bajista o una posible aceleración alcista.\n",
        "\n",
        "  - Si está por debajo, podría indicar agotamiento o presión vendedora.<br>\n",
        "\n",
        "Esta métrica se expresa como un porcentaje relativo, lo que facilita la comparación entre distintas ventanas temporales y condiciones de mercado.\n",
        "\n",
        "Usar varias ventanas (15, 20 y 30 minutos) permite capturar diferentes horizontes de reacción del precio frente a su media móvil.\n"
      ],
      "metadata": {
        "id": "1g08dqbIhBnv"
      },
      "id": "1g08dqbIhBnv"
    },
    {
      "cell_type": "code",
      "source": [
        "def calcular_ema(df=mnq_intraday, target='target_return_30'):\n",
        "    ema_columns = ['price_ema15', 'price_ema20', 'price_ema30']\n",
        "\n",
        "    def aplicar_por_dia(grupo):\n",
        "        grupo = grupo.copy()\n",
        "        grupo['price_ema15'] = grupo[target] / grupo[target].ewm(span=15).mean() - 1\n",
        "        grupo['price_ema20'] = grupo[target] / grupo[target].ewm(span=20).mean() - 1\n",
        "        grupo['price_ema30'] = grupo[target] / grupo[target].ewm(span=30).mean() - 1\n",
        "        return grupo\n",
        "\n",
        "    df = df.groupby('date', group_keys=False).apply(aplicar_por_dia)\n",
        "\n",
        "    return df, ema_columns"
      ],
      "metadata": {
        "id": "swjxDeTjlSK1"
      },
      "id": "swjxDeTjlSK1",
      "execution_count": null,
      "outputs": []
    },
    {
      "cell_type": "markdown",
      "source": [
        "### 2.6. **%K Estocástico**"
      ],
      "metadata": {
        "id": "VbhmPxj4gI1W"
      },
      "id": "VbhmPxj4gI1W"
    },
    {
      "cell_type": "markdown",
      "source": [
        "Mide la posición relativa del precio actual dentro del rango alto-bajo de los últimos n periodos (generalmente 14).\n",
        "\n",
        "  - Se utiliza para identificar condiciones extremas de sobrecompra o sobreventa.\n",
        "\n",
        "  - Un valor cercano a 100 indica que el precio está cerca del máximo reciente (potencial sobrecompra), mientras que un valor cercano a 0 indica proximidad al mínimo reciente (posible sobreventa).\n",
        "\n",
        "Es útil para detectar momentos en los que el precio puede estar excesivamente extendido y susceptible a una reversión.\n"
      ],
      "metadata": {
        "id": "Uc3IQlwBhHrj"
      },
      "id": "Uc3IQlwBhHrj"
    },
    {
      "cell_type": "code",
      "source": [
        "def calcular_stochastic(df=mnq_intraday, target='target_return_30'):\n",
        "    stoch_columns = ['stoch_k_14', 'stoch_k_20', 'stoch_k_30']\n",
        "\n",
        "    def aplicar_por_dia(grupo):\n",
        "        grupo = grupo.copy()\n",
        "\n",
        "        stoch_14 = StochasticOscillator(\n",
        "            high=grupo['high'], low=grupo['low'], close=grupo[target], window=14, smooth_window=3\n",
        "        )\n",
        "        grupo['stoch_k_14'] = stoch_14.stoch()\n",
        "\n",
        "        stoch_20 = StochasticOscillator(\n",
        "            high=grupo['high'], low=grupo['low'], close=grupo[target], window=20, smooth_window=3\n",
        "        )\n",
        "        grupo['stoch_k_20'] = stoch_20.stoch()\n",
        "\n",
        "        stoch_30 = StochasticOscillator(\n",
        "            high=grupo['high'], low=grupo['low'], close=grupo[target], window=30, smooth_window=3\n",
        "        )\n",
        "        grupo['stoch_k_30'] = stoch_30.stoch()\n",
        "\n",
        "        return grupo\n",
        "\n",
        "    df = df.groupby('date', group_keys=False).apply(aplicar_por_dia)\n",
        "\n",
        "    return df, stoch_columns\n"
      ],
      "metadata": {
        "id": "ogsaQigRl7NW"
      },
      "id": "ogsaQigRl7NW",
      "execution_count": null,
      "outputs": []
    },
    {
      "cell_type": "markdown",
      "source": [
        "### 2.7.**%B de Bollinger (Bollinger Band Percent)**"
      ],
      "metadata": {
        "id": "GHqCq3LAgJ5B"
      },
      "id": "GHqCq3LAgJ5B"
    },
    {
      "cell_type": "markdown",
      "source": [
        "Indica la posición del precio actual en relación con las bandas de Bollinger, que están construidas alrededor de una media móvil usando desviaciones estándar.\n",
        "\n",
        "  - Un valor de %B > 1 sugiere que el precio está por encima de la banda superior, lo que podría implicar exceso de optimismo o momentum fuerte.\n",
        "\n",
        "  - Un valor < 0 indica que está por debajo de la banda inferior, posible señal de pánico o sobreventa extrema.\n",
        "\n",
        "Este indicador es eficaz para identificar zonas de congestión, breakout o reversiones basadas en la volatilidad reciente.\n"
      ],
      "metadata": {
        "id": "KuiH9phmhSVG"
      },
      "id": "KuiH9phmhSVG"
    },
    {
      "cell_type": "code",
      "source": [
        "from ta.volatility import BollingerBands\n",
        "\n",
        "def calcular_bollinger(df=mnq_intraday, target='target_return_30'):\n",
        "    bollinger_columns = [\n",
        "        'bb_percent_15_15', 'bb_percent_20_15', 'bb_percent_30_15',\n",
        "        'bb_percent_15_20', 'bb_percent_20_20', 'bb_percent_30_20',\n",
        "        'bb_percent_15_25', 'bb_percent_20_25', 'bb_percent_30_25',\n",
        "    ]\n",
        "\n",
        "    def aplicar_por_dia(grupo):\n",
        "        grupo = grupo.copy()\n",
        "\n",
        "        # std: 1.5\n",
        "        grupo['bb_percent_15_15'] = BollingerBands(grupo[target], window=15, window_dev=1.5).bollinger_pband()\n",
        "        grupo['bb_percent_20_15'] = BollingerBands(grupo[target], window=20, window_dev=1.5).bollinger_pband()\n",
        "        grupo['bb_percent_30_15'] = BollingerBands(grupo[target], window=30, window_dev=1.5).bollinger_pband()\n",
        "\n",
        "        # std: 2\n",
        "        grupo['bb_percent_15_20'] = BollingerBands(grupo[target], window=15, window_dev=2).bollinger_pband()\n",
        "        grupo['bb_percent_20_20'] = BollingerBands(grupo[target], window=20, window_dev=2).bollinger_pband()\n",
        "        grupo['bb_percent_30_20'] = BollingerBands(grupo[target], window=30, window_dev=2).bollinger_pband()\n",
        "\n",
        "        # std: 2.5\n",
        "        grupo['bb_percent_15_25'] = BollingerBands(grupo[target], window=15, window_dev=2.5).bollinger_pband()\n",
        "        grupo['bb_percent_20_25'] = BollingerBands(grupo[target], window=20, window_dev=2.5).bollinger_pband()\n",
        "        grupo['bb_percent_30_25'] = BollingerBands(grupo[target], window=30, window_dev=2.5).bollinger_pband()\n",
        "\n",
        "        return grupo\n",
        "\n",
        "    df = df.groupby('date', group_keys=False).apply(aplicar_por_dia)\n",
        "\n",
        "    return df, bollinger_columns\n"
      ],
      "metadata": {
        "id": "i7VPAMY3nOmW"
      },
      "id": "i7VPAMY3nOmW",
      "execution_count": null,
      "outputs": []
    },
    {
      "cell_type": "markdown",
      "source": [
        "### 2.8. **ATR normalizado (Average True Range / precio)**"
      ],
      "metadata": {
        "id": "w8Ldu9QQgMZV"
      },
      "id": "w8Ldu9QQgMZV"
    },
    {
      "cell_type": "markdown",
      "source": [
        "Representa la volatilidad absoluta reciente ajustada al nivel del precio.\n",
        "\n",
        "  - El ATR mide el rango promedio de oscilación de un activo en los últimos n periodos, capturando tanto movimientos bruscos como gaps.\n",
        "\n",
        "  - Al normalizarlo dividiéndolo por el precio, se obtiene una medida relativa, comparable entre distintos niveles de mercado.\n",
        "\n",
        "Este indicador es útil para detectar momentos de alta o baja volatilidad intradía, que pueden influir en la confiabilidad de otras señales técnicas.\n"
      ],
      "metadata": {
        "id": "Kp39F2jlhnQX"
      },
      "id": "Kp39F2jlhnQX"
    },
    {
      "cell_type": "code",
      "source": [
        "def calcular_atr(df=mnq_intraday, target='target_return_30'):\n",
        "    atr_columns = ['atr_norm']\n",
        "\n",
        "    def aplicar_por_dia(grupo):\n",
        "        grupo = grupo.copy()\n",
        "        atr = AverageTrueRange(high=grupo['high'], low=grupo['low'], close=grupo[target], window=14)\n",
        "        grupo['atr'] = atr.average_true_range()\n",
        "        grupo['atr_norm'] = grupo['atr'] / grupo[target]\n",
        "        return grupo\n",
        "\n",
        "    df = df.groupby('date', group_keys=False).apply(aplicar_por_dia)\n",
        "\n",
        "    return df, atr_columns\n"
      ],
      "metadata": {
        "id": "zVXNBM_un9oG"
      },
      "id": "zVXNBM_un9oG",
      "execution_count": null,
      "outputs": []
    },
    {
      "cell_type": "markdown",
      "source": [
        "### 2.9. **ROC (Rate of Change)**"
      ],
      "metadata": {
        "id": "lRVxX2T4gnQV"
      },
      "id": "lRVxX2T4gnQV"
    },
    {
      "cell_type": "markdown",
      "source": [
        "Calcula la tasa de cambio porcentual del precio con respecto a su valor n minutos atrás.\n",
        "\n",
        "- Es un indicador de momentum que capta aceleraciones o desaceleraciones recientes del precio.\n",
        "\n",
        "- Valores positivos indican presión alcista; negativos, presión bajista.\n",
        "\n",
        "A diferencia del momentum tradicional, el ROC expresa el cambio de forma normalizada y en porcentaje, lo que facilita su interpretación comparativa entre distintos activos o marcos temporales.\n"
      ],
      "metadata": {
        "id": "FwykyYylhraS"
      },
      "id": "FwykyYylhraS"
    },
    {
      "cell_type": "code",
      "source": [
        "def calcular_roc(df=mnq_intraday, target='target_return_30'):\n",
        "    roc_columns = ['roc_5']\n",
        "\n",
        "    def aplicar_por_dia(grupo):\n",
        "        grupo = grupo.copy()\n",
        "        grupo['roc_5'] = ROCIndicator(close=grupo[target], window=5).roc()\n",
        "        return grupo\n",
        "\n",
        "    df = df.groupby('date', group_keys=False).apply(aplicar_por_dia)\n",
        "\n",
        "    return df, roc_columns"
      ],
      "metadata": {
        "id": "pCSh4gjLogxw"
      },
      "id": "pCSh4gjLogxw",
      "execution_count": null,
      "outputs": []
    },
    {
      "cell_type": "markdown",
      "id": "5911bdcc",
      "metadata": {
        "id": "5911bdcc"
      },
      "source": [
        "##3. Calculo de Information Coefficient (IC)"
      ]
    },
    {
      "cell_type": "markdown",
      "source": [
        "El Information Coefficient (IC) es la correlación de Spearman entre el factor y el retorno futuro. Mide si el ranking del factor predice el ranking del retorno.\n",
        "\n",
        "- IC > 0: el factor tiene relación positiva → valores altos del factor tienden a preceder retornos positivos.\n",
        "\n",
        "- IC < 0: relación inversa → valores altos del factor tienden a preceder retornos negativos (reversión).\n",
        "\n",
        "- IC ≈ 0: el factor es probablemente ruido o no tiene señal útil.\n",
        "\n",
        "Valores comunes en finanzas:\n",
        "\n",
        "- Entre 0.05 a 0.1: débil pero útil.\n",
        "\n",
        "- Mayor a 0.1: muy raro, pero fuerte.\n",
        "\n",
        "- Menor 0.05 o cercano a 0: probablemente ruido."
      ],
      "metadata": {
        "id": "GkWB9Jjoh7A7"
      },
      "id": "GkWB9Jjoh7A7"
    },
    {
      "cell_type": "markdown",
      "source": [
        "### **Función para calcular IC:**"
      ],
      "metadata": {
        "id": "ZwY5e-nJi9SY"
      },
      "id": "ZwY5e-nJi9SY"
    },
    {
      "cell_type": "code",
      "source": [
        "def calcular_IC(df: pd.DataFrame, target: str, factors: list[str]):\n",
        "    grouped = df.groupby('date')\n",
        "\n",
        "    print(f\"IC promedio por factor (diario) sobre el {target}:\\n\")\n",
        "\n",
        "    resultados = []\n",
        "\n",
        "    for factor in factors:\n",
        "        daily_ics = []\n",
        "\n",
        "        for date, group in grouped:\n",
        "            df_valid = group[[factor, target]].dropna()\n",
        "            if len(df_valid) >= 20:\n",
        "                ic = spearmanr(df_valid[factor], df_valid[target]).correlation\n",
        "                if np.isfinite(ic):\n",
        "                    daily_ics.append(ic)\n",
        "\n",
        "        if daily_ics:\n",
        "            mean_ic = np.mean(daily_ics)\n",
        "            std_ic = np.std(daily_ics)\n",
        "            dias_validos = len(daily_ics)\n",
        "            print(f\"{factor:15}: IC medio = {mean_ic:.4f} | std = {std_ic:.4f} | días válidos = {dias_validos}\")\n",
        "            resultados.append({\n",
        "                'factor': factor,\n",
        "                'ic_mean': mean_ic,\n",
        "                'ic_std': std_ic,\n",
        "                'dias_validos': dias_validos\n",
        "            })\n",
        "        else:\n",
        "            print(f\"{factor:15}: sin días válidos para cálculo\")\n",
        "\n",
        "    return pd.DataFrame(resultados)"
      ],
      "metadata": {
        "id": "CCRReZZei7sx"
      },
      "id": "CCRReZZei7sx",
      "execution_count": null,
      "outputs": []
    },
    {
      "cell_type": "markdown",
      "source": [
        "### 3.1. **RSI (Relative Strength Index)**"
      ],
      "metadata": {
        "id": "l12_mWyJjGAq"
      },
      "id": "l12_mWyJjGAq"
    },
    {
      "cell_type": "code",
      "source": [
        "mnq_rsi, rsi_cols = calcular_rsi()\n",
        "IC_rsi = calcular_IC(mnq_rsi, 'target_return_30', rsi_cols)"
      ],
      "metadata": {
        "colab": {
          "base_uri": "https://localhost:8080/"
        },
        "id": "igpvGK3ehb9c",
        "outputId": "bce0ca4c-7a85-4a42-836d-6c7b48f41312"
      },
      "id": "igpvGK3ehb9c",
      "execution_count": null,
      "outputs": [
        {
          "output_type": "stream",
          "name": "stdout",
          "text": [
            "IC promedio por factor (diario) sobre el target_return_30:\n",
            "\n",
            "rsi_14         : IC medio = 0.6387 | std = 0.0666 | días válidos = 1311\n",
            "rsi_7          : IC medio = 0.4740 | std = 0.0582 | días válidos = 1311\n",
            "rsi_5          : IC medio = 0.3995 | std = 0.0539 | días válidos = 1311\n",
            "rsi_3          : IC medio = 0.3040 | std = 0.0471 | días válidos = 1311\n"
          ]
        }
      ]
    },
    {
      "cell_type": "markdown",
      "source": [
        "#### 3.1.1. Conclusiones"
      ],
      "metadata": {
        "id": "tUW0OibIqVY-"
      },
      "id": "tUW0OibIqVY-"
    },
    {
      "cell_type": "markdown",
      "source": [
        "| Indicador | IC medio | Desv. Estándar | Comentario |\n",
        "|-----------|----------|----------------|------------|\n",
        "| `rsi_14`  | 0.6387   | 0.0666         | Muy fuerte y consistente. |\n",
        "| `rsi_7`   | 0.4740   | 0.0582         | Robusto, aunque menor que `rsi_14`. |\n",
        "| `rsi_5`   | 0.3995   | 0.0539         | Señal moderada. |\n",
        "| `rsi_3`   | 0.3040   | 0.0471         | Menor poder predictivo. |\n",
        "\n",
        "<br>\n",
        "\n",
        "- El IC promedio decrece a medida que la ventana del RSI se acorta, lo que sugiere que las señales más estables y suavizadas (como `rsi_14`) se correlacionan mejor con el comportamiento del precio a 30 minutos.\n",
        "\n",
        "- `rsi_14` destaca claramente como el más informativo, no solo por su IC medio alto (0.6387), sino también por su baja desviación estándar (0.0666), lo que indica consistencia en distintos días.\n",
        "\n",
        "- Los RSI con ventanas más cortas (`rsi_3`, `rsi_5`, `rsi_7`) muestran un poder predictivo decreciente. Aunque pueden aportar información, son menos efectivos para este horizonte de predicción.\n"
      ],
      "metadata": {
        "id": "bIA4jpS0puv2"
      },
      "id": "bIA4jpS0puv2"
    },
    {
      "cell_type": "markdown",
      "source": [
        "#### 3.1.2. Recomendaciones"
      ],
      "metadata": {
        "id": "e_HZrK3Qqdrx"
      },
      "id": "e_HZrK3Qqdrx"
    },
    {
      "cell_type": "markdown",
      "source": [
        "- Priorizar `rsi_14` como alpha factor principal para el modelo de predicción a 30 minutos.\n",
        "\n",
        "- Considerar también `rsi_7` como alternativa o complemento.\n",
        "\n",
        "- No es necesario incluir todos los RSI simultáneamente. Para evitar multicolinealidad o sobreajuste, se recomienda aplicar técnicas de selección de variables (como regularización o análisis de redundancia)."
      ],
      "metadata": {
        "id": "sE3EOmBEqiye"
      },
      "id": "sE3EOmBEqiye"
    },
    {
      "cell_type": "markdown",
      "source": [
        "### 3.2. **Momentum**"
      ],
      "metadata": {
        "id": "KK2T1Ukpjt2V"
      },
      "id": "KK2T1Ukpjt2V"
    },
    {
      "cell_type": "code",
      "source": [
        "mnq_momentum, momentum_cols = calcular_momentum()\n",
        "IC_momentum = calcular_IC(mnq_momentum, 'target_return_30', momentum_cols)"
      ],
      "metadata": {
        "id": "OM3wXeOqe4mh",
        "colab": {
          "base_uri": "https://localhost:8080/"
        },
        "outputId": "1036eb0a-ea1c-44eb-fce5-e7f594072b70"
      },
      "id": "OM3wXeOqe4mh",
      "execution_count": null,
      "outputs": [
        {
          "output_type": "stream",
          "name": "stdout",
          "text": [
            "IC promedio por factor (diario) sobre el target_return_30:\n",
            "\n",
            "momentum_10    : IC medio = 0.0334 | std = 0.1975 | días válidos = 1311\n",
            "momentum_5     : IC medio = 0.0315 | std = 0.1653 | días válidos = 1311\n",
            "momentum_3     : IC medio = 0.0290 | std = 0.1405 | días válidos = 1311\n"
          ]
        }
      ]
    },
    {
      "cell_type": "markdown",
      "source": [
        "#### 3.2.1. Conclusiones"
      ],
      "metadata": {
        "id": "uVC_S8tsq8gH"
      },
      "id": "uVC_S8tsq8gH"
    },
    {
      "cell_type": "markdown",
      "source": [
        "| Indicador     | IC medio | Desv. Estándar | Comentario                        |\n",
        "|---------------|----------|----------------|-----------------------------------|\n",
        "| `momentum_10` | 0.0334   | 0.1975         | Muy bajo poder predictivo, ruidoso. |\n",
        "| `momentum_5`  | 0.0315   | 0.1653         | Similar a `momentum_10`, poca utilidad. |\n",
        "| `momentum_3`  | 0.0290   | 0.1405         | Levemente más estable, pero irrelevante. |\n",
        "\n",
        "<br>\n",
        "\n",
        "- Todos los indicadores de momentum muestran **IC promedio cercano a cero**, lo que indica **bajo poder predictivo** sobre el retorno a 30 minutos.\n",
        "\n",
        "- Además, presentan **desviaciones estándar elevadas**, reflejando **alta inestabilidad diaria** en su comportamiento.\n",
        "\n",
        "- No se observa mejora al cambiar la ventana (3, 5 o 10 minutos), lo que sugiere que este indicador técnico no capta dinámicas relevantes para el horizonte temporal evaluado.\n",
        "\n",
        "\n"
      ],
      "metadata": {
        "id": "TVoD_pO-q_ib"
      },
      "id": "TVoD_pO-q_ib"
    },
    {
      "cell_type": "markdown",
      "source": [
        "#### 3.2.2. Recomendaciones"
      ],
      "metadata": {
        "id": "xiNzLSLKq_3n"
      },
      "id": "xiNzLSLKq_3n"
    },
    {
      "cell_type": "markdown",
      "source": [
        "- **No se recomienda incluir los indicadores técnicos `momentum_3`, `momentum_5` ni `momentum_10`** como alpha factors en el modelo.\n",
        "\n",
        "- Su bajo IC y alta varianza indican que **aportan más ruido que señal** en la predicción del retorno a 30 minutos.\n",
        "\n",
        "- Es preferible priorizar otros indicadores con mayor estabilidad y poder explicativo."
      ],
      "metadata": {
        "id": "w3Bq-nZRrDfG"
      },
      "id": "w3Bq-nZRrDfG"
    },
    {
      "cell_type": "markdown",
      "source": [
        "### 3.3. **Relación de volumen actual vs. su promedio reciente**"
      ],
      "metadata": {
        "id": "wemY93UIkqUK"
      },
      "id": "wemY93UIkqUK"
    },
    {
      "cell_type": "code",
      "source": [
        "mnq_volumen, volumen_cols = calcular_volumen_ratio()\n",
        "IC_volumen = calcular_IC(mnq_volumen, 'target_return_30', volumen_cols)"
      ],
      "metadata": {
        "colab": {
          "base_uri": "https://localhost:8080/"
        },
        "id": "EQcXKPafkvip",
        "outputId": "c4a84cee-507e-44c5-bc9a-7b93e7af061c"
      },
      "id": "EQcXKPafkvip",
      "execution_count": null,
      "outputs": [
        {
          "output_type": "stream",
          "name": "stdout",
          "text": [
            "IC promedio por factor (diario) sobre el target_return_30:\n",
            "\n",
            "volume_ratio_15: IC medio = 0.0053 | std = 0.0643 | días válidos = 1311\n",
            "volume_ratio_20: IC medio = 0.0048 | std = 0.0785 | días válidos = 1311\n",
            "volume_ratio_30: IC medio = 0.0051 | std = 0.1039 | días válidos = 1311\n"
          ]
        }
      ]
    },
    {
      "cell_type": "markdown",
      "source": [
        "#### 3.3.1. Conclusiones"
      ],
      "metadata": {
        "id": "GciurulOr6Fp"
      },
      "id": "GciurulOr6Fp"
    },
    {
      "cell_type": "markdown",
      "source": [
        "| Indicador         | IC medio | Desv. Estándar | Comentario                              |\n",
        "|-------------------|----------|----------------|------------------------------------------|\n",
        "| `volume_ratio_15` | 0.0053   | 0.0643         | Extremadamente bajo, sin relevancia.     |\n",
        "| `volume_ratio_20` | 0.0048   | 0.0785         | Similar resultado, algo más inestable.   |\n",
        "| `volume_ratio_30` | 0.0051   | 0.1039         | Ligeramente más volátil, igual de débil. |\n",
        "\n",
        "<br>\n",
        "\n",
        "- Todos los indicadores `volume_ratio` presentan un **IC medio cercano a cero**, lo cual indica que **no tienen capacidad predictiva significativa** sobre el retorno a 30 minutos.\n",
        "\n",
        "- A pesar de su baja desviación estándar (en especial en `volume_ratio_15`), los valores de IC son **demasiado bajos como para ser considerados útiles**.\n",
        "\n",
        "- Aumentar la ventana de promedio (15 → 30) no mejora el desempeño, sino que incluso **incrementa la varianza**.\n"
      ],
      "metadata": {
        "id": "gwyIMP4Qr8yP"
      },
      "id": "gwyIMP4Qr8yP"
    },
    {
      "cell_type": "markdown",
      "source": [
        "#### 3.3.2. Recomendaciones"
      ],
      "metadata": {
        "id": "t9VvGXYzr9HM"
      },
      "id": "t9VvGXYzr9HM"
    },
    {
      "cell_type": "markdown",
      "source": [
        "- **No se recomienda utilizar los indicadores `volume_ratio_15`, `volume_ratio_20` ni `volume_ratio_30`** como alpha factors.\n",
        "\n",
        "- Su incapacidad para capturar una señal útil para el horizonte temporal evaluado los vuelve **prescindibles en el modelo**.\n",
        "\n",
        "- En su lugar, conviene enfocarse en factores de precio o volatilidad con mejor desempeño estadístico.\n"
      ],
      "metadata": {
        "id": "depyjvQ6sNvB"
      },
      "id": "depyjvQ6sNvB"
    },
    {
      "cell_type": "markdown",
      "source": [
        "### 3.4. **MACD diferencial (señal de cruce)**"
      ],
      "metadata": {
        "id": "PXY4FEmIlnRm"
      },
      "id": "PXY4FEmIlnRm"
    },
    {
      "cell_type": "code",
      "source": [
        "mnq_macd, macd_cols = calcular_macd()\n",
        "IC_macd = calcular_IC(mnq_macd, 'target_return_30', macd_cols)"
      ],
      "metadata": {
        "colab": {
          "base_uri": "https://localhost:8080/"
        },
        "id": "rTn4D_bbmuwb",
        "outputId": "28d04260-a1db-4e0d-a31b-006f46105678"
      },
      "id": "rTn4D_bbmuwb",
      "execution_count": null,
      "outputs": [
        {
          "output_type": "stream",
          "name": "stdout",
          "text": [
            "IC promedio por factor (diario) sobre el target_return_30:\n",
            "\n",
            "macd           : IC medio = 0.1962 | std = 0.0984 | días válidos = 1311\n"
          ]
        }
      ]
    },
    {
      "cell_type": "markdown",
      "source": [
        "#### 3.4.1. Conclusiones"
      ],
      "metadata": {
        "id": "ZzspZF0XsqqK"
      },
      "id": "ZzspZF0XsqqK"
    },
    {
      "cell_type": "markdown",
      "source": [
        "| Indicador | IC medio | Desv. Estándar | Comentario                            |\n",
        "|-----------|----------|----------------|----------------------------------------|\n",
        "| `macd`    | 0.1962   | 0.0984         | Señal moderada, con estabilidad aceptable. |\n",
        "\n",
        "<br>\n",
        "\n",
        "- El indicador `macd` muestra un **IC medio positivo (0.1962)**, lo cual sugiere que tiene **cierta capacidad predictiva** sobre el retorno a 30 minutos.\n",
        "\n",
        "- Su desviación estándar (0.0984) es **moderada**, lo que indica un nivel de **consistencia razonable** a lo largo de los días.\n",
        "\n",
        "- Aunque no alcanza la fuerza predictiva de otros factores como `rsi_14` o `bb_percent_30_20`, el MACD ofrece una **señal útil y complementaria**, especialmente en entornos de tendencia.\n"
      ],
      "metadata": {
        "id": "hcM-MDAdsqhC"
      },
      "id": "hcM-MDAdsqhC"
    },
    {
      "cell_type": "markdown",
      "source": [
        "#### 3.4.2. Recomendaciones"
      ],
      "metadata": {
        "id": "iOk8LCLgsqZG"
      },
      "id": "iOk8LCLgsqZG"
    },
    {
      "cell_type": "markdown",
      "source": [
        "- Se puede **incluir `macd` como alpha factor secundario**, aportando valor en combinación con otros indicadores más fuertes.\n",
        "\n",
        "- Su uso es particularmente relevante si el modelo incorpora señales de momentum o detección de cambios de tendencia.\n",
        "\n",
        "- Es aconsejable validarlo dentro de un conjunto de features para evaluar su contribución marginal."
      ],
      "metadata": {
        "id": "hB8Te65psqPy"
      },
      "id": "hB8Te65psqPy"
    },
    {
      "cell_type": "markdown",
      "source": [
        "### 3.5. **Distancia del precio actual a su EMA (15, 20 y 30 minutos)**"
      ],
      "metadata": {
        "id": "mOD_LLQplnKr"
      },
      "id": "mOD_LLQplnKr"
    },
    {
      "cell_type": "code",
      "source": [
        "mnq_ema, ema_cols = calcular_ema()\n",
        "IC_ema = calcular_IC(mnq_ema, 'target_return_30', ema_cols)"
      ],
      "metadata": {
        "colab": {
          "base_uri": "https://localhost:8080/"
        },
        "id": "-EkEJL-HnDI5",
        "outputId": "2f75a4ac-0f9a-435a-bdd9-6719d5625f73"
      },
      "id": "-EkEJL-HnDI5",
      "execution_count": null,
      "outputs": [
        {
          "output_type": "stream",
          "name": "stdout",
          "text": [
            "IC promedio por factor (diario) sobre el target_return_30:\n",
            "\n",
            "price_ema15    : IC medio = 0.0207 | std = 0.1361 | días válidos = 1311\n",
            "price_ema20    : IC medio = 0.0226 | std = 0.1600 | días válidos = 1311\n",
            "price_ema30    : IC medio = 0.0251 | std = 0.1960 | días válidos = 1311\n"
          ]
        }
      ]
    },
    {
      "cell_type": "markdown",
      "source": [
        "#### 3.5.1. Conclusiones"
      ],
      "metadata": {
        "id": "DrYn1dQ-tG2L"
      },
      "id": "DrYn1dQ-tG2L"
    },
    {
      "cell_type": "markdown",
      "source": [
        "| Indicador     | IC medio | Desv. Estándar | Comentario                                   |\n",
        "|---------------|----------|----------------|-----------------------------------------------|\n",
        "| `price_ema15` | 0.0207   | 0.1361         | Muy débil, con alta variabilidad.             |\n",
        "| `price_ema20` | 0.0226   | 0.1600         | Ligera mejora, pero aún irrelevante.          |\n",
        "| `price_ema30` | 0.0251   | 0.1960         | Ligeramente más estable, pero poco útil.      |\n",
        "\n",
        "<br>\n",
        "\n",
        "- Todos los indicadores basados en la distancia al EMA presentan **IC medios extremadamente bajos**, lo que indica **muy baja capacidad predictiva** para anticipar el retorno a 30 minutos.\n",
        "\n",
        "- Aumentar la ventana de la EMA de 15 a 30 no mejora sustancialmente el desempeño; el IC apenas varía y la **desviación estándar aumenta**, lo cual refleja una señal más ruidosa.\n",
        "\n",
        "- Aunque conceptualmente estos indicadores pueden capturar sobreextensión o reversión, en la práctica **no aportan valor estadístico en este horizonte temporal**.\n"
      ],
      "metadata": {
        "id": "EmzYJCc6tGux"
      },
      "id": "EmzYJCc6tGux"
    },
    {
      "cell_type": "markdown",
      "source": [
        "#### 3.5.2. Recomendaciones"
      ],
      "metadata": {
        "id": "0TjdR_jttGnG"
      },
      "id": "0TjdR_jttGnG"
    },
    {
      "cell_type": "markdown",
      "source": [
        "- **No se recomienda incluir `price_ema15`, `price_ema20` ni `price_ema30`** como alpha factors en el modelo actual.\n",
        "\n",
        "- En su lugar, es preferible utilizar indicadores que midan condiciones extremas desde otros enfoques, como `rsi_14` o `bb_percent_30_20`, que mostraron mucho mejor desempeño.\n",
        "\n",
        "- Estos indicadores podrían evaluarse nuevamente si se cambia el horizonte de predicción o se combinan con señales de tendencia más fuertes."
      ],
      "metadata": {
        "id": "WQViGKbctGgQ"
      },
      "id": "WQViGKbctGgQ"
    },
    {
      "cell_type": "markdown",
      "source": [
        "### 3.6. **%K Estocástico**"
      ],
      "metadata": {
        "id": "HK_Oakhwlm2V"
      },
      "id": "HK_Oakhwlm2V"
    },
    {
      "cell_type": "code",
      "source": [
        "mnq_stoch, stoch_cols = calcular_stochastic()\n",
        "IC_stoch = calcular_IC(mnq_stoch, 'target_return_30', stoch_cols)"
      ],
      "metadata": {
        "colab": {
          "base_uri": "https://localhost:8080/"
        },
        "id": "ZxU-cqNxnZJV",
        "outputId": "194e32c4-ada7-49c0-8e74-535e35eee91f"
      },
      "id": "ZxU-cqNxnZJV",
      "execution_count": null,
      "outputs": [
        {
          "output_type": "stream",
          "name": "stdout",
          "text": [
            "IC promedio por factor (diario) sobre el target_return_30:\n",
            "\n",
            "stoch_k_14     : IC medio = 0.0610 | std = 0.1992 | días válidos = 1311\n",
            "stoch_k_20     : IC medio = 0.0629 | std = 0.2075 | días válidos = 1311\n",
            "stoch_k_30     : IC medio = 0.0679 | std = 0.2237 | días válidos = 1311\n"
          ]
        }
      ]
    },
    {
      "cell_type": "markdown",
      "source": [
        "#### 3.6.1. Conclusiones"
      ],
      "metadata": {
        "id": "MTmQBKh3tyMc"
      },
      "id": "MTmQBKh3tyMc"
    },
    {
      "cell_type": "markdown",
      "source": [
        "| Indicador     | IC medio | Desv. Estándar | Comentario                                  |\n",
        "|---------------|----------|----------------|----------------------------------------------|\n",
        "| `stoch_k_14`  | 0.0610   | 0.1992         | Señal débil y bastante volátil.              |\n",
        "| `stoch_k_20`  | 0.0629   | 0.2075         | Sin mejora significativa respecto al anterior. |\n",
        "| `stoch_k_30`  | 0.0679   | 0.2237         | Leve aumento del IC, pero más inestable aún. |\n",
        "\n",
        "<br>\n",
        "\n",
        "- Los valores de IC medio para los tres estocásticos son **muy bajos**, lo que sugiere una **capacidad predictiva limitada** sobre el retorno a 30 minutos.\n",
        "\n",
        "- Aumentar la ventana de cálculo incrementa ligeramente el IC, pero también **aumenta considerablemente la desviación estándar**, lo que indica que la señal es más inconsistente.\n",
        "\n",
        "- En general, el indicador parece no alinearse bien con la dinámica del target evaluado, posiblemente por su sensibilidad a oscilaciones de corto plazo."
      ],
      "metadata": {
        "id": "xVQqujpwtyFp"
      },
      "id": "xVQqujpwtyFp"
    },
    {
      "cell_type": "markdown",
      "source": [
        "#### 3.6.2. Recomendaciones"
      ],
      "metadata": {
        "id": "UaGqIxxntx_O"
      },
      "id": "UaGqIxxntx_O"
    },
    {
      "cell_type": "markdown",
      "source": [
        "- **No se recomienda incluir `stoch_k_14`, `stoch_k_20` ni `stoch_k_30`** como alpha factors principales.\n",
        "\n",
        "- Dado su bajo IC y alta varianza, estos indicadores pueden introducir **ruido más que señal** en el modelo.\n",
        "\n",
        "- Podrían reevaluarse en contextos donde se investigue sobrecompra/sobreventa extrema a horizontes más cortos o en combinación con filtros de tendencia."
      ],
      "metadata": {
        "id": "p4qif_QRuEjo"
      },
      "id": "p4qif_QRuEjo"
    },
    {
      "cell_type": "markdown",
      "source": [
        "### 3.7.**%B de Bollinger (Bollinger Band Percent)**\n"
      ],
      "metadata": {
        "id": "0lovhzHWlsKY"
      },
      "id": "0lovhzHWlsKY"
    },
    {
      "cell_type": "code",
      "source": [
        "mnq_bollinger, bollinger_cols = calcular_bollinger()\n",
        "IC_bollinger = calcular_IC(mnq_bollinger, 'target_return_30', bollinger_cols)"
      ],
      "metadata": {
        "colab": {
          "base_uri": "https://localhost:8080/"
        },
        "id": "a8ulA_yVn6ph",
        "outputId": "9c5a0fa7-e411-4b01-a469-20ce1ca147e9"
      },
      "id": "a8ulA_yVn6ph",
      "execution_count": null,
      "outputs": [
        {
          "output_type": "stream",
          "name": "stdout",
          "text": [
            "IC promedio por factor (diario) sobre el target_return_30:\n",
            "\n",
            "bb_percent_15_15: IC medio = 0.3986 | std = 0.0628 | días válidos = 1311\n",
            "bb_percent_20_15: IC medio = 0.4619 | std = 0.0670 | días válidos = 1311\n",
            "bb_percent_30_15: IC medio = 0.5679 | std = 0.0757 | días válidos = 1311\n",
            "bb_percent_15_20: IC medio = 0.3986 | std = 0.0628 | días válidos = 1311\n",
            "bb_percent_20_20: IC medio = 0.4619 | std = 0.0670 | días válidos = 1311\n",
            "bb_percent_30_20: IC medio = 0.5679 | std = 0.0757 | días válidos = 1311\n",
            "bb_percent_15_25: IC medio = 0.3986 | std = 0.0628 | días válidos = 1311\n",
            "bb_percent_20_25: IC medio = 0.4619 | std = 0.0670 | días válidos = 1311\n",
            "bb_percent_30_25: IC medio = 0.5679 | std = 0.0757 | días válidos = 1311\n"
          ]
        }
      ]
    },
    {
      "cell_type": "markdown",
      "source": [
        "#### 3.7.1. Conclusiones"
      ],
      "metadata": {
        "id": "BrCdkZsQuXZv"
      },
      "id": "BrCdkZsQuXZv"
    },
    {
      "cell_type": "markdown",
      "source": [
        "| Indicador          | Ventana | Desv. Std | IC medio | Desv. Estándar | Comentario                               |\n",
        "|--------------------|---------|-----------|----------|----------------|-------------------------------------------|\n",
        "| `bb_percent_15_15` | 15      | 1.5       | 0.3986   | 0.0628         | Señal útil, aunque más sensible.          |\n",
        "| `bb_percent_20_15` | 20      | 1.5       | 0.4619   | 0.0670         | Buena señal, más estable.                 |\n",
        "| `bb_percent_30_15` | 30      | 1.5       | 0.5679   | 0.0757         | Muy fuerte, la mejor entre las variantes. |\n",
        "| `bb_percent_15_20` | 15      | 2.0       | 0.3986   | 0.0628         | Idéntico a `15_15`, no mejora.            |\n",
        "| `bb_percent_20_20` | 20      | 2.0       | 0.4619   | 0.0670         | Idéntico a `20_15`, igualmente robusto.   |\n",
        "| `bb_percent_30_20` | 30      | 2.0       | 0.5679   | 0.0757         | Idéntico a `30_15`, excelente señal.      |\n",
        "| `bb_percent_15_25` | 15      | 2.5       | 0.3986   | 0.0628         | Sin cambios respecto a otras versiones.   |\n",
        "| `bb_percent_20_25` | 20      | 2.5       | 0.4619   | 0.0670         | Misma efectividad.                        |\n",
        "| `bb_percent_30_25` | 30      | 2.5       | 0.5679   | 0.0757         | Consistente como las demás de ventana 30. |\n",
        "\n",
        "<br>\n",
        "\n",
        "- Los resultados muestran que **el valor de la desviación estándar (`window_dev`) no afecta el desempeño predictivo**: los valores de IC son idénticos para cada ventana, sin importar si se usa 1.5, 2.0 o 2.5.\n",
        "\n",
        "- En cambio, **la ventana de cálculo (`window`) sí tiene un impacto claro**:\n",
        "  - A mayor ventana (de 15 a 30), el IC promedio **aumenta significativamente**.\n",
        "  - `bb_percent_30_*` alcanza un IC medio de **0.5679**, con desviación estándar moderada, lo que la convierte en una de las señales más fuertes evaluadas.\n",
        "\n",
        "- Esto sugiere que **condiciones de sobrecompra/sobreventa sostenidas en el tiempo** (no picos breves) están más alineadas con movimientos relevantes a 30 minutos.\n"
      ],
      "metadata": {
        "id": "lrSDMMG9uXSP"
      },
      "id": "lrSDMMG9uXSP"
    },
    {
      "cell_type": "markdown",
      "source": [
        "#### 3.7.2. Recomendaciones"
      ],
      "metadata": {
        "id": "S1vCAVOKuXNE"
      },
      "id": "S1vCAVOKuXNE"
    },
    {
      "cell_type": "markdown",
      "source": [
        "- **Priorizar `bb_percent_30_20`** (o cualquiera de las variantes con ventana 30), dado que muestran el **mayor IC medio** con buena estabilidad.\n",
        "\n",
        "- No es necesario incluir todas las combinaciones de `bb_percent`; basta con seleccionar la versión más representativa (`window=30`, cualquier `window_dev`).\n",
        "\n",
        "- Este indicador debe considerarse como uno de los **factores principales en el modelo predictivo**."
      ],
      "metadata": {
        "id": "zIiZA9aquXH7"
      },
      "id": "zIiZA9aquXH7"
    },
    {
      "cell_type": "markdown",
      "source": [
        "### 3.8. **ATR normalizado (Average True Range / precio)**"
      ],
      "metadata": {
        "id": "P1DSrcz2nu6u"
      },
      "id": "P1DSrcz2nu6u"
    },
    {
      "cell_type": "code",
      "source": [
        "mnq_atr, atr_cols = calcular_atr()\n",
        "IC_atr = calcular_IC(mnq_atr, 'target_return_30', atr_cols)"
      ],
      "metadata": {
        "colab": {
          "base_uri": "https://localhost:8080/"
        },
        "id": "Q70dBjv7n6-Y",
        "outputId": "64292a7f-a618-452f-f4e2-1aa2c62d7657"
      },
      "id": "Q70dBjv7n6-Y",
      "execution_count": null,
      "outputs": [
        {
          "output_type": "stream",
          "name": "stdout",
          "text": [
            "IC promedio por factor (diario) sobre el target_return_30:\n",
            "\n",
            "atr_norm       : IC medio = 0.4313 | std = 0.1131 | días válidos = 1311\n"
          ]
        }
      ]
    },
    {
      "cell_type": "markdown",
      "source": [
        "#### 3.8.1. Conclusiones"
      ],
      "metadata": {
        "id": "9foehD0tSZRS"
      },
      "id": "9foehD0tSZRS"
    },
    {
      "cell_type": "markdown",
      "source": [
        "| Indicador   | IC medio | Desv. Estándar | Comentario                              |\n",
        "|-------------|----------|----------------|------------------------------------------|\n",
        "| `atr_norm`  | 0.4313   | 0.1131         | Señal fuerte y relativamente estable.    |\n",
        "\n",
        "<br>\n",
        "\n",
        "- El indicador `atr_norm` (ATR dividido por el precio) muestra un **IC medio elevado (0.4313)**, lo que indica una **buena capacidad predictiva** sobre el retorno a 30 minutos.\n",
        "\n",
        "- Su desviación estándar (0.1131) es moderada, lo que sugiere un nivel aceptable de **consistencia a lo largo del tiempo**.\n",
        "\n",
        "- Este resultado valida que la **volatilidad reciente, ajustada por el nivel de precios**, es un factor informativo relevante en el contexto intradía del índice MNQ.\n"
      ],
      "metadata": {
        "id": "KdiFUOPoSZLi"
      },
      "id": "KdiFUOPoSZLi"
    },
    {
      "cell_type": "markdown",
      "source": [
        "#### 3.8.2. Recomendaciones"
      ],
      "metadata": {
        "id": "LDdesCY3SZFq"
      },
      "id": "LDdesCY3SZFq"
    },
    {
      "cell_type": "markdown",
      "source": [
        "- **Incluir `atr_norm` como alpha factor prioritario** en el modelo, ya que aporta una señal sólida que puede complementar otros indicadores de momentum o reversión.\n",
        "\n",
        "- Dado su poder predictivo y estabilidad, `atr_norm` se posiciona entre los mejores factores evaluados hasta el momento."
      ],
      "metadata": {
        "id": "gdV11Vn_SZAN"
      },
      "id": "gdV11Vn_SZAN"
    },
    {
      "cell_type": "markdown",
      "source": [
        "### 3.9. **ROC (Rate of Change)**"
      ],
      "metadata": {
        "id": "rU-KIOfVn1uh"
      },
      "id": "rU-KIOfVn1uh"
    },
    {
      "cell_type": "code",
      "source": [
        "mnq_roc, roc_cols = calcular_roc()\n",
        "IC_roc = calcular_IC(mnq_roc, 'target_return_30', roc_cols)"
      ],
      "metadata": {
        "colab": {
          "base_uri": "https://localhost:8080/"
        },
        "id": "tRggA0GBn7gf",
        "outputId": "ff69642e-b3bf-4745-e406-c79c0d1a6e8a"
      },
      "id": "tRggA0GBn7gf",
      "execution_count": null,
      "outputs": [
        {
          "output_type": "stream",
          "name": "stdout",
          "text": [
            "IC promedio por factor (diario) sobre el target_return_30:\n",
            "\n",
            "roc_5          : IC medio = 0.0315 | std = 0.1653 | días válidos = 1311\n"
          ]
        }
      ]
    },
    {
      "cell_type": "markdown",
      "source": [
        "#### 3.9.1. Conclusiones"
      ],
      "metadata": {
        "id": "4f90dRQGTEjh"
      },
      "id": "4f90dRQGTEjh"
    },
    {
      "cell_type": "markdown",
      "source": [
        "| Indicador | IC medio | Desv. Estándar | Comentario                               |\n",
        "|-----------|----------|----------------|-------------------------------------------|\n",
        "| `roc_5`   | 0.0315   | 0.1653         | Señal muy débil y con alta variabilidad.  |\n",
        "\n",
        "<br>\n",
        "\n",
        "- El indicador `roc_5`, que mide la tasa de cambio porcentual del precio en los últimos 5 minutos, muestra un **IC medio muy bajo (0.0315)**, lo que indica **escasa capacidad predictiva** sobre el retorno a 30 minutos.\n",
        "\n",
        "- La desviación estándar (0.1653) es relativamente alta, lo que refleja una señal **inestable y poco confiable**.\n",
        "\n",
        "- Estos resultados son consistentes con otros indicadores de momentum que también mostraron bajo desempeño en este horizonte temporal.\n"
      ],
      "metadata": {
        "id": "vILq277knsuI"
      },
      "id": "vILq277knsuI"
    },
    {
      "cell_type": "markdown",
      "source": [
        "#### 3.9.2. Recomendaciones"
      ],
      "metadata": {
        "id": "6Eevt5oFTLXp"
      },
      "id": "6Eevt5oFTLXp"
    },
    {
      "cell_type": "markdown",
      "source": [
        "- **No se recomienda incluir `roc_5` como alpha factor** para la predicción del retorno a 30 minutos.\n",
        "\n",
        "- Su baja señal y alta variabilidad sugieren que **no aporta valor predictivo real** en este contexto.\n",
        "\n",
        "- Es preferible centrar los modelos en indicadores más robustos como `rsi_14`, `bb_percent_30_20` o `atr_norm`.\n",
        "\n"
      ],
      "metadata": {
        "id": "UdBZBNDVTOLq"
      },
      "id": "UdBZBNDVTOLq"
    },
    {
      "cell_type": "markdown",
      "source": [
        "## 4. Selección de mejores indicadores técnicos"
      ],
      "metadata": {
        "id": "dNz7EtMlUR2t"
      },
      "id": "dNz7EtMlUR2t"
    },
    {
      "cell_type": "markdown",
      "source": [
        "Las recomendaciones finales de indicadores técnicos son:\n",
        "\n",
        "**RSI:**\n",
        "\n",
        "- **`rsi_14` debe ser priorizado** como alpha factor principal, dado que obtuvo el IC medio más alto entre todos los indicadores evaluados, con excelente estabilidad.\n",
        "- **`rsi_7` puede considerarse como alternativa secundaria**, aportando una señal más reactiva, pero aún robusta y consistente.\n",
        "\n",
        "**MACD:**\n",
        "\n",
        "- **`macd` puede incluirse como factor complementario**, especialmente si el modelo incorpora señales de momentum o detección de cambios de tendencia.\n",
        "- Su poder predictivo es más limitado comparado con otros factores, por lo que **conviene validar su utilidad dentro de un conjunto multivariado**, evaluando su contribución marginal al desempeño general del modelo.\n",
        "\n",
        "**Bollinger Bands (%B):**\n",
        "\n",
        "- **`bb_percent_30_20` es la variante más recomendable**, ya que muestra el mayor IC medio con buena estabilidad.\n",
        "- **`bb_percent_20_20` también es una alternativa sólida**, con buen desempeño y menor ventana, lo que puede ser útil si se buscan señales más rápidas.\n",
        "- No es necesario conservar todas las combinaciones; basta con **incluir una o dos versiones representativas** (idealmente con `window=30` y/o `window=20`), ya que las demás no aportan valor adicional.\n",
        "- Este grupo debe considerarse como **una fuente clave de señales predictivas**.\n",
        "\n",
        "**ATR:**\n",
        "\n",
        "- **`atr_norm` se destaca como uno de los mejores alpha factors**, combinando un IC alto con estabilidad razonable.\n",
        "- Su capacidad para capturar volatilidad relativa al precio lo convierte en un complemento valioso para otros factores basados en tendencia o momentum."
      ],
      "metadata": {
        "id": "eqRYKWZlVX6Q"
      },
      "id": "eqRYKWZlVX6Q"
    },
    {
      "cell_type": "markdown",
      "source": [
        "### 4.1. Función para agregar mejores indicadores técnicos"
      ],
      "metadata": {
        "id": "ar1ZWdNtWhl7"
      },
      "id": "ar1ZWdNtWhl7"
    },
    {
      "cell_type": "code",
      "source": [
        "def best_indicators(df=mnq_intraday, target='target_return_30' ):\n",
        "  best_indicators_list = ['rsi_14', 'rsi_7', 'macd', 'bb_percent_20_20', 'bb_percent_30_20', 'atr_norm']\n",
        "\n",
        "  def aplicar_por_dia (grupo):\n",
        "        grupo = grupo.copy()\n",
        "        #RSI 14 y RSI 7\n",
        "        grupo['rsi_14'] = ta.momentum.RSIIndicator(grupo[target], window=14).rsi()\n",
        "        grupo['rsi_7'] = ta.momentum.RSIIndicator(grupo[target], window=7).rsi()\n",
        "\n",
        "        #MACD\n",
        "        grupo['macd'] = ta.trend.MACD(grupo[target]).macd_diff()\n",
        "\n",
        "        #BB PERCENT\n",
        "        grupo['bb_percent_20_20'] = BollingerBands(grupo[target], window=20, window_dev=2).bollinger_pband()\n",
        "        grupo['bb_percent_30_20'] = BollingerBands(grupo[target], window=30, window_dev=2).bollinger_pband()\n",
        "\n",
        "        #ATR Normalizado\n",
        "        atr = AverageTrueRange(high=grupo['high'], low=grupo['low'], close=grupo[target], window=14)\n",
        "        grupo['atr'] = atr.average_true_range()\n",
        "        grupo['atr_norm'] = grupo['atr'] / grupo[target]\n",
        "        #atr = AverageTrueRange(high=grupo['high'], low=grupo['low'], close=grupo[target], window=14)\n",
        "        #grupo['atr_norm'] = atr.average_true_range() / grupo[target]\n",
        "\n",
        "        return grupo\n",
        "\n",
        "  df = df.groupby('date', group_keys=False).apply(aplicar_por_dia)\n",
        "  return df, best_indicators_list"
      ],
      "metadata": {
        "id": "Rkaz_96wUYet"
      },
      "id": "Rkaz_96wUYet",
      "execution_count": null,
      "outputs": []
    },
    {
      "cell_type": "code",
      "source": [
        "mnq_intraday, best_indicators_list = best_indicators()"
      ],
      "metadata": {
        "id": "H364xS15VKNw"
      },
      "id": "H364xS15VKNw",
      "execution_count": null,
      "outputs": []
    },
    {
      "cell_type": "code",
      "source": [
        "IC_ba = calcular_IC(mnq_intraday, 'target_return_30', best_indicators_list)"
      ],
      "metadata": {
        "id": "wl6qtgO3kTXJ",
        "outputId": "33ed2cfa-85b6-4479-c46d-7de2794faa80",
        "colab": {
          "base_uri": "https://localhost:8080/"
        }
      },
      "id": "wl6qtgO3kTXJ",
      "execution_count": null,
      "outputs": [
        {
          "output_type": "stream",
          "name": "stdout",
          "text": [
            "IC promedio por factor (diario) sobre el target_return_30:\n",
            "\n",
            "rsi_14         : IC medio = 0.6387 | std = 0.0666 | días válidos = 1311\n",
            "rsi_7          : IC medio = 0.4740 | std = 0.0582 | días válidos = 1311\n",
            "macd           : IC medio = 0.1962 | std = 0.0984 | días válidos = 1311\n",
            "bb_percent_20_20: IC medio = 0.4619 | std = 0.0670 | días válidos = 1311\n",
            "bb_percent_30_20: IC medio = 0.5679 | std = 0.0757 | días válidos = 1311\n",
            "atr_norm       : IC medio = 0.4313 | std = 0.1131 | días válidos = 1311\n"
          ]
        }
      ]
    },
    {
      "cell_type": "code",
      "source": [
        "mnq_intraday"
      ],
      "metadata": {
        "id": "_x39FzNyVMLQ",
        "outputId": "ad011ec8-4d88-4c5f-884b-13514dcb972e",
        "colab": {
          "base_uri": "https://localhost:8080/",
          "height": 455
        }
      },
      "id": "_x39FzNyVMLQ",
      "execution_count": null,
      "outputs": [
        {
          "output_type": "execute_result",
          "data": {
            "text/plain": [
              "                                 date      open      high       low     close  \\\n",
              "datetime                                                                        \n",
              "2019-12-23 08:00:00-05:00  2019-12-23   8734.00   8734.25   8733.75   8733.75   \n",
              "2019-12-23 08:01:00-05:00  2019-12-23   8734.00   8734.25   8733.75   8734.00   \n",
              "2019-12-23 08:02:00-05:00  2019-12-23   8734.00   8734.00   8733.25   8733.25   \n",
              "2019-12-23 08:03:00-05:00  2019-12-23   8734.25   8734.50   8734.00   8734.00   \n",
              "2019-12-23 08:04:00-05:00  2019-12-23   8734.00   8734.00   8733.50   8733.75   \n",
              "...                               ...       ...       ...       ...       ...   \n",
              "2025-06-13 15:56:00-04:00  2025-06-13  21624.50  21635.00  21613.50  21617.50   \n",
              "2025-06-13 15:57:00-04:00  2025-06-13  21616.50  21635.25  21615.75  21623.75   \n",
              "2025-06-13 15:58:00-04:00  2025-06-13  21623.25  21632.75  21616.50  21621.75   \n",
              "2025-06-13 15:59:00-04:00  2025-06-13  21622.00  21632.25  21618.00  21628.00   \n",
              "2025-06-13 16:00:00-04:00  2025-06-13  21627.75  21656.25  21622.50  21651.75   \n",
              "\n",
              "                           volume  target_return_30     rsi_14      rsi_7  \\\n",
              "datetime                                                                    \n",
              "2019-12-23 08:00:00-05:00      31          0.000372        NaN        NaN   \n",
              "2019-12-23 08:01:00-05:00      16          0.000286        NaN        NaN   \n",
              "2019-12-23 08:02:00-05:00      23          0.000315        NaN        NaN   \n",
              "2019-12-23 08:03:00-05:00      23          0.000315        NaN        NaN   \n",
              "2019-12-23 08:04:00-05:00      12          0.000458        NaN        NaN   \n",
              "...                           ...               ...        ...        ...   \n",
              "2025-06-13 15:56:00-04:00    3251               NaN  63.154131  77.443346   \n",
              "2025-06-13 15:57:00-04:00    2201               NaN  63.154131  77.443346   \n",
              "2025-06-13 15:58:00-04:00    1859               NaN  63.154131  77.443346   \n",
              "2025-06-13 15:59:00-04:00    2695               NaN  63.154131  77.443346   \n",
              "2025-06-13 16:00:00-04:00    6507               NaN  63.154131  77.443346   \n",
              "\n",
              "                                   macd  bb_percent_30_20  atr_norm  \\\n",
              "datetime                                                              \n",
              "2019-12-23 08:00:00-05:00           NaN               NaN       0.0   \n",
              "2019-12-23 08:01:00-05:00           NaN               NaN       0.0   \n",
              "2019-12-23 08:02:00-05:00           NaN               NaN       0.0   \n",
              "2019-12-23 08:03:00-05:00           NaN               NaN       0.0   \n",
              "2019-12-23 08:04:00-05:00           NaN               NaN       0.0   \n",
              "...                                 ...               ...       ...   \n",
              "2025-06-13 15:56:00-04:00  8.095646e-07               NaN       NaN   \n",
              "2025-06-13 15:57:00-04:00  6.476516e-07               NaN       NaN   \n",
              "2025-06-13 15:58:00-04:00  5.181213e-07               NaN       NaN   \n",
              "2025-06-13 15:59:00-04:00  4.144971e-07               NaN       NaN   \n",
              "2025-06-13 16:00:00-04:00  3.315976e-07               NaN       NaN   \n",
              "\n",
              "                           bb_percent_20_20          atr  \n",
              "datetime                                                  \n",
              "2019-12-23 08:00:00-05:00               NaN     0.000000  \n",
              "2019-12-23 08:01:00-05:00               NaN     0.000000  \n",
              "2019-12-23 08:02:00-05:00               NaN     0.000000  \n",
              "2019-12-23 08:03:00-05:00               NaN     0.000000  \n",
              "2019-12-23 08:04:00-05:00               NaN     0.000000  \n",
              "...                                     ...          ...  \n",
              "2025-06-13 15:56:00-04:00               NaN  3412.904825  \n",
              "2025-06-13 15:57:00-04:00               NaN  3170.518766  \n",
              "2025-06-13 15:58:00-04:00               NaN  2945.213855  \n",
              "2025-06-13 15:59:00-04:00               NaN  2735.859293  \n",
              "2025-06-13 16:00:00-04:00               NaN  2542.851487  \n",
              "\n",
              "[630591 rows x 14 columns]"
            ],
            "text/html": [
              "\n",
              "  <div id=\"df-ed7805d9-1383-4d9b-ae7e-df06a982953c\" class=\"colab-df-container\">\n",
              "    <div>\n",
              "<style scoped>\n",
              "    .dataframe tbody tr th:only-of-type {\n",
              "        vertical-align: middle;\n",
              "    }\n",
              "\n",
              "    .dataframe tbody tr th {\n",
              "        vertical-align: top;\n",
              "    }\n",
              "\n",
              "    .dataframe thead th {\n",
              "        text-align: right;\n",
              "    }\n",
              "</style>\n",
              "<table border=\"1\" class=\"dataframe\">\n",
              "  <thead>\n",
              "    <tr style=\"text-align: right;\">\n",
              "      <th></th>\n",
              "      <th>date</th>\n",
              "      <th>open</th>\n",
              "      <th>high</th>\n",
              "      <th>low</th>\n",
              "      <th>close</th>\n",
              "      <th>volume</th>\n",
              "      <th>target_return_30</th>\n",
              "      <th>rsi_14</th>\n",
              "      <th>rsi_7</th>\n",
              "      <th>macd</th>\n",
              "      <th>bb_percent_30_20</th>\n",
              "      <th>atr_norm</th>\n",
              "      <th>bb_percent_20_20</th>\n",
              "      <th>atr</th>\n",
              "    </tr>\n",
              "    <tr>\n",
              "      <th>datetime</th>\n",
              "      <th></th>\n",
              "      <th></th>\n",
              "      <th></th>\n",
              "      <th></th>\n",
              "      <th></th>\n",
              "      <th></th>\n",
              "      <th></th>\n",
              "      <th></th>\n",
              "      <th></th>\n",
              "      <th></th>\n",
              "      <th></th>\n",
              "      <th></th>\n",
              "      <th></th>\n",
              "      <th></th>\n",
              "    </tr>\n",
              "  </thead>\n",
              "  <tbody>\n",
              "    <tr>\n",
              "      <th>2019-12-23 08:00:00-05:00</th>\n",
              "      <td>2019-12-23</td>\n",
              "      <td>8734.00</td>\n",
              "      <td>8734.25</td>\n",
              "      <td>8733.75</td>\n",
              "      <td>8733.75</td>\n",
              "      <td>31</td>\n",
              "      <td>0.000372</td>\n",
              "      <td>NaN</td>\n",
              "      <td>NaN</td>\n",
              "      <td>NaN</td>\n",
              "      <td>NaN</td>\n",
              "      <td>0.0</td>\n",
              "      <td>NaN</td>\n",
              "      <td>0.000000</td>\n",
              "    </tr>\n",
              "    <tr>\n",
              "      <th>2019-12-23 08:01:00-05:00</th>\n",
              "      <td>2019-12-23</td>\n",
              "      <td>8734.00</td>\n",
              "      <td>8734.25</td>\n",
              "      <td>8733.75</td>\n",
              "      <td>8734.00</td>\n",
              "      <td>16</td>\n",
              "      <td>0.000286</td>\n",
              "      <td>NaN</td>\n",
              "      <td>NaN</td>\n",
              "      <td>NaN</td>\n",
              "      <td>NaN</td>\n",
              "      <td>0.0</td>\n",
              "      <td>NaN</td>\n",
              "      <td>0.000000</td>\n",
              "    </tr>\n",
              "    <tr>\n",
              "      <th>2019-12-23 08:02:00-05:00</th>\n",
              "      <td>2019-12-23</td>\n",
              "      <td>8734.00</td>\n",
              "      <td>8734.00</td>\n",
              "      <td>8733.25</td>\n",
              "      <td>8733.25</td>\n",
              "      <td>23</td>\n",
              "      <td>0.000315</td>\n",
              "      <td>NaN</td>\n",
              "      <td>NaN</td>\n",
              "      <td>NaN</td>\n",
              "      <td>NaN</td>\n",
              "      <td>0.0</td>\n",
              "      <td>NaN</td>\n",
              "      <td>0.000000</td>\n",
              "    </tr>\n",
              "    <tr>\n",
              "      <th>2019-12-23 08:03:00-05:00</th>\n",
              "      <td>2019-12-23</td>\n",
              "      <td>8734.25</td>\n",
              "      <td>8734.50</td>\n",
              "      <td>8734.00</td>\n",
              "      <td>8734.00</td>\n",
              "      <td>23</td>\n",
              "      <td>0.000315</td>\n",
              "      <td>NaN</td>\n",
              "      <td>NaN</td>\n",
              "      <td>NaN</td>\n",
              "      <td>NaN</td>\n",
              "      <td>0.0</td>\n",
              "      <td>NaN</td>\n",
              "      <td>0.000000</td>\n",
              "    </tr>\n",
              "    <tr>\n",
              "      <th>2019-12-23 08:04:00-05:00</th>\n",
              "      <td>2019-12-23</td>\n",
              "      <td>8734.00</td>\n",
              "      <td>8734.00</td>\n",
              "      <td>8733.50</td>\n",
              "      <td>8733.75</td>\n",
              "      <td>12</td>\n",
              "      <td>0.000458</td>\n",
              "      <td>NaN</td>\n",
              "      <td>NaN</td>\n",
              "      <td>NaN</td>\n",
              "      <td>NaN</td>\n",
              "      <td>0.0</td>\n",
              "      <td>NaN</td>\n",
              "      <td>0.000000</td>\n",
              "    </tr>\n",
              "    <tr>\n",
              "      <th>...</th>\n",
              "      <td>...</td>\n",
              "      <td>...</td>\n",
              "      <td>...</td>\n",
              "      <td>...</td>\n",
              "      <td>...</td>\n",
              "      <td>...</td>\n",
              "      <td>...</td>\n",
              "      <td>...</td>\n",
              "      <td>...</td>\n",
              "      <td>...</td>\n",
              "      <td>...</td>\n",
              "      <td>...</td>\n",
              "      <td>...</td>\n",
              "      <td>...</td>\n",
              "    </tr>\n",
              "    <tr>\n",
              "      <th>2025-06-13 15:56:00-04:00</th>\n",
              "      <td>2025-06-13</td>\n",
              "      <td>21624.50</td>\n",
              "      <td>21635.00</td>\n",
              "      <td>21613.50</td>\n",
              "      <td>21617.50</td>\n",
              "      <td>3251</td>\n",
              "      <td>NaN</td>\n",
              "      <td>63.154131</td>\n",
              "      <td>77.443346</td>\n",
              "      <td>8.095646e-07</td>\n",
              "      <td>NaN</td>\n",
              "      <td>NaN</td>\n",
              "      <td>NaN</td>\n",
              "      <td>3412.904825</td>\n",
              "    </tr>\n",
              "    <tr>\n",
              "      <th>2025-06-13 15:57:00-04:00</th>\n",
              "      <td>2025-06-13</td>\n",
              "      <td>21616.50</td>\n",
              "      <td>21635.25</td>\n",
              "      <td>21615.75</td>\n",
              "      <td>21623.75</td>\n",
              "      <td>2201</td>\n",
              "      <td>NaN</td>\n",
              "      <td>63.154131</td>\n",
              "      <td>77.443346</td>\n",
              "      <td>6.476516e-07</td>\n",
              "      <td>NaN</td>\n",
              "      <td>NaN</td>\n",
              "      <td>NaN</td>\n",
              "      <td>3170.518766</td>\n",
              "    </tr>\n",
              "    <tr>\n",
              "      <th>2025-06-13 15:58:00-04:00</th>\n",
              "      <td>2025-06-13</td>\n",
              "      <td>21623.25</td>\n",
              "      <td>21632.75</td>\n",
              "      <td>21616.50</td>\n",
              "      <td>21621.75</td>\n",
              "      <td>1859</td>\n",
              "      <td>NaN</td>\n",
              "      <td>63.154131</td>\n",
              "      <td>77.443346</td>\n",
              "      <td>5.181213e-07</td>\n",
              "      <td>NaN</td>\n",
              "      <td>NaN</td>\n",
              "      <td>NaN</td>\n",
              "      <td>2945.213855</td>\n",
              "    </tr>\n",
              "    <tr>\n",
              "      <th>2025-06-13 15:59:00-04:00</th>\n",
              "      <td>2025-06-13</td>\n",
              "      <td>21622.00</td>\n",
              "      <td>21632.25</td>\n",
              "      <td>21618.00</td>\n",
              "      <td>21628.00</td>\n",
              "      <td>2695</td>\n",
              "      <td>NaN</td>\n",
              "      <td>63.154131</td>\n",
              "      <td>77.443346</td>\n",
              "      <td>4.144971e-07</td>\n",
              "      <td>NaN</td>\n",
              "      <td>NaN</td>\n",
              "      <td>NaN</td>\n",
              "      <td>2735.859293</td>\n",
              "    </tr>\n",
              "    <tr>\n",
              "      <th>2025-06-13 16:00:00-04:00</th>\n",
              "      <td>2025-06-13</td>\n",
              "      <td>21627.75</td>\n",
              "      <td>21656.25</td>\n",
              "      <td>21622.50</td>\n",
              "      <td>21651.75</td>\n",
              "      <td>6507</td>\n",
              "      <td>NaN</td>\n",
              "      <td>63.154131</td>\n",
              "      <td>77.443346</td>\n",
              "      <td>3.315976e-07</td>\n",
              "      <td>NaN</td>\n",
              "      <td>NaN</td>\n",
              "      <td>NaN</td>\n",
              "      <td>2542.851487</td>\n",
              "    </tr>\n",
              "  </tbody>\n",
              "</table>\n",
              "<p>630591 rows × 14 columns</p>\n",
              "</div>\n",
              "    <div class=\"colab-df-buttons\">\n",
              "\n",
              "  <div class=\"colab-df-container\">\n",
              "    <button class=\"colab-df-convert\" onclick=\"convertToInteractive('df-ed7805d9-1383-4d9b-ae7e-df06a982953c')\"\n",
              "            title=\"Convert this dataframe to an interactive table.\"\n",
              "            style=\"display:none;\">\n",
              "\n",
              "  <svg xmlns=\"http://www.w3.org/2000/svg\" height=\"24px\" viewBox=\"0 -960 960 960\">\n",
              "    <path d=\"M120-120v-720h720v720H120Zm60-500h600v-160H180v160Zm220 220h160v-160H400v160Zm0 220h160v-160H400v160ZM180-400h160v-160H180v160Zm440 0h160v-160H620v160ZM180-180h160v-160H180v160Zm440 0h160v-160H620v160Z\"/>\n",
              "  </svg>\n",
              "    </button>\n",
              "\n",
              "  <style>\n",
              "    .colab-df-container {\n",
              "      display:flex;\n",
              "      gap: 12px;\n",
              "    }\n",
              "\n",
              "    .colab-df-convert {\n",
              "      background-color: #E8F0FE;\n",
              "      border: none;\n",
              "      border-radius: 50%;\n",
              "      cursor: pointer;\n",
              "      display: none;\n",
              "      fill: #1967D2;\n",
              "      height: 32px;\n",
              "      padding: 0 0 0 0;\n",
              "      width: 32px;\n",
              "    }\n",
              "\n",
              "    .colab-df-convert:hover {\n",
              "      background-color: #E2EBFA;\n",
              "      box-shadow: 0px 1px 2px rgba(60, 64, 67, 0.3), 0px 1px 3px 1px rgba(60, 64, 67, 0.15);\n",
              "      fill: #174EA6;\n",
              "    }\n",
              "\n",
              "    .colab-df-buttons div {\n",
              "      margin-bottom: 4px;\n",
              "    }\n",
              "\n",
              "    [theme=dark] .colab-df-convert {\n",
              "      background-color: #3B4455;\n",
              "      fill: #D2E3FC;\n",
              "    }\n",
              "\n",
              "    [theme=dark] .colab-df-convert:hover {\n",
              "      background-color: #434B5C;\n",
              "      box-shadow: 0px 1px 3px 1px rgba(0, 0, 0, 0.15);\n",
              "      filter: drop-shadow(0px 1px 2px rgba(0, 0, 0, 0.3));\n",
              "      fill: #FFFFFF;\n",
              "    }\n",
              "  </style>\n",
              "\n",
              "    <script>\n",
              "      const buttonEl =\n",
              "        document.querySelector('#df-ed7805d9-1383-4d9b-ae7e-df06a982953c button.colab-df-convert');\n",
              "      buttonEl.style.display =\n",
              "        google.colab.kernel.accessAllowed ? 'block' : 'none';\n",
              "\n",
              "      async function convertToInteractive(key) {\n",
              "        const element = document.querySelector('#df-ed7805d9-1383-4d9b-ae7e-df06a982953c');\n",
              "        const dataTable =\n",
              "          await google.colab.kernel.invokeFunction('convertToInteractive',\n",
              "                                                    [key], {});\n",
              "        if (!dataTable) return;\n",
              "\n",
              "        const docLinkHtml = 'Like what you see? Visit the ' +\n",
              "          '<a target=\"_blank\" href=https://colab.research.google.com/notebooks/data_table.ipynb>data table notebook</a>'\n",
              "          + ' to learn more about interactive tables.';\n",
              "        element.innerHTML = '';\n",
              "        dataTable['output_type'] = 'display_data';\n",
              "        await google.colab.output.renderOutput(dataTable, element);\n",
              "        const docLink = document.createElement('div');\n",
              "        docLink.innerHTML = docLinkHtml;\n",
              "        element.appendChild(docLink);\n",
              "      }\n",
              "    </script>\n",
              "  </div>\n",
              "\n",
              "\n",
              "    <div id=\"df-fadaea3a-4f12-4560-a628-0635d948468c\">\n",
              "      <button class=\"colab-df-quickchart\" onclick=\"quickchart('df-fadaea3a-4f12-4560-a628-0635d948468c')\"\n",
              "                title=\"Suggest charts\"\n",
              "                style=\"display:none;\">\n",
              "\n",
              "<svg xmlns=\"http://www.w3.org/2000/svg\" height=\"24px\"viewBox=\"0 0 24 24\"\n",
              "     width=\"24px\">\n",
              "    <g>\n",
              "        <path d=\"M19 3H5c-1.1 0-2 .9-2 2v14c0 1.1.9 2 2 2h14c1.1 0 2-.9 2-2V5c0-1.1-.9-2-2-2zM9 17H7v-7h2v7zm4 0h-2V7h2v10zm4 0h-2v-4h2v4z\"/>\n",
              "    </g>\n",
              "</svg>\n",
              "      </button>\n",
              "\n",
              "<style>\n",
              "  .colab-df-quickchart {\n",
              "      --bg-color: #E8F0FE;\n",
              "      --fill-color: #1967D2;\n",
              "      --hover-bg-color: #E2EBFA;\n",
              "      --hover-fill-color: #174EA6;\n",
              "      --disabled-fill-color: #AAA;\n",
              "      --disabled-bg-color: #DDD;\n",
              "  }\n",
              "\n",
              "  [theme=dark] .colab-df-quickchart {\n",
              "      --bg-color: #3B4455;\n",
              "      --fill-color: #D2E3FC;\n",
              "      --hover-bg-color: #434B5C;\n",
              "      --hover-fill-color: #FFFFFF;\n",
              "      --disabled-bg-color: #3B4455;\n",
              "      --disabled-fill-color: #666;\n",
              "  }\n",
              "\n",
              "  .colab-df-quickchart {\n",
              "    background-color: var(--bg-color);\n",
              "    border: none;\n",
              "    border-radius: 50%;\n",
              "    cursor: pointer;\n",
              "    display: none;\n",
              "    fill: var(--fill-color);\n",
              "    height: 32px;\n",
              "    padding: 0;\n",
              "    width: 32px;\n",
              "  }\n",
              "\n",
              "  .colab-df-quickchart:hover {\n",
              "    background-color: var(--hover-bg-color);\n",
              "    box-shadow: 0 1px 2px rgba(60, 64, 67, 0.3), 0 1px 3px 1px rgba(60, 64, 67, 0.15);\n",
              "    fill: var(--button-hover-fill-color);\n",
              "  }\n",
              "\n",
              "  .colab-df-quickchart-complete:disabled,\n",
              "  .colab-df-quickchart-complete:disabled:hover {\n",
              "    background-color: var(--disabled-bg-color);\n",
              "    fill: var(--disabled-fill-color);\n",
              "    box-shadow: none;\n",
              "  }\n",
              "\n",
              "  .colab-df-spinner {\n",
              "    border: 2px solid var(--fill-color);\n",
              "    border-color: transparent;\n",
              "    border-bottom-color: var(--fill-color);\n",
              "    animation:\n",
              "      spin 1s steps(1) infinite;\n",
              "  }\n",
              "\n",
              "  @keyframes spin {\n",
              "    0% {\n",
              "      border-color: transparent;\n",
              "      border-bottom-color: var(--fill-color);\n",
              "      border-left-color: var(--fill-color);\n",
              "    }\n",
              "    20% {\n",
              "      border-color: transparent;\n",
              "      border-left-color: var(--fill-color);\n",
              "      border-top-color: var(--fill-color);\n",
              "    }\n",
              "    30% {\n",
              "      border-color: transparent;\n",
              "      border-left-color: var(--fill-color);\n",
              "      border-top-color: var(--fill-color);\n",
              "      border-right-color: var(--fill-color);\n",
              "    }\n",
              "    40% {\n",
              "      border-color: transparent;\n",
              "      border-right-color: var(--fill-color);\n",
              "      border-top-color: var(--fill-color);\n",
              "    }\n",
              "    60% {\n",
              "      border-color: transparent;\n",
              "      border-right-color: var(--fill-color);\n",
              "    }\n",
              "    80% {\n",
              "      border-color: transparent;\n",
              "      border-right-color: var(--fill-color);\n",
              "      border-bottom-color: var(--fill-color);\n",
              "    }\n",
              "    90% {\n",
              "      border-color: transparent;\n",
              "      border-bottom-color: var(--fill-color);\n",
              "    }\n",
              "  }\n",
              "</style>\n",
              "\n",
              "      <script>\n",
              "        async function quickchart(key) {\n",
              "          const quickchartButtonEl =\n",
              "            document.querySelector('#' + key + ' button');\n",
              "          quickchartButtonEl.disabled = true;  // To prevent multiple clicks.\n",
              "          quickchartButtonEl.classList.add('colab-df-spinner');\n",
              "          try {\n",
              "            const charts = await google.colab.kernel.invokeFunction(\n",
              "                'suggestCharts', [key], {});\n",
              "          } catch (error) {\n",
              "            console.error('Error during call to suggestCharts:', error);\n",
              "          }\n",
              "          quickchartButtonEl.classList.remove('colab-df-spinner');\n",
              "          quickchartButtonEl.classList.add('colab-df-quickchart-complete');\n",
              "        }\n",
              "        (() => {\n",
              "          let quickchartButtonEl =\n",
              "            document.querySelector('#df-fadaea3a-4f12-4560-a628-0635d948468c button');\n",
              "          quickchartButtonEl.style.display =\n",
              "            google.colab.kernel.accessAllowed ? 'block' : 'none';\n",
              "        })();\n",
              "      </script>\n",
              "    </div>\n",
              "\n",
              "  <div id=\"id_1079ac43-540e-42b7-ab1c-252a83e07e2b\">\n",
              "    <style>\n",
              "      .colab-df-generate {\n",
              "        background-color: #E8F0FE;\n",
              "        border: none;\n",
              "        border-radius: 50%;\n",
              "        cursor: pointer;\n",
              "        display: none;\n",
              "        fill: #1967D2;\n",
              "        height: 32px;\n",
              "        padding: 0 0 0 0;\n",
              "        width: 32px;\n",
              "      }\n",
              "\n",
              "      .colab-df-generate:hover {\n",
              "        background-color: #E2EBFA;\n",
              "        box-shadow: 0px 1px 2px rgba(60, 64, 67, 0.3), 0px 1px 3px 1px rgba(60, 64, 67, 0.15);\n",
              "        fill: #174EA6;\n",
              "      }\n",
              "\n",
              "      [theme=dark] .colab-df-generate {\n",
              "        background-color: #3B4455;\n",
              "        fill: #D2E3FC;\n",
              "      }\n",
              "\n",
              "      [theme=dark] .colab-df-generate:hover {\n",
              "        background-color: #434B5C;\n",
              "        box-shadow: 0px 1px 3px 1px rgba(0, 0, 0, 0.15);\n",
              "        filter: drop-shadow(0px 1px 2px rgba(0, 0, 0, 0.3));\n",
              "        fill: #FFFFFF;\n",
              "      }\n",
              "    </style>\n",
              "    <button class=\"colab-df-generate\" onclick=\"generateWithVariable('mnq_intraday')\"\n",
              "            title=\"Generate code using this dataframe.\"\n",
              "            style=\"display:none;\">\n",
              "\n",
              "  <svg xmlns=\"http://www.w3.org/2000/svg\" height=\"24px\"viewBox=\"0 0 24 24\"\n",
              "       width=\"24px\">\n",
              "    <path d=\"M7,19H8.4L18.45,9,17,7.55,7,17.6ZM5,21V16.75L18.45,3.32a2,2,0,0,1,2.83,0l1.4,1.43a1.91,1.91,0,0,1,.58,1.4,1.91,1.91,0,0,1-.58,1.4L9.25,21ZM18.45,9,17,7.55Zm-12,3A5.31,5.31,0,0,0,4.9,8.1,5.31,5.31,0,0,0,1,6.5,5.31,5.31,0,0,0,4.9,4.9,5.31,5.31,0,0,0,6.5,1,5.31,5.31,0,0,0,8.1,4.9,5.31,5.31,0,0,0,12,6.5,5.46,5.46,0,0,0,6.5,12Z\"/>\n",
              "  </svg>\n",
              "    </button>\n",
              "    <script>\n",
              "      (() => {\n",
              "      const buttonEl =\n",
              "        document.querySelector('#id_1079ac43-540e-42b7-ab1c-252a83e07e2b button.colab-df-generate');\n",
              "      buttonEl.style.display =\n",
              "        google.colab.kernel.accessAllowed ? 'block' : 'none';\n",
              "\n",
              "      buttonEl.onclick = () => {\n",
              "        google.colab.notebook.generateWithVariable('mnq_intraday');\n",
              "      }\n",
              "      })();\n",
              "    </script>\n",
              "  </div>\n",
              "\n",
              "    </div>\n",
              "  </div>\n"
            ],
            "application/vnd.google.colaboratory.intrinsic+json": {
              "type": "dataframe",
              "variable_name": "mnq_intraday"
            }
          },
          "metadata": {},
          "execution_count": 61
        }
      ]
    },
    {
      "cell_type": "code",
      "source": [
        "best_indicators_list"
      ],
      "metadata": {
        "id": "agU2dwnga_4A",
        "outputId": "284a07db-7255-4a3e-a599-e9677c9f0a7d",
        "colab": {
          "base_uri": "https://localhost:8080/"
        }
      },
      "id": "agU2dwnga_4A",
      "execution_count": null,
      "outputs": [
        {
          "output_type": "execute_result",
          "data": {
            "text/plain": [
              "['rsi_14', 'rsi_7', 'macd', 'bb_percent_20_20', 'bb_percent_30_20', 'atr_norm']"
            ]
          },
          "metadata": {},
          "execution_count": 62
        }
      ]
    },
    {
      "cell_type": "markdown",
      "source": [
        "## 5. Análisis del IC durante el día."
      ],
      "metadata": {
        "id": "-EvcPGZncmWg"
      },
      "id": "-EvcPGZncmWg"
    },
    {
      "cell_type": "markdown",
      "source": [
        "### 5.1. Funciones"
      ],
      "metadata": {
        "id": "1hXAN-oAmkvL"
      },
      "id": "1hXAN-oAmkvL"
    },
    {
      "cell_type": "markdown",
      "source": [
        "#### Función para plotear el comportamiento"
      ],
      "metadata": {
        "id": "Qblm4nWcc4Ij"
      },
      "id": "Qblm4nWcc4Ij"
    },
    {
      "cell_type": "code",
      "source": [
        "def plot_ic_tecnicos_por_minuto(df: pd.DataFrame,\n",
        "                                 factors: list[str],\n",
        "                                 target: str,\n",
        "                                 date_col: str = 'date'):\n",
        "    \"\"\"\n",
        "    Calcula y grafica el IC por minuto intradía para una lista de indicadores técnicos.\n",
        "    El eje X muestra el tiempo intradía (desde las 08:00 AM).\n",
        "    \"\"\"\n",
        "\n",
        "    df = df.copy()\n",
        "    df['minute_index'] = df.groupby(date_col).cumcount()\n",
        "\n",
        "    def compute_ic_series(factor_col, target_col):\n",
        "        grouped = df[[factor_col, target_col, 'minute_index']].dropna()\n",
        "        return grouped.groupby('minute_index').apply(\n",
        "            lambda x: x[factor_col].corr(x[target_col])\n",
        "        )\n",
        "\n",
        "    # Calcular IC por minuto para cada factor\n",
        "    ic_series = {factor: compute_ic_series(factor, target) for factor in factors}\n",
        "\n",
        "    # Eje X: minutos del día y etiquetas horarias\n",
        "    xticks = np.arange(0, 451, 30)\n",
        "    start_time = pd.to_datetime(\"08:00\")\n",
        "    time_labels = [(start_time + pd.Timedelta(minutes=i)).strftime(\"%H:%M\") for i in xticks]\n",
        "\n",
        "    # Graficar\n",
        "    plt.figure(figsize=(15, 6))\n",
        "    for factor, ic in ic_series.items():\n",
        "        plt.plot(ic.index, ic, label=factor)\n",
        "\n",
        "    plt.axhline(0, color='black', linestyle='--', linewidth=1)\n",
        "    plt.title(f'IC por minuto del día - Target: {target}')\n",
        "    plt.xlabel('Hora intradía')\n",
        "    plt.ylabel('Information Coefficient (IC)')\n",
        "    plt.xticks(ticks=xticks, labels=time_labels, rotation=45)\n",
        "    plt.legend()\n",
        "    plt.grid(True)\n",
        "    plt.tight_layout()\n",
        "    plt.show()\n",
        "\n",
        "    return ic_series"
      ],
      "metadata": {
        "id": "4j3ojqUHaQiW"
      },
      "id": "4j3ojqUHaQiW",
      "execution_count": null,
      "outputs": []
    },
    {
      "cell_type": "markdown",
      "source": [
        "#### Función para analizar los mejores y peores IC durante el día"
      ],
      "metadata": {
        "id": "rvPNZkcGc-ZF"
      },
      "id": "rvPNZkcGc-ZF"
    },
    {
      "cell_type": "code",
      "source": [
        "def analyze_intraday_ic_extremes(ic_minute_df: pd.DataFrame,\n",
        "                                 mode: str = 'worst',\n",
        "                                 top_n: int = 30,\n",
        "                                 market_open: str = \"08:00\") -> pd.DataFrame:\n",
        "    \"\"\"\n",
        "    Analiza series de IC minuto a minuto para distintos alpha factors.\n",
        "    Retorna el IC mínimo, IC máximo, y el promedio de los top_n peores o mejores ICs,\n",
        "    indicando la hora exacta en la que ocurren los extremos.\n",
        "\n",
        "    Parámetros:\n",
        "    - ic_minute_df: DataFrame con columnas = alpha factors, índice = minuto (0 a 450)\n",
        "    - mode: 'worst' para los peores ICs, 'best' para los mejores ICs\n",
        "    - top_n: cantidad de valores extremos a promediar\n",
        "    - market_open: hora de inicio del mercado en formato \"HH:MM\" (por defecto 08:30)\n",
        "\n",
        "    Retorna:\n",
        "    - DataFrame resumen ordenado por el promedio de los ICs extremos\n",
        "    \"\"\"\n",
        "    results = []\n",
        "    base_time = pd.to_datetime(market_open)\n",
        "\n",
        "    for col in ic_minute_df.columns:\n",
        "        series = ic_minute_df[col].dropna()\n",
        "\n",
        "        if mode == 'worst':\n",
        "            extreme_vals = series.nsmallest(top_n)\n",
        "        elif mode == 'best':\n",
        "            extreme_vals = series.nlargest(top_n)\n",
        "        else:\n",
        "            raise ValueError(\"El parámetro 'mode' debe ser 'worst' o 'best'.\")\n",
        "\n",
        "        extreme_mean = extreme_vals.mean()\n",
        "\n",
        "        # IC mínimo y su hora\n",
        "        min_ic = series.min()\n",
        "        min_minute = series.idxmin()\n",
        "        min_time = (base_time + pd.Timedelta(minutes=min_minute)).strftime(\"%H:%M\")\n",
        "\n",
        "        # IC máximo y su hora\n",
        "        max_ic = series.max()\n",
        "        max_minute = series.idxmax()\n",
        "        max_time = (base_time + pd.Timedelta(minutes=max_minute)).strftime(\"%H:%M\")\n",
        "\n",
        "        results.append({\n",
        "            'Alpha Factor': col,\n",
        "            'IC mínimo': min_ic,\n",
        "            'Hora del IC mínimo': min_time,\n",
        "            'IC máximo': max_ic,\n",
        "            'Hora del IC máximo': max_time,\n",
        "            f'Promedio de los {top_n} {\"peores\" if mode == \"worst\" else \"mejores\"} ICs': extreme_mean\n",
        "        })\n",
        "\n",
        "    result_df = pd.DataFrame(results).set_index('Alpha Factor')\n",
        "    sort_col = result_df.columns[-1]\n",
        "    result_df = result_df.sort_values(sort_col, ascending=(mode == 'worst'))\n",
        "\n",
        "    return result_df"
      ],
      "metadata": {
        "id": "hwBUAFGCdCjM"
      },
      "id": "hwBUAFGCdCjM",
      "execution_count": null,
      "outputs": []
    },
    {
      "cell_type": "markdown",
      "source": [
        "### 5.2. Gráfico de comportamiento"
      ],
      "metadata": {
        "id": "ItgfnWZ-dKFk"
      },
      "id": "ItgfnWZ-dKFk"
    },
    {
      "cell_type": "code",
      "source": [
        "# 1. Calcular el IC por minuto para los mejores factores\n",
        "ic_por_minuto = plot_ic_tecnicos_por_minuto(mnq_intraday, best_indicators_list, target='target_return_30')"
      ],
      "metadata": {
        "id": "-mQ7LaQVbnY0",
        "outputId": "c4bd0f62-3b86-4870-dfb1-7fb9386fcb9a",
        "colab": {
          "base_uri": "https://localhost:8080/",
          "height": 606
        }
      },
      "id": "-mQ7LaQVbnY0",
      "execution_count": null,
      "outputs": [
        {
          "output_type": "display_data",
          "data": {
            "text/plain": [
              "<Figure size 1500x600 with 1 Axes>"
            ],
            "image/png": "[encoded data removed]"
          },
          "metadata": {}
        }
      ]
    },
    {
      "cell_type": "markdown",
      "source": [
        "Este gráfico muestra la evolución intradía del Information Coefficient (IC) minuto a minuto para los principales indicadores técnicos seleccionados.\n",
        "\n",
        "`rsi_14`\n",
        "- Se mantiene como el mejor factor durante todo el día.\n",
        "- Alcanza su pico entre las 09:00 y 09:30, superando un IC de 0.8.\n",
        "- Conserva valores superiores a 0.5 durante toda la jornada, mostrando alta estabilidad y poder predictivo constante.\n",
        "\n",
        "`rsi_7`\n",
        "- Fuerte tras la apertura, con un IC que supera 0.6 momentáneamente.\n",
        "- Posteriormente se estabiliza entre 0.35 y 0.4, ofreciendo una señal secundaria útil pero menos potente que `rsi_14`.\n",
        "\n",
        "`macd`\n",
        "- Muestra un comportamiento altamente volátil, con picos de IC positivos pasando las 09:00, pero también caídas frecuentes.\n",
        "- A menudo oscila cerca de 0 o incluso bajo cero, lo que indica baja consistencia y sensibilidad al horario.\n",
        "\n",
        "`bb_percent_30_20`\n",
        "- Tiene un rendimiento excelente en la apertura con IC > 0.75.\n",
        "- A lo largo del día se estabiliza entre 0.4 y 0.5, lo que lo posiciona como un factor muy sólido y confiable.\n",
        "\n",
        "`bb_percent_20_20`\n",
        "- Similar comportamiento al `rsi_7`, con un IC inicial alto seguido de valores constantes entre 0.3 y 0.4.\n",
        "- Es una alternativa válida, aunque menos destacada que su versión con ventana 30.\n",
        "\n",
        "`atr_norm`\n",
        "- Presenta un IC bajo, generalmente en torno a 0.05, pero con una estabilidad notable.\n",
        "- Aunque no aporta una señal fuerte, podría actuar como factor complementario, especialmente por su carácter defensivo y constante.\n",
        "\n",
        "<br>\n",
        "\n",
        "**Conclusión general**\n",
        "\n",
        "- La primera hora de negociación (08:30–09:30) concentra el mayor poder predictivo de los indicadores técnicos.\n",
        "- `rsi_14` y `bb_percent_30_20` son los factores más efectivos, mostrando IC alto y sostenido a lo largo del día.\n",
        "- `macd` es el más inestable, útil solo en ciertos momentos.\n",
        "- `atr_norm` es el más constante, pero tiene bajo poder predictivo relativo."
      ],
      "metadata": {
        "id": "JICmb7QohYaL"
      },
      "id": "JICmb7QohYaL"
    },
    {
      "cell_type": "markdown",
      "source": [
        "### 5.3. Peores IC durante el día"
      ],
      "metadata": {
        "id": "cYuD0W3Am3n-"
      },
      "id": "cYuD0W3Am3n-"
    },
    {
      "cell_type": "code",
      "source": [
        "# 2. Convertir el dict a DataFrame para análisis de extremos\n",
        "ic_minute_df = pd.DataFrame(ic_por_minuto)\n",
        "\n",
        "# 3. Analizar los peores momentos del día para cada factor\n",
        "print('\\nPeores momentos de IC:\\n')\n",
        "peores_horas = analyze_intraday_ic_extremes(ic_minute_df, mode='worst', top_n=30)\n",
        "display(peores_horas)"
      ],
      "metadata": {
        "id": "xqbH5pghhyHQ",
        "outputId": "f31cb1c4-0408-490b-df7e-3683bf589aaf",
        "colab": {
          "base_uri": "https://localhost:8080/",
          "height": 321
        }
      },
      "id": "xqbH5pghhyHQ",
      "execution_count": null,
      "outputs": [
        {
          "output_type": "stream",
          "name": "stdout",
          "text": [
            "\n",
            "Peores momentos de IC:\n",
            "\n"
          ]
        },
        {
          "output_type": "display_data",
          "data": {
            "text/plain": [
              "                  IC mínimo Hora del IC mínimo  IC máximo Hora del IC máximo  \\\n",
              "Alpha Factor                                                                   \n",
              "macd              -0.047733              13:25   0.763289              09:08   \n",
              "atr_norm           0.033304              09:28   0.057095              09:29   \n",
              "bb_percent_20_20   0.187528              08:31   0.740279              09:07   \n",
              "rsi_7              0.242861              08:31   0.775382              09:07   \n",
              "bb_percent_30_20   0.267360              08:31   0.756700              09:07   \n",
              "rsi_14             0.384683              08:36   0.804358              09:08   \n",
              "\n",
              "                  Promedio de los 30 peores ICs  \n",
              "Alpha Factor                                     \n",
              "macd                                  -0.001461  \n",
              "atr_norm                               0.042557  \n",
              "bb_percent_20_20                       0.253421  \n",
              "rsi_7                                  0.284903  \n",
              "bb_percent_30_20                       0.327201  \n",
              "rsi_14                                 0.416709  "
            ],
            "text/html": [
              "\n",
              "  <div id=\"df-80589e8c-d0bc-4805-a30b-e91c7371fcb2\" class=\"colab-df-container\">\n",
              "    <div>\n",
              "<style scoped>\n",
              "    .dataframe tbody tr th:only-of-type {\n",
              "        vertical-align: middle;\n",
              "    }\n",
              "\n",
              "    .dataframe tbody tr th {\n",
              "        vertical-align: top;\n",
              "    }\n",
              "\n",
              "    .dataframe thead th {\n",
              "        text-align: right;\n",
              "    }\n",
              "</style>\n",
              "<table border=\"1\" class=\"dataframe\">\n",
              "  <thead>\n",
              "    <tr style=\"text-align: right;\">\n",
              "      <th></th>\n",
              "      <th>IC mínimo</th>\n",
              "      <th>Hora del IC mínimo</th>\n",
              "      <th>IC máximo</th>\n",
              "      <th>Hora del IC máximo</th>\n",
              "      <th>Promedio de los 30 peores ICs</th>\n",
              "    </tr>\n",
              "    <tr>\n",
              "      <th>Alpha Factor</th>\n",
              "      <th></th>\n",
              "      <th></th>\n",
              "      <th></th>\n",
              "      <th></th>\n",
              "      <th></th>\n",
              "    </tr>\n",
              "  </thead>\n",
              "  <tbody>\n",
              "    <tr>\n",
              "      <th>macd</th>\n",
              "      <td>-0.047733</td>\n",
              "      <td>13:25</td>\n",
              "      <td>0.763289</td>\n",
              "      <td>09:08</td>\n",
              "      <td>-0.001461</td>\n",
              "    </tr>\n",
              "    <tr>\n",
              "      <th>atr_norm</th>\n",
              "      <td>0.033304</td>\n",
              "      <td>09:28</td>\n",
              "      <td>0.057095</td>\n",
              "      <td>09:29</td>\n",
              "      <td>0.042557</td>\n",
              "    </tr>\n",
              "    <tr>\n",
              "      <th>bb_percent_20_20</th>\n",
              "      <td>0.187528</td>\n",
              "      <td>08:31</td>\n",
              "      <td>0.740279</td>\n",
              "      <td>09:07</td>\n",
              "      <td>0.253421</td>\n",
              "    </tr>\n",
              "    <tr>\n",
              "      <th>rsi_7</th>\n",
              "      <td>0.242861</td>\n",
              "      <td>08:31</td>\n",
              "      <td>0.775382</td>\n",
              "      <td>09:07</td>\n",
              "      <td>0.284903</td>\n",
              "    </tr>\n",
              "    <tr>\n",
              "      <th>bb_percent_30_20</th>\n",
              "      <td>0.267360</td>\n",
              "      <td>08:31</td>\n",
              "      <td>0.756700</td>\n",
              "      <td>09:07</td>\n",
              "      <td>0.327201</td>\n",
              "    </tr>\n",
              "    <tr>\n",
              "      <th>rsi_14</th>\n",
              "      <td>0.384683</td>\n",
              "      <td>08:36</td>\n",
              "      <td>0.804358</td>\n",
              "      <td>09:08</td>\n",
              "      <td>0.416709</td>\n",
              "    </tr>\n",
              "  </tbody>\n",
              "</table>\n",
              "</div>\n",
              "    <div class=\"colab-df-buttons\">\n",
              "\n",
              "  <div class=\"colab-df-container\">\n",
              "    <button class=\"colab-df-convert\" onclick=\"convertToInteractive('df-80589e8c-d0bc-4805-a30b-e91c7371fcb2')\"\n",
              "            title=\"Convert this dataframe to an interactive table.\"\n",
              "            style=\"display:none;\">\n",
              "\n",
              "  <svg xmlns=\"http://www.w3.org/2000/svg\" height=\"24px\" viewBox=\"0 -960 960 960\">\n",
              "    <path d=\"M120-120v-720h720v720H120Zm60-500h600v-160H180v160Zm220 220h160v-160H400v160Zm0 220h160v-160H400v160ZM180-400h160v-160H180v160Zm440 0h160v-160H620v160ZM180-180h160v-160H180v160Zm440 0h160v-160H620v160Z\"/>\n",
              "  </svg>\n",
              "    </button>\n",
              "\n",
              "  <style>\n",
              "    .colab-df-container {\n",
              "      display:flex;\n",
              "      gap: 12px;\n",
              "    }\n",
              "\n",
              "    .colab-df-convert {\n",
              "      background-color: #E8F0FE;\n",
              "      border: none;\n",
              "      border-radius: 50%;\n",
              "      cursor: pointer;\n",
              "      display: none;\n",
              "      fill: #1967D2;\n",
              "      height: 32px;\n",
              "      padding: 0 0 0 0;\n",
              "      width: 32px;\n",
              "    }\n",
              "\n",
              "    .colab-df-convert:hover {\n",
              "      background-color: #E2EBFA;\n",
              "      box-shadow: 0px 1px 2px rgba(60, 64, 67, 0.3), 0px 1px 3px 1px rgba(60, 64, 67, 0.15);\n",
              "      fill: #174EA6;\n",
              "    }\n",
              "\n",
              "    .colab-df-buttons div {\n",
              "      margin-bottom: 4px;\n",
              "    }\n",
              "\n",
              "    [theme=dark] .colab-df-convert {\n",
              "      background-color: #3B4455;\n",
              "      fill: #D2E3FC;\n",
              "    }\n",
              "\n",
              "    [theme=dark] .colab-df-convert:hover {\n",
              "      background-color: #434B5C;\n",
              "      box-shadow: 0px 1px 3px 1px rgba(0, 0, 0, 0.15);\n",
              "      filter: drop-shadow(0px 1px 2px rgba(0, 0, 0, 0.3));\n",
              "      fill: #FFFFFF;\n",
              "    }\n",
              "  </style>\n",
              "\n",
              "    <script>\n",
              "      const buttonEl =\n",
              "        document.querySelector('#df-80589e8c-d0bc-4805-a30b-e91c7371fcb2 button.colab-df-convert');\n",
              "      buttonEl.style.display =\n",
              "        google.colab.kernel.accessAllowed ? 'block' : 'none';\n",
              "\n",
              "      async function convertToInteractive(key) {\n",
              "        const element = document.querySelector('#df-80589e8c-d0bc-4805-a30b-e91c7371fcb2');\n",
              "        const dataTable =\n",
              "          await google.colab.kernel.invokeFunction('convertToInteractive',\n",
              "                                                    [key], {});\n",
              "        if (!dataTable) return;\n",
              "\n",
              "        const docLinkHtml = 'Like what you see? Visit the ' +\n",
              "          '<a target=\"_blank\" href=https://colab.research.google.com/notebooks/data_table.ipynb>data table notebook</a>'\n",
              "          + ' to learn more about interactive tables.';\n",
              "        element.innerHTML = '';\n",
              "        dataTable['output_type'] = 'display_data';\n",
              "        await google.colab.output.renderOutput(dataTable, element);\n",
              "        const docLink = document.createElement('div');\n",
              "        docLink.innerHTML = docLinkHtml;\n",
              "        element.appendChild(docLink);\n",
              "      }\n",
              "    </script>\n",
              "  </div>\n",
              "\n",
              "\n",
              "    <div id=\"df-7ff88537-7070-49e4-b3d4-4292fc243701\">\n",
              "      <button class=\"colab-df-quickchart\" onclick=\"quickchart('df-7ff88537-7070-49e4-b3d4-4292fc243701')\"\n",
              "                title=\"Suggest charts\"\n",
              "                style=\"display:none;\">\n",
              "\n",
              "<svg xmlns=\"http://www.w3.org/2000/svg\" height=\"24px\"viewBox=\"0 0 24 24\"\n",
              "     width=\"24px\">\n",
              "    <g>\n",
              "        <path d=\"M19 3H5c-1.1 0-2 .9-2 2v14c0 1.1.9 2 2 2h14c1.1 0 2-.9 2-2V5c0-1.1-.9-2-2-2zM9 17H7v-7h2v7zm4 0h-2V7h2v10zm4 0h-2v-4h2v4z\"/>\n",
              "    </g>\n",
              "</svg>\n",
              "      </button>\n",
              "\n",
              "<style>\n",
              "  .colab-df-quickchart {\n",
              "      --bg-color: #E8F0FE;\n",
              "      --fill-color: #1967D2;\n",
              "      --hover-bg-color: #E2EBFA;\n",
              "      --hover-fill-color: #174EA6;\n",
              "      --disabled-fill-color: #AAA;\n",
              "      --disabled-bg-color: #DDD;\n",
              "  }\n",
              "\n",
              "  [theme=dark] .colab-df-quickchart {\n",
              "      --bg-color: #3B4455;\n",
              "      --fill-color: #D2E3FC;\n",
              "      --hover-bg-color: #434B5C;\n",
              "      --hover-fill-color: #FFFFFF;\n",
              "      --disabled-bg-color: #3B4455;\n",
              "      --disabled-fill-color: #666;\n",
              "  }\n",
              "\n",
              "  .colab-df-quickchart {\n",
              "    background-color: var(--bg-color);\n",
              "    border: none;\n",
              "    border-radius: 50%;\n",
              "    cursor: pointer;\n",
              "    display: none;\n",
              "    fill: var(--fill-color);\n",
              "    height: 32px;\n",
              "    padding: 0;\n",
              "    width: 32px;\n",
              "  }\n",
              "\n",
              "  .colab-df-quickchart:hover {\n",
              "    background-color: var(--hover-bg-color);\n",
              "    box-shadow: 0 1px 2px rgba(60, 64, 67, 0.3), 0 1px 3px 1px rgba(60, 64, 67, 0.15);\n",
              "    fill: var(--button-hover-fill-color);\n",
              "  }\n",
              "\n",
              "  .colab-df-quickchart-complete:disabled,\n",
              "  .colab-df-quickchart-complete:disabled:hover {\n",
              "    background-color: var(--disabled-bg-color);\n",
              "    fill: var(--disabled-fill-color);\n",
              "    box-shadow: none;\n",
              "  }\n",
              "\n",
              "  .colab-df-spinner {\n",
              "    border: 2px solid var(--fill-color);\n",
              "    border-color: transparent;\n",
              "    border-bottom-color: var(--fill-color);\n",
              "    animation:\n",
              "      spin 1s steps(1) infinite;\n",
              "  }\n",
              "\n",
              "  @keyframes spin {\n",
              "    0% {\n",
              "      border-color: transparent;\n",
              "      border-bottom-color: var(--fill-color);\n",
              "      border-left-color: var(--fill-color);\n",
              "    }\n",
              "    20% {\n",
              "      border-color: transparent;\n",
              "      border-left-color: var(--fill-color);\n",
              "      border-top-color: var(--fill-color);\n",
              "    }\n",
              "    30% {\n",
              "      border-color: transparent;\n",
              "      border-left-color: var(--fill-color);\n",
              "      border-top-color: var(--fill-color);\n",
              "      border-right-color: var(--fill-color);\n",
              "    }\n",
              "    40% {\n",
              "      border-color: transparent;\n",
              "      border-right-color: var(--fill-color);\n",
              "      border-top-color: var(--fill-color);\n",
              "    }\n",
              "    60% {\n",
              "      border-color: transparent;\n",
              "      border-right-color: var(--fill-color);\n",
              "    }\n",
              "    80% {\n",
              "      border-color: transparent;\n",
              "      border-right-color: var(--fill-color);\n",
              "      border-bottom-color: var(--fill-color);\n",
              "    }\n",
              "    90% {\n",
              "      border-color: transparent;\n",
              "      border-bottom-color: var(--fill-color);\n",
              "    }\n",
              "  }\n",
              "</style>\n",
              "\n",
              "      <script>\n",
              "        async function quickchart(key) {\n",
              "          const quickchartButtonEl =\n",
              "            document.querySelector('#' + key + ' button');\n",
              "          quickchartButtonEl.disabled = true;  // To prevent multiple clicks.\n",
              "          quickchartButtonEl.classList.add('colab-df-spinner');\n",
              "          try {\n",
              "            const charts = await google.colab.kernel.invokeFunction(\n",
              "                'suggestCharts', [key], {});\n",
              "          } catch (error) {\n",
              "            console.error('Error during call to suggestCharts:', error);\n",
              "          }\n",
              "          quickchartButtonEl.classList.remove('colab-df-spinner');\n",
              "          quickchartButtonEl.classList.add('colab-df-quickchart-complete');\n",
              "        }\n",
              "        (() => {\n",
              "          let quickchartButtonEl =\n",
              "            document.querySelector('#df-7ff88537-7070-49e4-b3d4-4292fc243701 button');\n",
              "          quickchartButtonEl.style.display =\n",
              "            google.colab.kernel.accessAllowed ? 'block' : 'none';\n",
              "        })();\n",
              "      </script>\n",
              "    </div>\n",
              "\n",
              "  <div id=\"id_b0f8cf9e-1cb0-4f70-a79b-d674af3c316a\">\n",
              "    <style>\n",
              "      .colab-df-generate {\n",
              "        background-color: #E8F0FE;\n",
              "        border: none;\n",
              "        border-radius: 50%;\n",
              "        cursor: pointer;\n",
              "        display: none;\n",
              "        fill: #1967D2;\n",
              "        height: 32px;\n",
              "        padding: 0 0 0 0;\n",
              "        width: 32px;\n",
              "      }\n",
              "\n",
              "      .colab-df-generate:hover {\n",
              "        background-color: #E2EBFA;\n",
              "        box-shadow: 0px 1px 2px rgba(60, 64, 67, 0.3), 0px 1px 3px 1px rgba(60, 64, 67, 0.15);\n",
              "        fill: #174EA6;\n",
              "      }\n",
              "\n",
              "      [theme=dark] .colab-df-generate {\n",
              "        background-color: #3B4455;\n",
              "        fill: #D2E3FC;\n",
              "      }\n",
              "\n",
              "      [theme=dark] .colab-df-generate:hover {\n",
              "        background-color: #434B5C;\n",
              "        box-shadow: 0px 1px 3px 1px rgba(0, 0, 0, 0.15);\n",
              "        filter: drop-shadow(0px 1px 2px rgba(0, 0, 0, 0.3));\n",
              "        fill: #FFFFFF;\n",
              "      }\n",
              "    </style>\n",
              "    <button class=\"colab-df-generate\" onclick=\"generateWithVariable('peores_horas')\"\n",
              "            title=\"Generate code using this dataframe.\"\n",
              "            style=\"display:none;\">\n",
              "\n",
              "  <svg xmlns=\"http://www.w3.org/2000/svg\" height=\"24px\"viewBox=\"0 0 24 24\"\n",
              "       width=\"24px\">\n",
              "    <path d=\"M7,19H8.4L18.45,9,17,7.55,7,17.6ZM5,21V16.75L18.45,3.32a2,2,0,0,1,2.83,0l1.4,1.43a1.91,1.91,0,0,1,.58,1.4,1.91,1.91,0,0,1-.58,1.4L9.25,21ZM18.45,9,17,7.55Zm-12,3A5.31,5.31,0,0,0,4.9,8.1,5.31,5.31,0,0,0,1,6.5,5.31,5.31,0,0,0,4.9,4.9,5.31,5.31,0,0,0,6.5,1,5.31,5.31,0,0,0,8.1,4.9,5.31,5.31,0,0,0,12,6.5,5.46,5.46,0,0,0,6.5,12Z\"/>\n",
              "  </svg>\n",
              "    </button>\n",
              "    <script>\n",
              "      (() => {\n",
              "      const buttonEl =\n",
              "        document.querySelector('#id_b0f8cf9e-1cb0-4f70-a79b-d674af3c316a button.colab-df-generate');\n",
              "      buttonEl.style.display =\n",
              "        google.colab.kernel.accessAllowed ? 'block' : 'none';\n",
              "\n",
              "      buttonEl.onclick = () => {\n",
              "        google.colab.notebook.generateWithVariable('peores_horas');\n",
              "      }\n",
              "      })();\n",
              "    </script>\n",
              "  </div>\n",
              "\n",
              "    </div>\n",
              "  </div>\n"
            ],
            "application/vnd.google.colaboratory.intrinsic+json": {
              "type": "dataframe",
              "variable_name": "peores_horas",
              "summary": "{\n  \"name\": \"peores_horas\",\n  \"rows\": 6,\n  \"fields\": [\n    {\n      \"column\": \"Alpha Factor\",\n      \"properties\": {\n        \"dtype\": \"string\",\n        \"num_unique_values\": 6,\n        \"samples\": [\n          \"macd\",\n          \"atr_norm\",\n          \"rsi_14\"\n        ],\n        \"semantic_type\": \"\",\n        \"description\": \"\"\n      }\n    },\n    {\n      \"column\": \"IC m\\u00ednimo\",\n      \"properties\": {\n        \"dtype\": \"number\",\n        \"std\": 0.1593067359038728,\n        \"min\": -0.047732887840663825,\n        \"max\": 0.3846830973488699,\n        \"num_unique_values\": 6,\n        \"samples\": [\n          -0.047732887840663825,\n          0.033303916180530295,\n          0.3846830973488699\n        ],\n        \"semantic_type\": \"\",\n        \"description\": \"\"\n      }\n    },\n    {\n      \"column\": \"Hora del IC m\\u00ednimo\",\n      \"properties\": {\n        \"dtype\": \"object\",\n        \"num_unique_values\": 4,\n        \"samples\": [\n          \"09:28\",\n          \"08:36\",\n          \"13:25\"\n        ],\n        \"semantic_type\": \"\",\n        \"description\": \"\"\n      }\n    },\n    {\n      \"column\": \"IC m\\u00e1ximo\",\n      \"properties\": {\n        \"dtype\": \"number\",\n        \"std\": 0.29101583611344334,\n        \"min\": 0.05709524083558622,\n        \"max\": 0.8043576951595329,\n        \"num_unique_values\": 6,\n        \"samples\": [\n          0.7632890079243307,\n          0.05709524083558622,\n          0.8043576951595329\n        ],\n        \"semantic_type\": \"\",\n        \"description\": \"\"\n      }\n    },\n    {\n      \"column\": \"Hora del IC m\\u00e1ximo\",\n      \"properties\": {\n        \"dtype\": \"object\",\n        \"num_unique_values\": 3,\n        \"samples\": [\n          \"09:08\",\n          \"09:29\",\n          \"09:07\"\n        ],\n        \"semantic_type\": \"\",\n        \"description\": \"\"\n      }\n    },\n    {\n      \"column\": \"Promedio de los 30 peores ICs\",\n      \"properties\": {\n        \"dtype\": \"number\",\n        \"std\": 0.16495139698917416,\n        \"min\": -0.0014609684834202966,\n        \"max\": 0.416709187598037,\n        \"num_unique_values\": 6,\n        \"samples\": [\n          -0.0014609684834202966,\n          0.04255737934698604,\n          0.416709187598037\n        ],\n        \"semantic_type\": \"\",\n        \"description\": \"\"\n      }\n    }\n  ]\n}"
            }
          },
          "metadata": {}
        }
      ]
    },
    {
      "cell_type": "markdown",
      "source": [
        "**Interpretación de los 30 peores ICs (por minuto)**\n",
        "\n",
        "<br>\n",
        "\n",
        "| Alpha Factor       | IC mínimo | Hora del IC mínimo | Promedio de los 30 peores ICs | Interpretación                                                  |\n",
        "|--------------------|-----------|---------------------|-------------------------------|-----------------------------------------------------------------|\n",
        "| `macd`             | -0.0477   | 13:25               | -0.0015                        | Puede volverse ligeramente inverso o errático cerca del cierre. |\n",
        "| `atr_norm`         | 0.0333    | 09:28               | 0.0426                         | Muy estable, aunque con bajo IC en general.                     |\n",
        "| `bb_percent_20_20` | 0.1875    | 08:31               | 0.2534                         | Bajo IC justo al comienzo del día.                              |\n",
        "| `rsi_7`            | 0.2429    | 08:31               | 0.2849                         | Señal más débil al inicio, pero aún aceptable.                  |\n",
        "| `bb_percent_30_20` | 0.2674    | 08:31               | 0.3272                         | También más débil al arranque, pero muy útil.                   |\n",
        "| `rsi_14`           | 0.3847    | 08:36               | 0.4167                         | Incluso su \"peor\" desempeño es sólido.                          |\n",
        "\n",
        "**Conclusión**:\n",
        "\n",
        "- Los peores momentos para la mayoría de los factores se concentran durante los primeros minutos del día (08:31–08:36), lo cual es esperable por la alta volatilidad de la apertura.\n",
        "- `macd` es el único con un IC realmente negativo, y su peor momento aparece más tarde, cerca del cierre.\n",
        "- En general, los factores son estables, incluso sus peores ICs son positivos y consistentes.\n"
      ],
      "metadata": {
        "id": "CWptS0WulgYp"
      },
      "id": "CWptS0WulgYp"
    },
    {
      "cell_type": "markdown",
      "source": [
        "### 5.4. Mejores IC durante el día"
      ],
      "metadata": {
        "id": "FITtlEOOm84b"
      },
      "id": "FITtlEOOm84b"
    },
    {
      "cell_type": "code",
      "source": [
        "# 4. Analizar los mejores momentos del día para cada factor\n",
        "print('\\nMejores momentos de IC:\\n')\n",
        "mejores_horas = analyze_intraday_ic_extremes(ic_minute_df, mode='best', top_n=30)\n",
        "display(mejores_horas)"
      ],
      "metadata": {
        "id": "UC8r0pk5lY5y",
        "outputId": "424230a0-79b5-4965-e134-b0498acfd970",
        "colab": {
          "base_uri": "https://localhost:8080/",
          "height": 321
        }
      },
      "id": "UC8r0pk5lY5y",
      "execution_count": null,
      "outputs": [
        {
          "output_type": "stream",
          "name": "stdout",
          "text": [
            "\n",
            "Mejores momentos de IC:\n",
            "\n"
          ]
        },
        {
          "output_type": "display_data",
          "data": {
            "text/plain": [
              "                  IC mínimo Hora del IC mínimo  IC máximo Hora del IC máximo  \\\n",
              "Alpha Factor                                                                   \n",
              "rsi_14             0.384683              08:36   0.804358              09:08   \n",
              "bb_percent_30_20   0.267360              08:31   0.756700              09:07   \n",
              "rsi_7              0.242861              08:31   0.775382              09:07   \n",
              "bb_percent_20_20   0.187528              08:31   0.740279              09:07   \n",
              "macd              -0.047733              13:25   0.763289              09:08   \n",
              "atr_norm           0.033304              09:28   0.057095              09:29   \n",
              "\n",
              "                  Promedio de los 30 mejores ICs  \n",
              "Alpha Factor                                      \n",
              "rsi_14                                  0.776418  \n",
              "bb_percent_30_20                        0.709456  \n",
              "rsi_7                                   0.656286  \n",
              "bb_percent_20_20                        0.633005  \n",
              "macd                                    0.534711  \n",
              "atr_norm                                0.042557  "
            ],
            "text/html": [
              "\n",
              "  <div id=\"df-74fba283-c31e-4cc4-bc1f-b1ec26a609db\" class=\"colab-df-container\">\n",
              "    <div>\n",
              "<style scoped>\n",
              "    .dataframe tbody tr th:only-of-type {\n",
              "        vertical-align: middle;\n",
              "    }\n",
              "\n",
              "    .dataframe tbody tr th {\n",
              "        vertical-align: top;\n",
              "    }\n",
              "\n",
              "    .dataframe thead th {\n",
              "        text-align: right;\n",
              "    }\n",
              "</style>\n",
              "<table border=\"1\" class=\"dataframe\">\n",
              "  <thead>\n",
              "    <tr style=\"text-align: right;\">\n",
              "      <th></th>\n",
              "      <th>IC mínimo</th>\n",
              "      <th>Hora del IC mínimo</th>\n",
              "      <th>IC máximo</th>\n",
              "      <th>Hora del IC máximo</th>\n",
              "      <th>Promedio de los 30 mejores ICs</th>\n",
              "    </tr>\n",
              "    <tr>\n",
              "      <th>Alpha Factor</th>\n",
              "      <th></th>\n",
              "      <th></th>\n",
              "      <th></th>\n",
              "      <th></th>\n",
              "      <th></th>\n",
              "    </tr>\n",
              "  </thead>\n",
              "  <tbody>\n",
              "    <tr>\n",
              "      <th>rsi_14</th>\n",
              "      <td>0.384683</td>\n",
              "      <td>08:36</td>\n",
              "      <td>0.804358</td>\n",
              "      <td>09:08</td>\n",
              "      <td>0.776418</td>\n",
              "    </tr>\n",
              "    <tr>\n",
              "      <th>bb_percent_30_20</th>\n",
              "      <td>0.267360</td>\n",
              "      <td>08:31</td>\n",
              "      <td>0.756700</td>\n",
              "      <td>09:07</td>\n",
              "      <td>0.709456</td>\n",
              "    </tr>\n",
              "    <tr>\n",
              "      <th>rsi_7</th>\n",
              "      <td>0.242861</td>\n",
              "      <td>08:31</td>\n",
              "      <td>0.775382</td>\n",
              "      <td>09:07</td>\n",
              "      <td>0.656286</td>\n",
              "    </tr>\n",
              "    <tr>\n",
              "      <th>bb_percent_20_20</th>\n",
              "      <td>0.187528</td>\n",
              "      <td>08:31</td>\n",
              "      <td>0.740279</td>\n",
              "      <td>09:07</td>\n",
              "      <td>0.633005</td>\n",
              "    </tr>\n",
              "    <tr>\n",
              "      <th>macd</th>\n",
              "      <td>-0.047733</td>\n",
              "      <td>13:25</td>\n",
              "      <td>0.763289</td>\n",
              "      <td>09:08</td>\n",
              "      <td>0.534711</td>\n",
              "    </tr>\n",
              "    <tr>\n",
              "      <th>atr_norm</th>\n",
              "      <td>0.033304</td>\n",
              "      <td>09:28</td>\n",
              "      <td>0.057095</td>\n",
              "      <td>09:29</td>\n",
              "      <td>0.042557</td>\n",
              "    </tr>\n",
              "  </tbody>\n",
              "</table>\n",
              "</div>\n",
              "    <div class=\"colab-df-buttons\">\n",
              "\n",
              "  <div class=\"colab-df-container\">\n",
              "    <button class=\"colab-df-convert\" onclick=\"convertToInteractive('df-74fba283-c31e-4cc4-bc1f-b1ec26a609db')\"\n",
              "            title=\"Convert this dataframe to an interactive table.\"\n",
              "            style=\"display:none;\">\n",
              "\n",
              "  <svg xmlns=\"http://www.w3.org/2000/svg\" height=\"24px\" viewBox=\"0 -960 960 960\">\n",
              "    <path d=\"M120-120v-720h720v720H120Zm60-500h600v-160H180v160Zm220 220h160v-160H400v160Zm0 220h160v-160H400v160ZM180-400h160v-160H180v160Zm440 0h160v-160H620v160ZM180-180h160v-160H180v160Zm440 0h160v-160H620v160Z\"/>\n",
              "  </svg>\n",
              "    </button>\n",
              "\n",
              "  <style>\n",
              "    .colab-df-container {\n",
              "      display:flex;\n",
              "      gap: 12px;\n",
              "    }\n",
              "\n",
              "    .colab-df-convert {\n",
              "      background-color: #E8F0FE;\n",
              "      border: none;\n",
              "      border-radius: 50%;\n",
              "      cursor: pointer;\n",
              "      display: none;\n",
              "      fill: #1967D2;\n",
              "      height: 32px;\n",
              "      padding: 0 0 0 0;\n",
              "      width: 32px;\n",
              "    }\n",
              "\n",
              "    .colab-df-convert:hover {\n",
              "      background-color: #E2EBFA;\n",
              "      box-shadow: 0px 1px 2px rgba(60, 64, 67, 0.3), 0px 1px 3px 1px rgba(60, 64, 67, 0.15);\n",
              "      fill: #174EA6;\n",
              "    }\n",
              "\n",
              "    .colab-df-buttons div {\n",
              "      margin-bottom: 4px;\n",
              "    }\n",
              "\n",
              "    [theme=dark] .colab-df-convert {\n",
              "      background-color: #3B4455;\n",
              "      fill: #D2E3FC;\n",
              "    }\n",
              "\n",
              "    [theme=dark] .colab-df-convert:hover {\n",
              "      background-color: #434B5C;\n",
              "      box-shadow: 0px 1px 3px 1px rgba(0, 0, 0, 0.15);\n",
              "      filter: drop-shadow(0px 1px 2px rgba(0, 0, 0, 0.3));\n",
              "      fill: #FFFFFF;\n",
              "    }\n",
              "  </style>\n",
              "\n",
              "    <script>\n",
              "      const buttonEl =\n",
              "        document.querySelector('#df-74fba283-c31e-4cc4-bc1f-b1ec26a609db button.colab-df-convert');\n",
              "      buttonEl.style.display =\n",
              "        google.colab.kernel.accessAllowed ? 'block' : 'none';\n",
              "\n",
              "      async function convertToInteractive(key) {\n",
              "        const element = document.querySelector('#df-74fba283-c31e-4cc4-bc1f-b1ec26a609db');\n",
              "        const dataTable =\n",
              "          await google.colab.kernel.invokeFunction('convertToInteractive',\n",
              "                                                    [key], {});\n",
              "        if (!dataTable) return;\n",
              "\n",
              "        const docLinkHtml = 'Like what you see? Visit the ' +\n",
              "          '<a target=\"_blank\" href=https://colab.research.google.com/notebooks/data_table.ipynb>data table notebook</a>'\n",
              "          + ' to learn more about interactive tables.';\n",
              "        element.innerHTML = '';\n",
              "        dataTable['output_type'] = 'display_data';\n",
              "        await google.colab.output.renderOutput(dataTable, element);\n",
              "        const docLink = document.createElement('div');\n",
              "        docLink.innerHTML = docLinkHtml;\n",
              "        element.appendChild(docLink);\n",
              "      }\n",
              "    </script>\n",
              "  </div>\n",
              "\n",
              "\n",
              "    <div id=\"df-59bed30e-c2a3-42fc-acd1-9ab4b1bdbb48\">\n",
              "      <button class=\"colab-df-quickchart\" onclick=\"quickchart('df-59bed30e-c2a3-42fc-acd1-9ab4b1bdbb48')\"\n",
              "                title=\"Suggest charts\"\n",
              "                style=\"display:none;\">\n",
              "\n",
              "<svg xmlns=\"http://www.w3.org/2000/svg\" height=\"24px\"viewBox=\"0 0 24 24\"\n",
              "     width=\"24px\">\n",
              "    <g>\n",
              "        <path d=\"M19 3H5c-1.1 0-2 .9-2 2v14c0 1.1.9 2 2 2h14c1.1 0 2-.9 2-2V5c0-1.1-.9-2-2-2zM9 17H7v-7h2v7zm4 0h-2V7h2v10zm4 0h-2v-4h2v4z\"/>\n",
              "    </g>\n",
              "</svg>\n",
              "      </button>\n",
              "\n",
              "<style>\n",
              "  .colab-df-quickchart {\n",
              "      --bg-color: #E8F0FE;\n",
              "      --fill-color: #1967D2;\n",
              "      --hover-bg-color: #E2EBFA;\n",
              "      --hover-fill-color: #174EA6;\n",
              "      --disabled-fill-color: #AAA;\n",
              "      --disabled-bg-color: #DDD;\n",
              "  }\n",
              "\n",
              "  [theme=dark] .colab-df-quickchart {\n",
              "      --bg-color: #3B4455;\n",
              "      --fill-color: #D2E3FC;\n",
              "      --hover-bg-color: #434B5C;\n",
              "      --hover-fill-color: #FFFFFF;\n",
              "      --disabled-bg-color: #3B4455;\n",
              "      --disabled-fill-color: #666;\n",
              "  }\n",
              "\n",
              "  .colab-df-quickchart {\n",
              "    background-color: var(--bg-color);\n",
              "    border: none;\n",
              "    border-radius: 50%;\n",
              "    cursor: pointer;\n",
              "    display: none;\n",
              "    fill: var(--fill-color);\n",
              "    height: 32px;\n",
              "    padding: 0;\n",
              "    width: 32px;\n",
              "  }\n",
              "\n",
              "  .colab-df-quickchart:hover {\n",
              "    background-color: var(--hover-bg-color);\n",
              "    box-shadow: 0 1px 2px rgba(60, 64, 67, 0.3), 0 1px 3px 1px rgba(60, 64, 67, 0.15);\n",
              "    fill: var(--button-hover-fill-color);\n",
              "  }\n",
              "\n",
              "  .colab-df-quickchart-complete:disabled,\n",
              "  .colab-df-quickchart-complete:disabled:hover {\n",
              "    background-color: var(--disabled-bg-color);\n",
              "    fill: var(--disabled-fill-color);\n",
              "    box-shadow: none;\n",
              "  }\n",
              "\n",
              "  .colab-df-spinner {\n",
              "    border: 2px solid var(--fill-color);\n",
              "    border-color: transparent;\n",
              "    border-bottom-color: var(--fill-color);\n",
              "    animation:\n",
              "      spin 1s steps(1) infinite;\n",
              "  }\n",
              "\n",
              "  @keyframes spin {\n",
              "    0% {\n",
              "      border-color: transparent;\n",
              "      border-bottom-color: var(--fill-color);\n",
              "      border-left-color: var(--fill-color);\n",
              "    }\n",
              "    20% {\n",
              "      border-color: transparent;\n",
              "      border-left-color: var(--fill-color);\n",
              "      border-top-color: var(--fill-color);\n",
              "    }\n",
              "    30% {\n",
              "      border-color: transparent;\n",
              "      border-left-color: var(--fill-color);\n",
              "      border-top-color: var(--fill-color);\n",
              "      border-right-color: var(--fill-color);\n",
              "    }\n",
              "    40% {\n",
              "      border-color: transparent;\n",
              "      border-right-color: var(--fill-color);\n",
              "      border-top-color: var(--fill-color);\n",
              "    }\n",
              "    60% {\n",
              "      border-color: transparent;\n",
              "      border-right-color: var(--fill-color);\n",
              "    }\n",
              "    80% {\n",
              "      border-color: transparent;\n",
              "      border-right-color: var(--fill-color);\n",
              "      border-bottom-color: var(--fill-color);\n",
              "    }\n",
              "    90% {\n",
              "      border-color: transparent;\n",
              "      border-bottom-color: var(--fill-color);\n",
              "    }\n",
              "  }\n",
              "</style>\n",
              "\n",
              "      <script>\n",
              "        async function quickchart(key) {\n",
              "          const quickchartButtonEl =\n",
              "            document.querySelector('#' + key + ' button');\n",
              "          quickchartButtonEl.disabled = true;  // To prevent multiple clicks.\n",
              "          quickchartButtonEl.classList.add('colab-df-spinner');\n",
              "          try {\n",
              "            const charts = await google.colab.kernel.invokeFunction(\n",
              "                'suggestCharts', [key], {});\n",
              "          } catch (error) {\n",
              "            console.error('Error during call to suggestCharts:', error);\n",
              "          }\n",
              "          quickchartButtonEl.classList.remove('colab-df-spinner');\n",
              "          quickchartButtonEl.classList.add('colab-df-quickchart-complete');\n",
              "        }\n",
              "        (() => {\n",
              "          let quickchartButtonEl =\n",
              "            document.querySelector('#df-59bed30e-c2a3-42fc-acd1-9ab4b1bdbb48 button');\n",
              "          quickchartButtonEl.style.display =\n",
              "            google.colab.kernel.accessAllowed ? 'block' : 'none';\n",
              "        })();\n",
              "      </script>\n",
              "    </div>\n",
              "\n",
              "  <div id=\"id_b4cb4251-2539-4187-b1c2-8eac0f024167\">\n",
              "    <style>\n",
              "      .colab-df-generate {\n",
              "        background-color: #E8F0FE;\n",
              "        border: none;\n",
              "        border-radius: 50%;\n",
              "        cursor: pointer;\n",
              "        display: none;\n",
              "        fill: #1967D2;\n",
              "        height: 32px;\n",
              "        padding: 0 0 0 0;\n",
              "        width: 32px;\n",
              "      }\n",
              "\n",
              "      .colab-df-generate:hover {\n",
              "        background-color: #E2EBFA;\n",
              "        box-shadow: 0px 1px 2px rgba(60, 64, 67, 0.3), 0px 1px 3px 1px rgba(60, 64, 67, 0.15);\n",
              "        fill: #174EA6;\n",
              "      }\n",
              "\n",
              "      [theme=dark] .colab-df-generate {\n",
              "        background-color: #3B4455;\n",
              "        fill: #D2E3FC;\n",
              "      }\n",
              "\n",
              "      [theme=dark] .colab-df-generate:hover {\n",
              "        background-color: #434B5C;\n",
              "        box-shadow: 0px 1px 3px 1px rgba(0, 0, 0, 0.15);\n",
              "        filter: drop-shadow(0px 1px 2px rgba(0, 0, 0, 0.3));\n",
              "        fill: #FFFFFF;\n",
              "      }\n",
              "    </style>\n",
              "    <button class=\"colab-df-generate\" onclick=\"generateWithVariable('mejores_horas')\"\n",
              "            title=\"Generate code using this dataframe.\"\n",
              "            style=\"display:none;\">\n",
              "\n",
              "  <svg xmlns=\"http://www.w3.org/2000/svg\" height=\"24px\"viewBox=\"0 0 24 24\"\n",
              "       width=\"24px\">\n",
              "    <path d=\"M7,19H8.4L18.45,9,17,7.55,7,17.6ZM5,21V16.75L18.45,3.32a2,2,0,0,1,2.83,0l1.4,1.43a1.91,1.91,0,0,1,.58,1.4,1.91,1.91,0,0,1-.58,1.4L9.25,21ZM18.45,9,17,7.55Zm-12,3A5.31,5.31,0,0,0,4.9,8.1,5.31,5.31,0,0,0,1,6.5,5.31,5.31,0,0,0,4.9,4.9,5.31,5.31,0,0,0,6.5,1,5.31,5.31,0,0,0,8.1,4.9,5.31,5.31,0,0,0,12,6.5,5.46,5.46,0,0,0,6.5,12Z\"/>\n",
              "  </svg>\n",
              "    </button>\n",
              "    <script>\n",
              "      (() => {\n",
              "      const buttonEl =\n",
              "        document.querySelector('#id_b4cb4251-2539-4187-b1c2-8eac0f024167 button.colab-df-generate');\n",
              "      buttonEl.style.display =\n",
              "        google.colab.kernel.accessAllowed ? 'block' : 'none';\n",
              "\n",
              "      buttonEl.onclick = () => {\n",
              "        google.colab.notebook.generateWithVariable('mejores_horas');\n",
              "      }\n",
              "      })();\n",
              "    </script>\n",
              "  </div>\n",
              "\n",
              "    </div>\n",
              "  </div>\n"
            ],
            "application/vnd.google.colaboratory.intrinsic+json": {
              "type": "dataframe",
              "variable_name": "mejores_horas",
              "summary": "{\n  \"name\": \"mejores_horas\",\n  \"rows\": 6,\n  \"fields\": [\n    {\n      \"column\": \"Alpha Factor\",\n      \"properties\": {\n        \"dtype\": \"string\",\n        \"num_unique_values\": 6,\n        \"samples\": [\n          \"rsi_14\",\n          \"bb_percent_30_20\",\n          \"atr_norm\"\n        ],\n        \"semantic_type\": \"\",\n        \"description\": \"\"\n      }\n    },\n    {\n      \"column\": \"IC m\\u00ednimo\",\n      \"properties\": {\n        \"dtype\": \"number\",\n        \"std\": 0.1593067359038728,\n        \"min\": -0.047732887840663825,\n        \"max\": 0.3846830973488699,\n        \"num_unique_values\": 6,\n        \"samples\": [\n          0.3846830973488699,\n          0.2673601956322458,\n          0.033303916180530295\n        ],\n        \"semantic_type\": \"\",\n        \"description\": \"\"\n      }\n    },\n    {\n      \"column\": \"Hora del IC m\\u00ednimo\",\n      \"properties\": {\n        \"dtype\": \"object\",\n        \"num_unique_values\": 4,\n        \"samples\": [\n          \"08:31\",\n          \"09:28\",\n          \"08:36\"\n        ],\n        \"semantic_type\": \"\",\n        \"description\": \"\"\n      }\n    },\n    {\n      \"column\": \"IC m\\u00e1ximo\",\n      \"properties\": {\n        \"dtype\": \"number\",\n        \"std\": 0.29101583611344334,\n        \"min\": 0.05709524083558622,\n        \"max\": 0.8043576951595329,\n        \"num_unique_values\": 6,\n        \"samples\": [\n          0.8043576951595329,\n          0.7567000102889421,\n          0.05709524083558622\n        ],\n        \"semantic_type\": \"\",\n        \"description\": \"\"\n      }\n    },\n    {\n      \"column\": \"Hora del IC m\\u00e1ximo\",\n      \"properties\": {\n        \"dtype\": \"object\",\n        \"num_unique_values\": 3,\n        \"samples\": [\n          \"09:08\",\n          \"09:07\",\n          \"09:29\"\n        ],\n        \"semantic_type\": \"\",\n        \"description\": \"\"\n      }\n    },\n    {\n      \"column\": \"Promedio de los 30 mejores ICs\",\n      \"properties\": {\n        \"dtype\": \"number\",\n        \"std\": 0.2653871356878012,\n        \"min\": 0.04255737934698605,\n        \"max\": 0.776418371011178,\n        \"num_unique_values\": 6,\n        \"samples\": [\n          0.776418371011178,\n          0.7094562765758751,\n          0.04255737934698605\n        ],\n        \"semantic_type\": \"\",\n        \"description\": \"\"\n      }\n    }\n  ]\n}"
            }
          },
          "metadata": {}
        }
      ]
    },
    {
      "cell_type": "markdown",
      "source": [
        "**Interpretación de los 30 mejores ICs (por minuto)**\n",
        "\n",
        "| Alpha Factor       | IC máximo | Hora del IC máximo | Promedio de los 30 mejores ICs | Interpretación                                |\n",
        "|--------------------|-----------|---------------------|-------------------------------|-----------------------------------------------|\n",
        "| `rsi_14`           | 0.8044    | 09:08               | 0.7764                         | Muy fuerte en la primera hora.                |\n",
        "| `bb_percent_30_20` | 0.7567    | 09:07               | 0.7095                         | Gran desempeño justo después de la apertura.  |\n",
        "| `rsi_7`            | 0.7754    | 09:07               | 0.6563                         | También muy informativo temprano.             |\n",
        "| `bb_percent_20_20` | 0.7403    | 09:07               | 0.6330                         | Similar patrón a `bb_percent_30_20`.          |\n",
        "| `macd`             | 0.7633    | 09:08               | 0.5347                         | Buen rendimiento, pero solo en momentos puntuales. |\n",
        "| `atr_norm`         | 0.0571    | 09:29               | 0.0426                         | No muestra señales destacadas.                |\n",
        "\n",
        "**Conclusión**\n",
        "\n",
        "- Todos los mejores ICs ocurren entre las 09:07 y 09:08, lo que indica que el poder predictivo es más fuerte durante la primera hora de negociación.\n",
        "- `rsi_14` y `bb_percent_30_20` son los más consistentes, superando valores de 0.7 en sus mejores momentos.\n",
        "- `atr_norm` muestra un comportamiento estable pero poco explosivo, con baja variación entre su mejor y peor rendimiento.\n"
      ],
      "metadata": {
        "id": "RhBofRgenEOg"
      },
      "id": "RhBofRgenEOg"
    },
    {
      "cell_type": "markdown",
      "source": [
        "### 5.5. Resumen"
      ],
      "metadata": {
        "id": "zZ3OxR_PnV1l"
      },
      "id": "zZ3OxR_PnV1l"
    },
    {
      "cell_type": "markdown",
      "source": [
        "\n",
        "- La apertura del mercado (08:30–09:30) es el período más relevante, tanto para los mejores como para los peores ICs.\n",
        "- Factores como `rsi_14`, `bb_percent_30_20` y `rsi_7` destacan claramente por su fuerte señal temprana.\n",
        "- `macd` tiene un comportamiento más errático y dependiente del horario.\n",
        "- `atr_norm` es muy estable, pero su impacto predictivo es más limitado en el corto plazo."
      ],
      "metadata": {
        "id": "qvctwsvPnWMD"
      },
      "id": "qvctwsvPnWMD"
    }
  ],
  "metadata": {
    "kernelspec": {
      "display_name": "trader_IA",
      "language": "python",
      "name": "python3"
    },
    "language_info": {
      "codemirror_mode": {
        "name": "ipython",
        "version": 3
      },
      "file_extension": ".py",
      "mimetype": "text/x-python",
      "name": "python",
      "nbconvert_exporter": "python",
      "pygments_lexer": "ipython3",
      "version": "3.10.13"
    },
    "colab": {
      "provenance": [],
      "include_colab_link": true
    }
  },
  "nbformat": 4,
  "nbformat_minor": 5
}