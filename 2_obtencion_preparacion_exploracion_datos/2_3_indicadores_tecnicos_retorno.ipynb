{
  "cells": [
    {
      "cell_type": "markdown",
      "metadata": {
        "id": "view-in-github",
        "colab_type": "text"
      },
      "source": [
        "<a href=\"https://colab.research.google.com/github/GUNAPILLCO/neural_profit/blob/main/2_obtencion_preparacion_exploracion_datos/2_3_indicadores_tecnicos_retorno.ipynb\" target=\"_parent\"><img src=\"https://colab.research.google.com/assets/colab-badge.svg\" alt=\"Open In Colab\"/></a>"
      ]
    },
    {
      "cell_type": "markdown",
      "id": "8fa4bfae",
      "metadata": {
        "id": "8fa4bfae"
      },
      "source": [
        "# 2_3_Análisis de indicadores técnicos\n",
        "\n",
        "\n"
      ]
    },
    {
      "cell_type": "markdown",
      "source": [
        "## 0. Clonado de repositorio, importación de librerías y carga del dataset"
      ],
      "metadata": {
        "id": "g-yENmUVDKcW"
      },
      "id": "g-yENmUVDKcW"
    },
    {
      "cell_type": "markdown",
      "source": [
        "### Clonado de repositorio e importación de librerías"
      ],
      "metadata": {
        "id": "yY4p1bVdDKVz"
      },
      "id": "yY4p1bVdDKVz"
    },
    {
      "cell_type": "code",
      "source": [
        "#Clonamos el repo\n",
        "#LINK DE REPOSITORIO: https://github.com/GUNAPILLCO/neural_profit\n",
        "\n",
        "!git clone https://github.com/GUNAPILLCO/neural_profit.git"
      ],
      "metadata": {
        "id": "hhwIs1EADW0X",
        "outputId": "e1601602-1b7e-48f0-e76f-848c5112edc6",
        "colab": {
          "base_uri": "https://localhost:8080/"
        }
      },
      "id": "hhwIs1EADW0X",
      "execution_count": 1,
      "outputs": [
        {
          "output_type": "stream",
          "name": "stdout",
          "text": [
            "Cloning into 'neural_profit'...\n",
            "remote: Enumerating objects: 166, done.\u001b[K\n",
            "remote: Counting objects: 100% (77/77), done.\u001b[K\n",
            "remote: Compressing objects: 100% (58/58), done.\u001b[K\n",
            "remote: Total 166 (delta 50), reused 31 (delta 19), pack-reused 89 (from 1)\u001b[K\n",
            "Receiving objects: 100% (166/166), 108.56 MiB | 13.40 MiB/s, done.\n",
            "Resolving deltas: 100% (83/83), done.\n",
            "Updating files: 100% (41/41), done.\n"
          ]
        }
      ]
    },
    {
      "cell_type": "code",
      "source": [
        "import sys\n",
        "\n",
        "#Instalación de librería pandas_market_calendars\n",
        "#!{sys.executable} -m pip install -q pandas_market_calendars\n",
        "#print(\"Librería instalada: pandas_market_calendars\")\n",
        "\n",
        "!{sys.executable} -m pip install -q ta\n",
        "print(\"Librería instalada: technical-analysis\")\n",
        "\n",
        "# Utilidades generales\n",
        "from datetime import datetime, timedelta\n",
        "import os\n",
        "import glob\n",
        "import requests\n",
        "import warnings\n",
        "warnings.filterwarnings('ignore')\n",
        "\n",
        "# Manejo y procesamiento de datos\n",
        "import ta\n",
        "import pandas as pd\n",
        "import numpy as np\n",
        "from tabulate import tabulate\n",
        "import matplotlib.pyplot as plt\n",
        "# Calendario de mercados\n",
        "#import pandas_market_calendars as mcal\n",
        "\n",
        "from ta.momentum import StochasticOscillator, ROCIndicator\n",
        "from ta.volatility import BollingerBands, AverageTrueRange"
      ],
      "metadata": {
        "id": "3UxVgk7nDZZ7",
        "outputId": "4d3f0eb5-76cf-42f9-c04d-1d30bc96540c",
        "colab": {
          "base_uri": "https://localhost:8080/"
        }
      },
      "id": "3UxVgk7nDZZ7",
      "execution_count": 34,
      "outputs": [
        {
          "output_type": "stream",
          "name": "stdout",
          "text": [
            "Librería instalada: technical-analysis\n"
          ]
        }
      ]
    },
    {
      "cell_type": "markdown",
      "id": "20cf6ae7",
      "metadata": {
        "id": "20cf6ae7"
      },
      "source": [
        "### Carga del dataset mnq_intraday_data"
      ]
    },
    {
      "cell_type": "code",
      "source": [
        "def load_df():\n",
        "    \"\"\"\n",
        "    Función para cargar un archivo Parquet desde el repositorio clonado\n",
        "    \"\"\"\n",
        "    # Definir la URL del archivo Parquet en GitHub\n",
        "    df_path = '/content/neural_profit/2_obtencion_preparacion_exploracion_datos/mnq_intraday_data.parquet'\n",
        "\n",
        "    # Leer el archivo Parquet y cargarlo en un DataFrame\n",
        "    df = pd.read_parquet(df_path)\n",
        "\n",
        "    # Asegurar que el índice esté en formato datetime\n",
        "    df.index = pd.to_datetime(df.index)\n",
        "\n",
        "    # Crear una nueva columna 'date' con la fecha extraída del índice\n",
        "    df['date'] = df.index.date\n",
        "\n",
        "    # Reordenar columnas: 'date', 'time_str', y luego el resto\n",
        "    cols = ['date'] + [col for col in df.columns if col not in ['date']]\n",
        "\n",
        "    df = df[cols]\n",
        "\n",
        "    return df"
      ],
      "metadata": {
        "id": "fkc6BQhvDhcf"
      },
      "id": "fkc6BQhvDhcf",
      "execution_count": 28,
      "outputs": []
    },
    {
      "cell_type": "code",
      "source": [
        "mnq_intraday = load_df()"
      ],
      "metadata": {
        "id": "BfmS-r1KDjOv"
      },
      "id": "BfmS-r1KDjOv",
      "execution_count": 29,
      "outputs": []
    },
    {
      "cell_type": "markdown",
      "source": [
        "De las hipotesis aplicadas para calcular los alpha factor, el mejor target es el 'target_return_30':"
      ],
      "metadata": {
        "id": "-UuIKkuwPfaS"
      },
      "id": "-UuIKkuwPfaS"
    },
    {
      "cell_type": "code",
      "source": [
        "def add_targets (df):\n",
        "  #df['target_return_5'] = df.groupby('date')['close'].transform(lambda x: np.log(x.shift(-5)) - np.log(x))\n",
        "  #df['target_return_15'] = df.groupby('date')['close'].transform(lambda x: np.log(x.shift(-15)) - np.log(x))\n",
        "  df['target_return_30'] = df.groupby('date')['close'].transform(lambda x: np.log(x.shift(-30)) - np.log(x))\n",
        "  return df"
      ],
      "metadata": {
        "id": "XbAedYaOFth1"
      },
      "id": "XbAedYaOFth1",
      "execution_count": 30,
      "outputs": []
    },
    {
      "cell_type": "code",
      "source": [
        "mnq_intraday = add_targets(mnq_intraday)\n",
        "mnq_intraday"
      ],
      "metadata": {
        "id": "kRC_tGhrKG4r",
        "outputId": "b5d8aba8-080a-4af5-a065-43167939a1e6",
        "colab": {
          "base_uri": "https://localhost:8080/",
          "height": 455
        }
      },
      "id": "kRC_tGhrKG4r",
      "execution_count": 31,
      "outputs": [
        {
          "output_type": "execute_result",
          "data": {
            "text/plain": [
              "                                 date      open      high       low     close  \\\n",
              "datetime                                                                        \n",
              "2019-12-23 08:00:00-05:00  2019-12-23   8734.00   8734.25   8733.75   8733.75   \n",
              "2019-12-23 08:01:00-05:00  2019-12-23   8734.00   8734.25   8733.75   8734.00   \n",
              "2019-12-23 08:02:00-05:00  2019-12-23   8734.00   8734.00   8733.25   8733.25   \n",
              "2019-12-23 08:03:00-05:00  2019-12-23   8734.25   8734.50   8734.00   8734.00   \n",
              "2019-12-23 08:04:00-05:00  2019-12-23   8734.00   8734.00   8733.50   8733.75   \n",
              "...                               ...       ...       ...       ...       ...   \n",
              "2025-06-13 15:56:00-04:00  2025-06-13  21624.50  21635.00  21613.50  21617.50   \n",
              "2025-06-13 15:57:00-04:00  2025-06-13  21616.50  21635.25  21615.75  21623.75   \n",
              "2025-06-13 15:58:00-04:00  2025-06-13  21623.25  21632.75  21616.50  21621.75   \n",
              "2025-06-13 15:59:00-04:00  2025-06-13  21622.00  21632.25  21618.00  21628.00   \n",
              "2025-06-13 16:00:00-04:00  2025-06-13  21627.75  21656.25  21622.50  21651.75   \n",
              "\n",
              "                           volume  \n",
              "datetime                           \n",
              "2019-12-23 08:00:00-05:00      31  \n",
              "2019-12-23 08:01:00-05:00      16  \n",
              "2019-12-23 08:02:00-05:00      23  \n",
              "2019-12-23 08:03:00-05:00      23  \n",
              "2019-12-23 08:04:00-05:00      12  \n",
              "...                           ...  \n",
              "2025-06-13 15:56:00-04:00    3251  \n",
              "2025-06-13 15:57:00-04:00    2201  \n",
              "2025-06-13 15:58:00-04:00    1859  \n",
              "2025-06-13 15:59:00-04:00    2695  \n",
              "2025-06-13 16:00:00-04:00    6507  \n",
              "\n",
              "[630591 rows x 6 columns]"
            ],
            "text/html": [
              "\n",
              "  <div id=\"df-bd87cc9d-57db-42e3-90bb-b2f6e3831351\" class=\"colab-df-container\">\n",
              "    <div>\n",
              "<style scoped>\n",
              "    .dataframe tbody tr th:only-of-type {\n",
              "        vertical-align: middle;\n",
              "    }\n",
              "\n",
              "    .dataframe tbody tr th {\n",
              "        vertical-align: top;\n",
              "    }\n",
              "\n",
              "    .dataframe thead th {\n",
              "        text-align: right;\n",
              "    }\n",
              "</style>\n",
              "<table border=\"1\" class=\"dataframe\">\n",
              "  <thead>\n",
              "    <tr style=\"text-align: right;\">\n",
              "      <th></th>\n",
              "      <th>date</th>\n",
              "      <th>open</th>\n",
              "      <th>high</th>\n",
              "      <th>low</th>\n",
              "      <th>close</th>\n",
              "      <th>volume</th>\n",
              "    </tr>\n",
              "    <tr>\n",
              "      <th>datetime</th>\n",
              "      <th></th>\n",
              "      <th></th>\n",
              "      <th></th>\n",
              "      <th></th>\n",
              "      <th></th>\n",
              "      <th></th>\n",
              "    </tr>\n",
              "  </thead>\n",
              "  <tbody>\n",
              "    <tr>\n",
              "      <th>2019-12-23 08:00:00-05:00</th>\n",
              "      <td>2019-12-23</td>\n",
              "      <td>8734.00</td>\n",
              "      <td>8734.25</td>\n",
              "      <td>8733.75</td>\n",
              "      <td>8733.75</td>\n",
              "      <td>31</td>\n",
              "    </tr>\n",
              "    <tr>\n",
              "      <th>2019-12-23 08:01:00-05:00</th>\n",
              "      <td>2019-12-23</td>\n",
              "      <td>8734.00</td>\n",
              "      <td>8734.25</td>\n",
              "      <td>8733.75</td>\n",
              "      <td>8734.00</td>\n",
              "      <td>16</td>\n",
              "    </tr>\n",
              "    <tr>\n",
              "      <th>2019-12-23 08:02:00-05:00</th>\n",
              "      <td>2019-12-23</td>\n",
              "      <td>8734.00</td>\n",
              "      <td>8734.00</td>\n",
              "      <td>8733.25</td>\n",
              "      <td>8733.25</td>\n",
              "      <td>23</td>\n",
              "    </tr>\n",
              "    <tr>\n",
              "      <th>2019-12-23 08:03:00-05:00</th>\n",
              "      <td>2019-12-23</td>\n",
              "      <td>8734.25</td>\n",
              "      <td>8734.50</td>\n",
              "      <td>8734.00</td>\n",
              "      <td>8734.00</td>\n",
              "      <td>23</td>\n",
              "    </tr>\n",
              "    <tr>\n",
              "      <th>2019-12-23 08:04:00-05:00</th>\n",
              "      <td>2019-12-23</td>\n",
              "      <td>8734.00</td>\n",
              "      <td>8734.00</td>\n",
              "      <td>8733.50</td>\n",
              "      <td>8733.75</td>\n",
              "      <td>12</td>\n",
              "    </tr>\n",
              "    <tr>\n",
              "      <th>...</th>\n",
              "      <td>...</td>\n",
              "      <td>...</td>\n",
              "      <td>...</td>\n",
              "      <td>...</td>\n",
              "      <td>...</td>\n",
              "      <td>...</td>\n",
              "    </tr>\n",
              "    <tr>\n",
              "      <th>2025-06-13 15:56:00-04:00</th>\n",
              "      <td>2025-06-13</td>\n",
              "      <td>21624.50</td>\n",
              "      <td>21635.00</td>\n",
              "      <td>21613.50</td>\n",
              "      <td>21617.50</td>\n",
              "      <td>3251</td>\n",
              "    </tr>\n",
              "    <tr>\n",
              "      <th>2025-06-13 15:57:00-04:00</th>\n",
              "      <td>2025-06-13</td>\n",
              "      <td>21616.50</td>\n",
              "      <td>21635.25</td>\n",
              "      <td>21615.75</td>\n",
              "      <td>21623.75</td>\n",
              "      <td>2201</td>\n",
              "    </tr>\n",
              "    <tr>\n",
              "      <th>2025-06-13 15:58:00-04:00</th>\n",
              "      <td>2025-06-13</td>\n",
              "      <td>21623.25</td>\n",
              "      <td>21632.75</td>\n",
              "      <td>21616.50</td>\n",
              "      <td>21621.75</td>\n",
              "      <td>1859</td>\n",
              "    </tr>\n",
              "    <tr>\n",
              "      <th>2025-06-13 15:59:00-04:00</th>\n",
              "      <td>2025-06-13</td>\n",
              "      <td>21622.00</td>\n",
              "      <td>21632.25</td>\n",
              "      <td>21618.00</td>\n",
              "      <td>21628.00</td>\n",
              "      <td>2695</td>\n",
              "    </tr>\n",
              "    <tr>\n",
              "      <th>2025-06-13 16:00:00-04:00</th>\n",
              "      <td>2025-06-13</td>\n",
              "      <td>21627.75</td>\n",
              "      <td>21656.25</td>\n",
              "      <td>21622.50</td>\n",
              "      <td>21651.75</td>\n",
              "      <td>6507</td>\n",
              "    </tr>\n",
              "  </tbody>\n",
              "</table>\n",
              "<p>630591 rows × 6 columns</p>\n",
              "</div>\n",
              "    <div class=\"colab-df-buttons\">\n",
              "\n",
              "  <div class=\"colab-df-container\">\n",
              "    <button class=\"colab-df-convert\" onclick=\"convertToInteractive('df-bd87cc9d-57db-42e3-90bb-b2f6e3831351')\"\n",
              "            title=\"Convert this dataframe to an interactive table.\"\n",
              "            style=\"display:none;\">\n",
              "\n",
              "  <svg xmlns=\"http://www.w3.org/2000/svg\" height=\"24px\" viewBox=\"0 -960 960 960\">\n",
              "    <path d=\"M120-120v-720h720v720H120Zm60-500h600v-160H180v160Zm220 220h160v-160H400v160Zm0 220h160v-160H400v160ZM180-400h160v-160H180v160Zm440 0h160v-160H620v160ZM180-180h160v-160H180v160Zm440 0h160v-160H620v160Z\"/>\n",
              "  </svg>\n",
              "    </button>\n",
              "\n",
              "  <style>\n",
              "    .colab-df-container {\n",
              "      display:flex;\n",
              "      gap: 12px;\n",
              "    }\n",
              "\n",
              "    .colab-df-convert {\n",
              "      background-color: #E8F0FE;\n",
              "      border: none;\n",
              "      border-radius: 50%;\n",
              "      cursor: pointer;\n",
              "      display: none;\n",
              "      fill: #1967D2;\n",
              "      height: 32px;\n",
              "      padding: 0 0 0 0;\n",
              "      width: 32px;\n",
              "    }\n",
              "\n",
              "    .colab-df-convert:hover {\n",
              "      background-color: #E2EBFA;\n",
              "      box-shadow: 0px 1px 2px rgba(60, 64, 67, 0.3), 0px 1px 3px 1px rgba(60, 64, 67, 0.15);\n",
              "      fill: #174EA6;\n",
              "    }\n",
              "\n",
              "    .colab-df-buttons div {\n",
              "      margin-bottom: 4px;\n",
              "    }\n",
              "\n",
              "    [theme=dark] .colab-df-convert {\n",
              "      background-color: #3B4455;\n",
              "      fill: #D2E3FC;\n",
              "    }\n",
              "\n",
              "    [theme=dark] .colab-df-convert:hover {\n",
              "      background-color: #434B5C;\n",
              "      box-shadow: 0px 1px 3px 1px rgba(0, 0, 0, 0.15);\n",
              "      filter: drop-shadow(0px 1px 2px rgba(0, 0, 0, 0.3));\n",
              "      fill: #FFFFFF;\n",
              "    }\n",
              "  </style>\n",
              "\n",
              "    <script>\n",
              "      const buttonEl =\n",
              "        document.querySelector('#df-bd87cc9d-57db-42e3-90bb-b2f6e3831351 button.colab-df-convert');\n",
              "      buttonEl.style.display =\n",
              "        google.colab.kernel.accessAllowed ? 'block' : 'none';\n",
              "\n",
              "      async function convertToInteractive(key) {\n",
              "        const element = document.querySelector('#df-bd87cc9d-57db-42e3-90bb-b2f6e3831351');\n",
              "        const dataTable =\n",
              "          await google.colab.kernel.invokeFunction('convertToInteractive',\n",
              "                                                    [key], {});\n",
              "        if (!dataTable) return;\n",
              "\n",
              "        const docLinkHtml = 'Like what you see? Visit the ' +\n",
              "          '<a target=\"_blank\" href=https://colab.research.google.com/notebooks/data_table.ipynb>data table notebook</a>'\n",
              "          + ' to learn more about interactive tables.';\n",
              "        element.innerHTML = '';\n",
              "        dataTable['output_type'] = 'display_data';\n",
              "        await google.colab.output.renderOutput(dataTable, element);\n",
              "        const docLink = document.createElement('div');\n",
              "        docLink.innerHTML = docLinkHtml;\n",
              "        element.appendChild(docLink);\n",
              "      }\n",
              "    </script>\n",
              "  </div>\n",
              "\n",
              "\n",
              "    <div id=\"df-4c1b3527-fd72-43e5-b44c-fa547f33fa45\">\n",
              "      <button class=\"colab-df-quickchart\" onclick=\"quickchart('df-4c1b3527-fd72-43e5-b44c-fa547f33fa45')\"\n",
              "                title=\"Suggest charts\"\n",
              "                style=\"display:none;\">\n",
              "\n",
              "<svg xmlns=\"http://www.w3.org/2000/svg\" height=\"24px\"viewBox=\"0 0 24 24\"\n",
              "     width=\"24px\">\n",
              "    <g>\n",
              "        <path d=\"M19 3H5c-1.1 0-2 .9-2 2v14c0 1.1.9 2 2 2h14c1.1 0 2-.9 2-2V5c0-1.1-.9-2-2-2zM9 17H7v-7h2v7zm4 0h-2V7h2v10zm4 0h-2v-4h2v4z\"/>\n",
              "    </g>\n",
              "</svg>\n",
              "      </button>\n",
              "\n",
              "<style>\n",
              "  .colab-df-quickchart {\n",
              "      --bg-color: #E8F0FE;\n",
              "      --fill-color: #1967D2;\n",
              "      --hover-bg-color: #E2EBFA;\n",
              "      --hover-fill-color: #174EA6;\n",
              "      --disabled-fill-color: #AAA;\n",
              "      --disabled-bg-color: #DDD;\n",
              "  }\n",
              "\n",
              "  [theme=dark] .colab-df-quickchart {\n",
              "      --bg-color: #3B4455;\n",
              "      --fill-color: #D2E3FC;\n",
              "      --hover-bg-color: #434B5C;\n",
              "      --hover-fill-color: #FFFFFF;\n",
              "      --disabled-bg-color: #3B4455;\n",
              "      --disabled-fill-color: #666;\n",
              "  }\n",
              "\n",
              "  .colab-df-quickchart {\n",
              "    background-color: var(--bg-color);\n",
              "    border: none;\n",
              "    border-radius: 50%;\n",
              "    cursor: pointer;\n",
              "    display: none;\n",
              "    fill: var(--fill-color);\n",
              "    height: 32px;\n",
              "    padding: 0;\n",
              "    width: 32px;\n",
              "  }\n",
              "\n",
              "  .colab-df-quickchart:hover {\n",
              "    background-color: var(--hover-bg-color);\n",
              "    box-shadow: 0 1px 2px rgba(60, 64, 67, 0.3), 0 1px 3px 1px rgba(60, 64, 67, 0.15);\n",
              "    fill: var(--button-hover-fill-color);\n",
              "  }\n",
              "\n",
              "  .colab-df-quickchart-complete:disabled,\n",
              "  .colab-df-quickchart-complete:disabled:hover {\n",
              "    background-color: var(--disabled-bg-color);\n",
              "    fill: var(--disabled-fill-color);\n",
              "    box-shadow: none;\n",
              "  }\n",
              "\n",
              "  .colab-df-spinner {\n",
              "    border: 2px solid var(--fill-color);\n",
              "    border-color: transparent;\n",
              "    border-bottom-color: var(--fill-color);\n",
              "    animation:\n",
              "      spin 1s steps(1) infinite;\n",
              "  }\n",
              "\n",
              "  @keyframes spin {\n",
              "    0% {\n",
              "      border-color: transparent;\n",
              "      border-bottom-color: var(--fill-color);\n",
              "      border-left-color: var(--fill-color);\n",
              "    }\n",
              "    20% {\n",
              "      border-color: transparent;\n",
              "      border-left-color: var(--fill-color);\n",
              "      border-top-color: var(--fill-color);\n",
              "    }\n",
              "    30% {\n",
              "      border-color: transparent;\n",
              "      border-left-color: var(--fill-color);\n",
              "      border-top-color: var(--fill-color);\n",
              "      border-right-color: var(--fill-color);\n",
              "    }\n",
              "    40% {\n",
              "      border-color: transparent;\n",
              "      border-right-color: var(--fill-color);\n",
              "      border-top-color: var(--fill-color);\n",
              "    }\n",
              "    60% {\n",
              "      border-color: transparent;\n",
              "      border-right-color: var(--fill-color);\n",
              "    }\n",
              "    80% {\n",
              "      border-color: transparent;\n",
              "      border-right-color: var(--fill-color);\n",
              "      border-bottom-color: var(--fill-color);\n",
              "    }\n",
              "    90% {\n",
              "      border-color: transparent;\n",
              "      border-bottom-color: var(--fill-color);\n",
              "    }\n",
              "  }\n",
              "</style>\n",
              "\n",
              "      <script>\n",
              "        async function quickchart(key) {\n",
              "          const quickchartButtonEl =\n",
              "            document.querySelector('#' + key + ' button');\n",
              "          quickchartButtonEl.disabled = true;  // To prevent multiple clicks.\n",
              "          quickchartButtonEl.classList.add('colab-df-spinner');\n",
              "          try {\n",
              "            const charts = await google.colab.kernel.invokeFunction(\n",
              "                'suggestCharts', [key], {});\n",
              "          } catch (error) {\n",
              "            console.error('Error during call to suggestCharts:', error);\n",
              "          }\n",
              "          quickchartButtonEl.classList.remove('colab-df-spinner');\n",
              "          quickchartButtonEl.classList.add('colab-df-quickchart-complete');\n",
              "        }\n",
              "        (() => {\n",
              "          let quickchartButtonEl =\n",
              "            document.querySelector('#df-4c1b3527-fd72-43e5-b44c-fa547f33fa45 button');\n",
              "          quickchartButtonEl.style.display =\n",
              "            google.colab.kernel.accessAllowed ? 'block' : 'none';\n",
              "        })();\n",
              "      </script>\n",
              "    </div>\n",
              "\n",
              "  <div id=\"id_c75e8dc2-bceb-4c38-80b5-e961a7f7aa17\">\n",
              "    <style>\n",
              "      .colab-df-generate {\n",
              "        background-color: #E8F0FE;\n",
              "        border: none;\n",
              "        border-radius: 50%;\n",
              "        cursor: pointer;\n",
              "        display: none;\n",
              "        fill: #1967D2;\n",
              "        height: 32px;\n",
              "        padding: 0 0 0 0;\n",
              "        width: 32px;\n",
              "      }\n",
              "\n",
              "      .colab-df-generate:hover {\n",
              "        background-color: #E2EBFA;\n",
              "        box-shadow: 0px 1px 2px rgba(60, 64, 67, 0.3), 0px 1px 3px 1px rgba(60, 64, 67, 0.15);\n",
              "        fill: #174EA6;\n",
              "      }\n",
              "\n",
              "      [theme=dark] .colab-df-generate {\n",
              "        background-color: #3B4455;\n",
              "        fill: #D2E3FC;\n",
              "      }\n",
              "\n",
              "      [theme=dark] .colab-df-generate:hover {\n",
              "        background-color: #434B5C;\n",
              "        box-shadow: 0px 1px 3px 1px rgba(0, 0, 0, 0.15);\n",
              "        filter: drop-shadow(0px 1px 2px rgba(0, 0, 0, 0.3));\n",
              "        fill: #FFFFFF;\n",
              "      }\n",
              "    </style>\n",
              "    <button class=\"colab-df-generate\" onclick=\"generateWithVariable('mnq_intraday')\"\n",
              "            title=\"Generate code using this dataframe.\"\n",
              "            style=\"display:none;\">\n",
              "\n",
              "  <svg xmlns=\"http://www.w3.org/2000/svg\" height=\"24px\"viewBox=\"0 0 24 24\"\n",
              "       width=\"24px\">\n",
              "    <path d=\"M7,19H8.4L18.45,9,17,7.55,7,17.6ZM5,21V16.75L18.45,3.32a2,2,0,0,1,2.83,0l1.4,1.43a1.91,1.91,0,0,1,.58,1.4,1.91,1.91,0,0,1-.58,1.4L9.25,21ZM18.45,9,17,7.55Zm-12,3A5.31,5.31,0,0,0,4.9,8.1,5.31,5.31,0,0,0,1,6.5,5.31,5.31,0,0,0,4.9,4.9,5.31,5.31,0,0,0,6.5,1,5.31,5.31,0,0,0,8.1,4.9,5.31,5.31,0,0,0,12,6.5,5.46,5.46,0,0,0,6.5,12Z\"/>\n",
              "  </svg>\n",
              "    </button>\n",
              "    <script>\n",
              "      (() => {\n",
              "      const buttonEl =\n",
              "        document.querySelector('#id_c75e8dc2-bceb-4c38-80b5-e961a7f7aa17 button.colab-df-generate');\n",
              "      buttonEl.style.display =\n",
              "        google.colab.kernel.accessAllowed ? 'block' : 'none';\n",
              "\n",
              "      buttonEl.onclick = () => {\n",
              "        google.colab.notebook.generateWithVariable('mnq_intraday');\n",
              "      }\n",
              "      })();\n",
              "    </script>\n",
              "  </div>\n",
              "\n",
              "    </div>\n",
              "  </div>\n"
            ],
            "application/vnd.google.colaboratory.intrinsic+json": {
              "type": "dataframe",
              "variable_name": "mnq_intraday"
            }
          },
          "metadata": {},
          "execution_count": 31
        }
      ]
    },
    {
      "cell_type": "markdown",
      "id": "f23cdad4",
      "metadata": {
        "id": "f23cdad4"
      },
      "source": [
        "## 1. Indicadores Técnicos"
      ]
    },
    {
      "cell_type": "code",
      "source": [
        "# Función para calcular los factores en un solo día\n",
        "def calcular_indicadores_tecnicos(df_day: pd.DataFrame,\n",
        "                    atributo: str,\n",
        "                    ):\n",
        "    # Se crea una copia del DataFrame del día para no modificar el original.\n",
        "    df_day = df_day.copy()\n",
        "\n",
        "    '''📊 RSI (Relative Strength Index): mide la fuerza relativa del precio en los últimos períodos. Oscila entre 0 y 100.\n",
        "            Un valor alto indica sobrecompra, bajo indica sobreventa.\n",
        "            Aquí se calcula sobre los precios de cierre del día actual.\n",
        "            Es útil para detectar posibles puntos de reversión.\n",
        "            '''\n",
        "    df_day['rsi_14'] = ta.momentum.RSIIndicator(df_day[atributo]).rsi()\n",
        "    df_day['rsi_7'] = ta.momentum.RSIIndicator(df_day[atributo], window=7).rsi()\n",
        "    df_day['rsi_5'] = ta.momentum.RSIIndicator(df_day[atributo], window=5).rsi()\n",
        "    df_day['rsi_3'] = ta.momentum.RSIIndicator(df_day[atributo], window=3).rsi()\n",
        "\n",
        "\n",
        "    '''⚡ Momentum de 10 minutos: mide la variación porcentual entre el precio actual y el de hace 10 minutos.\n",
        "            Si es positivo, hubo una suba reciente → posible continuación alcista.\n",
        "            Si es negativo, indica presión bajista reciente.\n",
        "        '''\n",
        "    df_day['momentum_10'] = df_day[atributo].pct_change(10)\n",
        "    df_day['momentum_5'] = df_day[atributo].pct_change(5)\n",
        "    df_day['momentum_3'] = df_day[atributo].pct_change(3)\n",
        "\n",
        "    '''📈 Relación de volumen actual contra su promedio de 20 minutos:\n",
        "            Si >1: volumen superior al promedio reciente → podría reflejar interés o movimientos institucionales.\n",
        "            Si <1: volumen bajo → señal de menor actividad o consolidación.\n",
        "            Es una forma de capturar spikes de volumen sin usar el volumen en crudo.\n",
        "        '''\n",
        "    df_day['volume_ratio'] = df_day['volume'] / df_day['volume'].rolling(20).mean()\n",
        "\n",
        "    '''🌀 MACD diferencial (señal de cruce): mide la diferencia entre la línea MACD y su señal (una media de sí misma).\n",
        "            Cuando es positivo y creciente → momentum alcista.\n",
        "            Cuando es negativo → momentum bajista.\n",
        "            Muy usado para detectar giros de tendencia.\n",
        "        '''\n",
        "    df_day['macd'] = ta.trend.MACD(df_day[atributo]).macd_diff()\n",
        "\n",
        "    '''📏 Distancia del precio actual a su EMA(20):\n",
        "            Es un indicador de sobreextensión o retorno a la media.\n",
        "            Si el precio está muy por encima de la EMA → posible reversión o aceleración.\n",
        "            Este valor se expresa en forma de porcentaje relativo.\n",
        "        '''\n",
        "    df_day['price_ema20'] = df_day[atributo] / df_day[atributo].ewm(span=20).mean() - 1\n",
        "\n",
        "# 🔄 Indicadores adicionales:\n",
        "\n",
        "    # %K del Estocástico\n",
        "    stoch = StochasticOscillator(df_day['high'], df_day['low'], df_day[atributo], window=14, smooth_window=3)\n",
        "    df_day['stoch_k'] = stoch.stoch()\n",
        "\n",
        "    # Bollinger Band %B\n",
        "    bb = BollingerBands(close=df_day[atributo], window=20, window_dev=2)\n",
        "    df_day['bb_percent'] = bb.bollinger_pband()\n",
        "\n",
        "    # ATR normalizado\n",
        "    atr = AverageTrueRange(high=df_day['high'], low=df_day['low'], close=df_day[atributo], window=14)\n",
        "    df_day['atr'] = atr.average_true_range()\n",
        "    df_day['atr_norm'] = df_day['atr'] / df_day[atributo]\n",
        "\n",
        "    # ROC (Rate of Change)\n",
        "    df_day['roc_5'] = ROCIndicator(close=df_day[atributo], window=5).roc()\n",
        "\n",
        "    # Body Ratio\n",
        "    #df_day['body_size'] = (df_day[atributo] - df_day['open']).abs()\n",
        "    #df_day['candle_range'] = df_day['high'] - df_day['low']\n",
        "    #df_day['body_ratio'] = df_day['body_size'] / df_day['candle_range'].replace(0, np.nan)\n",
        "\n",
        "\n",
        "    '''📅 Retorno futuro a 30 minutos (target para el modelo):\n",
        "            Se calcula comparando el precio actual con el que tendrá 30 minutos más adelante.\n",
        "            Es la variable objetivo que queremos predecir: si será positiva o negativa.\n",
        "        '''\n",
        "    #df_day['future_return_30min'] = df_day[atributo].shift(-30) / df_day[atributo] - 1\n",
        "\n",
        "\n",
        "    return df_day"
      ],
      "metadata": {
        "id": "btq2zhkSGxD1"
      },
      "id": "btq2zhkSGxD1",
      "execution_count": 46,
      "outputs": []
    },
    {
      "cell_type": "code",
      "execution_count": 40,
      "metadata": {
        "id": "tSFWbrzmHOdj",
        "outputId": "a18a84f4-5fc1-4d55-d6d2-b09e870bbe49",
        "colab": {
          "base_uri": "https://localhost:8080/",
          "height": 52
        }
      },
      "outputs": [
        {
          "output_type": "execute_result",
          "data": {
            "text/plain": [
              "\"🔹 Esta línea aplica la función compute_factors a cada día de forma independiente:\\n        mnq_intraday.groupby('date') divide el DataFrame en grupos por cada valor distinto en la columna 'date', la cual fue extraída del índice datetime.\\n        .apply(compute_factors) ejecuta la función compute_factors sobre cada uno de esos días, calculando los indicadores técnicos y el retorno futuro sin cruzar datos entre días.\\n        El resultado es un nuevo DataFrame que contiene todos los días concatenados, pero con un índice jerárquico (MultiIndex)\\n\""
            ],
            "application/vnd.google.colaboratory.intrinsic+json": {
              "type": "string"
            }
          },
          "metadata": {},
          "execution_count": 40
        }
      ],
      "source": [
        "# Aplicar la función por día, respetando los cortes\n",
        "mnq_intraday_target =  mnq_intraday.groupby('date').apply(calcular_indicadores_tecnicos, 'target_return_30')\n",
        "\n",
        "#Esta línea aplica la función compute_factors a cada día de forma independiente:\n",
        "#   mnq_intraday.groupby('date') divide el DataFrame en grupos por cada valor distinto en la columna 'date', la cual fue extraída del índice datetime.\n",
        "#  .apply(compute_factors) ejecuta la función compute_factors sobre cada uno de esos días, calculando los indicadores técnicos y el retorno futuro sin cruzar datos entre días.\n",
        "#  El resultado es un nuevo DataFrame que contiene todos los días concatenados, pero con un índice jerárquico (MultiIndex)\n",
        "\n",
        "mnq_intraday_target.index = mnq_intraday_target.index.droplevel(0)  # Limpiamos índice jerárquico tras groupby\n",
        "#Esta línea elimina el primer nivel del índice jerárquico que corresponde a la fecha del groupby.\n",
        "# Después del groupby + apply, el índice queda en dos niveles: [date, datetime].\n",
        "#Como ya tenés datetime en el índice y date como columna, este paso “aplana” el índice, dejando solo el índice horario original por minuto.\n"
      ],
      "id": "tSFWbrzmHOdj"
    },
    {
      "cell_type": "markdown",
      "id": "5911bdcc",
      "metadata": {
        "id": "5911bdcc"
      },
      "source": [
        "##2. Calculo de Information Coefficient (IC) por día"
      ]
    },
    {
      "cell_type": "markdown",
      "id": "9d6287f6",
      "metadata": {
        "id": "9d6287f6"
      },
      "source": [
        "El Information Coefficient (IC) es la correlación de Spearman entre el factor y el retorno futuro. Mide si el ranking del factor predice el ranking del retorno.\n",
        "\n",
        "🔹 IC > 0: el factor tiene relación positiva → valores altos del factor tienden a preceder retornos positivos.\n",
        "\n",
        "🔹 IC < 0: relación inversa → valores altos del factor tienden a preceder retornos negativos (reversión).\n",
        "\n",
        "🔹 IC ≈ 0: el factor es probablemente ruido o no tiene señal útil.\n",
        "\n",
        "Valores comunes en finanzas:\n",
        "\n",
        "🔹 0.05 a 0.1: débil pero útil.\n",
        "\n",
        "🔹 >0.1: muy raro, pero fuerte.\n",
        "\n",
        "🔹 <0.05 o cercano a 0: probablemente ruido."
      ]
    },
    {
      "cell_type": "code",
      "execution_count": 43,
      "id": "a866cbd7",
      "metadata": {
        "id": "a866cbd7"
      },
      "outputs": [],
      "source": [
        "from scipy.stats import spearmanr\n",
        "import numpy as np\n",
        "\n",
        "def calcular_IC (df: pd.DataFrame,\n",
        "                    target: str,\n",
        "                    ):\n",
        "  factors = ['rsi_14', 'rsi_7', 'rsi_5', 'rsi_3', 'momentum_10', 'momentum_5', 'momentum_3', 'volume_ratio', 'macd', 'price_ema20', 'stoch_k', 'bb_percent', 'atr_norm', 'roc_5', 'body_ratio']\n",
        "    #target = 'future_return_5min'\n",
        "\n",
        "  # Agrupar por día\n",
        "  grouped = df.groupby('date')\n",
        "\n",
        "  print(\"📊 IC promedio por factor (diario):\\n\")\n",
        "\n",
        "  for factor in factors:\n",
        "      daily_ics = []\n",
        "\n",
        "      for date, group in grouped:\n",
        "          df_valid = group[[factor, target]].dropna()\n",
        "          if len(df_valid) >= 20:  # al menos 20 datos para evitar ruido\n",
        "              ic = spearmanr(df_valid[factor], df_valid[target]).correlation\n",
        "              if np.isfinite(ic):\n",
        "                  daily_ics.append(ic)\n",
        "\n",
        "      if daily_ics:\n",
        "          mean_ic = np.mean(daily_ics)\n",
        "          std_ic = np.std(daily_ics)\n",
        "          print(f\"{factor:15}: IC medio = {mean_ic:.4f} | std = {std_ic:.4f} | días válidos = {len(daily_ics)}\")\n",
        "      else:\n",
        "          print(f\"{factor:15}: sin días válidos para cálculo\")"
      ]
    },
    {
      "cell_type": "code",
      "source": [
        "calcular_IC(mnq_intraday_close, 'close')"
      ],
      "metadata": {
        "id": "mpV7eZ3LMqOh",
        "outputId": "10b66af4-9153-4668-9f54-3a26c6e93e66",
        "colab": {
          "base_uri": "https://localhost:8080/"
        }
      },
      "id": "mpV7eZ3LMqOh",
      "execution_count": 44,
      "outputs": [
        {
          "output_type": "stream",
          "name": "stdout",
          "text": [
            "📊 IC promedio por factor (diario):\n",
            "\n",
            "rsi_14         : IC medio = 0.3347 | std = 0.1771 | días válidos = 1311\n",
            "rsi_7          : IC medio = 0.2508 | std = 0.1264 | días válidos = 1311\n",
            "rsi_5          : IC medio = 0.2156 | std = 0.1063 | días válidos = 1311\n",
            "rsi_3          : IC medio = 0.1695 | std = 0.0817 | días válidos = 1311\n",
            "momentum_10    : IC medio = 0.2110 | std = 0.1155 | días válidos = 1311\n",
            "momentum_5     : IC medio = 0.1562 | std = 0.0819 | días válidos = 1311\n",
            "momentum_3     : IC medio = 0.1246 | std = 0.0633 | días válidos = 1311\n",
            "volume_ratio   : IC medio = -0.0128 | std = 0.0688 | días válidos = 1311\n",
            "macd           : IC medio = 0.0623 | std = 0.0917 | días válidos = 1311\n",
            "price_ema20    : IC medio = 0.2916 | std = 0.1497 | días válidos = 1311\n",
            "stoch_k        : IC medio = 0.2269 | std = 0.1092 | días válidos = 1311\n",
            "bb_percent     : IC medio = 0.2498 | std = 0.1254 | días válidos = 1311\n",
            "atr_norm       : IC medio = -0.2023 | std = 0.3193 | días válidos = 1311\n",
            "roc_5          : IC medio = 0.1562 | std = 0.0819 | días válidos = 1311\n",
            "body_ratio     : IC medio = -0.0073 | std = 0.0506 | días válidos = 1311\n"
          ]
        }
      ]
    },
    {
      "cell_type": "code",
      "source": [
        "calcular_IC(mnq_intraday_target, 'target_return_30')"
      ],
      "metadata": {
        "colab": {
          "base_uri": "https://localhost:8080/"
        },
        "id": "pi09cDUINNuh",
        "outputId": "8b01737b-dca0-4265-e599-89a72ac21e03"
      },
      "id": "pi09cDUINNuh",
      "execution_count": 45,
      "outputs": [
        {
          "output_type": "stream",
          "name": "stdout",
          "text": [
            "📊 IC promedio por factor (diario):\n",
            "\n",
            "rsi_14         : IC medio = 0.6387 | std = 0.0666 | días válidos = 1311\n",
            "rsi_7          : IC medio = 0.4740 | std = 0.0582 | días válidos = 1311\n",
            "rsi_5          : IC medio = 0.3995 | std = 0.0539 | días válidos = 1311\n",
            "rsi_3          : IC medio = 0.3040 | std = 0.0471 | días válidos = 1311\n",
            "momentum_10    : IC medio = 0.0334 | std = 0.1975 | días válidos = 1311\n",
            "momentum_5     : IC medio = 0.0315 | std = 0.1653 | días válidos = 1311\n",
            "momentum_3     : IC medio = 0.0290 | std = 0.1405 | días válidos = 1311\n",
            "volume_ratio   : IC medio = 0.0048 | std = 0.0785 | días válidos = 1311\n",
            "macd           : IC medio = 0.1962 | std = 0.0984 | días válidos = 1311\n",
            "price_ema20    : IC medio = 0.0226 | std = 0.1600 | días válidos = 1311\n",
            "stoch_k        : IC medio = 0.0610 | std = 0.1992 | días válidos = 1311\n",
            "bb_percent     : IC medio = 0.4619 | std = 0.0670 | días válidos = 1311\n",
            "atr_norm       : IC medio = 0.4313 | std = 0.1131 | días válidos = 1311\n",
            "roc_5          : IC medio = 0.0315 | std = 0.1653 | días válidos = 1311\n",
            "body_ratio     : IC medio = -0.0658 | std = 0.1699 | días válidos = 1311\n"
          ]
        }
      ]
    },
    {
      "cell_type": "markdown",
      "id": "6b3a2eff",
      "metadata": {
        "id": "6b3a2eff"
      },
      "source": [
        "📈 Interpretación de los resultados — Information Coefficient (IC)\n",
        "\n",
        "El **Information Coefficient (IC)** mide la correlación de Spearman entre el valor del factor y el retorno futuro. Es decir, evalúa si el ranking del factor anticipa el ranking del rendimiento posterior.\n",
        "\n",
        "| 🏅 Top factores con mejor IC | IC Medio | Interpretación práctica                                        |\n",
        "| ---------------------------- | -------- | -------------------------------------------------------------- |\n",
        "| **rsi\\_14**                  | -0.0534  | Señal clara de reversión. Es el más consistente del conjunto.  |\n",
        "| **price\\_ema20**             | -0.0435  | Reversión hacia la media. Buena señal complementaria.          |\n",
        "| **bb\\_percent**              | -0.0387  | Similar a RSI, sobrecompra/sobreventa. Señal confiable.        |\n",
        "| **stoch\\_k**                 | -0.0374  | Confirma reversión; alternativa válida al RSI.                 |\n",
        "| **atr\\_norm**                | +0.0471  | Único con IC positivo fuerte. Alta volatilidad → continuación. |\n",
        "| **rsi\\_7**                   | -0.0405  | Más sensible que RSI(14), mantiene coherencia.                 |\n",
        "\n",
        "**Estos pueden capturar efectos de reversión o momentum en condiciones específicas, y probablemente rindan mejor combinados en modelos no lineales (XGBoost, LSTM, etc.).**\n",
        "\n",
        "\n",
        "📉 Factores con señal débil o nula:\n",
        "\n",
        "| Factor                       | IC Medio      | Nota                                       |\n",
        "| ---------------------------- | ------------- | ------------------------------------------ |\n",
        "| momentum_3/5/10, roc_5   | -0.02 a -0.03 | Señales débiles, sin aporte significativo. |\n",
        "| macd`                       | -0.0196       | Muy débil para este timeframe.             |\n",
        "| volume_ratio, body_ratio | ≈ 0           | No aportan valor predictivo.               |\n",
        "\n"
      ]
    },
    {
      "cell_type": "markdown",
      "id": "f4a9e7c2",
      "metadata": {
        "id": "f4a9e7c2"
      },
      "source": [
        "Filtro el dataset para quedarme solo con las factores que aportarían valor a mi modelo:"
      ]
    },
    {
      "cell_type": "code",
      "execution_count": null,
      "id": "4c10c665",
      "metadata": {
        "id": "4c10c665"
      },
      "outputs": [],
      "source": [
        "# Lista de columnas útiles\n",
        "keep_cols = [\n",
        "    'open', 'high', 'low', 'close', 'volume', 'date',\n",
        "    'rsi_14', 'rsi_7', 'price_ema20', 'bb_percent',\n",
        "    'stoch_k', 'atr_norm',\n",
        "    'future_return_5min'\n",
        "]\n",
        "\n",
        "\n",
        "# Filtrar el dataset\n",
        "mnq_intraday_clean = mnq_intraday_factors[keep_cols].dropna()"
      ]
    },
    {
      "cell_type": "markdown",
      "id": "8dd77524",
      "metadata": {
        "id": "8dd77524"
      },
      "source": [
        "📌 Notas:\n",
        "\n",
        "- dropna() elimina las filas con NaN, que suelen ser las primeras del día por el cálculo de ventanas (RSI, ATR, etc.).\n",
        "- Esto asegura que el dataset esté limpio para entrenamiento de modelos."
      ]
    },
    {
      "cell_type": "code",
      "execution_count": null,
      "id": "5e6b1d25",
      "metadata": {
        "id": "5e6b1d25"
      },
      "outputs": [],
      "source": [
        "mnq_intraday_clean"
      ]
    },
    {
      "cell_type": "markdown",
      "id": "7d9974b5",
      "metadata": {
        "id": "7d9974b5"
      },
      "source": [
        "##### 2.2. IDEAS PARA FEATURES"
      ]
    },
    {
      "cell_type": "markdown",
      "id": "f8a9464d",
      "metadata": {
        "id": "f8a9464d"
      },
      "source": [
        "🧠 Ideas para combinar:\n",
        "\n",
        "- Filtrar señales por volatilidad: usar atr_norm como feature auxiliar para condicionar otras señales.\n",
        "- Ensemble de reversión: combinar rsi, stoch_k, bb_percent en un score compuesto.\n",
        "- Interacciones: por ejemplo, si rsi está bajo y bb_percent < 0.1 → señal de rebote más fuerte."
      ]
    },
    {
      "cell_type": "markdown",
      "id": "d265f01f",
      "metadata": {
        "id": "d265f01f"
      },
      "source": [
        "###### ✅ 1. reversal_score: Ensemble de reversión suave\n",
        "\n",
        "Combina señales de sobreventa (RSI, %K, BB) en una puntuación continua. Cuanto más baja, mayor potencial de rebote."
      ]
    },
    {
      "cell_type": "code",
      "execution_count": null,
      "id": "b207730f",
      "metadata": {
        "id": "b207730f"
      },
      "outputs": [],
      "source": [
        "# Escalar a rango 0-1 donde corresponda\n",
        "mnq_intraday_clean['rsi_norm'] = mnq_intraday_clean['rsi_14'] / 100\n",
        "mnq_intraday_clean['stoch_k_norm'] = mnq_intraday_clean['stoch_k'] / 100\n",
        "# bb_percent ya está entre 0-1\n",
        "\n",
        "# Reversal Score: promedio de los tres, invertido\n",
        "mnq_intraday_clean['reversal_score'] = 1 - (\n",
        "    mnq_intraday_clean['rsi_norm'] +\n",
        "    mnq_intraday_clean['stoch_k_norm'] +\n",
        "    mnq_intraday_clean['bb_percent']\n",
        ") / 3"
      ]
    },
    {
      "cell_type": "markdown",
      "id": "16539213",
      "metadata": {
        "id": "16539213"
      },
      "source": [
        "###### ✅ 2. volatility_filter: Filtro de condiciones de mercado\n",
        "Crea una feature binaria que indica si estamos en un contexto de alta volatilidad según ATR normalizado."
      ]
    },
    {
      "cell_type": "code",
      "execution_count": null,
      "id": "080b00e4",
      "metadata": {
        "id": "080b00e4"
      },
      "outputs": [],
      "source": [
        "mnq_intraday_clean['volatility_filter'] = (mnq_intraday_clean['atr_norm'] > 0.02).astype(int)"
      ]
    },
    {
      "cell_type": "markdown",
      "id": "8f787a03",
      "metadata": {
        "id": "8f787a03"
      },
      "source": [
        "El umbral 0.02 es empírico — podés ajustarlo con histogramas o percentiles."
      ]
    },
    {
      "cell_type": "markdown",
      "id": "1527e4b6",
      "metadata": {
        "id": "1527e4b6"
      },
      "source": [
        "###### ✅ 3. rebound_trigger: Señal fuerte combinada (regla lógica)\n",
        "\n",
        "Detecta eventos donde:\n",
        "\n",
        "- RSI está bajo\n",
        "- %B está por debajo de 0.1 (precio muy fuera de banda)\n",
        "- Volatilidad es alta"
      ]
    },
    {
      "cell_type": "code",
      "execution_count": null,
      "id": "4632a46b",
      "metadata": {
        "id": "4632a46b"
      },
      "outputs": [],
      "source": [
        "mnq_intraday_clean['rebound_trigger'] = (\n",
        "    (mnq_intraday_clean['rsi_14'] < 30) &\n",
        "    (mnq_intraday_clean['bb_percent'] < 0.1) &\n",
        "    (mnq_intraday_clean['atr_norm'] > 0.02)\n",
        ").astype(int)\n"
      ]
    },
    {
      "cell_type": "code",
      "execution_count": null,
      "id": "85bb02ff",
      "metadata": {
        "id": "85bb02ff"
      },
      "outputs": [],
      "source": [
        "mnq_intraday_clean"
      ]
    },
    {
      "cell_type": "markdown",
      "id": "7f6011cc",
      "metadata": {
        "id": "7f6011cc"
      },
      "source": [
        "## 2.3. ANÁLISIS POR CUANTILES"
      ]
    },
    {
      "cell_type": "markdown",
      "id": "4cdc3ffe",
      "metadata": {
        "id": "4cdc3ffe"
      },
      "source": [
        "¿Qué hace este código?\n",
        "\n",
        "Para cada factor:\n",
        "\n",
        "- Se divide cada día en 5 quintiles (qcut).\n",
        "- Calcula el retorno medio futuro de cada quintil.\n",
        "- Acumula los resultados de todos los días válidos.\n",
        "- Al final, te da el retorno promedio por quintil en todo el dataset.\n",
        "\n",
        "Esto te permite ver si, por ejemplo, los valores bajos del RSI (Q0) tienden a tener retornos positivos → reversión. O si Q4 tiene retorno positivo → momentum."
      ]
    },
    {
      "cell_type": "code",
      "execution_count": null,
      "id": "5fa2d589",
      "metadata": {
        "id": "5fa2d589"
      },
      "outputs": [],
      "source": [
        "# Factores seleccionados que querés evaluar\n",
        "factors = ['rsi_14', 'rsi_7', 'price_ema20', 'bb_percent', 'stoch_k', 'atr_norm', 'reversal_score']\n",
        "\n",
        "target = 'future_return_5min'\n",
        "\n",
        "# Agrupamos por día\n",
        "grouped = mnq_intraday_clean.groupby('date')\n",
        "\n",
        "print(\"\\n📈 Retorno promedio por quintil (promedio diario):\\n\")\n",
        "\n",
        "for factor in factors:\n",
        "    all_quantile_returns = []\n",
        "\n",
        "    for date, group in grouped:\n",
        "        df_valid = group[[factor, target]].dropna()\n",
        "\n",
        "        if len(df_valid) >= 30:\n",
        "            try:\n",
        "                df_valid['q'] = pd.qcut(df_valid[factor], 5, labels=False, duplicates='drop')\n",
        "                mean_ret = df_valid.groupby('q')[target].mean()\n",
        "\n",
        "                if len(mean_ret) == 5:\n",
        "                    all_quantile_returns.append(mean_ret.values)\n",
        "            except ValueError:\n",
        "                continue  # Si no hay suficientes valores únicos para dividir en quintiles\n",
        "\n",
        "    if all_quantile_returns:\n",
        "        avg_qrets = np.mean(all_quantile_returns, axis=0)\n",
        "        print(f\"\\n🔹 {factor} – retorno medio por quintil (Q0 a Q4):\")\n",
        "        for i, r in enumerate(avg_qrets):\n",
        "            print(f\"  Q{i}: {r:.5f}\")\n",
        "    else:\n",
        "        print(f\"\\n🔹 {factor}: sin suficientes datos diarios para quintiles\")"
      ]
    },
    {
      "cell_type": "markdown",
      "id": "f4a84e22",
      "metadata": {
        "id": "f4a84e22"
      },
      "source": [
        "### 📊 Retorno promedio por quintil (Q0 a Q4)"
      ]
    },
    {
      "cell_type": "markdown",
      "id": "da3854fd",
      "metadata": {
        "id": "da3854fd"
      },
      "source": [
        "\n",
        "| Factor           | Q0      | Q1      | Q2      | Q3      | Q4       | Interpretación                                               |\n",
        "|------------------|---------|---------|---------|---------|----------|--------------------------------------------------------------|\n",
        "| **rsi_14**        | 0.00008 | 0.00001 | 0.00000 | -0.00000| -0.00006 | Reversión clara: Q0 positivo, Q4 negativo                    |\n",
        "| **rsi_7**         | 0.00006 | 0.00001 | 0.00000 | -0.00000| -0.00005 | Reversión leve, misma estructura que RSI_14                 |\n",
        "| **price_ema20**   | 0.00008 | 0.00000 | -0.00001| -0.00000| -0.00004 | Sobreextensión a la media sugiere reversión                 |\n",
        "| **bb_percent**    | 0.00006 | 0.00002 | 0.00000 | -0.00001| -0.00004 | Precio cerca del borde inferior tiende a rebotar            |\n",
        "| **stoch_k**       | 0.00006 | 0.00002 | 0.00000 | -0.00001| -0.00004 | Señal alternativa de reversión como RSI y BB                |\n",
        "| **atr_norm**      | -0.00005| -0.00001| 0.00001 | 0.00000 | 0.00008  | Alta volatilidad favorece continuación                      |\n",
        "| **reversal_score**| -0.00005| -0.00001| -0.00000| 0.00002 | 0.00006  | Score compuesto: buena separación entre extremos            |\n"
      ]
    },
    {
      "cell_type": "markdown",
      "id": "20c6870f",
      "metadata": {
        "id": "20c6870f"
      },
      "source": [
        "✅ Resumen conceptual\n",
        "\n",
        "Los valores reflejan el retorno promedio futuro a 5 minutos, agrupado por quintiles del factor. Es decir:\n",
        "\n",
        "- Q0 = valores más bajos del factor (ej: RSI más bajo)\n",
        "- Q4 = valores más altos del factor"
      ]
    },
    {
      "cell_type": "markdown",
      "id": "1ca4c3bf",
      "metadata": {
        "id": "1ca4c3bf"
      },
      "source": [
        "### 📊 Conclusiones clave por tipo de factor\n"
      ]
    },
    {
      "cell_type": "markdown",
      "id": "5232fac1",
      "metadata": {
        "id": "5232fac1"
      },
      "source": [
        "#### 🔄 Factores de reversión (rsi_14, rsi_7, price_ema20, bb_percent, stoch_k)"
      ]
    },
    {
      "cell_type": "markdown",
      "id": "caf99fdc",
      "metadata": {
        "id": "caf99fdc"
      },
      "source": [
        "Patrón observado:\n",
        "Q0 tiene retorno positivo, Q4 negativo → clara señal de reversión estadística\n",
        "\n",
        "Por ejemplo: rsi_14\n",
        "\n",
        "  Q0: +0.00008 → RSI muy bajo → sube\n",
        "  \n",
        "  Q4: -0.00006 → RSI muy alto → baja\n",
        "\n",
        "✅ Interpretación:\n",
        "Los valores extremos (muy bajos) anticipan rebotes, y los valores altos anticipan caídas, aunque el efecto sea leve."
      ]
    },
    {
      "cell_type": "markdown",
      "id": "98cbf3aa",
      "metadata": {
        "id": "98cbf3aa"
      },
      "source": [
        "#### 🔊 Factor de volatilidad (atr_norm)\n"
      ]
    },
    {
      "cell_type": "markdown",
      "id": "227ebfeb",
      "metadata": {
        "id": "227ebfeb"
      },
      "source": [
        "Patrón:\n",
        "Q4 tiene retorno positivo → alta volatilidad favorece continuación\n",
        "\n",
        "Ejemplo:\n",
        "\n",
        "atr_norm\n",
        "\n",
        "  Q0: -0.00005 → baja volatilidad → mercado plano\n",
        "\n",
        "  Q4: +0.00008 → alta volatilidad → rompe en una dirección\n",
        "\n",
        "\n",
        "✅ Interpretación:\n",
        "Este factor no predice dirección por sí solo, pero ayuda a filtrar cuándo las señales funcionan mejor (alta volatilidad = movimiento significativo)."
      ]
    },
    {
      "cell_type": "markdown",
      "id": "7852e920",
      "metadata": {
        "id": "7852e920"
      },
      "source": [
        "#### 🧠 Feature combinada reversal_score\n"
      ]
    },
    {
      "cell_type": "markdown",
      "id": "19418abe",
      "metadata": {
        "id": "19418abe"
      },
      "source": [
        "Patrón observado: Q0 negativo, Q4 positivo → signo invertido por construcción\n",
        "\n",
        "Y se comporta bien: Q4 = +0.00006\n",
        "\n",
        "✅ Interpretación:\n",
        "\n",
        "Confirma que el score compuesto refleja la lógica de reversión. Es más fácil de interpretar para un modelo ML y combina múltiples señales."
      ]
    },
    {
      "cell_type": "markdown",
      "id": "bbe0e5cd",
      "metadata": {
        "id": "bbe0e5cd"
      },
      "source": [
        "### 🎯 Recomendación general\n",
        "\n",
        "Los factores muestran consistencia en su estructura predictiva: reversión suave, efecto de volatilidad, combinación útil.\n",
        "\n",
        "Aunque los valores absolutos de retorno son pequeños (esperado en timeframe de 1 minuto), la dirección del efecto está clara y sistemática, lo cual es valioso para modelos de ML.\n",
        "\n",
        "Estas señales pueden ser muy efectivas en modelos que aprovechan la combinación y no linealidad (ej. XGBoost, LSTM)."
      ]
    },
    {
      "cell_type": "markdown",
      "id": "b83de44f",
      "metadata": {
        "id": "b83de44f"
      },
      "source": [
        "## ESTABILIDAD DE ALPHA FACTORS?\n"
      ]
    },
    {
      "cell_type": "code",
      "execution_count": null,
      "id": "979057d9",
      "metadata": {
        "id": "979057d9"
      },
      "outputs": [],
      "source": [
        "mnq_intraday_clean"
      ]
    },
    {
      "cell_type": "code",
      "execution_count": null,
      "id": "c4677cac",
      "metadata": {
        "id": "c4677cac"
      },
      "outputs": [],
      "source": [
        "import pandas as pd\n",
        "import numpy as np\n",
        "from scipy.stats import spearmanr\n",
        "import matplotlib.pyplot as plt\n",
        "\n",
        "# Suponemos que ya cargaste mnq_intraday_clean con estos factores\n",
        "alpha_factors = ['rsi_14', 'rsi_7', 'price_ema20', 'bb_percent', 'stoch_k', 'atr_norm', 'reversal_score']\n",
        "target = 'future_return_5min'\n",
        "\n",
        "# Agrupar por día\n",
        "grouped = mnq_intraday_clean.groupby('date')\n",
        "\n",
        "# Calcular IC diario\n",
        "ic_diarios = {factor: [] for factor in alpha_factors}\n",
        "fechas = []\n",
        "\n",
        "for date, group in grouped:\n",
        "    fechas.append(date)\n",
        "    for factor in alpha_factors:\n",
        "        df_valid = group[[factor, target]].dropna()\n",
        "        if len(df_valid) >= 30:\n",
        "            ic = spearmanr(df_valid[factor], df_valid[target]).correlation\n",
        "        else:\n",
        "            ic = np.nan\n",
        "        ic_diarios[factor].append(ic)\n",
        "\n",
        "# Convertir a DataFrame de IC diarios\n",
        "df_ic = pd.DataFrame(ic_diarios, index=pd.to_datetime(fechas))\n",
        "\n",
        "# Graficar la media móvil de 20 días\n",
        "plt.figure(figsize=(14, 6))\n",
        "for factor in alpha_factors:\n",
        "    df_ic[factor].rolling(20).mean().plot(label=factor)\n",
        "\n",
        "plt.title(\"📈 IC promedio móvil (20 días) por alpha factor\")\n",
        "plt.xlabel(\"Fecha\")\n",
        "plt.ylabel(\"Information Coefficient (Spearman)\")\n",
        "plt.legend()\n",
        "plt.grid(True)\n",
        "plt.tight_layout()\n",
        "plt.show()"
      ]
    }
  ],
  "metadata": {
    "kernelspec": {
      "display_name": "trader_IA",
      "language": "python",
      "name": "python3"
    },
    "language_info": {
      "codemirror_mode": {
        "name": "ipython",
        "version": 3
      },
      "file_extension": ".py",
      "mimetype": "text/x-python",
      "name": "python",
      "nbconvert_exporter": "python",
      "pygments_lexer": "ipython3",
      "version": "3.10.13"
    },
    "colab": {
      "provenance": [],
      "include_colab_link": true
    }
  },
  "nbformat": 4,
  "nbformat_minor": 5
}