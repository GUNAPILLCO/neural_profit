{
  "cells": [
    {
      "cell_type": "markdown",
      "metadata": {
        "id": "view-in-github",
        "colab_type": "text"
      },
      "source": [
        "<a href=\"https://colab.research.google.com/github/GUNAPILLCO/neural_profit/blob/main/2_obtencion_preparacion_exploracion_datos/2_3_indicadores_tecnicos_retorno.ipynb\" target=\"_parent\"><img src=\"https://colab.research.google.com/assets/colab-badge.svg\" alt=\"Open In Colab\"/></a>"
      ]
    },
    {
      "cell_type": "markdown",
      "id": "8fa4bfae",
      "metadata": {
        "id": "8fa4bfae"
      },
      "source": [
        "# 2_3_Análisis de indicadores técnicos\n",
        "\n",
        "\n"
      ]
    },
    {
      "cell_type": "markdown",
      "source": [
        "## 0. Clonado de repositorio, importación de librerías y carga del dataset"
      ],
      "metadata": {
        "id": "g-yENmUVDKcW"
      },
      "id": "g-yENmUVDKcW"
    },
    {
      "cell_type": "markdown",
      "source": [
        "### Clonado de repositorio e importación de librerías"
      ],
      "metadata": {
        "id": "yY4p1bVdDKVz"
      },
      "id": "yY4p1bVdDKVz"
    },
    {
      "cell_type": "code",
      "source": [
        "#Clonamos el repo\n",
        "#LINK DE REPOSITORIO: https://github.com/GUNAPILLCO/neural_profit\n",
        "\n",
        "!git clone https://github.com/GUNAPILLCO/neural_profit.git"
      ],
      "metadata": {
        "colab": {
          "base_uri": "https://localhost:8080/"
        },
        "id": "hhwIs1EADW0X",
        "outputId": "9036964e-eb79-4cbc-8bf1-d3985694e54b"
      },
      "id": "hhwIs1EADW0X",
      "execution_count": 1,
      "outputs": [
        {
          "output_type": "stream",
          "name": "stdout",
          "text": [
            "Cloning into 'neural_profit'...\n",
            "remote: Enumerating objects: 186, done.\u001b[K\n",
            "remote: Counting objects: 100% (97/97), done.\u001b[K\n",
            "remote: Compressing objects: 100% (80/80), done.\u001b[K\n",
            "remote: Total 186 (delta 64), reused 29 (delta 17), pack-reused 89 (from 1)\u001b[K\n",
            "Receiving objects: 100% (186/186), 108.59 MiB | 25.28 MiB/s, done.\n",
            "Resolving deltas: 100% (97/97), done.\n",
            "Updating files: 100% (41/41), done.\n"
          ]
        }
      ]
    },
    {
      "cell_type": "code",
      "source": [
        "import sys\n",
        "\n",
        "#Instalación de librería pandas_market_calendars\n",
        "#!{sys.executable} -m pip install -q pandas_market_calendars\n",
        "#print(\"Librería instalada: pandas_market_calendars\")\n",
        "\n",
        "!{sys.executable} -m pip install -q ta\n",
        "print(\"Librería instalada: technical-analysis\")\n",
        "\n",
        "# Utilidades generales\n",
        "from datetime import datetime, timedelta\n",
        "import os\n",
        "import glob\n",
        "import requests\n",
        "import warnings\n",
        "warnings.filterwarnings('ignore')\n",
        "\n",
        "# Manejo y procesamiento de datos\n",
        "import ta\n",
        "import pandas as pd\n",
        "import numpy as np\n",
        "from tabulate import tabulate\n",
        "import matplotlib.pyplot as plt\n",
        "# Calendario de mercados\n",
        "#import pandas_market_calendars as mcal\n",
        "\n",
        "from ta.momentum import StochasticOscillator, ROCIndicator\n",
        "from ta.volatility import BollingerBands, AverageTrueRange\n",
        "\n",
        "from scipy.stats import spearmanr\n"
      ],
      "metadata": {
        "colab": {
          "base_uri": "https://localhost:8080/"
        },
        "id": "3UxVgk7nDZZ7",
        "outputId": "0cf9e2e0-a70b-409c-f025-ee52c9fb196d"
      },
      "id": "3UxVgk7nDZZ7",
      "execution_count": 2,
      "outputs": [
        {
          "output_type": "stream",
          "name": "stdout",
          "text": [
            "  Preparing metadata (setup.py) ... \u001b[?25l\u001b[?25hdone\n",
            "  Building wheel for ta (setup.py) ... \u001b[?25l\u001b[?25hdone\n",
            "Librería instalada: technical-analysis\n"
          ]
        }
      ]
    },
    {
      "cell_type": "markdown",
      "id": "20cf6ae7",
      "metadata": {
        "id": "20cf6ae7"
      },
      "source": [
        "### Carga del dataset mnq_intraday_data"
      ]
    },
    {
      "cell_type": "code",
      "source": [
        "def load_df():\n",
        "    \"\"\"\n",
        "    Función para cargar un archivo Parquet desde el repositorio clonado\n",
        "    \"\"\"\n",
        "    # Definir la URL del archivo Parquet en GitHub\n",
        "    df_path = '/content/neural_profit/2_obtencion_preparacion_exploracion_datos/mnq_intraday_data.parquet'\n",
        "\n",
        "    # Leer el archivo Parquet y cargarlo en un DataFrame\n",
        "    df = pd.read_parquet(df_path)\n",
        "\n",
        "    # Asegurar que el índice esté en formato datetime\n",
        "    df.index = pd.to_datetime(df.index)\n",
        "\n",
        "    # Crear una nueva columna 'date' con la fecha extraída del índice\n",
        "    df['date'] = df.index.date\n",
        "\n",
        "    # Reordenar columnas: 'date', 'time_str', y luego el resto\n",
        "    cols = ['date'] + [col for col in df.columns if col not in ['date']]\n",
        "\n",
        "    df = df[cols]\n",
        "\n",
        "    return df"
      ],
      "metadata": {
        "id": "fkc6BQhvDhcf"
      },
      "id": "fkc6BQhvDhcf",
      "execution_count": 3,
      "outputs": []
    },
    {
      "cell_type": "code",
      "source": [
        "mnq_intraday = load_df()"
      ],
      "metadata": {
        "id": "BfmS-r1KDjOv"
      },
      "id": "BfmS-r1KDjOv",
      "execution_count": 4,
      "outputs": []
    },
    {
      "cell_type": "markdown",
      "source": [
        "## 1. Definición de Target"
      ],
      "metadata": {
        "id": "0A9ePVLAdj3_"
      },
      "id": "0A9ePVLAdj3_"
    },
    {
      "cell_type": "markdown",
      "source": [
        "Se utiliza el retorno futuro a 30 minutos (target_return_30) como variable objetivo del modelo porque, tras evaluar múltiples hipótesis de predicción, fue el horizonte temporal con mayor IC medio para los indicadores técnicos seleccionados.\n",
        "\n",
        "Por lo tanto, usaremos los indicadores técnicos para analizar el comportamiento de dicha variable objetivo.\n",
        "\n"
      ],
      "metadata": {
        "id": "-UuIKkuwPfaS"
      },
      "id": "-UuIKkuwPfaS"
    },
    {
      "cell_type": "code",
      "source": [
        "def add_targets (df):\n",
        "  df['target_return_30'] = df.groupby('date')['close'].transform(lambda x: np.log(x.shift(-30)) - np.log(x))\n",
        "  return df"
      ],
      "metadata": {
        "id": "XbAedYaOFth1"
      },
      "id": "XbAedYaOFth1",
      "execution_count": 5,
      "outputs": []
    },
    {
      "cell_type": "code",
      "source": [
        "mnq_intraday = add_targets(mnq_intraday)"
      ],
      "metadata": {
        "id": "kRC_tGhrKG4r"
      },
      "id": "kRC_tGhrKG4r",
      "execution_count": 6,
      "outputs": []
    },
    {
      "cell_type": "code",
      "source": [
        "mnq_intraday"
      ],
      "metadata": {
        "id": "gqaczQ87VAOB",
        "colab": {
          "base_uri": "https://localhost:8080/",
          "height": 455
        },
        "outputId": "a081bd50-32c4-4cd4-9ee1-e6191cd0f670"
      },
      "id": "gqaczQ87VAOB",
      "execution_count": 7,
      "outputs": [
        {
          "output_type": "execute_result",
          "data": {
            "text/plain": [
              "                                 date      open      high       low     close  \\\n",
              "datetime                                                                        \n",
              "2019-12-23 08:00:00-05:00  2019-12-23   8734.00   8734.25   8733.75   8733.75   \n",
              "2019-12-23 08:01:00-05:00  2019-12-23   8734.00   8734.25   8733.75   8734.00   \n",
              "2019-12-23 08:02:00-05:00  2019-12-23   8734.00   8734.00   8733.25   8733.25   \n",
              "2019-12-23 08:03:00-05:00  2019-12-23   8734.25   8734.50   8734.00   8734.00   \n",
              "2019-12-23 08:04:00-05:00  2019-12-23   8734.00   8734.00   8733.50   8733.75   \n",
              "...                               ...       ...       ...       ...       ...   \n",
              "2025-06-13 15:56:00-04:00  2025-06-13  21624.50  21635.00  21613.50  21617.50   \n",
              "2025-06-13 15:57:00-04:00  2025-06-13  21616.50  21635.25  21615.75  21623.75   \n",
              "2025-06-13 15:58:00-04:00  2025-06-13  21623.25  21632.75  21616.50  21621.75   \n",
              "2025-06-13 15:59:00-04:00  2025-06-13  21622.00  21632.25  21618.00  21628.00   \n",
              "2025-06-13 16:00:00-04:00  2025-06-13  21627.75  21656.25  21622.50  21651.75   \n",
              "\n",
              "                           volume  target_return_30  \n",
              "datetime                                             \n",
              "2019-12-23 08:00:00-05:00      31          0.000372  \n",
              "2019-12-23 08:01:00-05:00      16          0.000286  \n",
              "2019-12-23 08:02:00-05:00      23          0.000315  \n",
              "2019-12-23 08:03:00-05:00      23          0.000315  \n",
              "2019-12-23 08:04:00-05:00      12          0.000458  \n",
              "...                           ...               ...  \n",
              "2025-06-13 15:56:00-04:00    3251               NaN  \n",
              "2025-06-13 15:57:00-04:00    2201               NaN  \n",
              "2025-06-13 15:58:00-04:00    1859               NaN  \n",
              "2025-06-13 15:59:00-04:00    2695               NaN  \n",
              "2025-06-13 16:00:00-04:00    6507               NaN  \n",
              "\n",
              "[630591 rows x 7 columns]"
            ],
            "text/html": [
              "\n",
              "  <div id=\"df-d3ee2cb6-edcc-4569-85ad-8fec259f4d49\" class=\"colab-df-container\">\n",
              "    <div>\n",
              "<style scoped>\n",
              "    .dataframe tbody tr th:only-of-type {\n",
              "        vertical-align: middle;\n",
              "    }\n",
              "\n",
              "    .dataframe tbody tr th {\n",
              "        vertical-align: top;\n",
              "    }\n",
              "\n",
              "    .dataframe thead th {\n",
              "        text-align: right;\n",
              "    }\n",
              "</style>\n",
              "<table border=\"1\" class=\"dataframe\">\n",
              "  <thead>\n",
              "    <tr style=\"text-align: right;\">\n",
              "      <th></th>\n",
              "      <th>date</th>\n",
              "      <th>open</th>\n",
              "      <th>high</th>\n",
              "      <th>low</th>\n",
              "      <th>close</th>\n",
              "      <th>volume</th>\n",
              "      <th>target_return_30</th>\n",
              "    </tr>\n",
              "    <tr>\n",
              "      <th>datetime</th>\n",
              "      <th></th>\n",
              "      <th></th>\n",
              "      <th></th>\n",
              "      <th></th>\n",
              "      <th></th>\n",
              "      <th></th>\n",
              "      <th></th>\n",
              "    </tr>\n",
              "  </thead>\n",
              "  <tbody>\n",
              "    <tr>\n",
              "      <th>2019-12-23 08:00:00-05:00</th>\n",
              "      <td>2019-12-23</td>\n",
              "      <td>8734.00</td>\n",
              "      <td>8734.25</td>\n",
              "      <td>8733.75</td>\n",
              "      <td>8733.75</td>\n",
              "      <td>31</td>\n",
              "      <td>0.000372</td>\n",
              "    </tr>\n",
              "    <tr>\n",
              "      <th>2019-12-23 08:01:00-05:00</th>\n",
              "      <td>2019-12-23</td>\n",
              "      <td>8734.00</td>\n",
              "      <td>8734.25</td>\n",
              "      <td>8733.75</td>\n",
              "      <td>8734.00</td>\n",
              "      <td>16</td>\n",
              "      <td>0.000286</td>\n",
              "    </tr>\n",
              "    <tr>\n",
              "      <th>2019-12-23 08:02:00-05:00</th>\n",
              "      <td>2019-12-23</td>\n",
              "      <td>8734.00</td>\n",
              "      <td>8734.00</td>\n",
              "      <td>8733.25</td>\n",
              "      <td>8733.25</td>\n",
              "      <td>23</td>\n",
              "      <td>0.000315</td>\n",
              "    </tr>\n",
              "    <tr>\n",
              "      <th>2019-12-23 08:03:00-05:00</th>\n",
              "      <td>2019-12-23</td>\n",
              "      <td>8734.25</td>\n",
              "      <td>8734.50</td>\n",
              "      <td>8734.00</td>\n",
              "      <td>8734.00</td>\n",
              "      <td>23</td>\n",
              "      <td>0.000315</td>\n",
              "    </tr>\n",
              "    <tr>\n",
              "      <th>2019-12-23 08:04:00-05:00</th>\n",
              "      <td>2019-12-23</td>\n",
              "      <td>8734.00</td>\n",
              "      <td>8734.00</td>\n",
              "      <td>8733.50</td>\n",
              "      <td>8733.75</td>\n",
              "      <td>12</td>\n",
              "      <td>0.000458</td>\n",
              "    </tr>\n",
              "    <tr>\n",
              "      <th>...</th>\n",
              "      <td>...</td>\n",
              "      <td>...</td>\n",
              "      <td>...</td>\n",
              "      <td>...</td>\n",
              "      <td>...</td>\n",
              "      <td>...</td>\n",
              "      <td>...</td>\n",
              "    </tr>\n",
              "    <tr>\n",
              "      <th>2025-06-13 15:56:00-04:00</th>\n",
              "      <td>2025-06-13</td>\n",
              "      <td>21624.50</td>\n",
              "      <td>21635.00</td>\n",
              "      <td>21613.50</td>\n",
              "      <td>21617.50</td>\n",
              "      <td>3251</td>\n",
              "      <td>NaN</td>\n",
              "    </tr>\n",
              "    <tr>\n",
              "      <th>2025-06-13 15:57:00-04:00</th>\n",
              "      <td>2025-06-13</td>\n",
              "      <td>21616.50</td>\n",
              "      <td>21635.25</td>\n",
              "      <td>21615.75</td>\n",
              "      <td>21623.75</td>\n",
              "      <td>2201</td>\n",
              "      <td>NaN</td>\n",
              "    </tr>\n",
              "    <tr>\n",
              "      <th>2025-06-13 15:58:00-04:00</th>\n",
              "      <td>2025-06-13</td>\n",
              "      <td>21623.25</td>\n",
              "      <td>21632.75</td>\n",
              "      <td>21616.50</td>\n",
              "      <td>21621.75</td>\n",
              "      <td>1859</td>\n",
              "      <td>NaN</td>\n",
              "    </tr>\n",
              "    <tr>\n",
              "      <th>2025-06-13 15:59:00-04:00</th>\n",
              "      <td>2025-06-13</td>\n",
              "      <td>21622.00</td>\n",
              "      <td>21632.25</td>\n",
              "      <td>21618.00</td>\n",
              "      <td>21628.00</td>\n",
              "      <td>2695</td>\n",
              "      <td>NaN</td>\n",
              "    </tr>\n",
              "    <tr>\n",
              "      <th>2025-06-13 16:00:00-04:00</th>\n",
              "      <td>2025-06-13</td>\n",
              "      <td>21627.75</td>\n",
              "      <td>21656.25</td>\n",
              "      <td>21622.50</td>\n",
              "      <td>21651.75</td>\n",
              "      <td>6507</td>\n",
              "      <td>NaN</td>\n",
              "    </tr>\n",
              "  </tbody>\n",
              "</table>\n",
              "<p>630591 rows × 7 columns</p>\n",
              "</div>\n",
              "    <div class=\"colab-df-buttons\">\n",
              "\n",
              "  <div class=\"colab-df-container\">\n",
              "    <button class=\"colab-df-convert\" onclick=\"convertToInteractive('df-d3ee2cb6-edcc-4569-85ad-8fec259f4d49')\"\n",
              "            title=\"Convert this dataframe to an interactive table.\"\n",
              "            style=\"display:none;\">\n",
              "\n",
              "  <svg xmlns=\"http://www.w3.org/2000/svg\" height=\"24px\" viewBox=\"0 -960 960 960\">\n",
              "    <path d=\"M120-120v-720h720v720H120Zm60-500h600v-160H180v160Zm220 220h160v-160H400v160Zm0 220h160v-160H400v160ZM180-400h160v-160H180v160Zm440 0h160v-160H620v160ZM180-180h160v-160H180v160Zm440 0h160v-160H620v160Z\"/>\n",
              "  </svg>\n",
              "    </button>\n",
              "\n",
              "  <style>\n",
              "    .colab-df-container {\n",
              "      display:flex;\n",
              "      gap: 12px;\n",
              "    }\n",
              "\n",
              "    .colab-df-convert {\n",
              "      background-color: #E8F0FE;\n",
              "      border: none;\n",
              "      border-radius: 50%;\n",
              "      cursor: pointer;\n",
              "      display: none;\n",
              "      fill: #1967D2;\n",
              "      height: 32px;\n",
              "      padding: 0 0 0 0;\n",
              "      width: 32px;\n",
              "    }\n",
              "\n",
              "    .colab-df-convert:hover {\n",
              "      background-color: #E2EBFA;\n",
              "      box-shadow: 0px 1px 2px rgba(60, 64, 67, 0.3), 0px 1px 3px 1px rgba(60, 64, 67, 0.15);\n",
              "      fill: #174EA6;\n",
              "    }\n",
              "\n",
              "    .colab-df-buttons div {\n",
              "      margin-bottom: 4px;\n",
              "    }\n",
              "\n",
              "    [theme=dark] .colab-df-convert {\n",
              "      background-color: #3B4455;\n",
              "      fill: #D2E3FC;\n",
              "    }\n",
              "\n",
              "    [theme=dark] .colab-df-convert:hover {\n",
              "      background-color: #434B5C;\n",
              "      box-shadow: 0px 1px 3px 1px rgba(0, 0, 0, 0.15);\n",
              "      filter: drop-shadow(0px 1px 2px rgba(0, 0, 0, 0.3));\n",
              "      fill: #FFFFFF;\n",
              "    }\n",
              "  </style>\n",
              "\n",
              "    <script>\n",
              "      const buttonEl =\n",
              "        document.querySelector('#df-d3ee2cb6-edcc-4569-85ad-8fec259f4d49 button.colab-df-convert');\n",
              "      buttonEl.style.display =\n",
              "        google.colab.kernel.accessAllowed ? 'block' : 'none';\n",
              "\n",
              "      async function convertToInteractive(key) {\n",
              "        const element = document.querySelector('#df-d3ee2cb6-edcc-4569-85ad-8fec259f4d49');\n",
              "        const dataTable =\n",
              "          await google.colab.kernel.invokeFunction('convertToInteractive',\n",
              "                                                    [key], {});\n",
              "        if (!dataTable) return;\n",
              "\n",
              "        const docLinkHtml = 'Like what you see? Visit the ' +\n",
              "          '<a target=\"_blank\" href=https://colab.research.google.com/notebooks/data_table.ipynb>data table notebook</a>'\n",
              "          + ' to learn more about interactive tables.';\n",
              "        element.innerHTML = '';\n",
              "        dataTable['output_type'] = 'display_data';\n",
              "        await google.colab.output.renderOutput(dataTable, element);\n",
              "        const docLink = document.createElement('div');\n",
              "        docLink.innerHTML = docLinkHtml;\n",
              "        element.appendChild(docLink);\n",
              "      }\n",
              "    </script>\n",
              "  </div>\n",
              "\n",
              "\n",
              "    <div id=\"df-1191df58-6489-4a73-8fcf-031522c496fe\">\n",
              "      <button class=\"colab-df-quickchart\" onclick=\"quickchart('df-1191df58-6489-4a73-8fcf-031522c496fe')\"\n",
              "                title=\"Suggest charts\"\n",
              "                style=\"display:none;\">\n",
              "\n",
              "<svg xmlns=\"http://www.w3.org/2000/svg\" height=\"24px\"viewBox=\"0 0 24 24\"\n",
              "     width=\"24px\">\n",
              "    <g>\n",
              "        <path d=\"M19 3H5c-1.1 0-2 .9-2 2v14c0 1.1.9 2 2 2h14c1.1 0 2-.9 2-2V5c0-1.1-.9-2-2-2zM9 17H7v-7h2v7zm4 0h-2V7h2v10zm4 0h-2v-4h2v4z\"/>\n",
              "    </g>\n",
              "</svg>\n",
              "      </button>\n",
              "\n",
              "<style>\n",
              "  .colab-df-quickchart {\n",
              "      --bg-color: #E8F0FE;\n",
              "      --fill-color: #1967D2;\n",
              "      --hover-bg-color: #E2EBFA;\n",
              "      --hover-fill-color: #174EA6;\n",
              "      --disabled-fill-color: #AAA;\n",
              "      --disabled-bg-color: #DDD;\n",
              "  }\n",
              "\n",
              "  [theme=dark] .colab-df-quickchart {\n",
              "      --bg-color: #3B4455;\n",
              "      --fill-color: #D2E3FC;\n",
              "      --hover-bg-color: #434B5C;\n",
              "      --hover-fill-color: #FFFFFF;\n",
              "      --disabled-bg-color: #3B4455;\n",
              "      --disabled-fill-color: #666;\n",
              "  }\n",
              "\n",
              "  .colab-df-quickchart {\n",
              "    background-color: var(--bg-color);\n",
              "    border: none;\n",
              "    border-radius: 50%;\n",
              "    cursor: pointer;\n",
              "    display: none;\n",
              "    fill: var(--fill-color);\n",
              "    height: 32px;\n",
              "    padding: 0;\n",
              "    width: 32px;\n",
              "  }\n",
              "\n",
              "  .colab-df-quickchart:hover {\n",
              "    background-color: var(--hover-bg-color);\n",
              "    box-shadow: 0 1px 2px rgba(60, 64, 67, 0.3), 0 1px 3px 1px rgba(60, 64, 67, 0.15);\n",
              "    fill: var(--button-hover-fill-color);\n",
              "  }\n",
              "\n",
              "  .colab-df-quickchart-complete:disabled,\n",
              "  .colab-df-quickchart-complete:disabled:hover {\n",
              "    background-color: var(--disabled-bg-color);\n",
              "    fill: var(--disabled-fill-color);\n",
              "    box-shadow: none;\n",
              "  }\n",
              "\n",
              "  .colab-df-spinner {\n",
              "    border: 2px solid var(--fill-color);\n",
              "    border-color: transparent;\n",
              "    border-bottom-color: var(--fill-color);\n",
              "    animation:\n",
              "      spin 1s steps(1) infinite;\n",
              "  }\n",
              "\n",
              "  @keyframes spin {\n",
              "    0% {\n",
              "      border-color: transparent;\n",
              "      border-bottom-color: var(--fill-color);\n",
              "      border-left-color: var(--fill-color);\n",
              "    }\n",
              "    20% {\n",
              "      border-color: transparent;\n",
              "      border-left-color: var(--fill-color);\n",
              "      border-top-color: var(--fill-color);\n",
              "    }\n",
              "    30% {\n",
              "      border-color: transparent;\n",
              "      border-left-color: var(--fill-color);\n",
              "      border-top-color: var(--fill-color);\n",
              "      border-right-color: var(--fill-color);\n",
              "    }\n",
              "    40% {\n",
              "      border-color: transparent;\n",
              "      border-right-color: var(--fill-color);\n",
              "      border-top-color: var(--fill-color);\n",
              "    }\n",
              "    60% {\n",
              "      border-color: transparent;\n",
              "      border-right-color: var(--fill-color);\n",
              "    }\n",
              "    80% {\n",
              "      border-color: transparent;\n",
              "      border-right-color: var(--fill-color);\n",
              "      border-bottom-color: var(--fill-color);\n",
              "    }\n",
              "    90% {\n",
              "      border-color: transparent;\n",
              "      border-bottom-color: var(--fill-color);\n",
              "    }\n",
              "  }\n",
              "</style>\n",
              "\n",
              "      <script>\n",
              "        async function quickchart(key) {\n",
              "          const quickchartButtonEl =\n",
              "            document.querySelector('#' + key + ' button');\n",
              "          quickchartButtonEl.disabled = true;  // To prevent multiple clicks.\n",
              "          quickchartButtonEl.classList.add('colab-df-spinner');\n",
              "          try {\n",
              "            const charts = await google.colab.kernel.invokeFunction(\n",
              "                'suggestCharts', [key], {});\n",
              "          } catch (error) {\n",
              "            console.error('Error during call to suggestCharts:', error);\n",
              "          }\n",
              "          quickchartButtonEl.classList.remove('colab-df-spinner');\n",
              "          quickchartButtonEl.classList.add('colab-df-quickchart-complete');\n",
              "        }\n",
              "        (() => {\n",
              "          let quickchartButtonEl =\n",
              "            document.querySelector('#df-1191df58-6489-4a73-8fcf-031522c496fe button');\n",
              "          quickchartButtonEl.style.display =\n",
              "            google.colab.kernel.accessAllowed ? 'block' : 'none';\n",
              "        })();\n",
              "      </script>\n",
              "    </div>\n",
              "\n",
              "  <div id=\"id_ad8d75ff-d21a-43ad-987a-85938eb8796a\">\n",
              "    <style>\n",
              "      .colab-df-generate {\n",
              "        background-color: #E8F0FE;\n",
              "        border: none;\n",
              "        border-radius: 50%;\n",
              "        cursor: pointer;\n",
              "        display: none;\n",
              "        fill: #1967D2;\n",
              "        height: 32px;\n",
              "        padding: 0 0 0 0;\n",
              "        width: 32px;\n",
              "      }\n",
              "\n",
              "      .colab-df-generate:hover {\n",
              "        background-color: #E2EBFA;\n",
              "        box-shadow: 0px 1px 2px rgba(60, 64, 67, 0.3), 0px 1px 3px 1px rgba(60, 64, 67, 0.15);\n",
              "        fill: #174EA6;\n",
              "      }\n",
              "\n",
              "      [theme=dark] .colab-df-generate {\n",
              "        background-color: #3B4455;\n",
              "        fill: #D2E3FC;\n",
              "      }\n",
              "\n",
              "      [theme=dark] .colab-df-generate:hover {\n",
              "        background-color: #434B5C;\n",
              "        box-shadow: 0px 1px 3px 1px rgba(0, 0, 0, 0.15);\n",
              "        filter: drop-shadow(0px 1px 2px rgba(0, 0, 0, 0.3));\n",
              "        fill: #FFFFFF;\n",
              "      }\n",
              "    </style>\n",
              "    <button class=\"colab-df-generate\" onclick=\"generateWithVariable('mnq_intraday')\"\n",
              "            title=\"Generate code using this dataframe.\"\n",
              "            style=\"display:none;\">\n",
              "\n",
              "  <svg xmlns=\"http://www.w3.org/2000/svg\" height=\"24px\"viewBox=\"0 0 24 24\"\n",
              "       width=\"24px\">\n",
              "    <path d=\"M7,19H8.4L18.45,9,17,7.55,7,17.6ZM5,21V16.75L18.45,3.32a2,2,0,0,1,2.83,0l1.4,1.43a1.91,1.91,0,0,1,.58,1.4,1.91,1.91,0,0,1-.58,1.4L9.25,21ZM18.45,9,17,7.55Zm-12,3A5.31,5.31,0,0,0,4.9,8.1,5.31,5.31,0,0,0,1,6.5,5.31,5.31,0,0,0,4.9,4.9,5.31,5.31,0,0,0,6.5,1,5.31,5.31,0,0,0,8.1,4.9,5.31,5.31,0,0,0,12,6.5,5.46,5.46,0,0,0,6.5,12Z\"/>\n",
              "  </svg>\n",
              "    </button>\n",
              "    <script>\n",
              "      (() => {\n",
              "      const buttonEl =\n",
              "        document.querySelector('#id_ad8d75ff-d21a-43ad-987a-85938eb8796a button.colab-df-generate');\n",
              "      buttonEl.style.display =\n",
              "        google.colab.kernel.accessAllowed ? 'block' : 'none';\n",
              "\n",
              "      buttonEl.onclick = () => {\n",
              "        google.colab.notebook.generateWithVariable('mnq_intraday');\n",
              "      }\n",
              "      })();\n",
              "    </script>\n",
              "  </div>\n",
              "\n",
              "    </div>\n",
              "  </div>\n"
            ],
            "application/vnd.google.colaboratory.intrinsic+json": {
              "type": "dataframe",
              "variable_name": "mnq_intraday"
            }
          },
          "metadata": {},
          "execution_count": 7
        }
      ]
    },
    {
      "cell_type": "markdown",
      "id": "f23cdad4",
      "metadata": {
        "id": "f23cdad4"
      },
      "source": [
        "## 2. Indicadores Técnicos"
      ]
    },
    {
      "cell_type": "markdown",
      "source": [
        "Los indicadores técnicos calculados en cada jornada tienen como objetivo capturar dinámicas intradía relevantes del precio y el volumen, tales como momentum, sobrecompra/sobreventa, presión institucional o posibles reversiones. Cada uno aporta información complementaria sobre el comportamiento del mercado a corto plazo. En particular:"
      ],
      "metadata": {
        "id": "NHhukLAEfD-m"
      },
      "id": "NHhukLAEfD-m"
    },
    {
      "cell_type": "markdown",
      "source": [
        "### 2.1. **RSI (Relative Strength Index)**"
      ],
      "metadata": {
        "id": "Q5ZT49pvfIln"
      },
      "id": "Q5ZT49pvfIln"
    },
    {
      "cell_type": "markdown",
      "source": [
        "Mide la fuerza relativa del precio en los últimos períodos (3, 5, 7, 14), oscilando entre 0 y 100.\n",
        "\n",
        "  - Valores altos indican posibles condiciones de sobrecompra, mientras que valores bajos sugieren sobreventa.\n",
        "  \n",
        "  - Calculado sobre los precios de cierre intradía, el RSI es útil para identificar puntos de reversión potenciales en el corto plazo."
      ],
      "metadata": {
        "id": "67GSv9pNfONg"
      },
      "id": "67GSv9pNfONg"
    },
    {
      "cell_type": "code",
      "source": [
        "def calcular_rsi(df=mnq_intraday, target='target_return_30' ):\n",
        "  rsi_columns = ['rsi_14', 'rsi_7', 'rsi_5', 'rsi_3']\n",
        "\n",
        "  def aplicar_por_dia (grupo):\n",
        "        grupo = grupo.copy()\n",
        "        grupo['rsi_14'] = ta.momentum.RSIIndicator(grupo[target], window=14).rsi()\n",
        "        grupo['rsi_7'] = ta.momentum.RSIIndicator(grupo[target], window=7).rsi()\n",
        "        grupo['rsi_5'] = ta.momentum.RSIIndicator(grupo[target], window=5).rsi()\n",
        "        grupo['rsi_3'] = ta.momentum.RSIIndicator(grupo[target], window=3).rsi()\n",
        "        return grupo\n",
        "\n",
        "  df = df.groupby('date', group_keys=False).apply(aplicar_por_dia)\n",
        "  return df, rsi_columns"
      ],
      "metadata": {
        "id": "0FPuBzWih3Gb"
      },
      "id": "0FPuBzWih3Gb",
      "execution_count": 8,
      "outputs": []
    },
    {
      "cell_type": "markdown",
      "source": [
        "### 2.2. **Momentum**"
      ],
      "metadata": {
        "id": "cTJerBv7fpMA"
      },
      "id": "cTJerBv7fpMA"
    },
    {
      "cell_type": "markdown",
      "source": [
        "Mide la aceleración reciente del precio mediante la variación porcentual entre el precio actual y el de hace N minutos.\n",
        "\n",
        "  - Un valor positivo indica una subida reciente, lo que podría sugerir una continuación alcista.\n",
        "\n",
        "  - Un valor negativo señala presión bajista reciente, potencialmente anticipando una continuación a la baja."
      ],
      "metadata": {
        "id": "lf_GW7PCfyOe"
      },
      "id": "lf_GW7PCfyOe"
    },
    {
      "cell_type": "code",
      "source": [
        "def calcular_momentum(df=mnq_intraday, target='target_return_30' ):\n",
        "  momentum_columns = ['momentum_10', 'momentum_5','momentum_3']\n",
        "\n",
        "  def aplicar_por_dia (grupo):\n",
        "        grupo = grupo.copy()\n",
        "        grupo['momentum_10'] = grupo[target].pct_change(10)\n",
        "        grupo['momentum_5'] = grupo[target].pct_change(5)\n",
        "        grupo['momentum_3'] = grupo[target].pct_change(3)\n",
        "        return grupo\n",
        "\n",
        "  df = df.groupby('date', group_keys=False).apply(aplicar_por_dia)\n",
        "  return df, momentum_columns"
      ],
      "metadata": {
        "id": "Wj57w6aZkN3k"
      },
      "id": "Wj57w6aZkN3k",
      "execution_count": 9,
      "outputs": []
    },
    {
      "cell_type": "markdown",
      "source": [
        "### 2.3. **Relación de volumen actual vs. su promedio reciente**"
      ],
      "metadata": {
        "id": "3TbJ6JpcgExg"
      },
      "id": "3TbJ6JpcgExg"
    },
    {
      "cell_type": "markdown",
      "source": [
        "Compara el volumen actual con su media móvil en distintas ventanas de tiempo: 15, 20 y 30 minutos.\n",
        "\n",
        "  - Un valor mayor a 1 indica un volumen superior al promedio de la ventana correspondiente, lo que puede reflejar interés creciente o actividad institucional.\n",
        "\n",
        "  - Un valor menor a 1 sugiere baja actividad o consolidación del precio.\n",
        "\n",
        "Esta métrica permite detectar aumentos de volumen (\"spikes\") sin depender del volumen en crudo, y las diferentes ventanas permiten capturar variaciones en la dinámica de corto plazo con distinta sensibilidad.\n"
      ],
      "metadata": {
        "id": "ReHLFnT3gwJJ"
      },
      "id": "ReHLFnT3gwJJ"
    },
    {
      "cell_type": "code",
      "source": [
        "def calcular_volumen_ratio(df=mnq_intraday, target='target_return_30'):\n",
        "  volume_ratio_columns = ['volume_ratio_15', 'volume_ratio_20', 'volume_ratio_30']\n",
        "\n",
        "  def aplicar_por_dia (grupo):\n",
        "        grupo = grupo.copy()\n",
        "        grupo['volume_ratio_15'] = grupo['volume'] / grupo['volume'].rolling(15).mean()\n",
        "        grupo['volume_ratio_20'] = grupo['volume'] / grupo['volume'].rolling(20).mean()\n",
        "        grupo['volume_ratio_30'] = grupo['volume'] / grupo['volume'].rolling(30).mean()\n",
        "        return grupo\n",
        "\n",
        "  df = df.groupby('date', group_keys=False).apply(aplicar_por_dia)\n",
        "\n",
        "  return df, volume_ratio_columns"
      ],
      "metadata": {
        "id": "LXjdwJN3jnpg"
      },
      "id": "LXjdwJN3jnpg",
      "execution_count": 10,
      "outputs": []
    },
    {
      "cell_type": "markdown",
      "source": [
        "### 2.4. **MACD diferencial (señal de cruce)**"
      ],
      "metadata": {
        "id": "qrpRsrXCgGGq"
      },
      "id": "qrpRsrXCgGGq"
    },
    {
      "cell_type": "markdown",
      "source": [
        "Representa la diferencia entre la línea MACD y su línea de señal (una media exponencial de sí misma).\n",
        "\n",
        "  - Un valor positivo y creciente indica momentum alcista.\n",
        "\n",
        "  - Un valor negativo sugiere presión bajista.\n",
        "  \n",
        "Es ampliamente utilizado para detectar giros de tendencia y cambios en la dinámica del mercado.\n"
      ],
      "metadata": {
        "id": "qn4jRYEkg7Po"
      },
      "id": "qn4jRYEkg7Po"
    },
    {
      "cell_type": "code",
      "source": [
        "def calcular_macd(df=mnq_intraday, target='target_return_30'):\n",
        "    macd_columns = ['macd']\n",
        "\n",
        "    def aplicar_por_dia(grupo):\n",
        "        grupo = grupo.copy()\n",
        "        grupo['macd'] = ta.trend.MACD(grupo[target]).macd_diff()\n",
        "        return grupo\n",
        "\n",
        "    df = df.groupby('date', group_keys=False).apply(aplicar_por_dia)\n",
        "\n",
        "    return df, macd_columns"
      ],
      "metadata": {
        "id": "Jocjbdbvk4Vx"
      },
      "id": "Jocjbdbvk4Vx",
      "execution_count": 11,
      "outputs": []
    },
    {
      "cell_type": "markdown",
      "source": [
        "### 2.5. **Distancia del precio actual a su EMA (15, 20 y 30 minutos)**"
      ],
      "metadata": {
        "id": "RF-_HxF8gHol"
      },
      "id": "RF-_HxF8gHol"
    },
    {
      "cell_type": "markdown",
      "source": [
        "Mide el desvío porcentual del precio respecto a su media exponencial en diferentes ventanas, y actúa como indicador de sobreextensión o retorno a la media.\n",
        "\n",
        "  - Si el precio está muy por encima de la EMA, puede anticipar una reversión bajista o una posible aceleración alcista.\n",
        "\n",
        "  - Si está por debajo, podría indicar agotamiento o presión vendedora.<br>\n",
        "\n",
        "Esta métrica se expresa como un porcentaje relativo, lo que facilita la comparación entre distintas ventanas temporales y condiciones de mercado.\n",
        "\n",
        "Usar varias ventanas (15, 20 y 30 minutos) permite capturar diferentes horizontes de reacción del precio frente a su media móvil.\n"
      ],
      "metadata": {
        "id": "1g08dqbIhBnv"
      },
      "id": "1g08dqbIhBnv"
    },
    {
      "cell_type": "code",
      "source": [
        "def calcular_ema(df=mnq_intraday, target='target_return_30'):\n",
        "    ema_columns = ['price_ema15', 'price_ema20', 'price_ema30']\n",
        "\n",
        "    def aplicar_por_dia(grupo):\n",
        "        grupo = grupo.copy()\n",
        "        grupo['price_ema15'] = grupo[target] / grupo[target].ewm(span=15).mean() - 1\n",
        "        grupo['price_ema20'] = grupo[target] / grupo[target].ewm(span=20).mean() - 1\n",
        "        grupo['price_ema30'] = grupo[target] / grupo[target].ewm(span=30).mean() - 1\n",
        "        return grupo\n",
        "\n",
        "    df = df.groupby('date', group_keys=False).apply(aplicar_por_dia)\n",
        "\n",
        "    return df, ema_columns"
      ],
      "metadata": {
        "id": "swjxDeTjlSK1"
      },
      "id": "swjxDeTjlSK1",
      "execution_count": 12,
      "outputs": []
    },
    {
      "cell_type": "markdown",
      "source": [
        "### 2.6. **%K Estocástico**"
      ],
      "metadata": {
        "id": "VbhmPxj4gI1W"
      },
      "id": "VbhmPxj4gI1W"
    },
    {
      "cell_type": "markdown",
      "source": [
        "Mide la posición relativa del precio actual dentro del rango alto-bajo de los últimos n periodos (generalmente 14).\n",
        "\n",
        "  - Se utiliza para identificar condiciones extremas de sobrecompra o sobreventa.\n",
        "\n",
        "  - Un valor cercano a 100 indica que el precio está cerca del máximo reciente (potencial sobrecompra), mientras que un valor cercano a 0 indica proximidad al mínimo reciente (posible sobreventa).\n",
        "\n",
        "Es útil para detectar momentos en los que el precio puede estar excesivamente extendido y susceptible a una reversión.\n"
      ],
      "metadata": {
        "id": "Uc3IQlwBhHrj"
      },
      "id": "Uc3IQlwBhHrj"
    },
    {
      "cell_type": "code",
      "source": [
        "def calcular_stochastic(df=mnq_intraday, target='target_return_30'):\n",
        "    stoch_columns = ['stoch_k_14', 'stoch_k_20', 'stoch_k_30']\n",
        "\n",
        "    def aplicar_por_dia(grupo):\n",
        "        grupo = grupo.copy()\n",
        "\n",
        "        stoch_14 = StochasticOscillator(\n",
        "            high=grupo['high'], low=grupo['low'], close=grupo[target], window=14, smooth_window=3\n",
        "        )\n",
        "        grupo['stoch_k_14'] = stoch_14.stoch()\n",
        "\n",
        "        stoch_20 = StochasticOscillator(\n",
        "            high=grupo['high'], low=grupo['low'], close=grupo[target], window=20, smooth_window=3\n",
        "        )\n",
        "        grupo['stoch_k_20'] = stoch_20.stoch()\n",
        "\n",
        "        stoch_30 = StochasticOscillator(\n",
        "            high=grupo['high'], low=grupo['low'], close=grupo[target], window=30, smooth_window=3\n",
        "        )\n",
        "        grupo['stoch_k_30'] = stoch_30.stoch()\n",
        "\n",
        "        return grupo\n",
        "\n",
        "    df = df.groupby('date', group_keys=False).apply(aplicar_por_dia)\n",
        "\n",
        "    return df, stoch_columns\n"
      ],
      "metadata": {
        "id": "ogsaQigRl7NW"
      },
      "id": "ogsaQigRl7NW",
      "execution_count": 13,
      "outputs": []
    },
    {
      "cell_type": "markdown",
      "source": [
        "### 2.7.**%B de Bollinger (Bollinger Band Percent)**"
      ],
      "metadata": {
        "id": "GHqCq3LAgJ5B"
      },
      "id": "GHqCq3LAgJ5B"
    },
    {
      "cell_type": "markdown",
      "source": [
        "Indica la posición del precio actual en relación con las bandas de Bollinger, que están construidas alrededor de una media móvil usando desviaciones estándar.\n",
        "\n",
        "  - Un valor de %B > 1 sugiere que el precio está por encima de la banda superior, lo que podría implicar exceso de optimismo o momentum fuerte.\n",
        "\n",
        "  - Un valor < 0 indica que está por debajo de la banda inferior, posible señal de pánico o sobreventa extrema.\n",
        "\n",
        "Este indicador es eficaz para identificar zonas de congestión, breakout o reversiones basadas en la volatilidad reciente.\n"
      ],
      "metadata": {
        "id": "KuiH9phmhSVG"
      },
      "id": "KuiH9phmhSVG"
    },
    {
      "cell_type": "code",
      "source": [
        "from ta.volatility import BollingerBands\n",
        "\n",
        "def calcular_bollinger(df=mnq_intraday, target='target_return_30'):\n",
        "    bollinger_columns = [\n",
        "        'bb_percent_15_15', 'bb_percent_20_15', 'bb_percent_30_15',\n",
        "        'bb_percent_15_20', 'bb_percent_20_20', 'bb_percent_30_20',\n",
        "        'bb_percent_15_25', 'bb_percent_20_25', 'bb_percent_30_25',\n",
        "    ]\n",
        "\n",
        "    def aplicar_por_dia(grupo):\n",
        "        grupo = grupo.copy()\n",
        "\n",
        "        # std: 1.5\n",
        "        grupo['bb_percent_15_15'] = BollingerBands(grupo[target], window=15, window_dev=1.5).bollinger_pband()\n",
        "        grupo['bb_percent_20_15'] = BollingerBands(grupo[target], window=20, window_dev=1.5).bollinger_pband()\n",
        "        grupo['bb_percent_30_15'] = BollingerBands(grupo[target], window=30, window_dev=1.5).bollinger_pband()\n",
        "\n",
        "        # std: 2\n",
        "        grupo['bb_percent_15_20'] = BollingerBands(grupo[target], window=15, window_dev=2).bollinger_pband()\n",
        "        grupo['bb_percent_20_20'] = BollingerBands(grupo[target], window=20, window_dev=2).bollinger_pband()\n",
        "        grupo['bb_percent_30_20'] = BollingerBands(grupo[target], window=30, window_dev=2).bollinger_pband()\n",
        "\n",
        "        # std: 2.5\n",
        "        grupo['bb_percent_15_25'] = BollingerBands(grupo[target], window=15, window_dev=2.5).bollinger_pband()\n",
        "        grupo['bb_percent_20_25'] = BollingerBands(grupo[target], window=20, window_dev=2.5).bollinger_pband()\n",
        "        grupo['bb_percent_30_25'] = BollingerBands(grupo[target], window=30, window_dev=2.5).bollinger_pband()\n",
        "\n",
        "        return grupo\n",
        "\n",
        "    df = df.groupby('date', group_keys=False).apply(aplicar_por_dia)\n",
        "\n",
        "    return df, bollinger_columns\n"
      ],
      "metadata": {
        "id": "i7VPAMY3nOmW"
      },
      "id": "i7VPAMY3nOmW",
      "execution_count": 14,
      "outputs": []
    },
    {
      "cell_type": "markdown",
      "source": [
        "### 2.8. **ATR normalizado (Average True Range / precio)**"
      ],
      "metadata": {
        "id": "w8Ldu9QQgMZV"
      },
      "id": "w8Ldu9QQgMZV"
    },
    {
      "cell_type": "markdown",
      "source": [
        "Representa la volatilidad absoluta reciente ajustada al nivel del precio.\n",
        "\n",
        "  - El ATR mide el rango promedio de oscilación de un activo en los últimos n periodos, capturando tanto movimientos bruscos como gaps.\n",
        "\n",
        "  - Al normalizarlo dividiéndolo por el precio, se obtiene una medida relativa, comparable entre distintos niveles de mercado.\n",
        "\n",
        "Este indicador es útil para detectar momentos de alta o baja volatilidad intradía, que pueden influir en la confiabilidad de otras señales técnicas.\n"
      ],
      "metadata": {
        "id": "Kp39F2jlhnQX"
      },
      "id": "Kp39F2jlhnQX"
    },
    {
      "cell_type": "code",
      "source": [
        "def calcular_atr(df=mnq_intraday, target='target_return_30'):\n",
        "    atr_columns = ['atr_norm']\n",
        "\n",
        "    def aplicar_por_dia(grupo):\n",
        "        grupo = grupo.copy()\n",
        "        atr = AverageTrueRange(high=grupo['high'], low=grupo['low'], close=grupo[target], window=14)\n",
        "        grupo['atr'] = atr.average_true_range()\n",
        "        grupo['atr_norm'] = grupo['atr'] / grupo[target]\n",
        "        return grupo\n",
        "\n",
        "    df = df.groupby('date', group_keys=False).apply(aplicar_por_dia)\n",
        "\n",
        "    return df, atr_columns\n"
      ],
      "metadata": {
        "id": "zVXNBM_un9oG"
      },
      "id": "zVXNBM_un9oG",
      "execution_count": 15,
      "outputs": []
    },
    {
      "cell_type": "markdown",
      "source": [
        "### 2.9. **ROC (Rate of Change)**"
      ],
      "metadata": {
        "id": "lRVxX2T4gnQV"
      },
      "id": "lRVxX2T4gnQV"
    },
    {
      "cell_type": "markdown",
      "source": [
        "Calcula la tasa de cambio porcentual del precio con respecto a su valor n minutos atrás.\n",
        "\n",
        "- Es un indicador de momentum que capta aceleraciones o desaceleraciones recientes del precio.\n",
        "\n",
        "- Valores positivos indican presión alcista; negativos, presión bajista.\n",
        "\n",
        "A diferencia del momentum tradicional, el ROC expresa el cambio de forma normalizada y en porcentaje, lo que facilita su interpretación comparativa entre distintos activos o marcos temporales.\n"
      ],
      "metadata": {
        "id": "FwykyYylhraS"
      },
      "id": "FwykyYylhraS"
    },
    {
      "cell_type": "code",
      "source": [
        "def calcular_roc(df=mnq_intraday, target='target_return_30'):\n",
        "    roc_columns = ['roc_5']\n",
        "\n",
        "    def aplicar_por_dia(grupo):\n",
        "        grupo = grupo.copy()\n",
        "        grupo['roc_5'] = ROCIndicator(close=grupo[target], window=5).roc()\n",
        "        return grupo\n",
        "\n",
        "    df = df.groupby('date', group_keys=False).apply(aplicar_por_dia)\n",
        "\n",
        "    return df, roc_columns"
      ],
      "metadata": {
        "id": "pCSh4gjLogxw"
      },
      "id": "pCSh4gjLogxw",
      "execution_count": 16,
      "outputs": []
    },
    {
      "cell_type": "markdown",
      "id": "5911bdcc",
      "metadata": {
        "id": "5911bdcc"
      },
      "source": [
        "##3. Calculo de Information Coefficient (IC)"
      ]
    },
    {
      "cell_type": "markdown",
      "source": [
        "El Information Coefficient (IC) es la correlación de Spearman entre el factor y el retorno futuro. Mide si el ranking del factor predice el ranking del retorno.\n",
        "\n",
        "- IC > 0: el factor tiene relación positiva → valores altos del factor tienden a preceder retornos positivos.\n",
        "\n",
        "- IC < 0: relación inversa → valores altos del factor tienden a preceder retornos negativos (reversión).\n",
        "\n",
        "- IC ≈ 0: el factor es probablemente ruido o no tiene señal útil.\n",
        "\n",
        "Valores comunes en finanzas:\n",
        "\n",
        "- Entre 0.05 a 0.1: débil pero útil.\n",
        "\n",
        "- Mayor a 0.1: muy raro, pero fuerte.\n",
        "\n",
        "- Menor 0.05 o cercano a 0: probablemente ruido."
      ],
      "metadata": {
        "id": "GkWB9Jjoh7A7"
      },
      "id": "GkWB9Jjoh7A7"
    },
    {
      "cell_type": "markdown",
      "source": [
        "### **Función para calcular IC:**"
      ],
      "metadata": {
        "id": "ZwY5e-nJi9SY"
      },
      "id": "ZwY5e-nJi9SY"
    },
    {
      "cell_type": "code",
      "source": [
        "def calcular_IC(df: pd.DataFrame, target: str, factors: list[str]):\n",
        "    grouped = df.groupby('date')\n",
        "\n",
        "    print(f\"IC promedio por factor (diario) sobre el {target}:\\n\")\n",
        "\n",
        "    resultados = []\n",
        "\n",
        "    for factor in factors:\n",
        "        daily_ics = []\n",
        "\n",
        "        for date, group in grouped:\n",
        "            df_valid = group[[factor, target]].dropna()\n",
        "            if len(df_valid) >= 20:\n",
        "                ic = spearmanr(df_valid[factor], df_valid[target]).correlation\n",
        "                if np.isfinite(ic):\n",
        "                    daily_ics.append(ic)\n",
        "\n",
        "        if daily_ics:\n",
        "            mean_ic = np.mean(daily_ics)\n",
        "            std_ic = np.std(daily_ics)\n",
        "            dias_validos = len(daily_ics)\n",
        "            print(f\"{factor:15}: IC medio = {mean_ic:.4f} | std = {std_ic:.4f} | días válidos = {dias_validos}\")\n",
        "            resultados.append({\n",
        "                'factor': factor,\n",
        "                'ic_mean': mean_ic,\n",
        "                'ic_std': std_ic,\n",
        "                'dias_validos': dias_validos\n",
        "            })\n",
        "        else:\n",
        "            print(f\"{factor:15}: sin días válidos para cálculo\")\n",
        "\n",
        "    return pd.DataFrame(resultados)"
      ],
      "metadata": {
        "id": "CCRReZZei7sx"
      },
      "id": "CCRReZZei7sx",
      "execution_count": 37,
      "outputs": []
    },
    {
      "cell_type": "markdown",
      "source": [
        "### 3.1. **RSI (Relative Strength Index)**"
      ],
      "metadata": {
        "id": "l12_mWyJjGAq"
      },
      "id": "l12_mWyJjGAq"
    },
    {
      "cell_type": "code",
      "source": [
        "mnq_rsi, rsi_cols = calcular_rsi()\n",
        "IC_rsi = calcular_IC(mnq_rsi, 'target_return_30', rsi_cols)"
      ],
      "metadata": {
        "id": "igpvGK3ehb9c",
        "outputId": "c614f225-a297-4832-e442-64db5d4a2461",
        "colab": {
          "base_uri": "https://localhost:8080/"
        }
      },
      "id": "igpvGK3ehb9c",
      "execution_count": 27,
      "outputs": [
        {
          "output_type": "stream",
          "name": "stdout",
          "text": [
            "📊 IC promedio por factor (diario) sobre el target_return_30:\n",
            "\n",
            "rsi_14         : IC medio = 0.6387 | std = 0.0666 | días válidos = 1311\n",
            "rsi_7          : IC medio = 0.4740 | std = 0.0582 | días válidos = 1311\n",
            "rsi_5          : IC medio = 0.3995 | std = 0.0539 | días válidos = 1311\n",
            "rsi_3          : IC medio = 0.3040 | std = 0.0471 | días válidos = 1311\n"
          ]
        }
      ]
    },
    {
      "cell_type": "markdown",
      "source": [
        "#### 3.1.1. Conclusiones"
      ],
      "metadata": {
        "id": "tUW0OibIqVY-"
      },
      "id": "tUW0OibIqVY-"
    },
    {
      "cell_type": "markdown",
      "source": [
        "| Indicador | IC medio | Desv. Estándar | Comentario |\n",
        "|-----------|----------|----------------|------------|\n",
        "| `rsi_14`  | 0.6387   | 0.0666         | Muy fuerte y consistente. |\n",
        "| `rsi_7`   | 0.4740   | 0.0582         | Robusto, aunque menor que `rsi_14`. |\n",
        "| `rsi_5`   | 0.3995   | 0.0539         | Señal moderada. |\n",
        "| `rsi_3`   | 0.3040   | 0.0471         | Menor poder predictivo. |\n",
        "\n",
        "<br>\n",
        "\n",
        "- El IC promedio decrece a medida que la ventana del RSI se acorta, lo que sugiere que las señales más estables y suavizadas (como `rsi_14`) se correlacionan mejor con el comportamiento del precio a 30 minutos.\n",
        "\n",
        "- `rsi_14` destaca claramente como el más informativo, no solo por su IC medio alto (0.6387), sino también por su baja desviación estándar (0.0666), lo que indica consistencia en distintos días.\n",
        "\n",
        "- Los RSI con ventanas más cortas (`rsi_3`, `rsi_5`, `rsi_7`) muestran un poder predictivo decreciente. Aunque pueden aportar información, son menos efectivos para este horizonte de predicción.\n"
      ],
      "metadata": {
        "id": "bIA4jpS0puv2"
      },
      "id": "bIA4jpS0puv2"
    },
    {
      "cell_type": "markdown",
      "source": [
        "#### 3.1.2. Recomendaciones"
      ],
      "metadata": {
        "id": "e_HZrK3Qqdrx"
      },
      "id": "e_HZrK3Qqdrx"
    },
    {
      "cell_type": "markdown",
      "source": [
        "- Priorizar `rsi_14` como alpha factor principal para el modelo de predicción a 30 minutos.\n",
        "\n",
        "- Considerar también `rsi_7` como alternativa o complemento.\n",
        "\n",
        "- No es necesario incluir todos los RSI simultáneamente. Para evitar multicolinealidad o sobreajuste, se recomienda aplicar técnicas de selección de variables (como regularización o análisis de redundancia)."
      ],
      "metadata": {
        "id": "sE3EOmBEqiye"
      },
      "id": "sE3EOmBEqiye"
    },
    {
      "cell_type": "markdown",
      "source": [
        "### 3.2. **Momentum**"
      ],
      "metadata": {
        "id": "KK2T1Ukpjt2V"
      },
      "id": "KK2T1Ukpjt2V"
    },
    {
      "cell_type": "code",
      "source": [
        "mnq_momentum, momentum_cols = calcular_momentum()\n",
        "IC_momentum = calcular_IC(mnq_momentum, 'target_return_30', momentum_cols)"
      ],
      "metadata": {
        "id": "OM3wXeOqe4mh",
        "outputId": "9b0ed146-ab79-4452-e1d1-fa6cc3d0a1d8",
        "colab": {
          "base_uri": "https://localhost:8080/"
        }
      },
      "id": "OM3wXeOqe4mh",
      "execution_count": 29,
      "outputs": [
        {
          "output_type": "stream",
          "name": "stdout",
          "text": [
            "📊 IC promedio por factor (diario) sobre el target_return_30:\n",
            "\n",
            "momentum_10    : IC medio = 0.0334 | std = 0.1975 | días válidos = 1311\n",
            "momentum_5     : IC medio = 0.0315 | std = 0.1653 | días válidos = 1311\n",
            "momentum_3     : IC medio = 0.0290 | std = 0.1405 | días válidos = 1311\n"
          ]
        }
      ]
    },
    {
      "cell_type": "markdown",
      "source": [
        "#### 3.2.1. Conclusiones"
      ],
      "metadata": {
        "id": "uVC_S8tsq8gH"
      },
      "id": "uVC_S8tsq8gH"
    },
    {
      "cell_type": "markdown",
      "source": [
        "| Indicador     | IC medio | Desv. Estándar | Comentario                        |\n",
        "|---------------|----------|----------------|-----------------------------------|\n",
        "| `momentum_10` | 0.0334   | 0.1975         | Muy bajo poder predictivo, ruidoso. |\n",
        "| `momentum_5`  | 0.0315   | 0.1653         | Similar a `momentum_10`, poca utilidad. |\n",
        "| `momentum_3`  | 0.0290   | 0.1405         | Levemente más estable, pero irrelevante. |\n",
        "\n",
        "<br>\n",
        "\n",
        "- Todos los indicadores de momentum muestran **IC promedio cercano a cero**, lo que indica **bajo poder predictivo** sobre el retorno a 30 minutos.\n",
        "\n",
        "- Además, presentan **desviaciones estándar elevadas**, reflejando **alta inestabilidad diaria** en su comportamiento.\n",
        "\n",
        "- No se observa mejora al cambiar la ventana (3, 5 o 10 minutos), lo que sugiere que este indicador técnico no capta dinámicas relevantes para el horizonte temporal evaluado.\n",
        "\n",
        "\n"
      ],
      "metadata": {
        "id": "TVoD_pO-q_ib"
      },
      "id": "TVoD_pO-q_ib"
    },
    {
      "cell_type": "markdown",
      "source": [
        "#### 3.2.2. Recomendaciones"
      ],
      "metadata": {
        "id": "xiNzLSLKq_3n"
      },
      "id": "xiNzLSLKq_3n"
    },
    {
      "cell_type": "markdown",
      "source": [
        "- **No se recomienda incluir los indicadores técnicos `momentum_3`, `momentum_5` ni `momentum_10`** como alpha factors en el modelo.\n",
        "\n",
        "- Su bajo IC y alta varianza indican que **aportan más ruido que señal** en la predicción del retorno a 30 minutos.\n",
        "\n",
        "- Es preferible priorizar otros indicadores con mayor estabilidad y poder explicativo."
      ],
      "metadata": {
        "id": "w3Bq-nZRrDfG"
      },
      "id": "w3Bq-nZRrDfG"
    },
    {
      "cell_type": "markdown",
      "source": [
        "### 3.3. **Relación de volumen actual vs. su promedio reciente**"
      ],
      "metadata": {
        "id": "wemY93UIkqUK"
      },
      "id": "wemY93UIkqUK"
    },
    {
      "cell_type": "code",
      "source": [
        "mnq_volumen, volumen_cols = calcular_volumen_ratio()\n",
        "IC_volumen = calcular_IC(mnq_volumen, 'target_return_30', volumen_cols)"
      ],
      "metadata": {
        "id": "EQcXKPafkvip",
        "outputId": "3e2b4264-98ed-46c7-887c-2a94946bd22b",
        "colab": {
          "base_uri": "https://localhost:8080/"
        }
      },
      "id": "EQcXKPafkvip",
      "execution_count": 30,
      "outputs": [
        {
          "output_type": "stream",
          "name": "stdout",
          "text": [
            "📊 IC promedio por factor (diario) sobre el target_return_30:\n",
            "\n",
            "volume_ratio_15: IC medio = 0.0053 | std = 0.0643 | días válidos = 1311\n",
            "volume_ratio_20: IC medio = 0.0048 | std = 0.0785 | días válidos = 1311\n",
            "volume_ratio_30: IC medio = 0.0051 | std = 0.1039 | días válidos = 1311\n"
          ]
        }
      ]
    },
    {
      "cell_type": "markdown",
      "source": [
        "#### 3.3.1. Conclusiones"
      ],
      "metadata": {
        "id": "GciurulOr6Fp"
      },
      "id": "GciurulOr6Fp"
    },
    {
      "cell_type": "markdown",
      "source": [
        "| Indicador         | IC medio | Desv. Estándar | Comentario                              |\n",
        "|-------------------|----------|----------------|------------------------------------------|\n",
        "| `volume_ratio_15` | 0.0053   | 0.0643         | Extremadamente bajo, sin relevancia.     |\n",
        "| `volume_ratio_20` | 0.0048   | 0.0785         | Similar resultado, algo más inestable.   |\n",
        "| `volume_ratio_30` | 0.0051   | 0.1039         | Ligeramente más volátil, igual de débil. |\n",
        "\n",
        "<br>\n",
        "\n",
        "- Todos los indicadores `volume_ratio` presentan un **IC medio cercano a cero**, lo cual indica que **no tienen capacidad predictiva significativa** sobre el retorno a 30 minutos.\n",
        "\n",
        "- A pesar de su baja desviación estándar (en especial en `volume_ratio_15`), los valores de IC son **demasiado bajos como para ser considerados útiles**.\n",
        "\n",
        "- Aumentar la ventana de promedio (15 → 30) no mejora el desempeño, sino que incluso **incrementa la varianza**.\n"
      ],
      "metadata": {
        "id": "gwyIMP4Qr8yP"
      },
      "id": "gwyIMP4Qr8yP"
    },
    {
      "cell_type": "markdown",
      "source": [
        "#### 3.3.2. Recomendaciones"
      ],
      "metadata": {
        "id": "t9VvGXYzr9HM"
      },
      "id": "t9VvGXYzr9HM"
    },
    {
      "cell_type": "markdown",
      "source": [
        "- **No se recomienda utilizar los indicadores `volume_ratio_15`, `volume_ratio_20` ni `volume_ratio_30`** como alpha factors.\n",
        "\n",
        "- Su incapacidad para capturar una señal útil para el horizonte temporal evaluado los vuelve **prescindibles en el modelo**.\n",
        "\n",
        "- En su lugar, conviene enfocarse en factores de precio o volatilidad con mejor desempeño estadístico.\n"
      ],
      "metadata": {
        "id": "depyjvQ6sNvB"
      },
      "id": "depyjvQ6sNvB"
    },
    {
      "cell_type": "markdown",
      "source": [
        "### 3.4. **MACD diferencial (señal de cruce)**"
      ],
      "metadata": {
        "id": "PXY4FEmIlnRm"
      },
      "id": "PXY4FEmIlnRm"
    },
    {
      "cell_type": "code",
      "source": [
        "mnq_macd, macd_cols = calcular_macd()\n",
        "IC_macd = calcular_IC(mnq_macd, 'target_return_30', macd_cols)"
      ],
      "metadata": {
        "id": "rTn4D_bbmuwb",
        "outputId": "f7b736e5-c312-4821-d7a1-2ede077bb677",
        "colab": {
          "base_uri": "https://localhost:8080/"
        }
      },
      "id": "rTn4D_bbmuwb",
      "execution_count": 31,
      "outputs": [
        {
          "output_type": "stream",
          "name": "stdout",
          "text": [
            "📊 IC promedio por factor (diario) sobre el target_return_30:\n",
            "\n",
            "macd           : IC medio = 0.1962 | std = 0.0984 | días válidos = 1311\n"
          ]
        }
      ]
    },
    {
      "cell_type": "markdown",
      "source": [
        "### 3.4.1. Conclusiones"
      ],
      "metadata": {
        "id": "ZzspZF0XsqqK"
      },
      "id": "ZzspZF0XsqqK"
    },
    {
      "cell_type": "markdown",
      "source": [
        "| Indicador | IC medio | Desv. Estándar | Comentario                            |\n",
        "|-----------|----------|----------------|----------------------------------------|\n",
        "| `macd`    | 0.1962   | 0.0984         | Señal moderada, con estabilidad aceptable. |\n",
        "\n",
        "<br>\n",
        "\n",
        "- El indicador `macd` muestra un **IC medio positivo (0.1962)**, lo cual sugiere que tiene **cierta capacidad predictiva** sobre el retorno a 30 minutos.\n",
        "\n",
        "- Su desviación estándar (0.0984) es **moderada**, lo que indica un nivel de **consistencia razonable** a lo largo de los días.\n",
        "\n",
        "- Aunque no alcanza la fuerza predictiva de otros factores como `rsi_14` o `bb_percent_30_20`, el MACD ofrece una **señal útil y complementaria**, especialmente en entornos de tendencia.\n"
      ],
      "metadata": {
        "id": "hcM-MDAdsqhC"
      },
      "id": "hcM-MDAdsqhC"
    },
    {
      "cell_type": "markdown",
      "source": [
        "#### 3.4.2. Recomendaciones"
      ],
      "metadata": {
        "id": "iOk8LCLgsqZG"
      },
      "id": "iOk8LCLgsqZG"
    },
    {
      "cell_type": "markdown",
      "source": [
        "- Se puede **incluir `macd` como alpha factor secundario**, aportando valor en combinación con otros indicadores más fuertes.\n",
        "\n",
        "- Su uso es particularmente relevante si el modelo incorpora señales de momentum o detección de cambios de tendencia.\n",
        "\n",
        "- Es aconsejable validarlo dentro de un conjunto de features para evaluar su contribución marginal."
      ],
      "metadata": {
        "id": "hB8Te65psqPy"
      },
      "id": "hB8Te65psqPy"
    },
    {
      "cell_type": "markdown",
      "source": [
        "### 3.5. **Distancia del precio actual a su EMA (15, 20 y 30 minutos)**"
      ],
      "metadata": {
        "id": "mOD_LLQplnKr"
      },
      "id": "mOD_LLQplnKr"
    },
    {
      "cell_type": "code",
      "source": [
        "mnq_ema, ema_cols = calcular_ema()\n",
        "IC_ema = calcular_IC(mnq_ema, 'target_return_30', ema_cols)"
      ],
      "metadata": {
        "id": "-EkEJL-HnDI5",
        "outputId": "fe09096d-e7d5-438c-a199-f0bec129393e",
        "colab": {
          "base_uri": "https://localhost:8080/"
        }
      },
      "id": "-EkEJL-HnDI5",
      "execution_count": 32,
      "outputs": [
        {
          "output_type": "stream",
          "name": "stdout",
          "text": [
            "📊 IC promedio por factor (diario) sobre el target_return_30:\n",
            "\n",
            "price_ema15    : IC medio = 0.0207 | std = 0.1361 | días válidos = 1311\n",
            "price_ema20    : IC medio = 0.0226 | std = 0.1600 | días válidos = 1311\n",
            "price_ema30    : IC medio = 0.0251 | std = 0.1960 | días válidos = 1311\n"
          ]
        }
      ]
    },
    {
      "cell_type": "markdown",
      "source": [
        "#### 3.5.1. Conclusiones"
      ],
      "metadata": {
        "id": "DrYn1dQ-tG2L"
      },
      "id": "DrYn1dQ-tG2L"
    },
    {
      "cell_type": "markdown",
      "source": [
        "| Indicador     | IC medio | Desv. Estándar | Comentario                                   |\n",
        "|---------------|----------|----------------|-----------------------------------------------|\n",
        "| `price_ema15` | 0.0207   | 0.1361         | Muy débil, con alta variabilidad.             |\n",
        "| `price_ema20` | 0.0226   | 0.1600         | Ligera mejora, pero aún irrelevante.          |\n",
        "| `price_ema30` | 0.0251   | 0.1960         | Ligeramente más estable, pero poco útil.      |\n",
        "\n",
        "<br>\n",
        "\n",
        "- Todos los indicadores basados en la distancia al EMA presentan **IC medios extremadamente bajos**, lo que indica **muy baja capacidad predictiva** para anticipar el retorno a 30 minutos.\n",
        "\n",
        "- Aumentar la ventana de la EMA de 15 a 30 no mejora sustancialmente el desempeño; el IC apenas varía y la **desviación estándar aumenta**, lo cual refleja una señal más ruidosa.\n",
        "\n",
        "- Aunque conceptualmente estos indicadores pueden capturar sobreextensión o reversión, en la práctica **no aportan valor estadístico en este horizonte temporal**.\n"
      ],
      "metadata": {
        "id": "EmzYJCc6tGux"
      },
      "id": "EmzYJCc6tGux"
    },
    {
      "cell_type": "markdown",
      "source": [
        "#### 3.5.2. Recomendaciones"
      ],
      "metadata": {
        "id": "0TjdR_jttGnG"
      },
      "id": "0TjdR_jttGnG"
    },
    {
      "cell_type": "markdown",
      "source": [
        "- **No se recomienda incluir `price_ema15`, `price_ema20` ni `price_ema30`** como alpha factors en el modelo actual.\n",
        "\n",
        "- En su lugar, es preferible utilizar indicadores que midan condiciones extremas desde otros enfoques, como `rsi_14` o `bb_percent_30_20`, que mostraron mucho mejor desempeño.\n",
        "\n",
        "- Estos indicadores podrían evaluarse nuevamente si se cambia el horizonte de predicción o se combinan con señales de tendencia más fuertes."
      ],
      "metadata": {
        "id": "WQViGKbctGgQ"
      },
      "id": "WQViGKbctGgQ"
    },
    {
      "cell_type": "markdown",
      "source": [
        "### 3.6. **%K Estocástico**"
      ],
      "metadata": {
        "id": "HK_Oakhwlm2V"
      },
      "id": "HK_Oakhwlm2V"
    },
    {
      "cell_type": "code",
      "source": [
        "mnq_stoch, stoch_cols = calcular_stochastic()\n",
        "IC_stoch = calcular_IC(mnq_stoch, 'target_return_30', stoch_cols)"
      ],
      "metadata": {
        "id": "ZxU-cqNxnZJV",
        "outputId": "b5974647-49ce-4495-9c61-8d477b87149e",
        "colab": {
          "base_uri": "https://localhost:8080/"
        }
      },
      "id": "ZxU-cqNxnZJV",
      "execution_count": 33,
      "outputs": [
        {
          "output_type": "stream",
          "name": "stdout",
          "text": [
            "📊 IC promedio por factor (diario) sobre el target_return_30:\n",
            "\n",
            "stoch_k_14     : IC medio = 0.0610 | std = 0.1992 | días válidos = 1311\n",
            "stoch_k_20     : IC medio = 0.0629 | std = 0.2075 | días válidos = 1311\n",
            "stoch_k_30     : IC medio = 0.0679 | std = 0.2237 | días válidos = 1311\n"
          ]
        }
      ]
    },
    {
      "cell_type": "markdown",
      "source": [
        "#### 3.6.1. Conclusiones"
      ],
      "metadata": {
        "id": "MTmQBKh3tyMc"
      },
      "id": "MTmQBKh3tyMc"
    },
    {
      "cell_type": "markdown",
      "source": [
        "| Indicador     | IC medio | Desv. Estándar | Comentario                                  |\n",
        "|---------------|----------|----------------|----------------------------------------------|\n",
        "| `stoch_k_14`  | 0.0610   | 0.1992         | Señal débil y bastante volátil.              |\n",
        "| `stoch_k_20`  | 0.0629   | 0.2075         | Sin mejora significativa respecto al anterior. |\n",
        "| `stoch_k_30`  | 0.0679   | 0.2237         | Leve aumento del IC, pero más inestable aún. |\n",
        "\n",
        "<br>\n",
        "\n",
        "- Los valores de IC medio para los tres estocásticos son **muy bajos**, lo que sugiere una **capacidad predictiva limitada** sobre el retorno a 30 minutos.\n",
        "\n",
        "- Aumentar la ventana de cálculo incrementa ligeramente el IC, pero también **aumenta considerablemente la desviación estándar**, lo que indica que la señal es más inconsistente.\n",
        "\n",
        "- En general, el indicador parece no alinearse bien con la dinámica del target evaluado, posiblemente por su sensibilidad a oscilaciones de corto plazo."
      ],
      "metadata": {
        "id": "xVQqujpwtyFp"
      },
      "id": "xVQqujpwtyFp"
    },
    {
      "cell_type": "markdown",
      "source": [
        "#### 3.6.2. Recomendaciones"
      ],
      "metadata": {
        "id": "UaGqIxxntx_O"
      },
      "id": "UaGqIxxntx_O"
    },
    {
      "cell_type": "markdown",
      "source": [
        "- **No se recomienda incluir `stoch_k_14`, `stoch_k_20` ni `stoch_k_30`** como alpha factors principales.\n",
        "\n",
        "- Dado su bajo IC y alta varianza, estos indicadores pueden introducir **ruido más que señal** en el modelo.\n",
        "\n",
        "- Podrían reevaluarse en contextos donde se investigue sobrecompra/sobreventa extrema a horizontes más cortos o en combinación con filtros de tendencia."
      ],
      "metadata": {
        "id": "p4qif_QRuEjo"
      },
      "id": "p4qif_QRuEjo"
    },
    {
      "cell_type": "markdown",
      "source": [
        "### 3.7.**%B de Bollinger (Bollinger Band Percent)**\n"
      ],
      "metadata": {
        "id": "0lovhzHWlsKY"
      },
      "id": "0lovhzHWlsKY"
    },
    {
      "cell_type": "code",
      "source": [
        "mnq_bollinger, bollinger_cols = calcular_bollinger()\n",
        "IC_bollinger = calcular_IC(mnq_bollinger, 'target_return_30', bollinger_cols)"
      ],
      "metadata": {
        "id": "a8ulA_yVn6ph",
        "outputId": "938ba88b-ed50-44e3-c73d-c1855df77e6e",
        "colab": {
          "base_uri": "https://localhost:8080/"
        }
      },
      "id": "a8ulA_yVn6ph",
      "execution_count": 34,
      "outputs": [
        {
          "output_type": "stream",
          "name": "stdout",
          "text": [
            "📊 IC promedio por factor (diario) sobre el target_return_30:\n",
            "\n",
            "bb_percent_15_15: IC medio = 0.3986 | std = 0.0628 | días válidos = 1311\n",
            "bb_percent_20_15: IC medio = 0.4619 | std = 0.0670 | días válidos = 1311\n",
            "bb_percent_30_15: IC medio = 0.5679 | std = 0.0757 | días válidos = 1311\n",
            "bb_percent_15_20: IC medio = 0.3986 | std = 0.0628 | días válidos = 1311\n",
            "bb_percent_20_20: IC medio = 0.4619 | std = 0.0670 | días válidos = 1311\n",
            "bb_percent_30_20: IC medio = 0.5679 | std = 0.0757 | días válidos = 1311\n",
            "bb_percent_15_25: IC medio = 0.3986 | std = 0.0628 | días válidos = 1311\n",
            "bb_percent_20_25: IC medio = 0.4619 | std = 0.0670 | días válidos = 1311\n",
            "bb_percent_30_25: IC medio = 0.5679 | std = 0.0757 | días válidos = 1311\n"
          ]
        }
      ]
    },
    {
      "cell_type": "markdown",
      "source": [
        "#### 3.7.1. Conclusiones"
      ],
      "metadata": {
        "id": "BrCdkZsQuXZv"
      },
      "id": "BrCdkZsQuXZv"
    },
    {
      "cell_type": "markdown",
      "source": [
        "| Indicador          | Ventana | Desv. Std | IC medio | Desv. Estándar | Comentario                               |\n",
        "|--------------------|---------|-----------|----------|----------------|-------------------------------------------|\n",
        "| `bb_percent_15_15` | 15      | 1.5       | 0.3986   | 0.0628         | Señal útil, aunque más sensible.          |\n",
        "| `bb_percent_20_15` | 20      | 1.5       | 0.4619   | 0.0670         | Buena señal, más estable.                 |\n",
        "| `bb_percent_30_15` | 30      | 1.5       | 0.5679   | 0.0757         | Muy fuerte, la mejor entre las variantes. |\n",
        "| `bb_percent_15_20` | 15      | 2.0       | 0.3986   | 0.0628         | Idéntico a `15_15`, no mejora.            |\n",
        "| `bb_percent_20_20` | 20      | 2.0       | 0.4619   | 0.0670         | Idéntico a `20_15`, igualmente robusto.   |\n",
        "| `bb_percent_30_20` | 30      | 2.0       | 0.5679   | 0.0757         | Idéntico a `30_15`, excelente señal.      |\n",
        "| `bb_percent_15_25` | 15      | 2.5       | 0.3986   | 0.0628         | Sin cambios respecto a otras versiones.   |\n",
        "| `bb_percent_20_25` | 20      | 2.5       | 0.4619   | 0.0670         | Misma efectividad.                        |\n",
        "| `bb_percent_30_25` | 30      | 2.5       | 0.5679   | 0.0757         | Consistente como las demás de ventana 30. |\n",
        "\n",
        "<br>\n",
        "\n",
        "- Los resultados muestran que **el valor de la desviación estándar (`window_dev`) no afecta el desempeño predictivo**: los valores de IC son idénticos para cada ventana, sin importar si se usa 1.5, 2.0 o 2.5.\n",
        "\n",
        "- En cambio, **la ventana de cálculo (`window`) sí tiene un impacto claro**:\n",
        "  - A mayor ventana (de 15 a 30), el IC promedio **aumenta significativamente**.\n",
        "  - `bb_percent_30_*` alcanza un IC medio de **0.5679**, con desviación estándar moderada, lo que la convierte en una de las señales más fuertes evaluadas.\n",
        "\n",
        "- Esto sugiere que **condiciones de sobrecompra/sobreventa sostenidas en el tiempo** (no picos breves) están más alineadas con movimientos relevantes a 30 minutos.\n"
      ],
      "metadata": {
        "id": "lrSDMMG9uXSP"
      },
      "id": "lrSDMMG9uXSP"
    },
    {
      "cell_type": "markdown",
      "source": [
        "#### 3.7.2. Recomendaciones"
      ],
      "metadata": {
        "id": "S1vCAVOKuXNE"
      },
      "id": "S1vCAVOKuXNE"
    },
    {
      "cell_type": "markdown",
      "source": [
        "- **Priorizar `bb_percent_30_20`** (o cualquiera de las variantes con ventana 30), dado que muestran el **mayor IC medio** con buena estabilidad.\n",
        "\n",
        "- No es necesario incluir todas las combinaciones de `bb_percent`; basta con seleccionar la versión más representativa (`window=30`, cualquier `window_dev`).\n",
        "\n",
        "- Este indicador debe considerarse como uno de los **factores principales en el modelo predictivo**."
      ],
      "metadata": {
        "id": "zIiZA9aquXH7"
      },
      "id": "zIiZA9aquXH7"
    },
    {
      "cell_type": "markdown",
      "source": [
        "### 3.8. **ATR normalizado (Average True Range / precio)**"
      ],
      "metadata": {
        "id": "P1DSrcz2nu6u"
      },
      "id": "P1DSrcz2nu6u"
    },
    {
      "cell_type": "code",
      "source": [
        "mnq_atr, atr_cols = calcular_atr()\n",
        "IC_atr = calcular_IC(mnq_atr, 'target_return_30', atr_cols)"
      ],
      "metadata": {
        "id": "Q70dBjv7n6-Y",
        "outputId": "a34cc4ec-9d75-4f7b-df92-43cc0abbfd4a",
        "colab": {
          "base_uri": "https://localhost:8080/"
        }
      },
      "id": "Q70dBjv7n6-Y",
      "execution_count": 35,
      "outputs": [
        {
          "output_type": "stream",
          "name": "stdout",
          "text": [
            "📊 IC promedio por factor (diario) sobre el target_return_30:\n",
            "\n",
            "atr_norm       : IC medio = 0.4313 | std = 0.1131 | días válidos = 1311\n"
          ]
        }
      ]
    },
    {
      "cell_type": "markdown",
      "source": [
        "### 3.9. **ROC (Rate of Change)**"
      ],
      "metadata": {
        "id": "rU-KIOfVn1uh"
      },
      "id": "rU-KIOfVn1uh"
    },
    {
      "cell_type": "code",
      "source": [
        "mnq_roc, roc_cols = calcular_roc()\n",
        "IC_roc = calcular_IC(mnq_roc, 'target_return_30', roc_cols)"
      ],
      "metadata": {
        "id": "tRggA0GBn7gf",
        "outputId": "ec93e5c0-932c-4102-dac6-4cf05cfc81f5",
        "colab": {
          "base_uri": "https://localhost:8080/"
        }
      },
      "id": "tRggA0GBn7gf",
      "execution_count": 36,
      "outputs": [
        {
          "output_type": "stream",
          "name": "stdout",
          "text": [
            "📊 IC promedio por factor (diario) sobre el target_return_30:\n",
            "\n",
            "roc_5          : IC medio = 0.0315 | std = 0.1653 | días válidos = 1311\n"
          ]
        }
      ]
    },
    {
      "cell_type": "markdown",
      "source": [],
      "metadata": {
        "id": "vILq277knsuI"
      },
      "id": "vILq277knsuI"
    },
    {
      "cell_type": "markdown",
      "source": [
        "Evaluación de Indicadores Técnicos usando IC diario\n",
        "Se utilizó el Information Coefficient (IC) de Spearman para medir la capacidad predictiva de diversos indicadores técnicos sobre el retorno a 30 minutos del índice MNQ. El IC mide la correlación entre el ranking del valor del factor y el ranking del retorno futuro, evaluado día por día.\n",
        "\n",
        "✅ Factores más prometedores (IC medio alto y estable)\n",
        "Estos factores presentan un IC medio alto y una desviación estándar baja, lo que indica potencial predictivo consistente:\n",
        "\n",
        "Factor\tIC medio\tStd dev\tComentario\n",
        "rsi_14\t0.6387\t0.0666\tMuy fuerte, consistente y estable. Excelente señal.\n",
        "bb_percent\t0.4619\t0.0670\tFuerte y estable. Claramente informativo.\n",
        "atr_norm\t0.4313\t0.1131\tBuen poder predictivo, aunque más volátil.\n",
        "rsi_7\t0.4740\t0.0582\tSimilar a bb_percent, también robusto.\n",
        "\n",
        "⚠️ Factores con señal débil o ruidosa\n",
        "Estos factores tienen un IC medio cercano a cero o alta desviación estándar, por lo que aportan poco valor predictivo y podrían considerarse ruidosos:\n",
        "\n",
        "Factor\tIC medio\tStd dev\tComentario\n",
        "momentum_*\t~0.03\t0.14–0.20\tCasi ruido. No aportan mucho valor.\n",
        "price_ema20\t0.0226\t0.1600\tRuido, sin valor informativo significativo.\n",
        "volume_ratio\t0.0048\t0.0785\tPrácticamente irrelevante en este horizonte.\n",
        "roc_5\t0.0315\t0.1653\tSimilar a momentum_5, bajo poder predictivo.\n",
        "\n",
        "🧪 Factores mixtos o medianamente útiles\n",
        "Estos factores presentan una señal moderada con mayor varianza. Podrían combinarse con otros en modelos multivariados:\n",
        "\n",
        "Factor\tIC medio\tStd dev\tComentario\n",
        "macd\t0.1962\t0.0984\tAporta algo, pero con más ruido.\n",
        "stoch_k\t0.0610\t0.1992\tLigera señal, pero con alta varianza.\n",
        "\n",
        "Criterios de selección\n",
        "Se definieron los siguientes umbrales para seleccionar los factores más sólidos:\n",
        "\n",
        "ic_mean ≥ 0.4\n",
        "\n",
        "ic_std ≤ 0.12\n",
        "\n",
        "Esto permite incluir factores informativos como atr_norm, sin permitir la entrada de factores inestables o poco útiles."
      ],
      "metadata": {
        "id": "fyrFvOZ2QmKz"
      },
      "id": "fyrFvOZ2QmKz"
    },
    {
      "cell_type": "code",
      "source": [
        "def seleccionar_mejores_factores(df_ic: pd.DataFrame,\n",
        "                                  umbral_ic: float = 0.4,\n",
        "                                  umbral_std: float = 0.12):\n",
        "    \"\"\"\n",
        "    Filtra factores con IC medio >= umbral_ic y desviación estándar <= umbral_std.\n",
        "\n",
        "    Args:\n",
        "        df_ic (pd.DataFrame): DataFrame con columnas ['factor', 'ic_mean', 'ic_std'].\n",
        "        umbral_ic (float): Mínimo IC medio requerido.\n",
        "        umbral_std (float): Máxima desviación estándar permitida.\n",
        "\n",
        "    Returns:\n",
        "        pd.DataFrame: Subconjunto de factores seleccionados.\n",
        "    \"\"\"\n",
        "    seleccionados = df_ic[(df_ic['ic_mean'] >= umbral_ic) & (df_ic['ic_std'] <= umbral_std)].copy()\n",
        "    return seleccionados.sort_values(by='ic_mean', ascending=False)"
      ],
      "metadata": {
        "id": "Pxy4jOIIQHFv"
      },
      "id": "Pxy4jOIIQHFv",
      "execution_count": null,
      "outputs": []
    },
    {
      "cell_type": "code",
      "source": [
        "mejores = seleccionar_mejores_factores(IC_tecnicos)\n",
        "print(mejores)"
      ],
      "metadata": {
        "id": "CrhuHid4QIVm"
      },
      "id": "CrhuHid4QIVm",
      "execution_count": null,
      "outputs": []
    },
    {
      "cell_type": "markdown",
      "id": "6b3a2eff",
      "metadata": {
        "id": "6b3a2eff"
      },
      "source": [
        "📈 Interpretación de los resultados — Information Coefficient (IC)\n",
        "\n",
        "El **Information Coefficient (IC)** mide la correlación de Spearman entre el valor del factor y el retorno futuro. Es decir, evalúa si el ranking del factor anticipa el ranking del rendimiento posterior.\n",
        "\n",
        "| 🏅 Top factores con mejor IC | IC Medio | Interpretación práctica                                        |\n",
        "| ---------------------------- | -------- | -------------------------------------------------------------- |\n",
        "| **rsi\\_14**                  | -0.0534  | Señal clara de reversión. Es el más consistente del conjunto.  |\n",
        "| **price\\_ema20**             | -0.0435  | Reversión hacia la media. Buena señal complementaria.          |\n",
        "| **bb\\_percent**              | -0.0387  | Similar a RSI, sobrecompra/sobreventa. Señal confiable.        |\n",
        "| **stoch\\_k**                 | -0.0374  | Confirma reversión; alternativa válida al RSI.                 |\n",
        "| **atr\\_norm**                | +0.0471  | Único con IC positivo fuerte. Alta volatilidad → continuación. |\n",
        "| **rsi\\_7**                   | -0.0405  | Más sensible que RSI(14), mantiene coherencia.                 |\n",
        "\n",
        "**Estos pueden capturar efectos de reversión o momentum en condiciones específicas, y probablemente rindan mejor combinados en modelos no lineales (XGBoost, LSTM, etc.).**\n",
        "\n",
        "\n",
        "📉 Factores con señal débil o nula:\n",
        "\n",
        "| Factor                       | IC Medio      | Nota                                       |\n",
        "| ---------------------------- | ------------- | ------------------------------------------ |\n",
        "| momentum_3/5/10, roc_5   | -0.02 a -0.03 | Señales débiles, sin aporte significativo. |\n",
        "| macd`                       | -0.0196       | Muy débil para este timeframe.             |\n",
        "| volume_ratio, body_ratio | ≈ 0           | No aportan valor predictivo.               |\n",
        "\n"
      ]
    },
    {
      "cell_type": "markdown",
      "id": "f4a9e7c2",
      "metadata": {
        "id": "f4a9e7c2"
      },
      "source": [
        "Filtro el dataset para quedarme solo con las factores que aportarían valor a mi modelo:"
      ]
    },
    {
      "cell_type": "code",
      "execution_count": null,
      "id": "4c10c665",
      "metadata": {
        "id": "4c10c665"
      },
      "outputs": [],
      "source": [
        "# Lista de columnas útiles\n",
        "keep_cols = [\n",
        "    'open', 'high', 'low', 'close', 'volume', 'date',\n",
        "    'rsi_14', 'rsi_7', 'price_ema20', 'bb_percent',\n",
        "    'stoch_k', 'atr_norm',\n",
        "    'future_return_5min'\n",
        "]\n",
        "\n",
        "\n",
        "# Filtrar el dataset\n",
        "mnq_intraday_clean = mnq_intraday_factors[keep_cols].dropna()"
      ]
    },
    {
      "cell_type": "markdown",
      "id": "8dd77524",
      "metadata": {
        "id": "8dd77524"
      },
      "source": [
        "📌 Notas:\n",
        "\n",
        "- dropna() elimina las filas con NaN, que suelen ser las primeras del día por el cálculo de ventanas (RSI, ATR, etc.).\n",
        "- Esto asegura que el dataset esté limpio para entrenamiento de modelos."
      ]
    },
    {
      "cell_type": "code",
      "execution_count": null,
      "id": "5e6b1d25",
      "metadata": {
        "id": "5e6b1d25"
      },
      "outputs": [],
      "source": [
        "mnq_intraday_clean"
      ]
    },
    {
      "cell_type": "markdown",
      "id": "7d9974b5",
      "metadata": {
        "id": "7d9974b5"
      },
      "source": [
        "##### 2.2. IDEAS PARA FEATURES"
      ]
    },
    {
      "cell_type": "markdown",
      "id": "f8a9464d",
      "metadata": {
        "id": "f8a9464d"
      },
      "source": [
        "🧠 Ideas para combinar:\n",
        "\n",
        "- Filtrar señales por volatilidad: usar atr_norm como feature auxiliar para condicionar otras señales.\n",
        "- Ensemble de reversión: combinar rsi, stoch_k, bb_percent en un score compuesto.\n",
        "- Interacciones: por ejemplo, si rsi está bajo y bb_percent < 0.1 → señal de rebote más fuerte."
      ]
    },
    {
      "cell_type": "markdown",
      "id": "d265f01f",
      "metadata": {
        "id": "d265f01f"
      },
      "source": [
        "###### ✅ 1. reversal_score: Ensemble de reversión suave\n",
        "\n",
        "Combina señales de sobreventa (RSI, %K, BB) en una puntuación continua. Cuanto más baja, mayor potencial de rebote."
      ]
    },
    {
      "cell_type": "code",
      "execution_count": null,
      "id": "b207730f",
      "metadata": {
        "id": "b207730f"
      },
      "outputs": [],
      "source": [
        "# Escalar a rango 0-1 donde corresponda\n",
        "mnq_intraday_clean['rsi_norm'] = mnq_intraday_clean['rsi_14'] / 100\n",
        "mnq_intraday_clean['stoch_k_norm'] = mnq_intraday_clean['stoch_k'] / 100\n",
        "# bb_percent ya está entre 0-1\n",
        "\n",
        "# Reversal Score: promedio de los tres, invertido\n",
        "mnq_intraday_clean['reversal_score'] = 1 - (\n",
        "    mnq_intraday_clean['rsi_norm'] +\n",
        "    mnq_intraday_clean['stoch_k_norm'] +\n",
        "    mnq_intraday_clean['bb_percent']\n",
        ") / 3"
      ]
    },
    {
      "cell_type": "markdown",
      "id": "16539213",
      "metadata": {
        "id": "16539213"
      },
      "source": [
        "###### ✅ 2. volatility_filter: Filtro de condiciones de mercado\n",
        "Crea una feature binaria que indica si estamos en un contexto de alta volatilidad según ATR normalizado."
      ]
    },
    {
      "cell_type": "code",
      "execution_count": null,
      "id": "080b00e4",
      "metadata": {
        "id": "080b00e4"
      },
      "outputs": [],
      "source": [
        "mnq_intraday_clean['volatility_filter'] = (mnq_intraday_clean['atr_norm'] > 0.02).astype(int)"
      ]
    },
    {
      "cell_type": "markdown",
      "id": "8f787a03",
      "metadata": {
        "id": "8f787a03"
      },
      "source": [
        "El umbral 0.02 es empírico — podés ajustarlo con histogramas o percentiles."
      ]
    },
    {
      "cell_type": "markdown",
      "id": "1527e4b6",
      "metadata": {
        "id": "1527e4b6"
      },
      "source": [
        "###### ✅ 3. rebound_trigger: Señal fuerte combinada (regla lógica)\n",
        "\n",
        "Detecta eventos donde:\n",
        "\n",
        "- RSI está bajo\n",
        "- %B está por debajo de 0.1 (precio muy fuera de banda)\n",
        "- Volatilidad es alta"
      ]
    },
    {
      "cell_type": "code",
      "execution_count": null,
      "id": "4632a46b",
      "metadata": {
        "id": "4632a46b"
      },
      "outputs": [],
      "source": [
        "mnq_intraday_clean['rebound_trigger'] = (\n",
        "    (mnq_intraday_clean['rsi_14'] < 30) &\n",
        "    (mnq_intraday_clean['bb_percent'] < 0.1) &\n",
        "    (mnq_intraday_clean['atr_norm'] > 0.02)\n",
        ").astype(int)\n"
      ]
    },
    {
      "cell_type": "code",
      "execution_count": null,
      "id": "85bb02ff",
      "metadata": {
        "id": "85bb02ff"
      },
      "outputs": [],
      "source": [
        "mnq_intraday_clean"
      ]
    },
    {
      "cell_type": "markdown",
      "id": "7f6011cc",
      "metadata": {
        "id": "7f6011cc"
      },
      "source": [
        "# 2.3. ANÁLISIS POR CUANTILES"
      ]
    },
    {
      "cell_type": "markdown",
      "id": "4cdc3ffe",
      "metadata": {
        "id": "4cdc3ffe"
      },
      "source": [
        "¿Qué hace este código?\n",
        "\n",
        "Para cada factor:\n",
        "\n",
        "- Se divide cada día en 5 quintiles (qcut).\n",
        "- Calcula el retorno medio futuro de cada quintil.\n",
        "- Acumula los resultados de todos los días válidos.\n",
        "- Al final, te da el retorno promedio por quintil en todo el dataset.\n",
        "\n",
        "Esto te permite ver si, por ejemplo, los valores bajos del RSI (Q0) tienden a tener retornos positivos → reversión. O si Q4 tiene retorno positivo → momentum."
      ]
    },
    {
      "cell_type": "code",
      "execution_count": null,
      "id": "5fa2d589",
      "metadata": {
        "id": "5fa2d589"
      },
      "outputs": [],
      "source": [
        "# Factores seleccionados que querés evaluar\n",
        "factors = ['rsi_14', 'rsi_7', 'price_ema20', 'bb_percent', 'stoch_k', 'atr_norm', 'reversal_score']\n",
        "\n",
        "target = 'future_return_5min'\n",
        "\n",
        "# Agrupamos por día\n",
        "grouped = mnq_intraday_clean.groupby('date')\n",
        "\n",
        "print(\"\\n📈 Retorno promedio por quintil (promedio diario):\\n\")\n",
        "\n",
        "for factor in factors:\n",
        "    all_quantile_returns = []\n",
        "\n",
        "    for date, group in grouped:\n",
        "        df_valid = group[[factor, target]].dropna()\n",
        "\n",
        "        if len(df_valid) >= 30:\n",
        "            try:\n",
        "                df_valid['q'] = pd.qcut(df_valid[factor], 5, labels=False, duplicates='drop')\n",
        "                mean_ret = df_valid.groupby('q')[target].mean()\n",
        "\n",
        "                if len(mean_ret) == 5:\n",
        "                    all_quantile_returns.append(mean_ret.values)\n",
        "            except ValueError:\n",
        "                continue  # Si no hay suficientes valores únicos para dividir en quintiles\n",
        "\n",
        "    if all_quantile_returns:\n",
        "        avg_qrets = np.mean(all_quantile_returns, axis=0)\n",
        "        print(f\"\\n🔹 {factor} – retorno medio por quintil (Q0 a Q4):\")\n",
        "        for i, r in enumerate(avg_qrets):\n",
        "            print(f\"  Q{i}: {r:.5f}\")\n",
        "    else:\n",
        "        print(f\"\\n🔹 {factor}: sin suficientes datos diarios para quintiles\")"
      ]
    },
    {
      "cell_type": "markdown",
      "id": "f4a84e22",
      "metadata": {
        "id": "f4a84e22"
      },
      "source": [
        "### 📊 Retorno promedio por quintil (Q0 a Q4)"
      ]
    },
    {
      "cell_type": "markdown",
      "id": "da3854fd",
      "metadata": {
        "id": "da3854fd"
      },
      "source": [
        "\n",
        "| Factor           | Q0      | Q1      | Q2      | Q3      | Q4       | Interpretación                                               |\n",
        "|------------------|---------|---------|---------|---------|----------|--------------------------------------------------------------|\n",
        "| **rsi_14**        | 0.00008 | 0.00001 | 0.00000 | -0.00000| -0.00006 | Reversión clara: Q0 positivo, Q4 negativo                    |\n",
        "| **rsi_7**         | 0.00006 | 0.00001 | 0.00000 | -0.00000| -0.00005 | Reversión leve, misma estructura que RSI_14                 |\n",
        "| **price_ema20**   | 0.00008 | 0.00000 | -0.00001| -0.00000| -0.00004 | Sobreextensión a la media sugiere reversión                 |\n",
        "| **bb_percent**    | 0.00006 | 0.00002 | 0.00000 | -0.00001| -0.00004 | Precio cerca del borde inferior tiende a rebotar            |\n",
        "| **stoch_k**       | 0.00006 | 0.00002 | 0.00000 | -0.00001| -0.00004 | Señal alternativa de reversión como RSI y BB                |\n",
        "| **atr_norm**      | -0.00005| -0.00001| 0.00001 | 0.00000 | 0.00008  | Alta volatilidad favorece continuación                      |\n",
        "| **reversal_score**| -0.00005| -0.00001| -0.00000| 0.00002 | 0.00006  | Score compuesto: buena separación entre extremos            |\n"
      ]
    },
    {
      "cell_type": "markdown",
      "id": "20c6870f",
      "metadata": {
        "id": "20c6870f"
      },
      "source": [
        "✅ Resumen conceptual\n",
        "\n",
        "Los valores reflejan el retorno promedio futuro a 5 minutos, agrupado por quintiles del factor. Es decir:\n",
        "\n",
        "- Q0 = valores más bajos del factor (ej: RSI más bajo)\n",
        "- Q4 = valores más altos del factor"
      ]
    },
    {
      "cell_type": "markdown",
      "id": "1ca4c3bf",
      "metadata": {
        "id": "1ca4c3bf"
      },
      "source": [
        "### 📊 Conclusiones clave por tipo de factor\n"
      ]
    },
    {
      "cell_type": "markdown",
      "id": "5232fac1",
      "metadata": {
        "id": "5232fac1"
      },
      "source": [
        "#### 🔄 Factores de reversión (rsi_14, rsi_7, price_ema20, bb_percent, stoch_k)"
      ]
    },
    {
      "cell_type": "markdown",
      "id": "caf99fdc",
      "metadata": {
        "id": "caf99fdc"
      },
      "source": [
        "Patrón observado:\n",
        "Q0 tiene retorno positivo, Q4 negativo → clara señal de reversión estadística\n",
        "\n",
        "Por ejemplo: rsi_14\n",
        "\n",
        "  Q0: +0.00008 → RSI muy bajo → sube\n",
        "  \n",
        "  Q4: -0.00006 → RSI muy alto → baja\n",
        "\n",
        "✅ Interpretación:\n",
        "Los valores extremos (muy bajos) anticipan rebotes, y los valores altos anticipan caídas, aunque el efecto sea leve."
      ]
    },
    {
      "cell_type": "markdown",
      "id": "98cbf3aa",
      "metadata": {
        "id": "98cbf3aa"
      },
      "source": [
        "#### 🔊 Factor de volatilidad (atr_norm)\n"
      ]
    },
    {
      "cell_type": "markdown",
      "id": "227ebfeb",
      "metadata": {
        "id": "227ebfeb"
      },
      "source": [
        "Patrón:\n",
        "Q4 tiene retorno positivo → alta volatilidad favorece continuación\n",
        "\n",
        "Ejemplo:\n",
        "\n",
        "atr_norm\n",
        "\n",
        "  Q0: -0.00005 → baja volatilidad → mercado plano\n",
        "\n",
        "  Q4: +0.00008 → alta volatilidad → rompe en una dirección\n",
        "\n",
        "\n",
        "✅ Interpretación:\n",
        "Este factor no predice dirección por sí solo, pero ayuda a filtrar cuándo las señales funcionan mejor (alta volatilidad = movimiento significativo)."
      ]
    },
    {
      "cell_type": "markdown",
      "id": "7852e920",
      "metadata": {
        "id": "7852e920"
      },
      "source": [
        "#### 🧠 Feature combinada reversal_score\n"
      ]
    },
    {
      "cell_type": "markdown",
      "id": "19418abe",
      "metadata": {
        "id": "19418abe"
      },
      "source": [
        "Patrón observado: Q0 negativo, Q4 positivo → signo invertido por construcción\n",
        "\n",
        "Y se comporta bien: Q4 = +0.00006\n",
        "\n",
        "✅ Interpretación:\n",
        "\n",
        "Confirma que el score compuesto refleja la lógica de reversión. Es más fácil de interpretar para un modelo ML y combina múltiples señales."
      ]
    },
    {
      "cell_type": "markdown",
      "id": "bbe0e5cd",
      "metadata": {
        "id": "bbe0e5cd"
      },
      "source": [
        "### 🎯 Recomendación general\n",
        "\n",
        "Los factores muestran consistencia en su estructura predictiva: reversión suave, efecto de volatilidad, combinación útil.\n",
        "\n",
        "Aunque los valores absolutos de retorno son pequeños (esperado en timeframe de 1 minuto), la dirección del efecto está clara y sistemática, lo cual es valioso para modelos de ML.\n",
        "\n",
        "Estas señales pueden ser muy efectivas en modelos que aprovechan la combinación y no linealidad (ej. XGBoost, LSTM)."
      ]
    },
    {
      "cell_type": "markdown",
      "id": "b83de44f",
      "metadata": {
        "id": "b83de44f"
      },
      "source": [
        "## ESTABILIDAD DE ALPHA FACTORS?\n"
      ]
    },
    {
      "cell_type": "code",
      "execution_count": null,
      "id": "979057d9",
      "metadata": {
        "id": "979057d9"
      },
      "outputs": [],
      "source": [
        "mnq_intraday_clean"
      ]
    },
    {
      "cell_type": "code",
      "execution_count": null,
      "id": "c4677cac",
      "metadata": {
        "id": "c4677cac"
      },
      "outputs": [],
      "source": [
        "import pandas as pd\n",
        "import numpy as np\n",
        "from scipy.stats import spearmanr\n",
        "import matplotlib.pyplot as plt\n",
        "\n",
        "# Suponemos que ya cargaste mnq_intraday_clean con estos factores\n",
        "alpha_factors = ['rsi_14', 'rsi_7', 'price_ema20', 'bb_percent', 'stoch_k', 'atr_norm', 'reversal_score']\n",
        "target = 'future_return_5min'\n",
        "\n",
        "# Agrupar por día\n",
        "grouped = mnq_intraday_clean.groupby('date')\n",
        "\n",
        "# Calcular IC diario\n",
        "ic_diarios = {factor: [] for factor in alpha_factors}\n",
        "fechas = []\n",
        "\n",
        "for date, group in grouped:\n",
        "    fechas.append(date)\n",
        "    for factor in alpha_factors:\n",
        "        df_valid = group[[factor, target]].dropna()\n",
        "        if len(df_valid) >= 30:\n",
        "            ic = spearmanr(df_valid[factor], df_valid[target]).correlation\n",
        "        else:\n",
        "            ic = np.nan\n",
        "        ic_diarios[factor].append(ic)\n",
        "\n",
        "# Convertir a DataFrame de IC diarios\n",
        "df_ic = pd.DataFrame(ic_diarios, index=pd.to_datetime(fechas))\n",
        "\n",
        "# Graficar la media móvil de 20 días\n",
        "plt.figure(figsize=(14, 6))\n",
        "for factor in alpha_factors:\n",
        "    df_ic[factor].rolling(20).mean().plot(label=factor)\n",
        "\n",
        "plt.title(\"📈 IC promedio móvil (20 días) por alpha factor\")\n",
        "plt.xlabel(\"Fecha\")\n",
        "plt.ylabel(\"Information Coefficient (Spearman)\")\n",
        "plt.legend()\n",
        "plt.grid(True)\n",
        "plt.tight_layout()\n",
        "plt.show()"
      ]
    }
  ],
  "metadata": {
    "kernelspec": {
      "display_name": "trader_IA",
      "language": "python",
      "name": "python3"
    },
    "language_info": {
      "codemirror_mode": {
        "name": "ipython",
        "version": 3
      },
      "file_extension": ".py",
      "mimetype": "text/x-python",
      "name": "python",
      "nbconvert_exporter": "python",
      "pygments_lexer": "ipython3",
      "version": "3.10.13"
    },
    "colab": {
      "provenance": [],
      "include_colab_link": true
    }
  },
  "nbformat": 4,
  "nbformat_minor": 5
}