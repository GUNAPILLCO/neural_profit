{
  "cells": [
    {
      "cell_type": "markdown",
      "metadata": {
        "id": "view-in-github",
        "colab_type": "text"
      },
      "source": [
        "<a href=\"https://colab.research.google.com/github/GUNAPILLCO/neural_profit/blob/main/2_obtencion_preparacion_exploracion_datos/2_3_indicadores_tecnicos_retorno.ipynb\" target=\"_parent\"><img src=\"https://colab.research.google.com/assets/colab-badge.svg\" alt=\"Open In Colab\"/></a>"
      ]
    },
    {
      "cell_type": "markdown",
      "id": "8fa4bfae",
      "metadata": {
        "id": "8fa4bfae"
      },
      "source": [
        "# 2_3_Análisis de indicadores técnicos\n",
        "\n",
        "\n"
      ]
    },
    {
      "cell_type": "markdown",
      "source": [
        "## 0. Clonado de repositorio, importación de librerías y carga del dataset"
      ],
      "metadata": {
        "id": "g-yENmUVDKcW"
      },
      "id": "g-yENmUVDKcW"
    },
    {
      "cell_type": "markdown",
      "source": [
        "### Clonado de repositorio e importación de librerías"
      ],
      "metadata": {
        "id": "yY4p1bVdDKVz"
      },
      "id": "yY4p1bVdDKVz"
    },
    {
      "cell_type": "code",
      "source": [
        "#Clonamos el repo\n",
        "#LINK DE REPOSITORIO: https://github.com/GUNAPILLCO/neural_profit\n",
        "\n",
        "!git clone https://github.com/GUNAPILLCO/neural_profit.git"
      ],
      "metadata": {
        "colab": {
          "base_uri": "https://localhost:8080/"
        },
        "id": "hhwIs1EADW0X",
        "outputId": "f9db93cc-35b4-4e1e-e1b9-6f8a42e287e4"
      },
      "id": "hhwIs1EADW0X",
      "execution_count": 156,
      "outputs": [
        {
          "output_type": "stream",
          "name": "stdout",
          "text": [
            "fatal: destination path 'neural_profit' already exists and is not an empty directory.\n"
          ]
        }
      ]
    },
    {
      "cell_type": "code",
      "source": [
        "import sys\n",
        "\n",
        "#Instalación de librería pandas_market_calendars\n",
        "#!{sys.executable} -m pip install -q pandas_market_calendars\n",
        "#print(\"Librería instalada: pandas_market_calendars\")\n",
        "\n",
        "!{sys.executable} -m pip install -q ta\n",
        "print(\"Librería instalada: technical-analysis\")\n",
        "\n",
        "# Utilidades generales\n",
        "from datetime import datetime, timedelta\n",
        "import os\n",
        "import glob\n",
        "import requests\n",
        "import warnings\n",
        "warnings.filterwarnings('ignore')\n",
        "\n",
        "# Manejo y procesamiento de datos\n",
        "import ta\n",
        "import pandas as pd\n",
        "import numpy as np\n",
        "from tabulate import tabulate\n",
        "import matplotlib.pyplot as plt\n",
        "# Calendario de mercados\n",
        "#import pandas_market_calendars as mcal\n",
        "\n",
        "from ta.momentum import StochasticOscillator, ROCIndicator\n",
        "from ta.volatility import BollingerBands, AverageTrueRange\n",
        "\n",
        "from scipy.stats import spearmanr\n"
      ],
      "metadata": {
        "colab": {
          "base_uri": "https://localhost:8080/"
        },
        "id": "3UxVgk7nDZZ7",
        "outputId": "64e69ef6-b8e8-43fc-8616-41efa1a1b6e0"
      },
      "id": "3UxVgk7nDZZ7",
      "execution_count": 157,
      "outputs": [
        {
          "output_type": "stream",
          "name": "stdout",
          "text": [
            "Librería instalada: technical-analysis\n"
          ]
        }
      ]
    },
    {
      "cell_type": "markdown",
      "id": "20cf6ae7",
      "metadata": {
        "id": "20cf6ae7"
      },
      "source": [
        "### Carga del dataset mnq_intraday_data"
      ]
    },
    {
      "cell_type": "code",
      "source": [
        "def load_df():\n",
        "    \"\"\"\n",
        "    Función para cargar un archivo Parquet desde el repositorio clonado\n",
        "    \"\"\"\n",
        "    # Definir la URL del archivo Parquet en GitHub\n",
        "    df_path = '/content/neural_profit/2_obtencion_preparacion_exploracion_datos/mnq_intraday_data.parquet'\n",
        "\n",
        "    # Leer el archivo Parquet y cargarlo en un DataFrame\n",
        "    df = pd.read_parquet(df_path)\n",
        "\n",
        "    # Asegurar que el índice esté en formato datetime\n",
        "    df.index = pd.to_datetime(df.index)\n",
        "\n",
        "    # Crear una nueva columna 'date' con la fecha extraída del índice\n",
        "    df['date'] = df.index.date\n",
        "\n",
        "    # Reordenar columnas: 'date', 'time_str', y luego el resto\n",
        "    cols = ['date'] + [col for col in df.columns if col not in ['date']]\n",
        "\n",
        "    df = df[cols]\n",
        "\n",
        "    return df"
      ],
      "metadata": {
        "id": "fkc6BQhvDhcf"
      },
      "id": "fkc6BQhvDhcf",
      "execution_count": 158,
      "outputs": []
    },
    {
      "cell_type": "code",
      "source": [
        "mnq_intraday = load_df()"
      ],
      "metadata": {
        "id": "BfmS-r1KDjOv"
      },
      "id": "BfmS-r1KDjOv",
      "execution_count": 159,
      "outputs": []
    },
    {
      "cell_type": "markdown",
      "source": [
        "## 1. Definición de Target"
      ],
      "metadata": {
        "id": "0A9ePVLAdj3_"
      },
      "id": "0A9ePVLAdj3_"
    },
    {
      "cell_type": "markdown",
      "source": [
        "Se utiliza el retorno futuro a 30 minutos (target_return_30) como variable objetivo del modelo porque, tras evaluar múltiples hipótesis de predicción, fue el horizonte temporal con mayor IC medio para los indicadores técnicos seleccionados.\n",
        "\n",
        "Por lo tanto, usaremos los indicadores técnicos para analizar el comportamiento de dicha variable objetivo.\n",
        "\n"
      ],
      "metadata": {
        "id": "-UuIKkuwPfaS"
      },
      "id": "-UuIKkuwPfaS"
    },
    {
      "cell_type": "code",
      "source": [
        "def add_targets (df):\n",
        "  df['target_return_30'] = df.groupby('date')['close'].transform(lambda x: np.log(x.shift(-30)) - np.log(x))\n",
        "  return df"
      ],
      "metadata": {
        "id": "XbAedYaOFth1"
      },
      "id": "XbAedYaOFth1",
      "execution_count": 160,
      "outputs": []
    },
    {
      "cell_type": "code",
      "source": [
        "mnq_intraday = add_targets(mnq_intraday)"
      ],
      "metadata": {
        "id": "kRC_tGhrKG4r"
      },
      "id": "kRC_tGhrKG4r",
      "execution_count": 161,
      "outputs": []
    },
    {
      "cell_type": "code",
      "source": [
        "mnq_intraday"
      ],
      "metadata": {
        "id": "gqaczQ87VAOB",
        "outputId": "b7bbb012-7256-4d09-d437-d23eea9f980d",
        "colab": {
          "base_uri": "https://localhost:8080/",
          "height": 455
        }
      },
      "id": "gqaczQ87VAOB",
      "execution_count": 162,
      "outputs": [
        {
          "output_type": "execute_result",
          "data": {
            "text/plain": [
              "                                 date      open      high       low     close  \\\n",
              "datetime                                                                        \n",
              "2019-12-23 08:00:00-05:00  2019-12-23   8734.00   8734.25   8733.75   8733.75   \n",
              "2019-12-23 08:01:00-05:00  2019-12-23   8734.00   8734.25   8733.75   8734.00   \n",
              "2019-12-23 08:02:00-05:00  2019-12-23   8734.00   8734.00   8733.25   8733.25   \n",
              "2019-12-23 08:03:00-05:00  2019-12-23   8734.25   8734.50   8734.00   8734.00   \n",
              "2019-12-23 08:04:00-05:00  2019-12-23   8734.00   8734.00   8733.50   8733.75   \n",
              "...                               ...       ...       ...       ...       ...   \n",
              "2025-06-13 15:56:00-04:00  2025-06-13  21624.50  21635.00  21613.50  21617.50   \n",
              "2025-06-13 15:57:00-04:00  2025-06-13  21616.50  21635.25  21615.75  21623.75   \n",
              "2025-06-13 15:58:00-04:00  2025-06-13  21623.25  21632.75  21616.50  21621.75   \n",
              "2025-06-13 15:59:00-04:00  2025-06-13  21622.00  21632.25  21618.00  21628.00   \n",
              "2025-06-13 16:00:00-04:00  2025-06-13  21627.75  21656.25  21622.50  21651.75   \n",
              "\n",
              "                           volume  target_return_30  \n",
              "datetime                                             \n",
              "2019-12-23 08:00:00-05:00      31          0.000372  \n",
              "2019-12-23 08:01:00-05:00      16          0.000286  \n",
              "2019-12-23 08:02:00-05:00      23          0.000315  \n",
              "2019-12-23 08:03:00-05:00      23          0.000315  \n",
              "2019-12-23 08:04:00-05:00      12          0.000458  \n",
              "...                           ...               ...  \n",
              "2025-06-13 15:56:00-04:00    3251               NaN  \n",
              "2025-06-13 15:57:00-04:00    2201               NaN  \n",
              "2025-06-13 15:58:00-04:00    1859               NaN  \n",
              "2025-06-13 15:59:00-04:00    2695               NaN  \n",
              "2025-06-13 16:00:00-04:00    6507               NaN  \n",
              "\n",
              "[630591 rows x 7 columns]"
            ],
            "text/html": [
              "\n",
              "  <div id=\"df-8f02c055-2af1-4b38-8745-3bd28b3f2a93\" class=\"colab-df-container\">\n",
              "    <div>\n",
              "<style scoped>\n",
              "    .dataframe tbody tr th:only-of-type {\n",
              "        vertical-align: middle;\n",
              "    }\n",
              "\n",
              "    .dataframe tbody tr th {\n",
              "        vertical-align: top;\n",
              "    }\n",
              "\n",
              "    .dataframe thead th {\n",
              "        text-align: right;\n",
              "    }\n",
              "</style>\n",
              "<table border=\"1\" class=\"dataframe\">\n",
              "  <thead>\n",
              "    <tr style=\"text-align: right;\">\n",
              "      <th></th>\n",
              "      <th>date</th>\n",
              "      <th>open</th>\n",
              "      <th>high</th>\n",
              "      <th>low</th>\n",
              "      <th>close</th>\n",
              "      <th>volume</th>\n",
              "      <th>target_return_30</th>\n",
              "    </tr>\n",
              "    <tr>\n",
              "      <th>datetime</th>\n",
              "      <th></th>\n",
              "      <th></th>\n",
              "      <th></th>\n",
              "      <th></th>\n",
              "      <th></th>\n",
              "      <th></th>\n",
              "      <th></th>\n",
              "    </tr>\n",
              "  </thead>\n",
              "  <tbody>\n",
              "    <tr>\n",
              "      <th>2019-12-23 08:00:00-05:00</th>\n",
              "      <td>2019-12-23</td>\n",
              "      <td>8734.00</td>\n",
              "      <td>8734.25</td>\n",
              "      <td>8733.75</td>\n",
              "      <td>8733.75</td>\n",
              "      <td>31</td>\n",
              "      <td>0.000372</td>\n",
              "    </tr>\n",
              "    <tr>\n",
              "      <th>2019-12-23 08:01:00-05:00</th>\n",
              "      <td>2019-12-23</td>\n",
              "      <td>8734.00</td>\n",
              "      <td>8734.25</td>\n",
              "      <td>8733.75</td>\n",
              "      <td>8734.00</td>\n",
              "      <td>16</td>\n",
              "      <td>0.000286</td>\n",
              "    </tr>\n",
              "    <tr>\n",
              "      <th>2019-12-23 08:02:00-05:00</th>\n",
              "      <td>2019-12-23</td>\n",
              "      <td>8734.00</td>\n",
              "      <td>8734.00</td>\n",
              "      <td>8733.25</td>\n",
              "      <td>8733.25</td>\n",
              "      <td>23</td>\n",
              "      <td>0.000315</td>\n",
              "    </tr>\n",
              "    <tr>\n",
              "      <th>2019-12-23 08:03:00-05:00</th>\n",
              "      <td>2019-12-23</td>\n",
              "      <td>8734.25</td>\n",
              "      <td>8734.50</td>\n",
              "      <td>8734.00</td>\n",
              "      <td>8734.00</td>\n",
              "      <td>23</td>\n",
              "      <td>0.000315</td>\n",
              "    </tr>\n",
              "    <tr>\n",
              "      <th>2019-12-23 08:04:00-05:00</th>\n",
              "      <td>2019-12-23</td>\n",
              "      <td>8734.00</td>\n",
              "      <td>8734.00</td>\n",
              "      <td>8733.50</td>\n",
              "      <td>8733.75</td>\n",
              "      <td>12</td>\n",
              "      <td>0.000458</td>\n",
              "    </tr>\n",
              "    <tr>\n",
              "      <th>...</th>\n",
              "      <td>...</td>\n",
              "      <td>...</td>\n",
              "      <td>...</td>\n",
              "      <td>...</td>\n",
              "      <td>...</td>\n",
              "      <td>...</td>\n",
              "      <td>...</td>\n",
              "    </tr>\n",
              "    <tr>\n",
              "      <th>2025-06-13 15:56:00-04:00</th>\n",
              "      <td>2025-06-13</td>\n",
              "      <td>21624.50</td>\n",
              "      <td>21635.00</td>\n",
              "      <td>21613.50</td>\n",
              "      <td>21617.50</td>\n",
              "      <td>3251</td>\n",
              "      <td>NaN</td>\n",
              "    </tr>\n",
              "    <tr>\n",
              "      <th>2025-06-13 15:57:00-04:00</th>\n",
              "      <td>2025-06-13</td>\n",
              "      <td>21616.50</td>\n",
              "      <td>21635.25</td>\n",
              "      <td>21615.75</td>\n",
              "      <td>21623.75</td>\n",
              "      <td>2201</td>\n",
              "      <td>NaN</td>\n",
              "    </tr>\n",
              "    <tr>\n",
              "      <th>2025-06-13 15:58:00-04:00</th>\n",
              "      <td>2025-06-13</td>\n",
              "      <td>21623.25</td>\n",
              "      <td>21632.75</td>\n",
              "      <td>21616.50</td>\n",
              "      <td>21621.75</td>\n",
              "      <td>1859</td>\n",
              "      <td>NaN</td>\n",
              "    </tr>\n",
              "    <tr>\n",
              "      <th>2025-06-13 15:59:00-04:00</th>\n",
              "      <td>2025-06-13</td>\n",
              "      <td>21622.00</td>\n",
              "      <td>21632.25</td>\n",
              "      <td>21618.00</td>\n",
              "      <td>21628.00</td>\n",
              "      <td>2695</td>\n",
              "      <td>NaN</td>\n",
              "    </tr>\n",
              "    <tr>\n",
              "      <th>2025-06-13 16:00:00-04:00</th>\n",
              "      <td>2025-06-13</td>\n",
              "      <td>21627.75</td>\n",
              "      <td>21656.25</td>\n",
              "      <td>21622.50</td>\n",
              "      <td>21651.75</td>\n",
              "      <td>6507</td>\n",
              "      <td>NaN</td>\n",
              "    </tr>\n",
              "  </tbody>\n",
              "</table>\n",
              "<p>630591 rows × 7 columns</p>\n",
              "</div>\n",
              "    <div class=\"colab-df-buttons\">\n",
              "\n",
              "  <div class=\"colab-df-container\">\n",
              "    <button class=\"colab-df-convert\" onclick=\"convertToInteractive('df-8f02c055-2af1-4b38-8745-3bd28b3f2a93')\"\n",
              "            title=\"Convert this dataframe to an interactive table.\"\n",
              "            style=\"display:none;\">\n",
              "\n",
              "  <svg xmlns=\"http://www.w3.org/2000/svg\" height=\"24px\" viewBox=\"0 -960 960 960\">\n",
              "    <path d=\"M120-120v-720h720v720H120Zm60-500h600v-160H180v160Zm220 220h160v-160H400v160Zm0 220h160v-160H400v160ZM180-400h160v-160H180v160Zm440 0h160v-160H620v160ZM180-180h160v-160H180v160Zm440 0h160v-160H620v160Z\"/>\n",
              "  </svg>\n",
              "    </button>\n",
              "\n",
              "  <style>\n",
              "    .colab-df-container {\n",
              "      display:flex;\n",
              "      gap: 12px;\n",
              "    }\n",
              "\n",
              "    .colab-df-convert {\n",
              "      background-color: #E8F0FE;\n",
              "      border: none;\n",
              "      border-radius: 50%;\n",
              "      cursor: pointer;\n",
              "      display: none;\n",
              "      fill: #1967D2;\n",
              "      height: 32px;\n",
              "      padding: 0 0 0 0;\n",
              "      width: 32px;\n",
              "    }\n",
              "\n",
              "    .colab-df-convert:hover {\n",
              "      background-color: #E2EBFA;\n",
              "      box-shadow: 0px 1px 2px rgba(60, 64, 67, 0.3), 0px 1px 3px 1px rgba(60, 64, 67, 0.15);\n",
              "      fill: #174EA6;\n",
              "    }\n",
              "\n",
              "    .colab-df-buttons div {\n",
              "      margin-bottom: 4px;\n",
              "    }\n",
              "\n",
              "    [theme=dark] .colab-df-convert {\n",
              "      background-color: #3B4455;\n",
              "      fill: #D2E3FC;\n",
              "    }\n",
              "\n",
              "    [theme=dark] .colab-df-convert:hover {\n",
              "      background-color: #434B5C;\n",
              "      box-shadow: 0px 1px 3px 1px rgba(0, 0, 0, 0.15);\n",
              "      filter: drop-shadow(0px 1px 2px rgba(0, 0, 0, 0.3));\n",
              "      fill: #FFFFFF;\n",
              "    }\n",
              "  </style>\n",
              "\n",
              "    <script>\n",
              "      const buttonEl =\n",
              "        document.querySelector('#df-8f02c055-2af1-4b38-8745-3bd28b3f2a93 button.colab-df-convert');\n",
              "      buttonEl.style.display =\n",
              "        google.colab.kernel.accessAllowed ? 'block' : 'none';\n",
              "\n",
              "      async function convertToInteractive(key) {\n",
              "        const element = document.querySelector('#df-8f02c055-2af1-4b38-8745-3bd28b3f2a93');\n",
              "        const dataTable =\n",
              "          await google.colab.kernel.invokeFunction('convertToInteractive',\n",
              "                                                    [key], {});\n",
              "        if (!dataTable) return;\n",
              "\n",
              "        const docLinkHtml = 'Like what you see? Visit the ' +\n",
              "          '<a target=\"_blank\" href=https://colab.research.google.com/notebooks/data_table.ipynb>data table notebook</a>'\n",
              "          + ' to learn more about interactive tables.';\n",
              "        element.innerHTML = '';\n",
              "        dataTable['output_type'] = 'display_data';\n",
              "        await google.colab.output.renderOutput(dataTable, element);\n",
              "        const docLink = document.createElement('div');\n",
              "        docLink.innerHTML = docLinkHtml;\n",
              "        element.appendChild(docLink);\n",
              "      }\n",
              "    </script>\n",
              "  </div>\n",
              "\n",
              "\n",
              "    <div id=\"df-3ec9c929-74a8-48a9-b512-793db5462fb2\">\n",
              "      <button class=\"colab-df-quickchart\" onclick=\"quickchart('df-3ec9c929-74a8-48a9-b512-793db5462fb2')\"\n",
              "                title=\"Suggest charts\"\n",
              "                style=\"display:none;\">\n",
              "\n",
              "<svg xmlns=\"http://www.w3.org/2000/svg\" height=\"24px\"viewBox=\"0 0 24 24\"\n",
              "     width=\"24px\">\n",
              "    <g>\n",
              "        <path d=\"M19 3H5c-1.1 0-2 .9-2 2v14c0 1.1.9 2 2 2h14c1.1 0 2-.9 2-2V5c0-1.1-.9-2-2-2zM9 17H7v-7h2v7zm4 0h-2V7h2v10zm4 0h-2v-4h2v4z\"/>\n",
              "    </g>\n",
              "</svg>\n",
              "      </button>\n",
              "\n",
              "<style>\n",
              "  .colab-df-quickchart {\n",
              "      --bg-color: #E8F0FE;\n",
              "      --fill-color: #1967D2;\n",
              "      --hover-bg-color: #E2EBFA;\n",
              "      --hover-fill-color: #174EA6;\n",
              "      --disabled-fill-color: #AAA;\n",
              "      --disabled-bg-color: #DDD;\n",
              "  }\n",
              "\n",
              "  [theme=dark] .colab-df-quickchart {\n",
              "      --bg-color: #3B4455;\n",
              "      --fill-color: #D2E3FC;\n",
              "      --hover-bg-color: #434B5C;\n",
              "      --hover-fill-color: #FFFFFF;\n",
              "      --disabled-bg-color: #3B4455;\n",
              "      --disabled-fill-color: #666;\n",
              "  }\n",
              "\n",
              "  .colab-df-quickchart {\n",
              "    background-color: var(--bg-color);\n",
              "    border: none;\n",
              "    border-radius: 50%;\n",
              "    cursor: pointer;\n",
              "    display: none;\n",
              "    fill: var(--fill-color);\n",
              "    height: 32px;\n",
              "    padding: 0;\n",
              "    width: 32px;\n",
              "  }\n",
              "\n",
              "  .colab-df-quickchart:hover {\n",
              "    background-color: var(--hover-bg-color);\n",
              "    box-shadow: 0 1px 2px rgba(60, 64, 67, 0.3), 0 1px 3px 1px rgba(60, 64, 67, 0.15);\n",
              "    fill: var(--button-hover-fill-color);\n",
              "  }\n",
              "\n",
              "  .colab-df-quickchart-complete:disabled,\n",
              "  .colab-df-quickchart-complete:disabled:hover {\n",
              "    background-color: var(--disabled-bg-color);\n",
              "    fill: var(--disabled-fill-color);\n",
              "    box-shadow: none;\n",
              "  }\n",
              "\n",
              "  .colab-df-spinner {\n",
              "    border: 2px solid var(--fill-color);\n",
              "    border-color: transparent;\n",
              "    border-bottom-color: var(--fill-color);\n",
              "    animation:\n",
              "      spin 1s steps(1) infinite;\n",
              "  }\n",
              "\n",
              "  @keyframes spin {\n",
              "    0% {\n",
              "      border-color: transparent;\n",
              "      border-bottom-color: var(--fill-color);\n",
              "      border-left-color: var(--fill-color);\n",
              "    }\n",
              "    20% {\n",
              "      border-color: transparent;\n",
              "      border-left-color: var(--fill-color);\n",
              "      border-top-color: var(--fill-color);\n",
              "    }\n",
              "    30% {\n",
              "      border-color: transparent;\n",
              "      border-left-color: var(--fill-color);\n",
              "      border-top-color: var(--fill-color);\n",
              "      border-right-color: var(--fill-color);\n",
              "    }\n",
              "    40% {\n",
              "      border-color: transparent;\n",
              "      border-right-color: var(--fill-color);\n",
              "      border-top-color: var(--fill-color);\n",
              "    }\n",
              "    60% {\n",
              "      border-color: transparent;\n",
              "      border-right-color: var(--fill-color);\n",
              "    }\n",
              "    80% {\n",
              "      border-color: transparent;\n",
              "      border-right-color: var(--fill-color);\n",
              "      border-bottom-color: var(--fill-color);\n",
              "    }\n",
              "    90% {\n",
              "      border-color: transparent;\n",
              "      border-bottom-color: var(--fill-color);\n",
              "    }\n",
              "  }\n",
              "</style>\n",
              "\n",
              "      <script>\n",
              "        async function quickchart(key) {\n",
              "          const quickchartButtonEl =\n",
              "            document.querySelector('#' + key + ' button');\n",
              "          quickchartButtonEl.disabled = true;  // To prevent multiple clicks.\n",
              "          quickchartButtonEl.classList.add('colab-df-spinner');\n",
              "          try {\n",
              "            const charts = await google.colab.kernel.invokeFunction(\n",
              "                'suggestCharts', [key], {});\n",
              "          } catch (error) {\n",
              "            console.error('Error during call to suggestCharts:', error);\n",
              "          }\n",
              "          quickchartButtonEl.classList.remove('colab-df-spinner');\n",
              "          quickchartButtonEl.classList.add('colab-df-quickchart-complete');\n",
              "        }\n",
              "        (() => {\n",
              "          let quickchartButtonEl =\n",
              "            document.querySelector('#df-3ec9c929-74a8-48a9-b512-793db5462fb2 button');\n",
              "          quickchartButtonEl.style.display =\n",
              "            google.colab.kernel.accessAllowed ? 'block' : 'none';\n",
              "        })();\n",
              "      </script>\n",
              "    </div>\n",
              "\n",
              "  <div id=\"id_8c6d0cdc-d3bf-484e-bdd2-9b0bda910fdd\">\n",
              "    <style>\n",
              "      .colab-df-generate {\n",
              "        background-color: #E8F0FE;\n",
              "        border: none;\n",
              "        border-radius: 50%;\n",
              "        cursor: pointer;\n",
              "        display: none;\n",
              "        fill: #1967D2;\n",
              "        height: 32px;\n",
              "        padding: 0 0 0 0;\n",
              "        width: 32px;\n",
              "      }\n",
              "\n",
              "      .colab-df-generate:hover {\n",
              "        background-color: #E2EBFA;\n",
              "        box-shadow: 0px 1px 2px rgba(60, 64, 67, 0.3), 0px 1px 3px 1px rgba(60, 64, 67, 0.15);\n",
              "        fill: #174EA6;\n",
              "      }\n",
              "\n",
              "      [theme=dark] .colab-df-generate {\n",
              "        background-color: #3B4455;\n",
              "        fill: #D2E3FC;\n",
              "      }\n",
              "\n",
              "      [theme=dark] .colab-df-generate:hover {\n",
              "        background-color: #434B5C;\n",
              "        box-shadow: 0px 1px 3px 1px rgba(0, 0, 0, 0.15);\n",
              "        filter: drop-shadow(0px 1px 2px rgba(0, 0, 0, 0.3));\n",
              "        fill: #FFFFFF;\n",
              "      }\n",
              "    </style>\n",
              "    <button class=\"colab-df-generate\" onclick=\"generateWithVariable('mnq_intraday')\"\n",
              "            title=\"Generate code using this dataframe.\"\n",
              "            style=\"display:none;\">\n",
              "\n",
              "  <svg xmlns=\"http://www.w3.org/2000/svg\" height=\"24px\"viewBox=\"0 0 24 24\"\n",
              "       width=\"24px\">\n",
              "    <path d=\"M7,19H8.4L18.45,9,17,7.55,7,17.6ZM5,21V16.75L18.45,3.32a2,2,0,0,1,2.83,0l1.4,1.43a1.91,1.91,0,0,1,.58,1.4,1.91,1.91,0,0,1-.58,1.4L9.25,21ZM18.45,9,17,7.55Zm-12,3A5.31,5.31,0,0,0,4.9,8.1,5.31,5.31,0,0,0,1,6.5,5.31,5.31,0,0,0,4.9,4.9,5.31,5.31,0,0,0,6.5,1,5.31,5.31,0,0,0,8.1,4.9,5.31,5.31,0,0,0,12,6.5,5.46,5.46,0,0,0,6.5,12Z\"/>\n",
              "  </svg>\n",
              "    </button>\n",
              "    <script>\n",
              "      (() => {\n",
              "      const buttonEl =\n",
              "        document.querySelector('#id_8c6d0cdc-d3bf-484e-bdd2-9b0bda910fdd button.colab-df-generate');\n",
              "      buttonEl.style.display =\n",
              "        google.colab.kernel.accessAllowed ? 'block' : 'none';\n",
              "\n",
              "      buttonEl.onclick = () => {\n",
              "        google.colab.notebook.generateWithVariable('mnq_intraday');\n",
              "      }\n",
              "      })();\n",
              "    </script>\n",
              "  </div>\n",
              "\n",
              "    </div>\n",
              "  </div>\n"
            ],
            "application/vnd.google.colaboratory.intrinsic+json": {
              "type": "dataframe",
              "variable_name": "mnq_intraday"
            }
          },
          "metadata": {},
          "execution_count": 162
        }
      ]
    },
    {
      "cell_type": "markdown",
      "id": "f23cdad4",
      "metadata": {
        "id": "f23cdad4"
      },
      "source": [
        "## 2. Indicadores Técnicos"
      ]
    },
    {
      "cell_type": "markdown",
      "source": [
        "Los indicadores técnicos calculados en cada jornada tienen como objetivo capturar dinámicas intradía relevantes del precio y el volumen, tales como momentum, sobrecompra/sobreventa, presión institucional o posibles reversiones. Cada uno aporta información complementaria sobre el comportamiento del mercado a corto plazo. En particular:"
      ],
      "metadata": {
        "id": "NHhukLAEfD-m"
      },
      "id": "NHhukLAEfD-m"
    },
    {
      "cell_type": "markdown",
      "source": [
        "### 2.1. **RSI (Relative Strength Index)**"
      ],
      "metadata": {
        "id": "Q5ZT49pvfIln"
      },
      "id": "Q5ZT49pvfIln"
    },
    {
      "cell_type": "markdown",
      "source": [
        "Mide la fuerza relativa del precio en los últimos períodos (3, 5, 7, 14), oscilando entre 0 y 100.\n",
        "\n",
        "  - Valores altos indican posibles condiciones de sobrecompra, mientras que valores bajos sugieren sobreventa.\n",
        "  \n",
        "  - Calculado sobre los precios de cierre intradía, el RSI es útil para identificar puntos de reversión potenciales en el corto plazo."
      ],
      "metadata": {
        "id": "67GSv9pNfONg"
      },
      "id": "67GSv9pNfONg"
    },
    {
      "cell_type": "code",
      "source": [
        "def calcular_rsi(df=mnq_intraday, target='target_return_30' ):\n",
        "  rsi_columns = ['rsi_14', 'rsi_7', 'rsi_5', 'rsi_3']\n",
        "\n",
        "  def aplicar_por_dia (grupo):\n",
        "        grupo = grupo.copy()\n",
        "        grupo['rsi_14'] = ta.momentum.RSIIndicator(grupo[target], window=14).rsi()\n",
        "        grupo['rsi_7'] = ta.momentum.RSIIndicator(grupo[target], window=7).rsi()\n",
        "        grupo['rsi_5'] = ta.momentum.RSIIndicator(grupo[target], window=5).rsi()\n",
        "        grupo['rsi_3'] = ta.momentum.RSIIndicator(grupo[target], window=3).rsi()\n",
        "        return grupo\n",
        "\n",
        "  df = df.groupby('date', group_keys=False).apply(aplicar_por_dia)\n",
        "  return df, rsi_columns"
      ],
      "metadata": {
        "id": "0FPuBzWih3Gb"
      },
      "id": "0FPuBzWih3Gb",
      "execution_count": 163,
      "outputs": []
    },
    {
      "cell_type": "markdown",
      "source": [
        "### 2.2. **Momentum**"
      ],
      "metadata": {
        "id": "cTJerBv7fpMA"
      },
      "id": "cTJerBv7fpMA"
    },
    {
      "cell_type": "markdown",
      "source": [
        "Mide la aceleración reciente del precio mediante la variación porcentual entre el precio actual y el de hace N minutos.\n",
        "\n",
        "  - Un valor positivo indica una subida reciente, lo que podría sugerir una continuación alcista.\n",
        "\n",
        "  - Un valor negativo señala presión bajista reciente, potencialmente anticipando una continuación a la baja."
      ],
      "metadata": {
        "id": "lf_GW7PCfyOe"
      },
      "id": "lf_GW7PCfyOe"
    },
    {
      "cell_type": "code",
      "source": [
        "def calcular_momentum(df=mnq_intraday, target='target_return_30' ):\n",
        "  momentum_columns = ['momentum_10', 'momentum_5','momentum_3']\n",
        "\n",
        "  def aplicar_por_dia (grupo):\n",
        "        grupo = grupo.copy()\n",
        "        grupo['momentum_10'] = grupo[target].pct_change(10)\n",
        "        grupo['momentum_5'] = grupo[target].pct_change(5)\n",
        "        grupo['momentum_3'] = grupo[target].pct_change(3)\n",
        "        return grupo\n",
        "\n",
        "  df = df.groupby('date', group_keys=False).apply(aplicar_por_dia)\n",
        "  return df, momentum_columns"
      ],
      "metadata": {
        "id": "Wj57w6aZkN3k"
      },
      "id": "Wj57w6aZkN3k",
      "execution_count": 164,
      "outputs": []
    },
    {
      "cell_type": "code",
      "source": [
        "mnq_momentum, momentum_cols = calcular_momentum()"
      ],
      "metadata": {
        "id": "Y8x9vSSI5TDw"
      },
      "id": "Y8x9vSSI5TDw",
      "execution_count": 165,
      "outputs": []
    },
    {
      "cell_type": "markdown",
      "source": [
        "### 2.3. **Relación de volumen actual vs. su promedio reciente**"
      ],
      "metadata": {
        "id": "3TbJ6JpcgExg"
      },
      "id": "3TbJ6JpcgExg"
    },
    {
      "cell_type": "markdown",
      "source": [
        "Compara el volumen actual con su media móvil en distintas ventanas de tiempo: 15, 20 y 30 minutos.\n",
        "\n",
        "  - Un valor mayor a 1 indica un volumen superior al promedio de la ventana correspondiente, lo que puede reflejar interés creciente o actividad institucional.\n",
        "\n",
        "  - Un valor menor a 1 sugiere baja actividad o consolidación del precio.\n",
        "\n",
        "Esta métrica permite detectar aumentos de volumen (\"spikes\") sin depender del volumen en crudo, y las diferentes ventanas permiten capturar variaciones en la dinámica de corto plazo con distinta sensibilidad.\n"
      ],
      "metadata": {
        "id": "ReHLFnT3gwJJ"
      },
      "id": "ReHLFnT3gwJJ"
    },
    {
      "cell_type": "code",
      "source": [
        "def calcular_volumen_ratio(df=mnq_intraday, target='target_return_30'):\n",
        "  #3. VOLUMEN RATIO\n",
        "  volumen_ratio_columns = ['volumen_ratio_15', 'volumen_ratio_20', 'volumen_ratio_30']\n",
        "\n",
        "  df['volume_ratio_15'] = df['volume'] / df['volume'].rolling(15).mean()\n",
        "  df['volume_ratio_20'] = df['volume'] / df['volume'].rolling(20).mean()\n",
        "  df['volume_ratio_30'] = df['volume'] / df['volume'].rolling(30).mean()\n",
        "\n",
        "  return df, volumen_ratio_columns"
      ],
      "metadata": {
        "id": "LXjdwJN3jnpg"
      },
      "id": "LXjdwJN3jnpg",
      "execution_count": 167,
      "outputs": []
    },
    {
      "cell_type": "markdown",
      "source": [
        "### 2.4. **MACD diferencial (señal de cruce)**"
      ],
      "metadata": {
        "id": "qrpRsrXCgGGq"
      },
      "id": "qrpRsrXCgGGq"
    },
    {
      "cell_type": "markdown",
      "source": [
        "Representa la diferencia entre la línea MACD y su línea de señal (una media exponencial de sí misma).\n",
        "\n",
        "  - Un valor positivo y creciente indica momentum alcista.\n",
        "\n",
        "  - Un valor negativo sugiere presión bajista.\n",
        "  \n",
        "Es ampliamente utilizado para detectar giros de tendencia y cambios en la dinámica del mercado.\n"
      ],
      "metadata": {
        "id": "qn4jRYEkg7Po"
      },
      "id": "qn4jRYEkg7Po"
    },
    {
      "cell_type": "code",
      "source": [
        "def calcular_macd(df=mnq_intraday, target='target_return_30'):\n",
        "  #4. MAC D\n",
        "  macd_columns = ['macd']\n",
        "\n",
        "  df['macd'] = ta.trend.MACD(df[target]).macd_diff()\n",
        "\n",
        "  return df, macd_columns"
      ],
      "metadata": {
        "id": "Jocjbdbvk4Vx"
      },
      "id": "Jocjbdbvk4Vx",
      "execution_count": 168,
      "outputs": []
    },
    {
      "cell_type": "markdown",
      "source": [
        "### 2.5. **Distancia del precio actual a su EMA (15, 20 y 30 minutos)**"
      ],
      "metadata": {
        "id": "RF-_HxF8gHol"
      },
      "id": "RF-_HxF8gHol"
    },
    {
      "cell_type": "markdown",
      "source": [
        "Mide el desvío porcentual del precio respecto a su media exponencial en diferentes ventanas, y actúa como indicador de sobreextensión o retorno a la media.\n",
        "\n",
        "  - Si el precio está muy por encima de la EMA, puede anticipar una reversión bajista o una posible aceleración alcista.\n",
        "\n",
        "  - Si está por debajo, podría indicar agotamiento o presión vendedora.<br>\n",
        "\n",
        "Esta métrica se expresa como un porcentaje relativo, lo que facilita la comparación entre distintas ventanas temporales y condiciones de mercado.\n",
        "\n",
        "Usar varias ventanas (15, 20 y 30 minutos) permite capturar diferentes horizontes de reacción del precio frente a su media móvil.\n"
      ],
      "metadata": {
        "id": "1g08dqbIhBnv"
      },
      "id": "1g08dqbIhBnv"
    },
    {
      "cell_type": "code",
      "source": [
        "def calcular_ema(df=mnq_intraday, target='target_return_30'):\n",
        "  #5. EMA\n",
        "  ema_columns = ['price_ema15', 'price_ema20', 'price_ema30']\n",
        "\n",
        "  df['price_ema15'] = df[target] / df[target].ewm(span=15).mean() - 1\n",
        "  df['price_ema20'] = df[target] / df[target].ewm(span=20).mean() - 1\n",
        "  df['price_ema30'] = df[target] / df[target].ewm(span=30).mean() - 1\n",
        "\n",
        "  return df, ema_columns"
      ],
      "metadata": {
        "id": "swjxDeTjlSK1"
      },
      "id": "swjxDeTjlSK1",
      "execution_count": 169,
      "outputs": []
    },
    {
      "cell_type": "markdown",
      "source": [
        "### 2.6. **%K Estocástico**"
      ],
      "metadata": {
        "id": "VbhmPxj4gI1W"
      },
      "id": "VbhmPxj4gI1W"
    },
    {
      "cell_type": "markdown",
      "source": [
        "Mide la posición relativa del precio actual dentro del rango alto-bajo de los últimos n periodos (generalmente 14).\n",
        "\n",
        "  - Se utiliza para identificar condiciones extremas de sobrecompra o sobreventa.\n",
        "\n",
        "  - Un valor cercano a 100 indica que el precio está cerca del máximo reciente (potencial sobrecompra), mientras que un valor cercano a 0 indica proximidad al mínimo reciente (posible sobreventa).\n",
        "\n",
        "Es útil para detectar momentos en los que el precio puede estar excesivamente extendido y susceptible a una reversión.\n"
      ],
      "metadata": {
        "id": "Uc3IQlwBhHrj"
      },
      "id": "Uc3IQlwBhHrj"
    },
    {
      "cell_type": "code",
      "source": [
        "def calcular_stochastic(df=mnq_intraday, target='target_return_30'):\n",
        "      # 6. %K del Estocástico\n",
        "\n",
        "    stoch_columns = ['stoch_k_14', 'stoch_k_20', 'stoch_k_30']\n",
        "\n",
        "    stoch_14 = StochasticOscillator(df['high'], df['low'], df[target], window=14, smooth_window=3)\n",
        "    df['stoch_k_14'] = stoch_14.stoch()\n",
        "\n",
        "    stoch_20 = StochasticOscillator(df['high'], df['low'], df[target], window=20, smooth_window=3)\n",
        "    df['stoch_k_20'] = stoch_20.stoch()\n",
        "\n",
        "    stoch_30 = StochasticOscillator(df['high'], df['low'], df[target], window=30, smooth_window=3)\n",
        "    df['stoch_k_30'] = stoch_30.stoch()\n",
        "\n",
        "    return df, stoch_columns\n",
        "\n"
      ],
      "metadata": {
        "id": "ogsaQigRl7NW"
      },
      "id": "ogsaQigRl7NW",
      "execution_count": 170,
      "outputs": []
    },
    {
      "cell_type": "markdown",
      "source": [
        "### 2.7. . **%B de Bollinger (Bollinger Band Percent)**"
      ],
      "metadata": {
        "id": "GHqCq3LAgJ5B"
      },
      "id": "GHqCq3LAgJ5B"
    },
    {
      "cell_type": "markdown",
      "source": [
        "Indica la posición del precio actual en relación con las bandas de Bollinger, que están construidas alrededor de una media móvil usando desviaciones estándar.\n",
        "\n",
        "  - Un valor de %B > 1 sugiere que el precio está por encima de la banda superior, lo que podría implicar exceso de optimismo o momentum fuerte.\n",
        "\n",
        "  - Un valor < 0 indica que está por debajo de la banda inferior, posible señal de pánico o sobreventa extrema.\n",
        "\n",
        "Este indicador es eficaz para identificar zonas de congestión, breakout o reversiones basadas en la volatilidad reciente.\n"
      ],
      "metadata": {
        "id": "KuiH9phmhSVG"
      },
      "id": "KuiH9phmhSVG"
    },
    {
      "cell_type": "code",
      "source": [
        "def calcular_bollinger(df=mnq_intraday, target='target_return_30'):\n",
        "\n",
        "    # 7. Bollinger Band %B\n",
        "    bollinger_columns = ['bb_percent_15_15', 'bb_percent_20_15', 'bb_percent_30_15',\n",
        "        'bb_percent_15_20', 'bb_percent_20_20', 'bb_percent_30_20',\n",
        "        'bb_percent_15_25', 'bb_percent_20_25', 'bb_percent_30_25',]\n",
        "    ####### std: 1.5\n",
        "    bb_15_15 = BollingerBands(close=df[target], window=15, window_dev=1.5)\n",
        "    df['bb_percent_15_15'] = bb_15_15.bollinger_pband()\n",
        "\n",
        "    bb_20_15 = BollingerBands(close=df[target], window=20, window_dev=1.5)\n",
        "    df['bb_percent_20_15'] = bb_20_15.bollinger_pband()\n",
        "\n",
        "    bb_30_15 = BollingerBands(close=df[target], window=30, window_dev=1.5)\n",
        "    df['bb_percent_30_15'] = bb_30_15.bollinger_pband()\n",
        "\n",
        "    ####### std: 2\n",
        "    bb_15_2 = BollingerBands(close=df[target], window=15, window_dev=2)\n",
        "    df['bb_percent_15_20'] = bb_15_2.bollinger_pband()\n",
        "\n",
        "    bb_20_2 = BollingerBands(close=df[target], window=20, window_dev=2)\n",
        "    df['bb_percent_20_20'] = bb_20_2.bollinger_pband()\n",
        "\n",
        "    bb_30_2 = BollingerBands(close=df[target], window=30, window_dev=2)\n",
        "    df['bb_percent_30_20'] = bb_30_2.bollinger_pband()\n",
        "\n",
        "    ####### std: 2.5\n",
        "    bb_15_25 = BollingerBands(close=df[target], window=15, window_dev=2.5)\n",
        "    df['bb_percent_15_25'] = bb_15_25.bollinger_pband()\n",
        "\n",
        "    bb_20_25 = BollingerBands(close=df[target], window=20, window_dev=2.5)\n",
        "    df['bb_percent_20_25'] = bb_20_25.bollinger_pband()\n",
        "\n",
        "    bb_30_25 = BollingerBands(close=df[target], window=30, window_dev=2.5)\n",
        "    df['bb_percent_30_25'] = bb_30_25.bollinger_pband()\n",
        "\n",
        "    return df, bollinger_columns\n"
      ],
      "metadata": {
        "id": "i7VPAMY3nOmW"
      },
      "id": "i7VPAMY3nOmW",
      "execution_count": 171,
      "outputs": []
    },
    {
      "cell_type": "markdown",
      "source": [
        "### 2.8. **ATR normalizado (Average True Range / precio)**"
      ],
      "metadata": {
        "id": "w8Ldu9QQgMZV"
      },
      "id": "w8Ldu9QQgMZV"
    },
    {
      "cell_type": "markdown",
      "source": [
        "Representa la volatilidad absoluta reciente ajustada al nivel del precio.\n",
        "\n",
        "  - El ATR mide el rango promedio de oscilación de un activo en los últimos n periodos, capturando tanto movimientos bruscos como gaps.\n",
        "\n",
        "  - Al normalizarlo dividiéndolo por el precio, se obtiene una medida relativa, comparable entre distintos niveles de mercado.\n",
        "\n",
        "Este indicador es útil para detectar momentos de alta o baja volatilidad intradía, que pueden influir en la confiabilidad de otras señales técnicas.\n"
      ],
      "metadata": {
        "id": "Kp39F2jlhnQX"
      },
      "id": "Kp39F2jlhnQX"
    },
    {
      "cell_type": "code",
      "source": [
        "def calcular_atr(df=mnq_intraday, target='target_return_30'):\n",
        "\n",
        "    # 8. ATR normalizado\n",
        "    atr_columns = ['atr_norm']\n",
        "    atr = AverageTrueRange(high=df['high'], low=df['low'], close=df[target], window=14)\n",
        "    df['atr'] = atr.average_true_range()\n",
        "    df['atr_norm'] = df['atr'] / df[target]\n",
        "\n",
        "    return df, atr_columns\n"
      ],
      "metadata": {
        "id": "zVXNBM_un9oG"
      },
      "id": "zVXNBM_un9oG",
      "execution_count": 172,
      "outputs": []
    },
    {
      "cell_type": "markdown",
      "source": [
        "### 2.9. **ROC (Rate of Change)**"
      ],
      "metadata": {
        "id": "lRVxX2T4gnQV"
      },
      "id": "lRVxX2T4gnQV"
    },
    {
      "cell_type": "markdown",
      "source": [
        "Calcula la tasa de cambio porcentual del precio con respecto a su valor n minutos atrás.\n",
        "\n",
        "- Es un indicador de momentum que capta aceleraciones o desaceleraciones recientes del precio.\n",
        "\n",
        "- Valores positivos indican presión alcista; negativos, presión bajista.\n",
        "\n",
        "A diferencia del momentum tradicional, el ROC expresa el cambio de forma normalizada y en porcentaje, lo que facilita su interpretación comparativa entre distintos activos o marcos temporales.\n"
      ],
      "metadata": {
        "id": "FwykyYylhraS"
      },
      "id": "FwykyYylhraS"
    },
    {
      "cell_type": "code",
      "source": [
        "    def calcular_roc(df=mnq_intraday, target='target_return_30'):\n",
        "    # 9. ROC (Rate of Change)\n",
        "      roc_columns = ['roc_5']\n",
        "      df['roc_5'] = ROCIndicator(close=df[target], window=5).roc()\n",
        "\n",
        "      return df, roc_columns"
      ],
      "metadata": {
        "id": "pCSh4gjLogxw"
      },
      "id": "pCSh4gjLogxw",
      "execution_count": 173,
      "outputs": []
    },
    {
      "cell_type": "markdown",
      "source": [
        "### 2.10. **Aplicación de Indicadores**"
      ],
      "metadata": {
        "id": "eNTRAWEOp9zA"
      },
      "id": "eNTRAWEOp9zA"
    },
    {
      "cell_type": "code",
      "source": [
        "def calcular_indicadores_tecnicos(df: pd.DataFrame,\n",
        "                    target: str,\n",
        "                    ):\n",
        "    indicadores_list = []\n",
        "\n",
        "    df, rsi_columns = calcular_rsi(df, target)\n",
        "    indicadores_list.extend(rsi_columns)\n",
        "\n",
        "    df, momentum_columns = calcular_momentum(df, target)\n",
        "    indicadores_list.extend(momentum_columns)\n",
        "\n",
        "    df, volumen_ratio_columns = calcular_volumen_ratio(df,  target)\n",
        "    indicadores_list.extend(volumen_ratio_columns)\n",
        "\n",
        "    df, macd_columns = calcular_macd(df, target)\n",
        "    indicadores_list.extend(macd_columns)\n",
        "\n",
        "    df, ema_columns = calcular_ema(df,  target)\n",
        "    indicadores_list.extend(ema_columns)\n",
        "\n",
        "    df, stoch_columns = calcular_stochastic(df,  target)\n",
        "    indicadores_list.extend(stoch_columns)\n",
        "\n",
        "\n",
        "    df, bollinger_columns = calcular_bollinger(df,  target)\n",
        "    indicadores_list.extend(bollinger_columns)\n",
        "\n",
        "    df, atr_columns = calcular_atr(df,  target)\n",
        "    indicadores_list.extend(atr_columns)\n",
        "\n",
        "    df, roc_columns = calcular_roc(df,  target)\n",
        "    indicadores_list.extend(roc_columns)\n",
        "\n",
        "    return df, indicadores_list\n",
        "\n"
      ],
      "metadata": {
        "id": "btq2zhkSGxD1"
      },
      "id": "btq2zhkSGxD1",
      "execution_count": 174,
      "outputs": []
    },
    {
      "cell_type": "code",
      "source": [
        "#mnq_intraday = mnq_intraday.groupby('date', group_keys=False).apply(\n",
        "#    lambda df_dia: calcular_indicadores_tecnicos(df_dia, 'target_return_30')[0]\n",
        "#)"
      ],
      "metadata": {
        "id": "5sUwV0pJrhRk"
      },
      "id": "5sUwV0pJrhRk",
      "execution_count": 175,
      "outputs": []
    },
    {
      "cell_type": "markdown",
      "id": "5911bdcc",
      "metadata": {
        "id": "5911bdcc"
      },
      "source": [
        "##2. Calculo de Information Coefficient (IC) por día"
      ]
    },
    {
      "cell_type": "code",
      "source": [
        "def aplicar_AT(funcion: callable, df=mnq_intraday, target='target_return_30'):\n",
        "    return df.groupby('date', group_keys=False).apply(lambda grupo: funcion(grupo.copy(), target))"
      ],
      "metadata": {
        "id": "UoQQ7o3GvXC8"
      },
      "id": "UoQQ7o3GvXC8",
      "execution_count": 176,
      "outputs": []
    },
    {
      "cell_type": "code",
      "source": [
        "def aplicar_por_dia(df: pd.DataFrame, funcion: callable, *args, **kwargs):\n",
        "    return df.groupby('date', group_keys=False).apply(lambda grupo: funcion(grupo.copy(), *args, **kwargs))"
      ],
      "metadata": {
        "id": "3bYdjNU23M99"
      },
      "id": "3bYdjNU23M99",
      "execution_count": 177,
      "outputs": []
    },
    {
      "cell_type": "code",
      "source": [
        "mnq_rsi = aplicar_AT (calcular_rsi)\n",
        "#_ , rsi_list = calcular_rsi ()"
      ],
      "metadata": {
        "id": "1iVSNHLJzRf7"
      },
      "id": "1iVSNHLJzRf7",
      "execution_count": 178,
      "outputs": []
    },
    {
      "cell_type": "code",
      "source": [
        "rsi_list"
      ],
      "metadata": {
        "id": "EfiCkVu-zZJQ",
        "outputId": "54ec9883-837c-4cf2-df4f-3f5de868963e",
        "colab": {
          "base_uri": "https://localhost:8080/"
        }
      },
      "id": "EfiCkVu-zZJQ",
      "execution_count": 179,
      "outputs": [
        {
          "output_type": "execute_result",
          "data": {
            "text/plain": [
              "['rsi_14', 'rsi_7', 'rsi_5', 'rsi_3']"
            ]
          },
          "metadata": {},
          "execution_count": 179
        }
      ]
    },
    {
      "cell_type": "code",
      "source": [
        "mnq_rsi"
      ],
      "metadata": {
        "id": "YD_KjVcfydqJ",
        "outputId": "3231e849-5ce8-44a6-f2c9-c137d52db5ac",
        "colab": {
          "base_uri": "https://localhost:8080/",
          "height": 695
        }
      },
      "id": "YD_KjVcfydqJ",
      "execution_count": 180,
      "outputs": [
        {
          "output_type": "error",
          "ename": "StopIteration",
          "evalue": "",
          "traceback": [
            "\u001b[0;31m---------------------------------------------------------------------------\u001b[0m",
            "\u001b[0;31mStopIteration\u001b[0m                             Traceback (most recent call last)",
            "\u001b[0;32m/usr/local/lib/python3.11/dist-packages/IPython/core/formatters.py\u001b[0m in \u001b[0;36m__call__\u001b[0;34m(self, obj)\u001b[0m\n\u001b[1;32m    700\u001b[0m                 \u001b[0mtype_pprinters\u001b[0m\u001b[0;34m=\u001b[0m\u001b[0mself\u001b[0m\u001b[0;34m.\u001b[0m\u001b[0mtype_printers\u001b[0m\u001b[0;34m,\u001b[0m\u001b[0;34m\u001b[0m\u001b[0;34m\u001b[0m\u001b[0m\n\u001b[1;32m    701\u001b[0m                 deferred_pprinters=self.deferred_printers)\n\u001b[0;32m--> 702\u001b[0;31m             \u001b[0mprinter\u001b[0m\u001b[0;34m.\u001b[0m\u001b[0mpretty\u001b[0m\u001b[0;34m(\u001b[0m\u001b[0mobj\u001b[0m\u001b[0;34m)\u001b[0m\u001b[0;34m\u001b[0m\u001b[0;34m\u001b[0m\u001b[0m\n\u001b[0m\u001b[1;32m    703\u001b[0m             \u001b[0mprinter\u001b[0m\u001b[0;34m.\u001b[0m\u001b[0mflush\u001b[0m\u001b[0;34m(\u001b[0m\u001b[0;34m)\u001b[0m\u001b[0;34m\u001b[0m\u001b[0;34m\u001b[0m\u001b[0m\n\u001b[1;32m    704\u001b[0m             \u001b[0;32mreturn\u001b[0m \u001b[0mstream\u001b[0m\u001b[0;34m.\u001b[0m\u001b[0mgetvalue\u001b[0m\u001b[0;34m(\u001b[0m\u001b[0;34m)\u001b[0m\u001b[0;34m\u001b[0m\u001b[0;34m\u001b[0m\u001b[0m\n",
            "\u001b[0;32m/usr/local/lib/python3.11/dist-packages/IPython/lib/pretty.py\u001b[0m in \u001b[0;36mpretty\u001b[0;34m(self, obj)\u001b[0m\n\u001b[1;32m    392\u001b[0m                         \u001b[0;32mif\u001b[0m \u001b[0mcls\u001b[0m \u001b[0;32mis\u001b[0m \u001b[0;32mnot\u001b[0m \u001b[0mobject\u001b[0m\u001b[0;31m \u001b[0m\u001b[0;31m\\\u001b[0m\u001b[0;34m\u001b[0m\u001b[0;34m\u001b[0m\u001b[0m\n\u001b[1;32m    393\u001b[0m                                 \u001b[0;32mand\u001b[0m \u001b[0mcallable\u001b[0m\u001b[0;34m(\u001b[0m\u001b[0mcls\u001b[0m\u001b[0;34m.\u001b[0m\u001b[0m__dict__\u001b[0m\u001b[0;34m.\u001b[0m\u001b[0mget\u001b[0m\u001b[0;34m(\u001b[0m\u001b[0;34m'__repr__'\u001b[0m\u001b[0;34m)\u001b[0m\u001b[0;34m)\u001b[0m\u001b[0;34m:\u001b[0m\u001b[0;34m\u001b[0m\u001b[0;34m\u001b[0m\u001b[0m\n\u001b[0;32m--> 394\u001b[0;31m                             \u001b[0;32mreturn\u001b[0m \u001b[0m_repr_pprint\u001b[0m\u001b[0;34m(\u001b[0m\u001b[0mobj\u001b[0m\u001b[0;34m,\u001b[0m \u001b[0mself\u001b[0m\u001b[0;34m,\u001b[0m \u001b[0mcycle\u001b[0m\u001b[0;34m)\u001b[0m\u001b[0;34m\u001b[0m\u001b[0;34m\u001b[0m\u001b[0m\n\u001b[0m\u001b[1;32m    395\u001b[0m \u001b[0;34m\u001b[0m\u001b[0m\n\u001b[1;32m    396\u001b[0m             \u001b[0;32mreturn\u001b[0m \u001b[0m_default_pprint\u001b[0m\u001b[0;34m(\u001b[0m\u001b[0mobj\u001b[0m\u001b[0;34m,\u001b[0m \u001b[0mself\u001b[0m\u001b[0;34m,\u001b[0m \u001b[0mcycle\u001b[0m\u001b[0;34m)\u001b[0m\u001b[0;34m\u001b[0m\u001b[0;34m\u001b[0m\u001b[0m\n",
            "\u001b[0;32m/usr/local/lib/python3.11/dist-packages/IPython/lib/pretty.py\u001b[0m in \u001b[0;36m_repr_pprint\u001b[0;34m(obj, p, cycle)\u001b[0m\n\u001b[1;32m    698\u001b[0m     \u001b[0;34m\"\"\"A pprint that just redirects to the normal repr function.\"\"\"\u001b[0m\u001b[0;34m\u001b[0m\u001b[0;34m\u001b[0m\u001b[0m\n\u001b[1;32m    699\u001b[0m     \u001b[0;31m# Find newlines and replace them with p.break_()\u001b[0m\u001b[0;34m\u001b[0m\u001b[0;34m\u001b[0m\u001b[0m\n\u001b[0;32m--> 700\u001b[0;31m     \u001b[0moutput\u001b[0m \u001b[0;34m=\u001b[0m \u001b[0mrepr\u001b[0m\u001b[0;34m(\u001b[0m\u001b[0mobj\u001b[0m\u001b[0;34m)\u001b[0m\u001b[0;34m\u001b[0m\u001b[0;34m\u001b[0m\u001b[0m\n\u001b[0m\u001b[1;32m    701\u001b[0m     \u001b[0mlines\u001b[0m \u001b[0;34m=\u001b[0m \u001b[0moutput\u001b[0m\u001b[0;34m.\u001b[0m\u001b[0msplitlines\u001b[0m\u001b[0;34m(\u001b[0m\u001b[0;34m)\u001b[0m\u001b[0;34m\u001b[0m\u001b[0;34m\u001b[0m\u001b[0m\n\u001b[1;32m    702\u001b[0m     \u001b[0;32mwith\u001b[0m \u001b[0mp\u001b[0m\u001b[0;34m.\u001b[0m\u001b[0mgroup\u001b[0m\u001b[0;34m(\u001b[0m\u001b[0;34m)\u001b[0m\u001b[0;34m:\u001b[0m\u001b[0;34m\u001b[0m\u001b[0;34m\u001b[0m\u001b[0m\n",
            "\u001b[0;32m/usr/local/lib/python3.11/dist-packages/pandas/core/series.py\u001b[0m in \u001b[0;36m__repr__\u001b[0;34m(self)\u001b[0m\n\u001b[1;32m   1782\u001b[0m         \u001b[0;31m# pylint: disable=invalid-repr-returned\u001b[0m\u001b[0;34m\u001b[0m\u001b[0;34m\u001b[0m\u001b[0m\n\u001b[1;32m   1783\u001b[0m         \u001b[0mrepr_params\u001b[0m \u001b[0;34m=\u001b[0m \u001b[0mfmt\u001b[0m\u001b[0;34m.\u001b[0m\u001b[0mget_series_repr_params\u001b[0m\u001b[0;34m(\u001b[0m\u001b[0;34m)\u001b[0m\u001b[0;34m\u001b[0m\u001b[0;34m\u001b[0m\u001b[0m\n\u001b[0;32m-> 1784\u001b[0;31m         \u001b[0;32mreturn\u001b[0m \u001b[0mself\u001b[0m\u001b[0;34m.\u001b[0m\u001b[0mto_string\u001b[0m\u001b[0;34m(\u001b[0m\u001b[0;34m**\u001b[0m\u001b[0mrepr_params\u001b[0m\u001b[0;34m)\u001b[0m\u001b[0;34m\u001b[0m\u001b[0;34m\u001b[0m\u001b[0m\n\u001b[0m\u001b[1;32m   1785\u001b[0m \u001b[0;34m\u001b[0m\u001b[0m\n\u001b[1;32m   1786\u001b[0m     \u001b[0;34m@\u001b[0m\u001b[0moverload\u001b[0m\u001b[0;34m\u001b[0m\u001b[0;34m\u001b[0m\u001b[0m\n",
            "\u001b[0;32m/usr/local/lib/python3.11/dist-packages/pandas/core/series.py\u001b[0m in \u001b[0;36mto_string\u001b[0;34m(self, buf, na_rep, float_format, header, index, length, dtype, name, max_rows, min_rows)\u001b[0m\n\u001b[1;32m   1881\u001b[0m             \u001b[0mmax_rows\u001b[0m\u001b[0;34m=\u001b[0m\u001b[0mmax_rows\u001b[0m\u001b[0;34m,\u001b[0m\u001b[0;34m\u001b[0m\u001b[0;34m\u001b[0m\u001b[0m\n\u001b[1;32m   1882\u001b[0m         )\n\u001b[0;32m-> 1883\u001b[0;31m         \u001b[0mresult\u001b[0m \u001b[0;34m=\u001b[0m \u001b[0mformatter\u001b[0m\u001b[0;34m.\u001b[0m\u001b[0mto_string\u001b[0m\u001b[0;34m(\u001b[0m\u001b[0;34m)\u001b[0m\u001b[0;34m\u001b[0m\u001b[0;34m\u001b[0m\u001b[0m\n\u001b[0m\u001b[1;32m   1884\u001b[0m \u001b[0;34m\u001b[0m\u001b[0m\n\u001b[1;32m   1885\u001b[0m         \u001b[0;31m# catch contract violations\u001b[0m\u001b[0;34m\u001b[0m\u001b[0;34m\u001b[0m\u001b[0m\n",
            "\u001b[0;32m/usr/local/lib/python3.11/dist-packages/pandas/io/formats/format.py\u001b[0m in \u001b[0;36mto_string\u001b[0;34m(self)\u001b[0m\n\u001b[1;32m    318\u001b[0m         \u001b[0;32melse\u001b[0m\u001b[0;34m:\u001b[0m\u001b[0;34m\u001b[0m\u001b[0;34m\u001b[0m\u001b[0m\n\u001b[1;32m    319\u001b[0m             \u001b[0mfmt_index\u001b[0m \u001b[0;34m=\u001b[0m \u001b[0mindex\u001b[0m\u001b[0;34m.\u001b[0m\u001b[0m_format_flat\u001b[0m\u001b[0;34m(\u001b[0m\u001b[0minclude_name\u001b[0m\u001b[0;34m=\u001b[0m\u001b[0;32mTrue\u001b[0m\u001b[0;34m)\u001b[0m\u001b[0;34m\u001b[0m\u001b[0;34m\u001b[0m\u001b[0m\n\u001b[0;32m--> 320\u001b[0;31m         \u001b[0mfmt_values\u001b[0m \u001b[0;34m=\u001b[0m \u001b[0mself\u001b[0m\u001b[0;34m.\u001b[0m\u001b[0m_get_formatted_values\u001b[0m\u001b[0;34m(\u001b[0m\u001b[0;34m)\u001b[0m\u001b[0;34m\u001b[0m\u001b[0;34m\u001b[0m\u001b[0m\n\u001b[0m\u001b[1;32m    321\u001b[0m \u001b[0;34m\u001b[0m\u001b[0m\n\u001b[1;32m    322\u001b[0m         \u001b[0;32mif\u001b[0m \u001b[0mself\u001b[0m\u001b[0;34m.\u001b[0m\u001b[0mis_truncated_vertically\u001b[0m\u001b[0;34m:\u001b[0m\u001b[0;34m\u001b[0m\u001b[0;34m\u001b[0m\u001b[0m\n",
            "\u001b[0;32m/usr/local/lib/python3.11/dist-packages/pandas/io/formats/format.py\u001b[0m in \u001b[0;36m_get_formatted_values\u001b[0;34m(self)\u001b[0m\n\u001b[1;32m    295\u001b[0m \u001b[0;34m\u001b[0m\u001b[0m\n\u001b[1;32m    296\u001b[0m     \u001b[0;32mdef\u001b[0m \u001b[0m_get_formatted_values\u001b[0m\u001b[0;34m(\u001b[0m\u001b[0mself\u001b[0m\u001b[0;34m)\u001b[0m \u001b[0;34m->\u001b[0m \u001b[0mlist\u001b[0m\u001b[0;34m[\u001b[0m\u001b[0mstr\u001b[0m\u001b[0;34m]\u001b[0m\u001b[0;34m:\u001b[0m\u001b[0;34m\u001b[0m\u001b[0;34m\u001b[0m\u001b[0m\n\u001b[0;32m--> 297\u001b[0;31m         return format_array(\n\u001b[0m\u001b[1;32m    298\u001b[0m             \u001b[0mself\u001b[0m\u001b[0;34m.\u001b[0m\u001b[0mtr_series\u001b[0m\u001b[0;34m.\u001b[0m\u001b[0m_values\u001b[0m\u001b[0;34m,\u001b[0m\u001b[0;34m\u001b[0m\u001b[0;34m\u001b[0m\u001b[0m\n\u001b[1;32m    299\u001b[0m             \u001b[0;32mNone\u001b[0m\u001b[0;34m,\u001b[0m\u001b[0;34m\u001b[0m\u001b[0;34m\u001b[0m\u001b[0m\n",
            "\u001b[0;32m/usr/local/lib/python3.11/dist-packages/pandas/io/formats/format.py\u001b[0m in \u001b[0;36mformat_array\u001b[0;34m(values, formatter, float_format, na_rep, digits, space, justify, decimal, leading_space, quoting, fallback_formatter)\u001b[0m\n\u001b[1;32m   1159\u001b[0m     )\n\u001b[1;32m   1160\u001b[0m \u001b[0;34m\u001b[0m\u001b[0m\n\u001b[0;32m-> 1161\u001b[0;31m     \u001b[0;32mreturn\u001b[0m \u001b[0mfmt_obj\u001b[0m\u001b[0;34m.\u001b[0m\u001b[0mget_result\u001b[0m\u001b[0;34m(\u001b[0m\u001b[0;34m)\u001b[0m\u001b[0;34m\u001b[0m\u001b[0;34m\u001b[0m\u001b[0m\n\u001b[0m\u001b[1;32m   1162\u001b[0m \u001b[0;34m\u001b[0m\u001b[0m\n\u001b[1;32m   1163\u001b[0m \u001b[0;34m\u001b[0m\u001b[0m\n",
            "\u001b[0;32m/usr/local/lib/python3.11/dist-packages/pandas/io/formats/format.py\u001b[0m in \u001b[0;36mget_result\u001b[0;34m(self)\u001b[0m\n\u001b[1;32m   1192\u001b[0m \u001b[0;34m\u001b[0m\u001b[0m\n\u001b[1;32m   1193\u001b[0m     \u001b[0;32mdef\u001b[0m \u001b[0mget_result\u001b[0m\u001b[0;34m(\u001b[0m\u001b[0mself\u001b[0m\u001b[0;34m)\u001b[0m \u001b[0;34m->\u001b[0m \u001b[0mlist\u001b[0m\u001b[0;34m[\u001b[0m\u001b[0mstr\u001b[0m\u001b[0;34m]\u001b[0m\u001b[0;34m:\u001b[0m\u001b[0;34m\u001b[0m\u001b[0;34m\u001b[0m\u001b[0m\n\u001b[0;32m-> 1194\u001b[0;31m         \u001b[0mfmt_values\u001b[0m \u001b[0;34m=\u001b[0m \u001b[0mself\u001b[0m\u001b[0;34m.\u001b[0m\u001b[0m_format_strings\u001b[0m\u001b[0;34m(\u001b[0m\u001b[0;34m)\u001b[0m\u001b[0;34m\u001b[0m\u001b[0;34m\u001b[0m\u001b[0m\n\u001b[0m\u001b[1;32m   1195\u001b[0m         \u001b[0;32mreturn\u001b[0m \u001b[0m_make_fixed_width\u001b[0m\u001b[0;34m(\u001b[0m\u001b[0mfmt_values\u001b[0m\u001b[0;34m,\u001b[0m \u001b[0mself\u001b[0m\u001b[0;34m.\u001b[0m\u001b[0mjustify\u001b[0m\u001b[0;34m)\u001b[0m\u001b[0;34m\u001b[0m\u001b[0;34m\u001b[0m\u001b[0m\n\u001b[1;32m   1196\u001b[0m \u001b[0;34m\u001b[0m\u001b[0m\n",
            "\u001b[0;32m/usr/local/lib/python3.11/dist-packages/pandas/io/formats/format.py\u001b[0m in \u001b[0;36m_format_strings\u001b[0;34m(self)\u001b[0m\n\u001b[1;32m   1257\u001b[0m         \u001b[0;32mfor\u001b[0m \u001b[0mi\u001b[0m\u001b[0;34m,\u001b[0m \u001b[0mv\u001b[0m \u001b[0;32min\u001b[0m \u001b[0menumerate\u001b[0m\u001b[0;34m(\u001b[0m\u001b[0mvals\u001b[0m\u001b[0;34m)\u001b[0m\u001b[0;34m:\u001b[0m\u001b[0;34m\u001b[0m\u001b[0;34m\u001b[0m\u001b[0m\n\u001b[1;32m   1258\u001b[0m             \u001b[0;32mif\u001b[0m \u001b[0;34m(\u001b[0m\u001b[0;32mnot\u001b[0m \u001b[0mis_float_type\u001b[0m\u001b[0;34m[\u001b[0m\u001b[0mi\u001b[0m\u001b[0;34m]\u001b[0m \u001b[0;32mor\u001b[0m \u001b[0mself\u001b[0m\u001b[0;34m.\u001b[0m\u001b[0mformatter\u001b[0m \u001b[0;32mis\u001b[0m \u001b[0;32mnot\u001b[0m \u001b[0;32mNone\u001b[0m\u001b[0;34m)\u001b[0m \u001b[0;32mand\u001b[0m \u001b[0mleading_space\u001b[0m\u001b[0;34m:\u001b[0m\u001b[0;34m\u001b[0m\u001b[0;34m\u001b[0m\u001b[0m\n\u001b[0;32m-> 1259\u001b[0;31m                 \u001b[0mfmt_values\u001b[0m\u001b[0;34m.\u001b[0m\u001b[0mappend\u001b[0m\u001b[0;34m(\u001b[0m\u001b[0;34mf\" {_format(v)}\"\u001b[0m\u001b[0;34m)\u001b[0m\u001b[0;34m\u001b[0m\u001b[0;34m\u001b[0m\u001b[0m\n\u001b[0m\u001b[1;32m   1260\u001b[0m             \u001b[0;32melif\u001b[0m \u001b[0mis_float_type\u001b[0m\u001b[0;34m[\u001b[0m\u001b[0mi\u001b[0m\u001b[0;34m]\u001b[0m\u001b[0;34m:\u001b[0m\u001b[0;34m\u001b[0m\u001b[0;34m\u001b[0m\u001b[0m\n\u001b[1;32m   1261\u001b[0m                 \u001b[0mfmt_values\u001b[0m\u001b[0;34m.\u001b[0m\u001b[0mappend\u001b[0m\u001b[0;34m(\u001b[0m\u001b[0mfloat_format\u001b[0m\u001b[0;34m(\u001b[0m\u001b[0mv\u001b[0m\u001b[0;34m)\u001b[0m\u001b[0;34m)\u001b[0m\u001b[0;34m\u001b[0m\u001b[0;34m\u001b[0m\u001b[0m\n",
            "\u001b[0;32m/usr/local/lib/python3.11/dist-packages/pandas/io/formats/format.py\u001b[0m in \u001b[0;36m_format\u001b[0;34m(x)\u001b[0m\n\u001b[1;32m   1237\u001b[0m             \u001b[0;32melse\u001b[0m\u001b[0;34m:\u001b[0m\u001b[0;34m\u001b[0m\u001b[0;34m\u001b[0m\u001b[0m\n\u001b[1;32m   1238\u001b[0m                 \u001b[0;31m# object dtype\u001b[0m\u001b[0;34m\u001b[0m\u001b[0;34m\u001b[0m\u001b[0m\n\u001b[0;32m-> 1239\u001b[0;31m                 \u001b[0;32mreturn\u001b[0m \u001b[0mstr\u001b[0m\u001b[0;34m(\u001b[0m\u001b[0mformatter\u001b[0m\u001b[0;34m(\u001b[0m\u001b[0mx\u001b[0m\u001b[0;34m)\u001b[0m\u001b[0;34m)\u001b[0m\u001b[0;34m\u001b[0m\u001b[0;34m\u001b[0m\u001b[0m\n\u001b[0m\u001b[1;32m   1240\u001b[0m \u001b[0;34m\u001b[0m\u001b[0m\n\u001b[1;32m   1241\u001b[0m         \u001b[0mvals\u001b[0m \u001b[0;34m=\u001b[0m \u001b[0mself\u001b[0m\u001b[0;34m.\u001b[0m\u001b[0mvalues\u001b[0m\u001b[0;34m\u001b[0m\u001b[0;34m\u001b[0m\u001b[0m\n",
            "\u001b[0;32m/usr/local/lib/python3.11/dist-packages/pandas/io/formats/printing.py\u001b[0m in \u001b[0;36mpprint_thing\u001b[0;34m(thing, _nest_lvl, escape_chars, default_escapes, quote_strings, max_seq_items)\u001b[0m\n\u001b[1;32m    221\u001b[0m         )\n\u001b[1;32m    222\u001b[0m     \u001b[0;32melif\u001b[0m \u001b[0mis_sequence\u001b[0m\u001b[0;34m(\u001b[0m\u001b[0mthing\u001b[0m\u001b[0;34m)\u001b[0m \u001b[0;32mand\u001b[0m \u001b[0m_nest_lvl\u001b[0m \u001b[0;34m<\u001b[0m \u001b[0mget_option\u001b[0m\u001b[0;34m(\u001b[0m\u001b[0;34m\"display.pprint_nest_depth\"\u001b[0m\u001b[0;34m)\u001b[0m\u001b[0;34m:\u001b[0m\u001b[0;34m\u001b[0m\u001b[0;34m\u001b[0m\u001b[0m\n\u001b[0;32m--> 223\u001b[0;31m         result = _pprint_seq(\n\u001b[0m\u001b[1;32m    224\u001b[0m             \u001b[0mthing\u001b[0m\u001b[0;34m,\u001b[0m\u001b[0;34m\u001b[0m\u001b[0;34m\u001b[0m\u001b[0m\n\u001b[1;32m    225\u001b[0m             \u001b[0m_nest_lvl\u001b[0m\u001b[0;34m,\u001b[0m\u001b[0;34m\u001b[0m\u001b[0;34m\u001b[0m\u001b[0m\n",
            "\u001b[0;32m/usr/local/lib/python3.11/dist-packages/pandas/io/formats/printing.py\u001b[0m in \u001b[0;36m_pprint_seq\u001b[0;34m(seq, _nest_lvl, max_seq_items, **kwds)\u001b[0m\n\u001b[1;32m    118\u001b[0m     \u001b[0ms\u001b[0m \u001b[0;34m=\u001b[0m \u001b[0miter\u001b[0m\u001b[0;34m(\u001b[0m\u001b[0mseq\u001b[0m\u001b[0;34m)\u001b[0m\u001b[0;34m\u001b[0m\u001b[0;34m\u001b[0m\u001b[0m\n\u001b[1;32m    119\u001b[0m     \u001b[0;31m# handle sets, no slicing\u001b[0m\u001b[0;34m\u001b[0m\u001b[0;34m\u001b[0m\u001b[0m\n\u001b[0;32m--> 120\u001b[0;31m     r = [\n\u001b[0m\u001b[1;32m    121\u001b[0m         \u001b[0mpprint_thing\u001b[0m\u001b[0;34m(\u001b[0m\u001b[0mnext\u001b[0m\u001b[0;34m(\u001b[0m\u001b[0ms\u001b[0m\u001b[0;34m)\u001b[0m\u001b[0;34m,\u001b[0m \u001b[0m_nest_lvl\u001b[0m \u001b[0;34m+\u001b[0m \u001b[0;36m1\u001b[0m\u001b[0;34m,\u001b[0m \u001b[0mmax_seq_items\u001b[0m\u001b[0;34m=\u001b[0m\u001b[0mmax_seq_items\u001b[0m\u001b[0;34m,\u001b[0m \u001b[0;34m**\u001b[0m\u001b[0mkwds\u001b[0m\u001b[0;34m)\u001b[0m\u001b[0;34m\u001b[0m\u001b[0;34m\u001b[0m\u001b[0m\n\u001b[1;32m    122\u001b[0m         \u001b[0;32mfor\u001b[0m \u001b[0mi\u001b[0m \u001b[0;32min\u001b[0m \u001b[0mrange\u001b[0m\u001b[0;34m(\u001b[0m\u001b[0mmin\u001b[0m\u001b[0;34m(\u001b[0m\u001b[0mnitems\u001b[0m\u001b[0;34m,\u001b[0m \u001b[0mlen\u001b[0m\u001b[0;34m(\u001b[0m\u001b[0mseq\u001b[0m\u001b[0;34m)\u001b[0m\u001b[0;34m)\u001b[0m\u001b[0;34m)\u001b[0m\u001b[0;34m\u001b[0m\u001b[0;34m\u001b[0m\u001b[0m\n",
            "\u001b[0;32m/usr/local/lib/python3.11/dist-packages/pandas/io/formats/printing.py\u001b[0m in \u001b[0;36m<listcomp>\u001b[0;34m(.0)\u001b[0m\n\u001b[1;32m    119\u001b[0m     \u001b[0;31m# handle sets, no slicing\u001b[0m\u001b[0;34m\u001b[0m\u001b[0;34m\u001b[0m\u001b[0m\n\u001b[1;32m    120\u001b[0m     r = [\n\u001b[0;32m--> 121\u001b[0;31m         \u001b[0mpprint_thing\u001b[0m\u001b[0;34m(\u001b[0m\u001b[0mnext\u001b[0m\u001b[0;34m(\u001b[0m\u001b[0ms\u001b[0m\u001b[0;34m)\u001b[0m\u001b[0;34m,\u001b[0m \u001b[0m_nest_lvl\u001b[0m \u001b[0;34m+\u001b[0m \u001b[0;36m1\u001b[0m\u001b[0;34m,\u001b[0m \u001b[0mmax_seq_items\u001b[0m\u001b[0;34m=\u001b[0m\u001b[0mmax_seq_items\u001b[0m\u001b[0;34m,\u001b[0m \u001b[0;34m**\u001b[0m\u001b[0mkwds\u001b[0m\u001b[0;34m)\u001b[0m\u001b[0;34m\u001b[0m\u001b[0;34m\u001b[0m\u001b[0m\n\u001b[0m\u001b[1;32m    122\u001b[0m         \u001b[0;32mfor\u001b[0m \u001b[0mi\u001b[0m \u001b[0;32min\u001b[0m \u001b[0mrange\u001b[0m\u001b[0;34m(\u001b[0m\u001b[0mmin\u001b[0m\u001b[0;34m(\u001b[0m\u001b[0mnitems\u001b[0m\u001b[0;34m,\u001b[0m \u001b[0mlen\u001b[0m\u001b[0;34m(\u001b[0m\u001b[0mseq\u001b[0m\u001b[0;34m)\u001b[0m\u001b[0;34m)\u001b[0m\u001b[0;34m)\u001b[0m\u001b[0;34m\u001b[0m\u001b[0;34m\u001b[0m\u001b[0m\n\u001b[1;32m    123\u001b[0m     ]\n",
            "\u001b[0;32m/usr/local/lib/python3.11/dist-packages/pandas/io/formats/printing.py\u001b[0m in \u001b[0;36mpprint_thing\u001b[0;34m(thing, _nest_lvl, escape_chars, default_escapes, quote_strings, max_seq_items)\u001b[0m\n\u001b[1;32m    221\u001b[0m         )\n\u001b[1;32m    222\u001b[0m     \u001b[0;32melif\u001b[0m \u001b[0mis_sequence\u001b[0m\u001b[0;34m(\u001b[0m\u001b[0mthing\u001b[0m\u001b[0;34m)\u001b[0m \u001b[0;32mand\u001b[0m \u001b[0m_nest_lvl\u001b[0m \u001b[0;34m<\u001b[0m \u001b[0mget_option\u001b[0m\u001b[0;34m(\u001b[0m\u001b[0;34m\"display.pprint_nest_depth\"\u001b[0m\u001b[0;34m)\u001b[0m\u001b[0;34m:\u001b[0m\u001b[0;34m\u001b[0m\u001b[0;34m\u001b[0m\u001b[0m\n\u001b[0;32m--> 223\u001b[0;31m         result = _pprint_seq(\n\u001b[0m\u001b[1;32m    224\u001b[0m             \u001b[0mthing\u001b[0m\u001b[0;34m,\u001b[0m\u001b[0;34m\u001b[0m\u001b[0;34m\u001b[0m\u001b[0m\n\u001b[1;32m    225\u001b[0m             \u001b[0m_nest_lvl\u001b[0m\u001b[0;34m,\u001b[0m\u001b[0;34m\u001b[0m\u001b[0;34m\u001b[0m\u001b[0m\n",
            "\u001b[0;32m/usr/local/lib/python3.11/dist-packages/pandas/io/formats/printing.py\u001b[0m in \u001b[0;36m_pprint_seq\u001b[0;34m(seq, _nest_lvl, max_seq_items, **kwds)\u001b[0m\n\u001b[1;32m    118\u001b[0m     \u001b[0ms\u001b[0m \u001b[0;34m=\u001b[0m \u001b[0miter\u001b[0m\u001b[0;34m(\u001b[0m\u001b[0mseq\u001b[0m\u001b[0;34m)\u001b[0m\u001b[0;34m\u001b[0m\u001b[0;34m\u001b[0m\u001b[0m\n\u001b[1;32m    119\u001b[0m     \u001b[0;31m# handle sets, no slicing\u001b[0m\u001b[0;34m\u001b[0m\u001b[0;34m\u001b[0m\u001b[0m\n\u001b[0;32m--> 120\u001b[0;31m     r = [\n\u001b[0m\u001b[1;32m    121\u001b[0m         \u001b[0mpprint_thing\u001b[0m\u001b[0;34m(\u001b[0m\u001b[0mnext\u001b[0m\u001b[0;34m(\u001b[0m\u001b[0ms\u001b[0m\u001b[0;34m)\u001b[0m\u001b[0;34m,\u001b[0m \u001b[0m_nest_lvl\u001b[0m \u001b[0;34m+\u001b[0m \u001b[0;36m1\u001b[0m\u001b[0;34m,\u001b[0m \u001b[0mmax_seq_items\u001b[0m\u001b[0;34m=\u001b[0m\u001b[0mmax_seq_items\u001b[0m\u001b[0;34m,\u001b[0m \u001b[0;34m**\u001b[0m\u001b[0mkwds\u001b[0m\u001b[0;34m)\u001b[0m\u001b[0;34m\u001b[0m\u001b[0;34m\u001b[0m\u001b[0m\n\u001b[1;32m    122\u001b[0m         \u001b[0;32mfor\u001b[0m \u001b[0mi\u001b[0m \u001b[0;32min\u001b[0m \u001b[0mrange\u001b[0m\u001b[0;34m(\u001b[0m\u001b[0mmin\u001b[0m\u001b[0;34m(\u001b[0m\u001b[0mnitems\u001b[0m\u001b[0;34m,\u001b[0m \u001b[0mlen\u001b[0m\u001b[0;34m(\u001b[0m\u001b[0mseq\u001b[0m\u001b[0;34m)\u001b[0m\u001b[0;34m)\u001b[0m\u001b[0;34m)\u001b[0m\u001b[0;34m\u001b[0m\u001b[0;34m\u001b[0m\u001b[0m\n",
            "\u001b[0;32m/usr/local/lib/python3.11/dist-packages/pandas/io/formats/printing.py\u001b[0m in \u001b[0;36m<listcomp>\u001b[0;34m(.0)\u001b[0m\n\u001b[1;32m    119\u001b[0m     \u001b[0;31m# handle sets, no slicing\u001b[0m\u001b[0;34m\u001b[0m\u001b[0;34m\u001b[0m\u001b[0m\n\u001b[1;32m    120\u001b[0m     r = [\n\u001b[0;32m--> 121\u001b[0;31m         \u001b[0mpprint_thing\u001b[0m\u001b[0;34m(\u001b[0m\u001b[0mnext\u001b[0m\u001b[0;34m(\u001b[0m\u001b[0ms\u001b[0m\u001b[0;34m)\u001b[0m\u001b[0;34m,\u001b[0m \u001b[0m_nest_lvl\u001b[0m \u001b[0;34m+\u001b[0m \u001b[0;36m1\u001b[0m\u001b[0;34m,\u001b[0m \u001b[0mmax_seq_items\u001b[0m\u001b[0;34m=\u001b[0m\u001b[0mmax_seq_items\u001b[0m\u001b[0;34m,\u001b[0m \u001b[0;34m**\u001b[0m\u001b[0mkwds\u001b[0m\u001b[0;34m)\u001b[0m\u001b[0;34m\u001b[0m\u001b[0;34m\u001b[0m\u001b[0m\n\u001b[0m\u001b[1;32m    122\u001b[0m         \u001b[0;32mfor\u001b[0m \u001b[0mi\u001b[0m \u001b[0;32min\u001b[0m \u001b[0mrange\u001b[0m\u001b[0;34m(\u001b[0m\u001b[0mmin\u001b[0m\u001b[0;34m(\u001b[0m\u001b[0mnitems\u001b[0m\u001b[0;34m,\u001b[0m \u001b[0mlen\u001b[0m\u001b[0;34m(\u001b[0m\u001b[0mseq\u001b[0m\u001b[0;34m)\u001b[0m\u001b[0;34m)\u001b[0m\u001b[0;34m)\u001b[0m\u001b[0;34m\u001b[0m\u001b[0;34m\u001b[0m\u001b[0m\n\u001b[1;32m    123\u001b[0m     ]\n",
            "\u001b[0;31mStopIteration\u001b[0m: "
          ]
        },
        {
          "output_type": "error",
          "ename": "StopIteration",
          "evalue": "",
          "traceback": [
            "\u001b[0;31m---------------------------------------------------------------------------\u001b[0m",
            "\u001b[0;31mStopIteration\u001b[0m                             Traceback (most recent call last)",
            "\u001b[0;32m/usr/local/lib/python3.11/dist-packages/IPython/core/formatters.py\u001b[0m in \u001b[0;36m__call__\u001b[0;34m(self, obj)\u001b[0m\n\u001b[1;32m    339\u001b[0m                 \u001b[0;32mpass\u001b[0m\u001b[0;34m\u001b[0m\u001b[0;34m\u001b[0m\u001b[0m\n\u001b[1;32m    340\u001b[0m             \u001b[0;32melse\u001b[0m\u001b[0;34m:\u001b[0m\u001b[0;34m\u001b[0m\u001b[0;34m\u001b[0m\u001b[0m\n\u001b[0;32m--> 341\u001b[0;31m                 \u001b[0;32mreturn\u001b[0m \u001b[0mprinter\u001b[0m\u001b[0;34m(\u001b[0m\u001b[0mobj\u001b[0m\u001b[0;34m)\u001b[0m\u001b[0;34m\u001b[0m\u001b[0;34m\u001b[0m\u001b[0m\n\u001b[0m\u001b[1;32m    342\u001b[0m             \u001b[0;31m# Finally look for special method names\u001b[0m\u001b[0;34m\u001b[0m\u001b[0;34m\u001b[0m\u001b[0m\n\u001b[1;32m    343\u001b[0m             \u001b[0mmethod\u001b[0m \u001b[0;34m=\u001b[0m \u001b[0mget_real_method\u001b[0m\u001b[0;34m(\u001b[0m\u001b[0mobj\u001b[0m\u001b[0;34m,\u001b[0m \u001b[0mself\u001b[0m\u001b[0;34m.\u001b[0m\u001b[0mprint_method\u001b[0m\u001b[0;34m)\u001b[0m\u001b[0;34m\u001b[0m\u001b[0;34m\u001b[0m\u001b[0m\n",
            "\u001b[0;32m/usr/local/lib/python3.11/dist-packages/google/colab/_reprs.py\u001b[0m in \u001b[0;36m_pandas_series_to_html\u001b[0;34m(series)\u001b[0m\n\u001b[1;32m    209\u001b[0m   \u001b[0;32mdef\u001b[0m \u001b[0m_pandas_series_to_html\u001b[0m\u001b[0;34m(\u001b[0m\u001b[0mseries\u001b[0m\u001b[0;34m)\u001b[0m\u001b[0;34m:\u001b[0m\u001b[0;34m\u001b[0m\u001b[0;34m\u001b[0m\u001b[0m\n\u001b[1;32m    210\u001b[0m     \u001b[0;34m\"\"\"Renders a pandas Series as a DataFrame HTML table with a dtype label.\"\"\"\u001b[0m\u001b[0;34m\u001b[0m\u001b[0;34m\u001b[0m\u001b[0m\n\u001b[0;32m--> 211\u001b[0;31m     \u001b[0mseries_as_table_html\u001b[0m \u001b[0;34m=\u001b[0m \u001b[0mseries\u001b[0m\u001b[0;34m.\u001b[0m\u001b[0mto_frame\u001b[0m\u001b[0;34m(\u001b[0m\u001b[0;34m)\u001b[0m\u001b[0;34m.\u001b[0m\u001b[0m_repr_html_\u001b[0m\u001b[0;34m(\u001b[0m\u001b[0;34m)\u001b[0m  \u001b[0;31m# pylint: disable=protected-access\u001b[0m\u001b[0;34m\u001b[0m\u001b[0;34m\u001b[0m\u001b[0m\n\u001b[0m\u001b[1;32m    212\u001b[0m     \u001b[0mseries_as_table_html\u001b[0m \u001b[0;34m+=\u001b[0m \u001b[0;34mf'<br><label><b>dtype:</b> {series.dtype}</label>'\u001b[0m\u001b[0;34m\u001b[0m\u001b[0;34m\u001b[0m\u001b[0m\n\u001b[1;32m    213\u001b[0m     \u001b[0;32mreturn\u001b[0m \u001b[0mseries_as_table_html\u001b[0m\u001b[0;34m\u001b[0m\u001b[0;34m\u001b[0m\u001b[0m\n",
            "\u001b[0;32m/usr/local/lib/python3.11/dist-packages/pandas/core/frame.py\u001b[0m in \u001b[0;36m_repr_html_\u001b[0;34m(self)\u001b[0m\n\u001b[1;32m   1254\u001b[0m                 \u001b[0mdecimal\u001b[0m\u001b[0;34m=\u001b[0m\u001b[0;34m\".\"\u001b[0m\u001b[0;34m,\u001b[0m\u001b[0;34m\u001b[0m\u001b[0;34m\u001b[0m\u001b[0m\n\u001b[1;32m   1255\u001b[0m             )\n\u001b[0;32m-> 1256\u001b[0;31m             \u001b[0;32mreturn\u001b[0m \u001b[0mfmt\u001b[0m\u001b[0;34m.\u001b[0m\u001b[0mDataFrameRenderer\u001b[0m\u001b[0;34m(\u001b[0m\u001b[0mformatter\u001b[0m\u001b[0;34m)\u001b[0m\u001b[0;34m.\u001b[0m\u001b[0mto_html\u001b[0m\u001b[0;34m(\u001b[0m\u001b[0mnotebook\u001b[0m\u001b[0;34m=\u001b[0m\u001b[0;32mTrue\u001b[0m\u001b[0;34m)\u001b[0m\u001b[0;34m\u001b[0m\u001b[0;34m\u001b[0m\u001b[0m\n\u001b[0m\u001b[1;32m   1257\u001b[0m         \u001b[0;32melse\u001b[0m\u001b[0;34m:\u001b[0m\u001b[0;34m\u001b[0m\u001b[0;34m\u001b[0m\u001b[0m\n\u001b[1;32m   1258\u001b[0m             \u001b[0;32mreturn\u001b[0m \u001b[0;32mNone\u001b[0m\u001b[0;34m\u001b[0m\u001b[0;34m\u001b[0m\u001b[0m\n",
            "\u001b[0;32m/usr/local/lib/python3.11/dist-packages/pandas/io/formats/format.py\u001b[0m in \u001b[0;36mto_html\u001b[0;34m(self, buf, encoding, classes, notebook, border, table_id, render_links)\u001b[0m\n\u001b[1;32m    934\u001b[0m             \u001b[0mrender_links\u001b[0m\u001b[0;34m=\u001b[0m\u001b[0mrender_links\u001b[0m\u001b[0;34m,\u001b[0m\u001b[0;34m\u001b[0m\u001b[0;34m\u001b[0m\u001b[0m\n\u001b[1;32m    935\u001b[0m         )\n\u001b[0;32m--> 936\u001b[0;31m         \u001b[0mstring\u001b[0m \u001b[0;34m=\u001b[0m \u001b[0mhtml_formatter\u001b[0m\u001b[0;34m.\u001b[0m\u001b[0mto_string\u001b[0m\u001b[0;34m(\u001b[0m\u001b[0;34m)\u001b[0m\u001b[0;34m\u001b[0m\u001b[0;34m\u001b[0m\u001b[0m\n\u001b[0m\u001b[1;32m    937\u001b[0m         \u001b[0;32mreturn\u001b[0m \u001b[0msave_to_buffer\u001b[0m\u001b[0;34m(\u001b[0m\u001b[0mstring\u001b[0m\u001b[0;34m,\u001b[0m \u001b[0mbuf\u001b[0m\u001b[0;34m=\u001b[0m\u001b[0mbuf\u001b[0m\u001b[0;34m,\u001b[0m \u001b[0mencoding\u001b[0m\u001b[0;34m=\u001b[0m\u001b[0mencoding\u001b[0m\u001b[0;34m)\u001b[0m\u001b[0;34m\u001b[0m\u001b[0;34m\u001b[0m\u001b[0m\n\u001b[1;32m    938\u001b[0m \u001b[0;34m\u001b[0m\u001b[0m\n",
            "\u001b[0;32m/usr/local/lib/python3.11/dist-packages/pandas/io/formats/html.py\u001b[0m in \u001b[0;36mto_string\u001b[0;34m(self)\u001b[0m\n\u001b[1;32m     86\u001b[0m \u001b[0;34m\u001b[0m\u001b[0m\n\u001b[1;32m     87\u001b[0m     \u001b[0;32mdef\u001b[0m \u001b[0mto_string\u001b[0m\u001b[0;34m(\u001b[0m\u001b[0mself\u001b[0m\u001b[0;34m)\u001b[0m \u001b[0;34m->\u001b[0m \u001b[0mstr\u001b[0m\u001b[0;34m:\u001b[0m\u001b[0;34m\u001b[0m\u001b[0;34m\u001b[0m\u001b[0m\n\u001b[0;32m---> 88\u001b[0;31m         \u001b[0mlines\u001b[0m \u001b[0;34m=\u001b[0m \u001b[0mself\u001b[0m\u001b[0;34m.\u001b[0m\u001b[0mrender\u001b[0m\u001b[0;34m(\u001b[0m\u001b[0;34m)\u001b[0m\u001b[0;34m\u001b[0m\u001b[0;34m\u001b[0m\u001b[0m\n\u001b[0m\u001b[1;32m     89\u001b[0m         \u001b[0;32mif\u001b[0m \u001b[0many\u001b[0m\u001b[0;34m(\u001b[0m\u001b[0misinstance\u001b[0m\u001b[0;34m(\u001b[0m\u001b[0mx\u001b[0m\u001b[0;34m,\u001b[0m \u001b[0mstr\u001b[0m\u001b[0;34m)\u001b[0m \u001b[0;32mfor\u001b[0m \u001b[0mx\u001b[0m \u001b[0;32min\u001b[0m \u001b[0mlines\u001b[0m\u001b[0;34m)\u001b[0m\u001b[0;34m:\u001b[0m\u001b[0;34m\u001b[0m\u001b[0;34m\u001b[0m\u001b[0m\n\u001b[1;32m     90\u001b[0m             \u001b[0mlines\u001b[0m \u001b[0;34m=\u001b[0m \u001b[0;34m[\u001b[0m\u001b[0mstr\u001b[0m\u001b[0;34m(\u001b[0m\u001b[0mx\u001b[0m\u001b[0;34m)\u001b[0m \u001b[0;32mfor\u001b[0m \u001b[0mx\u001b[0m \u001b[0;32min\u001b[0m \u001b[0mlines\u001b[0m\u001b[0;34m]\u001b[0m\u001b[0;34m\u001b[0m\u001b[0;34m\u001b[0m\u001b[0m\n",
            "\u001b[0;32m/usr/local/lib/python3.11/dist-packages/pandas/io/formats/html.py\u001b[0m in \u001b[0;36mrender\u001b[0;34m(self)\u001b[0m\n\u001b[1;32m    642\u001b[0m         \u001b[0mself\u001b[0m\u001b[0;34m.\u001b[0m\u001b[0mwrite\u001b[0m\u001b[0;34m(\u001b[0m\u001b[0;34m\"<div>\"\u001b[0m\u001b[0;34m)\u001b[0m\u001b[0;34m\u001b[0m\u001b[0;34m\u001b[0m\u001b[0m\n\u001b[1;32m    643\u001b[0m         \u001b[0mself\u001b[0m\u001b[0;34m.\u001b[0m\u001b[0mwrite_style\u001b[0m\u001b[0;34m(\u001b[0m\u001b[0;34m)\u001b[0m\u001b[0;34m\u001b[0m\u001b[0;34m\u001b[0m\u001b[0m\n\u001b[0;32m--> 644\u001b[0;31m         \u001b[0msuper\u001b[0m\u001b[0;34m(\u001b[0m\u001b[0;34m)\u001b[0m\u001b[0;34m.\u001b[0m\u001b[0mrender\u001b[0m\u001b[0;34m(\u001b[0m\u001b[0;34m)\u001b[0m\u001b[0;34m\u001b[0m\u001b[0;34m\u001b[0m\u001b[0m\n\u001b[0m\u001b[1;32m    645\u001b[0m         \u001b[0mself\u001b[0m\u001b[0;34m.\u001b[0m\u001b[0mwrite\u001b[0m\u001b[0;34m(\u001b[0m\u001b[0;34m\"</div>\"\u001b[0m\u001b[0;34m)\u001b[0m\u001b[0;34m\u001b[0m\u001b[0;34m\u001b[0m\u001b[0m\n\u001b[1;32m    646\u001b[0m         \u001b[0;32mreturn\u001b[0m \u001b[0mself\u001b[0m\u001b[0;34m.\u001b[0m\u001b[0melements\u001b[0m\u001b[0;34m\u001b[0m\u001b[0;34m\u001b[0m\u001b[0m\n",
            "\u001b[0;32m/usr/local/lib/python3.11/dist-packages/pandas/io/formats/html.py\u001b[0m in \u001b[0;36mrender\u001b[0;34m(self)\u001b[0m\n\u001b[1;32m     92\u001b[0m \u001b[0;34m\u001b[0m\u001b[0m\n\u001b[1;32m     93\u001b[0m     \u001b[0;32mdef\u001b[0m \u001b[0mrender\u001b[0m\u001b[0;34m(\u001b[0m\u001b[0mself\u001b[0m\u001b[0;34m)\u001b[0m \u001b[0;34m->\u001b[0m \u001b[0mlist\u001b[0m\u001b[0;34m[\u001b[0m\u001b[0mstr\u001b[0m\u001b[0;34m]\u001b[0m\u001b[0;34m:\u001b[0m\u001b[0;34m\u001b[0m\u001b[0;34m\u001b[0m\u001b[0m\n\u001b[0;32m---> 94\u001b[0;31m         \u001b[0mself\u001b[0m\u001b[0;34m.\u001b[0m\u001b[0m_write_table\u001b[0m\u001b[0;34m(\u001b[0m\u001b[0;34m)\u001b[0m\u001b[0;34m\u001b[0m\u001b[0;34m\u001b[0m\u001b[0m\n\u001b[0m\u001b[1;32m     95\u001b[0m \u001b[0;34m\u001b[0m\u001b[0m\n\u001b[1;32m     96\u001b[0m         \u001b[0;32mif\u001b[0m \u001b[0mself\u001b[0m\u001b[0;34m.\u001b[0m\u001b[0mshould_show_dimensions\u001b[0m\u001b[0;34m:\u001b[0m\u001b[0;34m\u001b[0m\u001b[0;34m\u001b[0m\u001b[0m\n",
            "\u001b[0;32m/usr/local/lib/python3.11/dist-packages/pandas/io/formats/html.py\u001b[0m in \u001b[0;36m_write_table\u001b[0;34m(self, indent)\u001b[0m\n\u001b[1;32m    267\u001b[0m             \u001b[0mself\u001b[0m\u001b[0;34m.\u001b[0m\u001b[0m_write_header\u001b[0m\u001b[0;34m(\u001b[0m\u001b[0mindent\u001b[0m \u001b[0;34m+\u001b[0m \u001b[0mself\u001b[0m\u001b[0;34m.\u001b[0m\u001b[0mindent_delta\u001b[0m\u001b[0;34m)\u001b[0m\u001b[0;34m\u001b[0m\u001b[0;34m\u001b[0m\u001b[0m\n\u001b[1;32m    268\u001b[0m \u001b[0;34m\u001b[0m\u001b[0m\n\u001b[0;32m--> 269\u001b[0;31m         \u001b[0mself\u001b[0m\u001b[0;34m.\u001b[0m\u001b[0m_write_body\u001b[0m\u001b[0;34m(\u001b[0m\u001b[0mindent\u001b[0m \u001b[0;34m+\u001b[0m \u001b[0mself\u001b[0m\u001b[0;34m.\u001b[0m\u001b[0mindent_delta\u001b[0m\u001b[0;34m)\u001b[0m\u001b[0;34m\u001b[0m\u001b[0;34m\u001b[0m\u001b[0m\n\u001b[0m\u001b[1;32m    270\u001b[0m \u001b[0;34m\u001b[0m\u001b[0m\n\u001b[1;32m    271\u001b[0m         \u001b[0mself\u001b[0m\u001b[0;34m.\u001b[0m\u001b[0mwrite\u001b[0m\u001b[0;34m(\u001b[0m\u001b[0;34m\"</table>\"\u001b[0m\u001b[0;34m,\u001b[0m \u001b[0mindent\u001b[0m\u001b[0;34m)\u001b[0m\u001b[0;34m\u001b[0m\u001b[0;34m\u001b[0m\u001b[0m\n",
            "\u001b[0;32m/usr/local/lib/python3.11/dist-packages/pandas/io/formats/html.py\u001b[0m in \u001b[0;36m_write_body\u001b[0;34m(self, indent)\u001b[0m\n\u001b[1;32m    415\u001b[0m     \u001b[0;32mdef\u001b[0m \u001b[0m_write_body\u001b[0m\u001b[0;34m(\u001b[0m\u001b[0mself\u001b[0m\u001b[0;34m,\u001b[0m \u001b[0mindent\u001b[0m\u001b[0;34m:\u001b[0m \u001b[0mint\u001b[0m\u001b[0;34m)\u001b[0m \u001b[0;34m->\u001b[0m \u001b[0;32mNone\u001b[0m\u001b[0;34m:\u001b[0m\u001b[0;34m\u001b[0m\u001b[0;34m\u001b[0m\u001b[0m\n\u001b[1;32m    416\u001b[0m         \u001b[0mself\u001b[0m\u001b[0;34m.\u001b[0m\u001b[0mwrite\u001b[0m\u001b[0;34m(\u001b[0m\u001b[0;34m\"<tbody>\"\u001b[0m\u001b[0;34m,\u001b[0m \u001b[0mindent\u001b[0m\u001b[0;34m)\u001b[0m\u001b[0;34m\u001b[0m\u001b[0;34m\u001b[0m\u001b[0m\n\u001b[0;32m--> 417\u001b[0;31m         \u001b[0mfmt_values\u001b[0m \u001b[0;34m=\u001b[0m \u001b[0mself\u001b[0m\u001b[0;34m.\u001b[0m\u001b[0m_get_formatted_values\u001b[0m\u001b[0;34m(\u001b[0m\u001b[0;34m)\u001b[0m\u001b[0;34m\u001b[0m\u001b[0;34m\u001b[0m\u001b[0m\n\u001b[0m\u001b[1;32m    418\u001b[0m \u001b[0;34m\u001b[0m\u001b[0m\n\u001b[1;32m    419\u001b[0m         \u001b[0;31m# write values\u001b[0m\u001b[0;34m\u001b[0m\u001b[0;34m\u001b[0m\u001b[0m\n",
            "\u001b[0;32m/usr/local/lib/python3.11/dist-packages/pandas/io/formats/html.py\u001b[0m in \u001b[0;36m_get_formatted_values\u001b[0;34m(self)\u001b[0m\n\u001b[1;32m    605\u001b[0m \u001b[0;34m\u001b[0m\u001b[0m\n\u001b[1;32m    606\u001b[0m     \u001b[0;32mdef\u001b[0m \u001b[0m_get_formatted_values\u001b[0m\u001b[0;34m(\u001b[0m\u001b[0mself\u001b[0m\u001b[0;34m)\u001b[0m \u001b[0;34m->\u001b[0m \u001b[0mdict\u001b[0m\u001b[0;34m[\u001b[0m\u001b[0mint\u001b[0m\u001b[0;34m,\u001b[0m \u001b[0mlist\u001b[0m\u001b[0;34m[\u001b[0m\u001b[0mstr\u001b[0m\u001b[0;34m]\u001b[0m\u001b[0;34m]\u001b[0m\u001b[0;34m:\u001b[0m\u001b[0;34m\u001b[0m\u001b[0;34m\u001b[0m\u001b[0m\n\u001b[0;32m--> 607\u001b[0;31m         \u001b[0;32mreturn\u001b[0m \u001b[0;34m{\u001b[0m\u001b[0mi\u001b[0m\u001b[0;34m:\u001b[0m \u001b[0mself\u001b[0m\u001b[0;34m.\u001b[0m\u001b[0mfmt\u001b[0m\u001b[0;34m.\u001b[0m\u001b[0mformat_col\u001b[0m\u001b[0;34m(\u001b[0m\u001b[0mi\u001b[0m\u001b[0;34m)\u001b[0m \u001b[0;32mfor\u001b[0m \u001b[0mi\u001b[0m \u001b[0;32min\u001b[0m \u001b[0mrange\u001b[0m\u001b[0;34m(\u001b[0m\u001b[0mself\u001b[0m\u001b[0;34m.\u001b[0m\u001b[0mncols\u001b[0m\u001b[0;34m)\u001b[0m\u001b[0;34m}\u001b[0m\u001b[0;34m\u001b[0m\u001b[0;34m\u001b[0m\u001b[0m\n\u001b[0m\u001b[1;32m    608\u001b[0m \u001b[0;34m\u001b[0m\u001b[0m\n\u001b[1;32m    609\u001b[0m     \u001b[0;32mdef\u001b[0m \u001b[0m_get_columns_formatted_values\u001b[0m\u001b[0;34m(\u001b[0m\u001b[0mself\u001b[0m\u001b[0;34m)\u001b[0m \u001b[0;34m->\u001b[0m \u001b[0mlist\u001b[0m\u001b[0;34m[\u001b[0m\u001b[0mstr\u001b[0m\u001b[0;34m]\u001b[0m\u001b[0;34m:\u001b[0m\u001b[0;34m\u001b[0m\u001b[0;34m\u001b[0m\u001b[0m\n",
            "\u001b[0;32m/usr/local/lib/python3.11/dist-packages/pandas/io/formats/html.py\u001b[0m in \u001b[0;36m<dictcomp>\u001b[0;34m(.0)\u001b[0m\n\u001b[1;32m    605\u001b[0m \u001b[0;34m\u001b[0m\u001b[0m\n\u001b[1;32m    606\u001b[0m     \u001b[0;32mdef\u001b[0m \u001b[0m_get_formatted_values\u001b[0m\u001b[0;34m(\u001b[0m\u001b[0mself\u001b[0m\u001b[0;34m)\u001b[0m \u001b[0;34m->\u001b[0m \u001b[0mdict\u001b[0m\u001b[0;34m[\u001b[0m\u001b[0mint\u001b[0m\u001b[0;34m,\u001b[0m \u001b[0mlist\u001b[0m\u001b[0;34m[\u001b[0m\u001b[0mstr\u001b[0m\u001b[0;34m]\u001b[0m\u001b[0;34m]\u001b[0m\u001b[0;34m:\u001b[0m\u001b[0;34m\u001b[0m\u001b[0;34m\u001b[0m\u001b[0m\n\u001b[0;32m--> 607\u001b[0;31m         \u001b[0;32mreturn\u001b[0m \u001b[0;34m{\u001b[0m\u001b[0mi\u001b[0m\u001b[0;34m:\u001b[0m \u001b[0mself\u001b[0m\u001b[0;34m.\u001b[0m\u001b[0mfmt\u001b[0m\u001b[0;34m.\u001b[0m\u001b[0mformat_col\u001b[0m\u001b[0;34m(\u001b[0m\u001b[0mi\u001b[0m\u001b[0;34m)\u001b[0m \u001b[0;32mfor\u001b[0m \u001b[0mi\u001b[0m \u001b[0;32min\u001b[0m \u001b[0mrange\u001b[0m\u001b[0;34m(\u001b[0m\u001b[0mself\u001b[0m\u001b[0;34m.\u001b[0m\u001b[0mncols\u001b[0m\u001b[0;34m)\u001b[0m\u001b[0;34m}\u001b[0m\u001b[0;34m\u001b[0m\u001b[0;34m\u001b[0m\u001b[0m\n\u001b[0m\u001b[1;32m    608\u001b[0m \u001b[0;34m\u001b[0m\u001b[0m\n\u001b[1;32m    609\u001b[0m     \u001b[0;32mdef\u001b[0m \u001b[0m_get_columns_formatted_values\u001b[0m\u001b[0;34m(\u001b[0m\u001b[0mself\u001b[0m\u001b[0;34m)\u001b[0m \u001b[0;34m->\u001b[0m \u001b[0mlist\u001b[0m\u001b[0;34m[\u001b[0m\u001b[0mstr\u001b[0m\u001b[0;34m]\u001b[0m\u001b[0;34m:\u001b[0m\u001b[0;34m\u001b[0m\u001b[0;34m\u001b[0m\u001b[0m\n",
            "\u001b[0;32m/usr/local/lib/python3.11/dist-packages/pandas/io/formats/format.py\u001b[0m in \u001b[0;36mformat_col\u001b[0;34m(self, i)\u001b[0m\n\u001b[1;32m    752\u001b[0m         \u001b[0mframe\u001b[0m \u001b[0;34m=\u001b[0m \u001b[0mself\u001b[0m\u001b[0;34m.\u001b[0m\u001b[0mtr_frame\u001b[0m\u001b[0;34m\u001b[0m\u001b[0;34m\u001b[0m\u001b[0m\n\u001b[1;32m    753\u001b[0m         \u001b[0mformatter\u001b[0m \u001b[0;34m=\u001b[0m \u001b[0mself\u001b[0m\u001b[0;34m.\u001b[0m\u001b[0m_get_formatter\u001b[0m\u001b[0;34m(\u001b[0m\u001b[0mi\u001b[0m\u001b[0;34m)\u001b[0m\u001b[0;34m\u001b[0m\u001b[0;34m\u001b[0m\u001b[0m\n\u001b[0;32m--> 754\u001b[0;31m         return format_array(\n\u001b[0m\u001b[1;32m    755\u001b[0m             \u001b[0mframe\u001b[0m\u001b[0;34m.\u001b[0m\u001b[0miloc\u001b[0m\u001b[0;34m[\u001b[0m\u001b[0;34m:\u001b[0m\u001b[0;34m,\u001b[0m \u001b[0mi\u001b[0m\u001b[0;34m]\u001b[0m\u001b[0;34m.\u001b[0m\u001b[0m_values\u001b[0m\u001b[0;34m,\u001b[0m\u001b[0;34m\u001b[0m\u001b[0;34m\u001b[0m\u001b[0m\n\u001b[1;32m    756\u001b[0m             \u001b[0mformatter\u001b[0m\u001b[0;34m,\u001b[0m\u001b[0;34m\u001b[0m\u001b[0;34m\u001b[0m\u001b[0m\n",
            "\u001b[0;32m/usr/local/lib/python3.11/dist-packages/pandas/io/formats/format.py\u001b[0m in \u001b[0;36mformat_array\u001b[0;34m(values, formatter, float_format, na_rep, digits, space, justify, decimal, leading_space, quoting, fallback_formatter)\u001b[0m\n\u001b[1;32m   1159\u001b[0m     )\n\u001b[1;32m   1160\u001b[0m \u001b[0;34m\u001b[0m\u001b[0m\n\u001b[0;32m-> 1161\u001b[0;31m     \u001b[0;32mreturn\u001b[0m \u001b[0mfmt_obj\u001b[0m\u001b[0;34m.\u001b[0m\u001b[0mget_result\u001b[0m\u001b[0;34m(\u001b[0m\u001b[0;34m)\u001b[0m\u001b[0;34m\u001b[0m\u001b[0;34m\u001b[0m\u001b[0m\n\u001b[0m\u001b[1;32m   1162\u001b[0m \u001b[0;34m\u001b[0m\u001b[0m\n\u001b[1;32m   1163\u001b[0m \u001b[0;34m\u001b[0m\u001b[0m\n",
            "\u001b[0;32m/usr/local/lib/python3.11/dist-packages/pandas/io/formats/format.py\u001b[0m in \u001b[0;36mget_result\u001b[0;34m(self)\u001b[0m\n\u001b[1;32m   1192\u001b[0m \u001b[0;34m\u001b[0m\u001b[0m\n\u001b[1;32m   1193\u001b[0m     \u001b[0;32mdef\u001b[0m \u001b[0mget_result\u001b[0m\u001b[0;34m(\u001b[0m\u001b[0mself\u001b[0m\u001b[0;34m)\u001b[0m \u001b[0;34m->\u001b[0m \u001b[0mlist\u001b[0m\u001b[0;34m[\u001b[0m\u001b[0mstr\u001b[0m\u001b[0;34m]\u001b[0m\u001b[0;34m:\u001b[0m\u001b[0;34m\u001b[0m\u001b[0;34m\u001b[0m\u001b[0m\n\u001b[0;32m-> 1194\u001b[0;31m         \u001b[0mfmt_values\u001b[0m \u001b[0;34m=\u001b[0m \u001b[0mself\u001b[0m\u001b[0;34m.\u001b[0m\u001b[0m_format_strings\u001b[0m\u001b[0;34m(\u001b[0m\u001b[0;34m)\u001b[0m\u001b[0;34m\u001b[0m\u001b[0;34m\u001b[0m\u001b[0m\n\u001b[0m\u001b[1;32m   1195\u001b[0m         \u001b[0;32mreturn\u001b[0m \u001b[0m_make_fixed_width\u001b[0m\u001b[0;34m(\u001b[0m\u001b[0mfmt_values\u001b[0m\u001b[0;34m,\u001b[0m \u001b[0mself\u001b[0m\u001b[0;34m.\u001b[0m\u001b[0mjustify\u001b[0m\u001b[0;34m)\u001b[0m\u001b[0;34m\u001b[0m\u001b[0;34m\u001b[0m\u001b[0m\n\u001b[1;32m   1196\u001b[0m \u001b[0;34m\u001b[0m\u001b[0m\n",
            "\u001b[0;32m/usr/local/lib/python3.11/dist-packages/pandas/io/formats/format.py\u001b[0m in \u001b[0;36m_format_strings\u001b[0;34m(self)\u001b[0m\n\u001b[1;32m   1257\u001b[0m         \u001b[0;32mfor\u001b[0m \u001b[0mi\u001b[0m\u001b[0;34m,\u001b[0m \u001b[0mv\u001b[0m \u001b[0;32min\u001b[0m \u001b[0menumerate\u001b[0m\u001b[0;34m(\u001b[0m\u001b[0mvals\u001b[0m\u001b[0;34m)\u001b[0m\u001b[0;34m:\u001b[0m\u001b[0;34m\u001b[0m\u001b[0;34m\u001b[0m\u001b[0m\n\u001b[1;32m   1258\u001b[0m             \u001b[0;32mif\u001b[0m \u001b[0;34m(\u001b[0m\u001b[0;32mnot\u001b[0m \u001b[0mis_float_type\u001b[0m\u001b[0;34m[\u001b[0m\u001b[0mi\u001b[0m\u001b[0;34m]\u001b[0m \u001b[0;32mor\u001b[0m \u001b[0mself\u001b[0m\u001b[0;34m.\u001b[0m\u001b[0mformatter\u001b[0m \u001b[0;32mis\u001b[0m \u001b[0;32mnot\u001b[0m \u001b[0;32mNone\u001b[0m\u001b[0;34m)\u001b[0m \u001b[0;32mand\u001b[0m \u001b[0mleading_space\u001b[0m\u001b[0;34m:\u001b[0m\u001b[0;34m\u001b[0m\u001b[0;34m\u001b[0m\u001b[0m\n\u001b[0;32m-> 1259\u001b[0;31m                 \u001b[0mfmt_values\u001b[0m\u001b[0;34m.\u001b[0m\u001b[0mappend\u001b[0m\u001b[0;34m(\u001b[0m\u001b[0;34mf\" {_format(v)}\"\u001b[0m\u001b[0;34m)\u001b[0m\u001b[0;34m\u001b[0m\u001b[0;34m\u001b[0m\u001b[0m\n\u001b[0m\u001b[1;32m   1260\u001b[0m             \u001b[0;32melif\u001b[0m \u001b[0mis_float_type\u001b[0m\u001b[0;34m[\u001b[0m\u001b[0mi\u001b[0m\u001b[0;34m]\u001b[0m\u001b[0;34m:\u001b[0m\u001b[0;34m\u001b[0m\u001b[0;34m\u001b[0m\u001b[0m\n\u001b[1;32m   1261\u001b[0m                 \u001b[0mfmt_values\u001b[0m\u001b[0;34m.\u001b[0m\u001b[0mappend\u001b[0m\u001b[0;34m(\u001b[0m\u001b[0mfloat_format\u001b[0m\u001b[0;34m(\u001b[0m\u001b[0mv\u001b[0m\u001b[0;34m)\u001b[0m\u001b[0;34m)\u001b[0m\u001b[0;34m\u001b[0m\u001b[0;34m\u001b[0m\u001b[0m\n",
            "\u001b[0;32m/usr/local/lib/python3.11/dist-packages/pandas/io/formats/format.py\u001b[0m in \u001b[0;36m_format\u001b[0;34m(x)\u001b[0m\n\u001b[1;32m   1237\u001b[0m             \u001b[0;32melse\u001b[0m\u001b[0;34m:\u001b[0m\u001b[0;34m\u001b[0m\u001b[0;34m\u001b[0m\u001b[0m\n\u001b[1;32m   1238\u001b[0m                 \u001b[0;31m# object dtype\u001b[0m\u001b[0;34m\u001b[0m\u001b[0;34m\u001b[0m\u001b[0m\n\u001b[0;32m-> 1239\u001b[0;31m                 \u001b[0;32mreturn\u001b[0m \u001b[0mstr\u001b[0m\u001b[0;34m(\u001b[0m\u001b[0mformatter\u001b[0m\u001b[0;34m(\u001b[0m\u001b[0mx\u001b[0m\u001b[0;34m)\u001b[0m\u001b[0;34m)\u001b[0m\u001b[0;34m\u001b[0m\u001b[0;34m\u001b[0m\u001b[0m\n\u001b[0m\u001b[1;32m   1240\u001b[0m \u001b[0;34m\u001b[0m\u001b[0m\n\u001b[1;32m   1241\u001b[0m         \u001b[0mvals\u001b[0m \u001b[0;34m=\u001b[0m \u001b[0mself\u001b[0m\u001b[0;34m.\u001b[0m\u001b[0mvalues\u001b[0m\u001b[0;34m\u001b[0m\u001b[0;34m\u001b[0m\u001b[0m\n",
            "\u001b[0;32m/usr/local/lib/python3.11/dist-packages/pandas/io/formats/printing.py\u001b[0m in \u001b[0;36mpprint_thing\u001b[0;34m(thing, _nest_lvl, escape_chars, default_escapes, quote_strings, max_seq_items)\u001b[0m\n\u001b[1;32m    221\u001b[0m         )\n\u001b[1;32m    222\u001b[0m     \u001b[0;32melif\u001b[0m \u001b[0mis_sequence\u001b[0m\u001b[0;34m(\u001b[0m\u001b[0mthing\u001b[0m\u001b[0;34m)\u001b[0m \u001b[0;32mand\u001b[0m \u001b[0m_nest_lvl\u001b[0m \u001b[0;34m<\u001b[0m \u001b[0mget_option\u001b[0m\u001b[0;34m(\u001b[0m\u001b[0;34m\"display.pprint_nest_depth\"\u001b[0m\u001b[0;34m)\u001b[0m\u001b[0;34m:\u001b[0m\u001b[0;34m\u001b[0m\u001b[0;34m\u001b[0m\u001b[0m\n\u001b[0;32m--> 223\u001b[0;31m         result = _pprint_seq(\n\u001b[0m\u001b[1;32m    224\u001b[0m             \u001b[0mthing\u001b[0m\u001b[0;34m,\u001b[0m\u001b[0;34m\u001b[0m\u001b[0;34m\u001b[0m\u001b[0m\n\u001b[1;32m    225\u001b[0m             \u001b[0m_nest_lvl\u001b[0m\u001b[0;34m,\u001b[0m\u001b[0;34m\u001b[0m\u001b[0;34m\u001b[0m\u001b[0m\n",
            "\u001b[0;32m/usr/local/lib/python3.11/dist-packages/pandas/io/formats/printing.py\u001b[0m in \u001b[0;36m_pprint_seq\u001b[0;34m(seq, _nest_lvl, max_seq_items, **kwds)\u001b[0m\n\u001b[1;32m    118\u001b[0m     \u001b[0ms\u001b[0m \u001b[0;34m=\u001b[0m \u001b[0miter\u001b[0m\u001b[0;34m(\u001b[0m\u001b[0mseq\u001b[0m\u001b[0;34m)\u001b[0m\u001b[0;34m\u001b[0m\u001b[0;34m\u001b[0m\u001b[0m\n\u001b[1;32m    119\u001b[0m     \u001b[0;31m# handle sets, no slicing\u001b[0m\u001b[0;34m\u001b[0m\u001b[0;34m\u001b[0m\u001b[0m\n\u001b[0;32m--> 120\u001b[0;31m     r = [\n\u001b[0m\u001b[1;32m    121\u001b[0m         \u001b[0mpprint_thing\u001b[0m\u001b[0;34m(\u001b[0m\u001b[0mnext\u001b[0m\u001b[0;34m(\u001b[0m\u001b[0ms\u001b[0m\u001b[0;34m)\u001b[0m\u001b[0;34m,\u001b[0m \u001b[0m_nest_lvl\u001b[0m \u001b[0;34m+\u001b[0m \u001b[0;36m1\u001b[0m\u001b[0;34m,\u001b[0m \u001b[0mmax_seq_items\u001b[0m\u001b[0;34m=\u001b[0m\u001b[0mmax_seq_items\u001b[0m\u001b[0;34m,\u001b[0m \u001b[0;34m**\u001b[0m\u001b[0mkwds\u001b[0m\u001b[0;34m)\u001b[0m\u001b[0;34m\u001b[0m\u001b[0;34m\u001b[0m\u001b[0m\n\u001b[1;32m    122\u001b[0m         \u001b[0;32mfor\u001b[0m \u001b[0mi\u001b[0m \u001b[0;32min\u001b[0m \u001b[0mrange\u001b[0m\u001b[0;34m(\u001b[0m\u001b[0mmin\u001b[0m\u001b[0;34m(\u001b[0m\u001b[0mnitems\u001b[0m\u001b[0;34m,\u001b[0m \u001b[0mlen\u001b[0m\u001b[0;34m(\u001b[0m\u001b[0mseq\u001b[0m\u001b[0;34m)\u001b[0m\u001b[0;34m)\u001b[0m\u001b[0;34m)\u001b[0m\u001b[0;34m\u001b[0m\u001b[0;34m\u001b[0m\u001b[0m\n",
            "\u001b[0;32m/usr/local/lib/python3.11/dist-packages/pandas/io/formats/printing.py\u001b[0m in \u001b[0;36m<listcomp>\u001b[0;34m(.0)\u001b[0m\n\u001b[1;32m    119\u001b[0m     \u001b[0;31m# handle sets, no slicing\u001b[0m\u001b[0;34m\u001b[0m\u001b[0;34m\u001b[0m\u001b[0m\n\u001b[1;32m    120\u001b[0m     r = [\n\u001b[0;32m--> 121\u001b[0;31m         \u001b[0mpprint_thing\u001b[0m\u001b[0;34m(\u001b[0m\u001b[0mnext\u001b[0m\u001b[0;34m(\u001b[0m\u001b[0ms\u001b[0m\u001b[0;34m)\u001b[0m\u001b[0;34m,\u001b[0m \u001b[0m_nest_lvl\u001b[0m \u001b[0;34m+\u001b[0m \u001b[0;36m1\u001b[0m\u001b[0;34m,\u001b[0m \u001b[0mmax_seq_items\u001b[0m\u001b[0;34m=\u001b[0m\u001b[0mmax_seq_items\u001b[0m\u001b[0;34m,\u001b[0m \u001b[0;34m**\u001b[0m\u001b[0mkwds\u001b[0m\u001b[0;34m)\u001b[0m\u001b[0;34m\u001b[0m\u001b[0;34m\u001b[0m\u001b[0m\n\u001b[0m\u001b[1;32m    122\u001b[0m         \u001b[0;32mfor\u001b[0m \u001b[0mi\u001b[0m \u001b[0;32min\u001b[0m \u001b[0mrange\u001b[0m\u001b[0;34m(\u001b[0m\u001b[0mmin\u001b[0m\u001b[0;34m(\u001b[0m\u001b[0mnitems\u001b[0m\u001b[0;34m,\u001b[0m \u001b[0mlen\u001b[0m\u001b[0;34m(\u001b[0m\u001b[0mseq\u001b[0m\u001b[0;34m)\u001b[0m\u001b[0;34m)\u001b[0m\u001b[0;34m)\u001b[0m\u001b[0;34m\u001b[0m\u001b[0;34m\u001b[0m\u001b[0m\n\u001b[1;32m    123\u001b[0m     ]\n",
            "\u001b[0;32m/usr/local/lib/python3.11/dist-packages/pandas/io/formats/printing.py\u001b[0m in \u001b[0;36mpprint_thing\u001b[0;34m(thing, _nest_lvl, escape_chars, default_escapes, quote_strings, max_seq_items)\u001b[0m\n\u001b[1;32m    221\u001b[0m         )\n\u001b[1;32m    222\u001b[0m     \u001b[0;32melif\u001b[0m \u001b[0mis_sequence\u001b[0m\u001b[0;34m(\u001b[0m\u001b[0mthing\u001b[0m\u001b[0;34m)\u001b[0m \u001b[0;32mand\u001b[0m \u001b[0m_nest_lvl\u001b[0m \u001b[0;34m<\u001b[0m \u001b[0mget_option\u001b[0m\u001b[0;34m(\u001b[0m\u001b[0;34m\"display.pprint_nest_depth\"\u001b[0m\u001b[0;34m)\u001b[0m\u001b[0;34m:\u001b[0m\u001b[0;34m\u001b[0m\u001b[0;34m\u001b[0m\u001b[0m\n\u001b[0;32m--> 223\u001b[0;31m         result = _pprint_seq(\n\u001b[0m\u001b[1;32m    224\u001b[0m             \u001b[0mthing\u001b[0m\u001b[0;34m,\u001b[0m\u001b[0;34m\u001b[0m\u001b[0;34m\u001b[0m\u001b[0m\n\u001b[1;32m    225\u001b[0m             \u001b[0m_nest_lvl\u001b[0m\u001b[0;34m,\u001b[0m\u001b[0;34m\u001b[0m\u001b[0;34m\u001b[0m\u001b[0m\n",
            "\u001b[0;32m/usr/local/lib/python3.11/dist-packages/pandas/io/formats/printing.py\u001b[0m in \u001b[0;36m_pprint_seq\u001b[0;34m(seq, _nest_lvl, max_seq_items, **kwds)\u001b[0m\n\u001b[1;32m    118\u001b[0m     \u001b[0ms\u001b[0m \u001b[0;34m=\u001b[0m \u001b[0miter\u001b[0m\u001b[0;34m(\u001b[0m\u001b[0mseq\u001b[0m\u001b[0;34m)\u001b[0m\u001b[0;34m\u001b[0m\u001b[0;34m\u001b[0m\u001b[0m\n\u001b[1;32m    119\u001b[0m     \u001b[0;31m# handle sets, no slicing\u001b[0m\u001b[0;34m\u001b[0m\u001b[0;34m\u001b[0m\u001b[0m\n\u001b[0;32m--> 120\u001b[0;31m     r = [\n\u001b[0m\u001b[1;32m    121\u001b[0m         \u001b[0mpprint_thing\u001b[0m\u001b[0;34m(\u001b[0m\u001b[0mnext\u001b[0m\u001b[0;34m(\u001b[0m\u001b[0ms\u001b[0m\u001b[0;34m)\u001b[0m\u001b[0;34m,\u001b[0m \u001b[0m_nest_lvl\u001b[0m \u001b[0;34m+\u001b[0m \u001b[0;36m1\u001b[0m\u001b[0;34m,\u001b[0m \u001b[0mmax_seq_items\u001b[0m\u001b[0;34m=\u001b[0m\u001b[0mmax_seq_items\u001b[0m\u001b[0;34m,\u001b[0m \u001b[0;34m**\u001b[0m\u001b[0mkwds\u001b[0m\u001b[0;34m)\u001b[0m\u001b[0;34m\u001b[0m\u001b[0;34m\u001b[0m\u001b[0m\n\u001b[1;32m    122\u001b[0m         \u001b[0;32mfor\u001b[0m \u001b[0mi\u001b[0m \u001b[0;32min\u001b[0m \u001b[0mrange\u001b[0m\u001b[0;34m(\u001b[0m\u001b[0mmin\u001b[0m\u001b[0;34m(\u001b[0m\u001b[0mnitems\u001b[0m\u001b[0;34m,\u001b[0m \u001b[0mlen\u001b[0m\u001b[0;34m(\u001b[0m\u001b[0mseq\u001b[0m\u001b[0;34m)\u001b[0m\u001b[0;34m)\u001b[0m\u001b[0;34m)\u001b[0m\u001b[0;34m\u001b[0m\u001b[0;34m\u001b[0m\u001b[0m\n",
            "\u001b[0;32m/usr/local/lib/python3.11/dist-packages/pandas/io/formats/printing.py\u001b[0m in \u001b[0;36m<listcomp>\u001b[0;34m(.0)\u001b[0m\n\u001b[1;32m    119\u001b[0m     \u001b[0;31m# handle sets, no slicing\u001b[0m\u001b[0;34m\u001b[0m\u001b[0;34m\u001b[0m\u001b[0m\n\u001b[1;32m    120\u001b[0m     r = [\n\u001b[0;32m--> 121\u001b[0;31m         \u001b[0mpprint_thing\u001b[0m\u001b[0;34m(\u001b[0m\u001b[0mnext\u001b[0m\u001b[0;34m(\u001b[0m\u001b[0ms\u001b[0m\u001b[0;34m)\u001b[0m\u001b[0;34m,\u001b[0m \u001b[0m_nest_lvl\u001b[0m \u001b[0;34m+\u001b[0m \u001b[0;36m1\u001b[0m\u001b[0;34m,\u001b[0m \u001b[0mmax_seq_items\u001b[0m\u001b[0;34m=\u001b[0m\u001b[0mmax_seq_items\u001b[0m\u001b[0;34m,\u001b[0m \u001b[0;34m**\u001b[0m\u001b[0mkwds\u001b[0m\u001b[0;34m)\u001b[0m\u001b[0;34m\u001b[0m\u001b[0;34m\u001b[0m\u001b[0m\n\u001b[0m\u001b[1;32m    122\u001b[0m         \u001b[0;32mfor\u001b[0m \u001b[0mi\u001b[0m \u001b[0;32min\u001b[0m \u001b[0mrange\u001b[0m\u001b[0;34m(\u001b[0m\u001b[0mmin\u001b[0m\u001b[0;34m(\u001b[0m\u001b[0mnitems\u001b[0m\u001b[0;34m,\u001b[0m \u001b[0mlen\u001b[0m\u001b[0;34m(\u001b[0m\u001b[0mseq\u001b[0m\u001b[0;34m)\u001b[0m\u001b[0;34m)\u001b[0m\u001b[0;34m)\u001b[0m\u001b[0;34m\u001b[0m\u001b[0;34m\u001b[0m\u001b[0m\n\u001b[1;32m    123\u001b[0m     ]\n",
            "\u001b[0;31mStopIteration\u001b[0m: "
          ]
        }
      ]
    },
    {
      "cell_type": "code",
      "source": [
        "##ESTO FUNCIONA!!\n",
        "\n",
        "def calcular_IC(df: pd.DataFrame, target: str, factors: list[str]):\n",
        "    grouped = df.groupby('date')\n",
        "\n",
        "    print(f\"📊 IC promedio por factor (diario) sobre el {target}:\\n\")\n",
        "\n",
        "    resultados = []\n",
        "\n",
        "    for factor in factors:\n",
        "        daily_ics = []\n",
        "\n",
        "        for date, group in grouped:\n",
        "            df_valid = group[[factor, target]].dropna()\n",
        "            if len(df_valid) >= 20:\n",
        "                ic = spearmanr(df_valid[factor], df_valid[target]).correlation\n",
        "                if np.isfinite(ic):\n",
        "                    daily_ics.append(ic)\n",
        "\n",
        "        if daily_ics:\n",
        "            mean_ic = np.mean(daily_ics)\n",
        "            std_ic = np.std(daily_ics)\n",
        "            dias_validos = len(daily_ics)\n",
        "            print(f\"{factor:15}: IC medio = {mean_ic:.4f} | std = {std_ic:.4f} | días válidos = {dias_validos}\")\n",
        "            resultados.append({\n",
        "                'factor': factor,\n",
        "                'ic_mean': mean_ic,\n",
        "                'ic_std': std_ic,\n",
        "                'dias_validos': dias_validos\n",
        "            })\n",
        "        else:\n",
        "            print(f\"{factor:15}: sin días válidos para cálculo\")\n",
        "\n",
        "    return pd.DataFrame(resultados)"
      ],
      "metadata": {
        "id": "J6fhmiV3j89D"
      },
      "id": "J6fhmiV3j89D",
      "execution_count": 181,
      "outputs": []
    },
    {
      "cell_type": "markdown",
      "id": "9d6287f6",
      "metadata": {
        "id": "9d6287f6"
      },
      "source": [
        "El Information Coefficient (IC) es la correlación de Spearman entre el factor y el retorno futuro. Mide si el ranking del factor predice el ranking del retorno.\n",
        "\n",
        "🔹 IC > 0: el factor tiene relación positiva → valores altos del factor tienden a preceder retornos positivos.\n",
        "\n",
        "🔹 IC < 0: relación inversa → valores altos del factor tienden a preceder retornos negativos (reversión).\n",
        "\n",
        "🔹 IC ≈ 0: el factor es probablemente ruido o no tiene señal útil.\n",
        "\n",
        "Valores comunes en finanzas:\n",
        "\n",
        "🔹 0.05 a 0.1: débil pero útil.\n",
        "\n",
        "🔹 >0.1: muy raro, pero fuerte.\n",
        "\n",
        "🔹 <0.05 o cercano a 0: probablemente ruido."
      ]
    },
    {
      "cell_type": "code",
      "execution_count": 182,
      "id": "a866cbd7",
      "metadata": {
        "id": "a866cbd7"
      },
      "outputs": [],
      "source": [
        "from scipy.stats import spearmanr\n",
        "import numpy as np\n",
        "import pandas as pd\n",
        "\n",
        "def calcular_IC(df: pd.DataFrame, target: str):\n",
        "    factors = [\n",
        "        'rsi_14', 'rsi_7', 'rsi_5', 'rsi_3',\n",
        "        'momentum_10', 'momentum_5', 'momentum_3',\n",
        "        'volume_ratio_15', 'volume_ratio_20', 'volume_ratio_30',\n",
        "        'macd',\n",
        "        'price_ema15', 'price_ema20', 'price_ema30',\n",
        "        'stoch_k_14', 'stoch_k_20', 'stoch_k_30',\n",
        "        'bb_percent_15_15', 'bb_percent_20_15', 'bb_percent_30_15',\n",
        "        'bb_percent_15_20', 'bb_percent_20_20', 'bb_percent_30_20',\n",
        "        'bb_percent_15_25', 'bb_percent_20_25', 'bb_percent_30_25',\n",
        "        'atr',\n",
        "        'atr_norm',\n",
        "        'roc_5'\n",
        "    ]\n",
        "\n",
        "    grouped = df.groupby('date')\n",
        "\n",
        "    print(f\"📊 IC promedio por factor (diario) sobre el {target}:\\n\")\n",
        "\n",
        "    resultados = []\n",
        "\n",
        "    for factor in factors:\n",
        "        daily_ics = []\n",
        "\n",
        "        for date, group in grouped:\n",
        "            df_valid = group[[factor, target]].dropna()\n",
        "            if len(df_valid) >= 20:\n",
        "                ic = spearmanr(df_valid[factor], df_valid[target]).correlation\n",
        "                if np.isfinite(ic):\n",
        "                    daily_ics.append(ic)\n",
        "\n",
        "        if daily_ics:\n",
        "            mean_ic = np.mean(daily_ics)\n",
        "            std_ic = np.std(daily_ics)\n",
        "            dias_validos = len(daily_ics)\n",
        "            print(f\"{factor:15}: IC medio = {mean_ic:.4f} | std = {std_ic:.4f} | días válidos = {dias_validos}\")\n",
        "            resultados.append({\n",
        "                'factor': factor,\n",
        "                'ic_mean': mean_ic,\n",
        "                'ic_std': std_ic,\n",
        "                'dias_validos': dias_validos\n",
        "            })\n",
        "        else:\n",
        "            print(f\"{factor:15}: sin días válidos para cálculo\")\n",
        "\n",
        "    return pd.DataFrame(resultados)"
      ]
    },
    {
      "cell_type": "code",
      "source": [
        "IC_tecnicos = calcular_IC(mnq_intraday_target, 'target_return_30')"
      ],
      "metadata": {
        "colab": {
          "base_uri": "https://localhost:8080/",
          "height": 141
        },
        "id": "pi09cDUINNuh",
        "outputId": "a6a3fb52-88ce-4ceb-edc2-e1c208f79755"
      },
      "id": "pi09cDUINNuh",
      "execution_count": 183,
      "outputs": [
        {
          "output_type": "error",
          "ename": "NameError",
          "evalue": "name 'mnq_intraday_target' is not defined",
          "traceback": [
            "\u001b[0;31m---------------------------------------------------------------------------\u001b[0m",
            "\u001b[0;31mNameError\u001b[0m                                 Traceback (most recent call last)",
            "\u001b[0;32m/tmp/ipython-input-183-3897174290.py\u001b[0m in \u001b[0;36m<cell line: 0>\u001b[0;34m()\u001b[0m\n\u001b[0;32m----> 1\u001b[0;31m \u001b[0mIC_tecnicos\u001b[0m \u001b[0;34m=\u001b[0m \u001b[0mcalcular_IC\u001b[0m\u001b[0;34m(\u001b[0m\u001b[0mmnq_intraday_target\u001b[0m\u001b[0;34m,\u001b[0m \u001b[0;34m'target_return_30'\u001b[0m\u001b[0;34m)\u001b[0m\u001b[0;34m\u001b[0m\u001b[0;34m\u001b[0m\u001b[0m\n\u001b[0m",
            "\u001b[0;31mNameError\u001b[0m: name 'mnq_intraday_target' is not defined"
          ]
        }
      ]
    },
    {
      "cell_type": "code",
      "source": [
        "IC_tecnicos"
      ],
      "metadata": {
        "id": "1QIBTK4JPrOi"
      },
      "id": "1QIBTK4JPrOi",
      "execution_count": null,
      "outputs": []
    },
    {
      "cell_type": "code",
      "source": [],
      "metadata": {
        "id": "OM3wXeOqe4mh"
      },
      "id": "OM3wXeOqe4mh",
      "execution_count": null,
      "outputs": []
    },
    {
      "cell_type": "markdown",
      "source": [
        "Evaluación de Indicadores Técnicos usando IC diario\n",
        "Se utilizó el Information Coefficient (IC) de Spearman para medir la capacidad predictiva de diversos indicadores técnicos sobre el retorno a 30 minutos del índice MNQ. El IC mide la correlación entre el ranking del valor del factor y el ranking del retorno futuro, evaluado día por día.\n",
        "\n",
        "✅ Factores más prometedores (IC medio alto y estable)\n",
        "Estos factores presentan un IC medio alto y una desviación estándar baja, lo que indica potencial predictivo consistente:\n",
        "\n",
        "Factor\tIC medio\tStd dev\tComentario\n",
        "rsi_14\t0.6387\t0.0666\tMuy fuerte, consistente y estable. Excelente señal.\n",
        "bb_percent\t0.4619\t0.0670\tFuerte y estable. Claramente informativo.\n",
        "atr_norm\t0.4313\t0.1131\tBuen poder predictivo, aunque más volátil.\n",
        "rsi_7\t0.4740\t0.0582\tSimilar a bb_percent, también robusto.\n",
        "\n",
        "⚠️ Factores con señal débil o ruidosa\n",
        "Estos factores tienen un IC medio cercano a cero o alta desviación estándar, por lo que aportan poco valor predictivo y podrían considerarse ruidosos:\n",
        "\n",
        "Factor\tIC medio\tStd dev\tComentario\n",
        "momentum_*\t~0.03\t0.14–0.20\tCasi ruido. No aportan mucho valor.\n",
        "price_ema20\t0.0226\t0.1600\tRuido, sin valor informativo significativo.\n",
        "volume_ratio\t0.0048\t0.0785\tPrácticamente irrelevante en este horizonte.\n",
        "roc_5\t0.0315\t0.1653\tSimilar a momentum_5, bajo poder predictivo.\n",
        "\n",
        "🧪 Factores mixtos o medianamente útiles\n",
        "Estos factores presentan una señal moderada con mayor varianza. Podrían combinarse con otros en modelos multivariados:\n",
        "\n",
        "Factor\tIC medio\tStd dev\tComentario\n",
        "macd\t0.1962\t0.0984\tAporta algo, pero con más ruido.\n",
        "stoch_k\t0.0610\t0.1992\tLigera señal, pero con alta varianza.\n",
        "\n",
        "Criterios de selección\n",
        "Se definieron los siguientes umbrales para seleccionar los factores más sólidos:\n",
        "\n",
        "ic_mean ≥ 0.4\n",
        "\n",
        "ic_std ≤ 0.12\n",
        "\n",
        "Esto permite incluir factores informativos como atr_norm, sin permitir la entrada de factores inestables o poco útiles."
      ],
      "metadata": {
        "id": "fyrFvOZ2QmKz"
      },
      "id": "fyrFvOZ2QmKz"
    },
    {
      "cell_type": "code",
      "source": [
        "def seleccionar_mejores_factores(df_ic: pd.DataFrame,\n",
        "                                  umbral_ic: float = 0.4,\n",
        "                                  umbral_std: float = 0.12):\n",
        "    \"\"\"\n",
        "    Filtra factores con IC medio >= umbral_ic y desviación estándar <= umbral_std.\n",
        "\n",
        "    Args:\n",
        "        df_ic (pd.DataFrame): DataFrame con columnas ['factor', 'ic_mean', 'ic_std'].\n",
        "        umbral_ic (float): Mínimo IC medio requerido.\n",
        "        umbral_std (float): Máxima desviación estándar permitida.\n",
        "\n",
        "    Returns:\n",
        "        pd.DataFrame: Subconjunto de factores seleccionados.\n",
        "    \"\"\"\n",
        "    seleccionados = df_ic[(df_ic['ic_mean'] >= umbral_ic) & (df_ic['ic_std'] <= umbral_std)].copy()\n",
        "    return seleccionados.sort_values(by='ic_mean', ascending=False)"
      ],
      "metadata": {
        "id": "Pxy4jOIIQHFv"
      },
      "id": "Pxy4jOIIQHFv",
      "execution_count": null,
      "outputs": []
    },
    {
      "cell_type": "code",
      "source": [
        "mejores = seleccionar_mejores_factores(IC_tecnicos)\n",
        "print(mejores)"
      ],
      "metadata": {
        "id": "CrhuHid4QIVm"
      },
      "id": "CrhuHid4QIVm",
      "execution_count": null,
      "outputs": []
    },
    {
      "cell_type": "markdown",
      "id": "6b3a2eff",
      "metadata": {
        "id": "6b3a2eff"
      },
      "source": [
        "📈 Interpretación de los resultados — Information Coefficient (IC)\n",
        "\n",
        "El **Information Coefficient (IC)** mide la correlación de Spearman entre el valor del factor y el retorno futuro. Es decir, evalúa si el ranking del factor anticipa el ranking del rendimiento posterior.\n",
        "\n",
        "| 🏅 Top factores con mejor IC | IC Medio | Interpretación práctica                                        |\n",
        "| ---------------------------- | -------- | -------------------------------------------------------------- |\n",
        "| **rsi\\_14**                  | -0.0534  | Señal clara de reversión. Es el más consistente del conjunto.  |\n",
        "| **price\\_ema20**             | -0.0435  | Reversión hacia la media. Buena señal complementaria.          |\n",
        "| **bb\\_percent**              | -0.0387  | Similar a RSI, sobrecompra/sobreventa. Señal confiable.        |\n",
        "| **stoch\\_k**                 | -0.0374  | Confirma reversión; alternativa válida al RSI.                 |\n",
        "| **atr\\_norm**                | +0.0471  | Único con IC positivo fuerte. Alta volatilidad → continuación. |\n",
        "| **rsi\\_7**                   | -0.0405  | Más sensible que RSI(14), mantiene coherencia.                 |\n",
        "\n",
        "**Estos pueden capturar efectos de reversión o momentum en condiciones específicas, y probablemente rindan mejor combinados en modelos no lineales (XGBoost, LSTM, etc.).**\n",
        "\n",
        "\n",
        "📉 Factores con señal débil o nula:\n",
        "\n",
        "| Factor                       | IC Medio      | Nota                                       |\n",
        "| ---------------------------- | ------------- | ------------------------------------------ |\n",
        "| momentum_3/5/10, roc_5   | -0.02 a -0.03 | Señales débiles, sin aporte significativo. |\n",
        "| macd`                       | -0.0196       | Muy débil para este timeframe.             |\n",
        "| volume_ratio, body_ratio | ≈ 0           | No aportan valor predictivo.               |\n",
        "\n"
      ]
    },
    {
      "cell_type": "markdown",
      "id": "f4a9e7c2",
      "metadata": {
        "id": "f4a9e7c2"
      },
      "source": [
        "Filtro el dataset para quedarme solo con las factores que aportarían valor a mi modelo:"
      ]
    },
    {
      "cell_type": "code",
      "execution_count": null,
      "id": "4c10c665",
      "metadata": {
        "id": "4c10c665"
      },
      "outputs": [],
      "source": [
        "# Lista de columnas útiles\n",
        "keep_cols = [\n",
        "    'open', 'high', 'low', 'close', 'volume', 'date',\n",
        "    'rsi_14', 'rsi_7', 'price_ema20', 'bb_percent',\n",
        "    'stoch_k', 'atr_norm',\n",
        "    'future_return_5min'\n",
        "]\n",
        "\n",
        "\n",
        "# Filtrar el dataset\n",
        "mnq_intraday_clean = mnq_intraday_factors[keep_cols].dropna()"
      ]
    },
    {
      "cell_type": "markdown",
      "id": "8dd77524",
      "metadata": {
        "id": "8dd77524"
      },
      "source": [
        "📌 Notas:\n",
        "\n",
        "- dropna() elimina las filas con NaN, que suelen ser las primeras del día por el cálculo de ventanas (RSI, ATR, etc.).\n",
        "- Esto asegura que el dataset esté limpio para entrenamiento de modelos."
      ]
    },
    {
      "cell_type": "code",
      "execution_count": null,
      "id": "5e6b1d25",
      "metadata": {
        "id": "5e6b1d25"
      },
      "outputs": [],
      "source": [
        "mnq_intraday_clean"
      ]
    },
    {
      "cell_type": "markdown",
      "id": "7d9974b5",
      "metadata": {
        "id": "7d9974b5"
      },
      "source": [
        "##### 2.2. IDEAS PARA FEATURES"
      ]
    },
    {
      "cell_type": "markdown",
      "id": "f8a9464d",
      "metadata": {
        "id": "f8a9464d"
      },
      "source": [
        "🧠 Ideas para combinar:\n",
        "\n",
        "- Filtrar señales por volatilidad: usar atr_norm como feature auxiliar para condicionar otras señales.\n",
        "- Ensemble de reversión: combinar rsi, stoch_k, bb_percent en un score compuesto.\n",
        "- Interacciones: por ejemplo, si rsi está bajo y bb_percent < 0.1 → señal de rebote más fuerte."
      ]
    },
    {
      "cell_type": "markdown",
      "id": "d265f01f",
      "metadata": {
        "id": "d265f01f"
      },
      "source": [
        "###### ✅ 1. reversal_score: Ensemble de reversión suave\n",
        "\n",
        "Combina señales de sobreventa (RSI, %K, BB) en una puntuación continua. Cuanto más baja, mayor potencial de rebote."
      ]
    },
    {
      "cell_type": "code",
      "execution_count": null,
      "id": "b207730f",
      "metadata": {
        "id": "b207730f"
      },
      "outputs": [],
      "source": [
        "# Escalar a rango 0-1 donde corresponda\n",
        "mnq_intraday_clean['rsi_norm'] = mnq_intraday_clean['rsi_14'] / 100\n",
        "mnq_intraday_clean['stoch_k_norm'] = mnq_intraday_clean['stoch_k'] / 100\n",
        "# bb_percent ya está entre 0-1\n",
        "\n",
        "# Reversal Score: promedio de los tres, invertido\n",
        "mnq_intraday_clean['reversal_score'] = 1 - (\n",
        "    mnq_intraday_clean['rsi_norm'] +\n",
        "    mnq_intraday_clean['stoch_k_norm'] +\n",
        "    mnq_intraday_clean['bb_percent']\n",
        ") / 3"
      ]
    },
    {
      "cell_type": "markdown",
      "id": "16539213",
      "metadata": {
        "id": "16539213"
      },
      "source": [
        "###### ✅ 2. volatility_filter: Filtro de condiciones de mercado\n",
        "Crea una feature binaria que indica si estamos en un contexto de alta volatilidad según ATR normalizado."
      ]
    },
    {
      "cell_type": "code",
      "execution_count": null,
      "id": "080b00e4",
      "metadata": {
        "id": "080b00e4"
      },
      "outputs": [],
      "source": [
        "mnq_intraday_clean['volatility_filter'] = (mnq_intraday_clean['atr_norm'] > 0.02).astype(int)"
      ]
    },
    {
      "cell_type": "markdown",
      "id": "8f787a03",
      "metadata": {
        "id": "8f787a03"
      },
      "source": [
        "El umbral 0.02 es empírico — podés ajustarlo con histogramas o percentiles."
      ]
    },
    {
      "cell_type": "markdown",
      "id": "1527e4b6",
      "metadata": {
        "id": "1527e4b6"
      },
      "source": [
        "###### ✅ 3. rebound_trigger: Señal fuerte combinada (regla lógica)\n",
        "\n",
        "Detecta eventos donde:\n",
        "\n",
        "- RSI está bajo\n",
        "- %B está por debajo de 0.1 (precio muy fuera de banda)\n",
        "- Volatilidad es alta"
      ]
    },
    {
      "cell_type": "code",
      "execution_count": null,
      "id": "4632a46b",
      "metadata": {
        "id": "4632a46b"
      },
      "outputs": [],
      "source": [
        "mnq_intraday_clean['rebound_trigger'] = (\n",
        "    (mnq_intraday_clean['rsi_14'] < 30) &\n",
        "    (mnq_intraday_clean['bb_percent'] < 0.1) &\n",
        "    (mnq_intraday_clean['atr_norm'] > 0.02)\n",
        ").astype(int)\n"
      ]
    },
    {
      "cell_type": "code",
      "execution_count": null,
      "id": "85bb02ff",
      "metadata": {
        "id": "85bb02ff"
      },
      "outputs": [],
      "source": [
        "mnq_intraday_clean"
      ]
    },
    {
      "cell_type": "markdown",
      "id": "7f6011cc",
      "metadata": {
        "id": "7f6011cc"
      },
      "source": [
        "## 2.3. ANÁLISIS POR CUANTILES"
      ]
    },
    {
      "cell_type": "markdown",
      "id": "4cdc3ffe",
      "metadata": {
        "id": "4cdc3ffe"
      },
      "source": [
        "¿Qué hace este código?\n",
        "\n",
        "Para cada factor:\n",
        "\n",
        "- Se divide cada día en 5 quintiles (qcut).\n",
        "- Calcula el retorno medio futuro de cada quintil.\n",
        "- Acumula los resultados de todos los días válidos.\n",
        "- Al final, te da el retorno promedio por quintil en todo el dataset.\n",
        "\n",
        "Esto te permite ver si, por ejemplo, los valores bajos del RSI (Q0) tienden a tener retornos positivos → reversión. O si Q4 tiene retorno positivo → momentum."
      ]
    },
    {
      "cell_type": "code",
      "execution_count": null,
      "id": "5fa2d589",
      "metadata": {
        "id": "5fa2d589"
      },
      "outputs": [],
      "source": [
        "# Factores seleccionados que querés evaluar\n",
        "factors = ['rsi_14', 'rsi_7', 'price_ema20', 'bb_percent', 'stoch_k', 'atr_norm', 'reversal_score']\n",
        "\n",
        "target = 'future_return_5min'\n",
        "\n",
        "# Agrupamos por día\n",
        "grouped = mnq_intraday_clean.groupby('date')\n",
        "\n",
        "print(\"\\n📈 Retorno promedio por quintil (promedio diario):\\n\")\n",
        "\n",
        "for factor in factors:\n",
        "    all_quantile_returns = []\n",
        "\n",
        "    for date, group in grouped:\n",
        "        df_valid = group[[factor, target]].dropna()\n",
        "\n",
        "        if len(df_valid) >= 30:\n",
        "            try:\n",
        "                df_valid['q'] = pd.qcut(df_valid[factor], 5, labels=False, duplicates='drop')\n",
        "                mean_ret = df_valid.groupby('q')[target].mean()\n",
        "\n",
        "                if len(mean_ret) == 5:\n",
        "                    all_quantile_returns.append(mean_ret.values)\n",
        "            except ValueError:\n",
        "                continue  # Si no hay suficientes valores únicos para dividir en quintiles\n",
        "\n",
        "    if all_quantile_returns:\n",
        "        avg_qrets = np.mean(all_quantile_returns, axis=0)\n",
        "        print(f\"\\n🔹 {factor} – retorno medio por quintil (Q0 a Q4):\")\n",
        "        for i, r in enumerate(avg_qrets):\n",
        "            print(f\"  Q{i}: {r:.5f}\")\n",
        "    else:\n",
        "        print(f\"\\n🔹 {factor}: sin suficientes datos diarios para quintiles\")"
      ]
    },
    {
      "cell_type": "markdown",
      "id": "f4a84e22",
      "metadata": {
        "id": "f4a84e22"
      },
      "source": [
        "### 📊 Retorno promedio por quintil (Q0 a Q4)"
      ]
    },
    {
      "cell_type": "markdown",
      "id": "da3854fd",
      "metadata": {
        "id": "da3854fd"
      },
      "source": [
        "\n",
        "| Factor           | Q0      | Q1      | Q2      | Q3      | Q4       | Interpretación                                               |\n",
        "|------------------|---------|---------|---------|---------|----------|--------------------------------------------------------------|\n",
        "| **rsi_14**        | 0.00008 | 0.00001 | 0.00000 | -0.00000| -0.00006 | Reversión clara: Q0 positivo, Q4 negativo                    |\n",
        "| **rsi_7**         | 0.00006 | 0.00001 | 0.00000 | -0.00000| -0.00005 | Reversión leve, misma estructura que RSI_14                 |\n",
        "| **price_ema20**   | 0.00008 | 0.00000 | -0.00001| -0.00000| -0.00004 | Sobreextensión a la media sugiere reversión                 |\n",
        "| **bb_percent**    | 0.00006 | 0.00002 | 0.00000 | -0.00001| -0.00004 | Precio cerca del borde inferior tiende a rebotar            |\n",
        "| **stoch_k**       | 0.00006 | 0.00002 | 0.00000 | -0.00001| -0.00004 | Señal alternativa de reversión como RSI y BB                |\n",
        "| **atr_norm**      | -0.00005| -0.00001| 0.00001 | 0.00000 | 0.00008  | Alta volatilidad favorece continuación                      |\n",
        "| **reversal_score**| -0.00005| -0.00001| -0.00000| 0.00002 | 0.00006  | Score compuesto: buena separación entre extremos            |\n"
      ]
    },
    {
      "cell_type": "markdown",
      "id": "20c6870f",
      "metadata": {
        "id": "20c6870f"
      },
      "source": [
        "✅ Resumen conceptual\n",
        "\n",
        "Los valores reflejan el retorno promedio futuro a 5 minutos, agrupado por quintiles del factor. Es decir:\n",
        "\n",
        "- Q0 = valores más bajos del factor (ej: RSI más bajo)\n",
        "- Q4 = valores más altos del factor"
      ]
    },
    {
      "cell_type": "markdown",
      "id": "1ca4c3bf",
      "metadata": {
        "id": "1ca4c3bf"
      },
      "source": [
        "### 📊 Conclusiones clave por tipo de factor\n"
      ]
    },
    {
      "cell_type": "markdown",
      "id": "5232fac1",
      "metadata": {
        "id": "5232fac1"
      },
      "source": [
        "#### 🔄 Factores de reversión (rsi_14, rsi_7, price_ema20, bb_percent, stoch_k)"
      ]
    },
    {
      "cell_type": "markdown",
      "id": "caf99fdc",
      "metadata": {
        "id": "caf99fdc"
      },
      "source": [
        "Patrón observado:\n",
        "Q0 tiene retorno positivo, Q4 negativo → clara señal de reversión estadística\n",
        "\n",
        "Por ejemplo: rsi_14\n",
        "\n",
        "  Q0: +0.00008 → RSI muy bajo → sube\n",
        "  \n",
        "  Q4: -0.00006 → RSI muy alto → baja\n",
        "\n",
        "✅ Interpretación:\n",
        "Los valores extremos (muy bajos) anticipan rebotes, y los valores altos anticipan caídas, aunque el efecto sea leve."
      ]
    },
    {
      "cell_type": "markdown",
      "id": "98cbf3aa",
      "metadata": {
        "id": "98cbf3aa"
      },
      "source": [
        "#### 🔊 Factor de volatilidad (atr_norm)\n"
      ]
    },
    {
      "cell_type": "markdown",
      "id": "227ebfeb",
      "metadata": {
        "id": "227ebfeb"
      },
      "source": [
        "Patrón:\n",
        "Q4 tiene retorno positivo → alta volatilidad favorece continuación\n",
        "\n",
        "Ejemplo:\n",
        "\n",
        "atr_norm\n",
        "\n",
        "  Q0: -0.00005 → baja volatilidad → mercado plano\n",
        "\n",
        "  Q4: +0.00008 → alta volatilidad → rompe en una dirección\n",
        "\n",
        "\n",
        "✅ Interpretación:\n",
        "Este factor no predice dirección por sí solo, pero ayuda a filtrar cuándo las señales funcionan mejor (alta volatilidad = movimiento significativo)."
      ]
    },
    {
      "cell_type": "markdown",
      "id": "7852e920",
      "metadata": {
        "id": "7852e920"
      },
      "source": [
        "#### 🧠 Feature combinada reversal_score\n"
      ]
    },
    {
      "cell_type": "markdown",
      "id": "19418abe",
      "metadata": {
        "id": "19418abe"
      },
      "source": [
        "Patrón observado: Q0 negativo, Q4 positivo → signo invertido por construcción\n",
        "\n",
        "Y se comporta bien: Q4 = +0.00006\n",
        "\n",
        "✅ Interpretación:\n",
        "\n",
        "Confirma que el score compuesto refleja la lógica de reversión. Es más fácil de interpretar para un modelo ML y combina múltiples señales."
      ]
    },
    {
      "cell_type": "markdown",
      "id": "bbe0e5cd",
      "metadata": {
        "id": "bbe0e5cd"
      },
      "source": [
        "### 🎯 Recomendación general\n",
        "\n",
        "Los factores muestran consistencia en su estructura predictiva: reversión suave, efecto de volatilidad, combinación útil.\n",
        "\n",
        "Aunque los valores absolutos de retorno son pequeños (esperado en timeframe de 1 minuto), la dirección del efecto está clara y sistemática, lo cual es valioso para modelos de ML.\n",
        "\n",
        "Estas señales pueden ser muy efectivas en modelos que aprovechan la combinación y no linealidad (ej. XGBoost, LSTM)."
      ]
    },
    {
      "cell_type": "markdown",
      "id": "b83de44f",
      "metadata": {
        "id": "b83de44f"
      },
      "source": [
        "## ESTABILIDAD DE ALPHA FACTORS?\n"
      ]
    },
    {
      "cell_type": "code",
      "execution_count": null,
      "id": "979057d9",
      "metadata": {
        "id": "979057d9"
      },
      "outputs": [],
      "source": [
        "mnq_intraday_clean"
      ]
    },
    {
      "cell_type": "code",
      "execution_count": null,
      "id": "c4677cac",
      "metadata": {
        "id": "c4677cac"
      },
      "outputs": [],
      "source": [
        "import pandas as pd\n",
        "import numpy as np\n",
        "from scipy.stats import spearmanr\n",
        "import matplotlib.pyplot as plt\n",
        "\n",
        "# Suponemos que ya cargaste mnq_intraday_clean con estos factores\n",
        "alpha_factors = ['rsi_14', 'rsi_7', 'price_ema20', 'bb_percent', 'stoch_k', 'atr_norm', 'reversal_score']\n",
        "target = 'future_return_5min'\n",
        "\n",
        "# Agrupar por día\n",
        "grouped = mnq_intraday_clean.groupby('date')\n",
        "\n",
        "# Calcular IC diario\n",
        "ic_diarios = {factor: [] for factor in alpha_factors}\n",
        "fechas = []\n",
        "\n",
        "for date, group in grouped:\n",
        "    fechas.append(date)\n",
        "    for factor in alpha_factors:\n",
        "        df_valid = group[[factor, target]].dropna()\n",
        "        if len(df_valid) >= 30:\n",
        "            ic = spearmanr(df_valid[factor], df_valid[target]).correlation\n",
        "        else:\n",
        "            ic = np.nan\n",
        "        ic_diarios[factor].append(ic)\n",
        "\n",
        "# Convertir a DataFrame de IC diarios\n",
        "df_ic = pd.DataFrame(ic_diarios, index=pd.to_datetime(fechas))\n",
        "\n",
        "# Graficar la media móvil de 20 días\n",
        "plt.figure(figsize=(14, 6))\n",
        "for factor in alpha_factors:\n",
        "    df_ic[factor].rolling(20).mean().plot(label=factor)\n",
        "\n",
        "plt.title(\"📈 IC promedio móvil (20 días) por alpha factor\")\n",
        "plt.xlabel(\"Fecha\")\n",
        "plt.ylabel(\"Information Coefficient (Spearman)\")\n",
        "plt.legend()\n",
        "plt.grid(True)\n",
        "plt.tight_layout()\n",
        "plt.show()"
      ]
    }
  ],
  "metadata": {
    "kernelspec": {
      "display_name": "trader_IA",
      "language": "python",
      "name": "python3"
    },
    "language_info": {
      "codemirror_mode": {
        "name": "ipython",
        "version": 3
      },
      "file_extension": ".py",
      "mimetype": "text/x-python",
      "name": "python",
      "nbconvert_exporter": "python",
      "pygments_lexer": "ipython3",
      "version": "3.10.13"
    },
    "colab": {
      "provenance": [],
      "include_colab_link": true
    }
  },
  "nbformat": 4,
  "nbformat_minor": 5
}